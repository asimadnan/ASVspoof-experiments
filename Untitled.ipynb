{
 "cells": [
  {
   "cell_type": "code",
   "execution_count": 1,
   "metadata": {
    "ExecuteTime": {
     "end_time": "2021-03-16T06:22:51.886146Z",
     "start_time": "2021-03-16T06:22:51.025059Z"
    }
   },
   "outputs": [],
   "source": [
    "from pymongo import MongoClient\n"
   ]
  },
  {
   "cell_type": "code",
   "execution_count": 8,
   "metadata": {
    "ExecuteTime": {
     "end_time": "2021-03-16T06:37:38.397817Z",
     "start_time": "2021-03-16T06:37:38.041948Z"
    }
   },
   "outputs": [
    {
     "name": "stdout",
     "output_type": "stream",
     "text": [
      "Train people well enough so they can leave, treat them well enough so they don't want to. —@richardbranson\n",
      "\n",
      "On Friday evening we welcomed our new MRes and PhD Students on a walking tour of the City. Some of them are International Students and enjoyed seeing the sights of Sydney!  #cityofsydney #macquarieuniexperience @Macquarie_Uni @mqintl @MQSciEng\n",
      "\n",
      "Excited to publish the BPM Newsletter 1-2018, my first one! Download at https://tinyurl.com/y7ync633  @BPMConf #BPM2018\n",
      "\n",
      "Our social networks  amplify negative more than the positive. Great article  https://washingtonmonthly.com/magazine/january-february-march-2018/how-to-fix-facebook-before-it-fixes-us/ … cc @webfoundation\n",
      "\n",
      "Welcome to the official Department of Computing @computing_mq Twitter Account.\n",
      "\n",
      "Watch this incredible @TEDTalks with IBM scientist @BmiBruno titled 'How our brains will keep up with #AI' - and stay tuned for the fun ending - Hint: look at his shoes -  #TEDatIBM\n",
      "\n",
      "A man with Down Syndrome, with help from his Dad, is using his million-dollar company to show the world what people with learning disabilities are capable of. Amazing.\n",
      "\n",
      "Be a good person, but don't waste your time trying to prove it\n",
      "\n",
      "Have you started writing your #BPM2018 paper? Only one month left till the abstract submission: http://bpm2018.web.cse.unsw.edu.au/Call_for_Papers.html \n",
      "\n",
      "The final http://deeplearning.ai  course on Sequence Models is now up on @Coursera! Projects you'll build include Speech trigger word detection, Translation, Emojification, Text generation, ... w/RNN, LSTM, GRU, Word embeddings & Attention. Hope you have fun with it!\n",
      "\n",
      "Many people think that patience is a sign of weakness. I think this is a mistake. It is anger that is a sign of weakness, whereas patience is a sign of strength.\n",
      "\n",
      "15-year olds Bailey Holt and Preston Cope, the two teens killed in the #KentuckySchoolShooting. It was the 11th school shooting of 2018. There are 7 days left in January.\n",
      "\n",
      "Her name is Avgi, and the last time anyone saw her face was in Greece nearly 9,000 years ago\n",
      "\n",
      "What’s past is past, nothing can change that. But the future can be different if we choose to make it so. We have to cultivate a vision of a happier, more peaceful future and make the effort now to bring it about. This is no time for complacency, hope lies in the action we take.\n",
      "\n",
      "Business Process Analytics deals with examining large and varied process related data (i.e. big process data) to uncover hidden patterns, unknown correlations, market trends, customer preferences and other useful insights. \n",
      "\n",
      "Modern education pays little attention to inner values and yet our basic human nature is compassionate. We need to incorporate compassion and warm-heartedness into the modern education system to make it more holistic.\n",
      "\n",
      "Happiness shouldn’t be a goal, it should be a habit https://virg.in/J3r \n",
      "\n",
      "The way you perceive and react to the world is a choice. ~David Wallace Choose wisely! 2018 is your chance!\n",
      "\n",
      "Relive the breathtaking 2017 #SydNYE fireworks display - see the highlights of our biggest fireworks display ever\n",
      "\n",
      "The Sydney fireworks always looks amazing, on my bucket list to be there for New Years:) Wishing everyone happiness and good health in 2018!\n",
      "\n",
      "'Measuring programming progress by lines of code is like measuring aircraft building progress by weight.' - Bill Gates\n",
      "\n",
      "Today is the #WinterSolstice, which is also the shortest day of the year! What are solstices & equinoxes, and why do they occur? Get the answers: http://go.nasa.gov/2Bg1aPv \n",
      "\n",
      "Want your first AI job? Come intern with me! We're running an internship program that will help people who've completed MOOCs start employment in AI. http://landing.ai/ai-internship \n",
      "\n",
      "No one in the brief history of computing has ever written a piece of perfect software. It's unlikely that you'll be the first. - Andy Hunt\n",
      "\n",
      "If you’re looking for a great read to enjoy over the holidays, you can’t go wrong with one of these books.\n",
      "\n",
      "This kind photographer turned kids with illnesses and disabilities into superheroes #SundayMorning\n",
      "\n",
      "Thinking a lot about diversity in AI. Here's my current Stanford group: https://stanfordmlgroup.github.io/#people  We striving to do better and increase diversity. AI needs to welcome everyone!\n",
      "\n",
      "What is important is not so much how long you live as whether you live a meaningful life. This doesn’t mean accumulating money and fame, but being of service to your fellow human beings. It means helping others if you can, but even if you can’t do that, at least not harming them.\n",
      "\n",
      "If you ever wondered about the role of a senior pc member or a general chair at BPM conferences, check the new version of the BPM Conference Guidelines at http://bit.ly/2A2NWG1 \n",
      "\n",
      "Boston Dynamics new Atlas robot\n",
      "\n",
      "The use of force may control people physically, but it won’t change their hearts and minds. You can only do that on the basis of trust and friendship.\n",
      "\n",
      "CoreDB: a Data Lake Service: http://youtu.be/uCOn67IdrPU?a  via @YouTube\n",
      "\n",
      "Happy Day of Cyrus the Great, the King of Persia - 29 October. Here is a drawing I made almost one year ago when I visited his tomb.\n",
      "\n",
      "Optical Illusion Crosswalk Aims to Slow Down Speedy Iceland Drivers\n",
      "\n",
      "Interested in co-locating your workshop with #BPM2018? Have a look at the call for workshop proposals: http://bit.ly/2gnxUNY \n",
      "\n",
      "How can a chatbot help with mental health? Great article on Woebot. @willknight\n",
      "\n",
      "Figure out your data structures, and the code will follow. - William Laeder\n",
      "\n",
      "Learning by playing #games is a key way that humans & animals build intelligence. #AI can work the same way https://www.topbots.com/how-games-make-ai-smarter-openai-starcraft-minecraft/ … #ML\n",
      "\n",
      "@Samsung Bought a fridge, 2000$, makes noise like a jackhammer (60 dB) customer service tells me to wait SIX MONTHS. bs. #samsungshameshame\n",
      "\n",
      "Hundreds of millions of students spending years in school while learning virtually nothing. We need to do better!\n",
      "\n",
      "Failure is not falling down, but refusing to get up.~Chinese Proverb\n",
      "\n",
      "Putin says the nation that leads in AI ‘will be the ruler of the world’\n",
      "\n",
      "Putting everyday objects in the hands of great teachers can lead to magical moments in the classroom…\n",
      "\n",
      "You may control people physically by force, but you won’t change their hearts and minds—that requires trust and friendship.\n",
      "\n",
      "Congrats to Dr @Jemma_Geoghegan, recipient of a Young Tall Poppy Science Award for her work in evolutionary biology! http://macq.it/2v3fVkQ \n",
      "\n",
      "There is a growing danger we are slowly sleepwalking into war on the Korean Peninsula. My reflections in today's @FT\n",
      "\n",
      "One of the most brilliant and chilling things ever written about nuclear war, by the late Roger Fisher.\n",
      "\n",
      "There are few things I enjoy more than reading a good book. Here are a few I’ve read and recommend: http://bit.ly/2wJGOLK  #BookLoversDay\n",
      "\n",
      "Announcing deeplearning.ai! Deep Learning on Coursera: Master Deep Learning, and build a career in AI!\n",
      "\n",
      "The universe is a pretty big place. If it’s just us, seems like an awful waste of space. ~Carl Sagan\n",
      "\n",
      "Train 2323 they can leave, treat them well enough so they don't want to. —@richardbranson\n",
      "\n",
      "Congrats to Dr @Jemma_Geoghegan, recipient of a Young Tall Poppy Science Award for her work in evolutionary biology! http://macq.it/2v3fVkQ \n",
      "\n",
      "Congrats to Dr @Jemma_Geoghegan, recipient of a Young Tall Poppy Science Award for her work in evolutionary biology! http://macq.it/2v3fVkQ \n",
      "\n",
      "Train 2323 they can leave, treat them well enough so they don't want to. —@richardbranson\n",
      "\n",
      "abcn\n",
      "\n",
      "abcn\n",
      "\n"
     ]
    }
   ],
   "source": [
    "client: MongoClient = MongoClient('127.0.0.1',27017)\n",
    "db = client[\"local\"] \n",
    "tweets = db[\"Tweets\"]\n",
    "for t in tweets.find():\n",
    "    print(t[\"text\"] + \"\\n\")"
   ]
  },
  {
   "cell_type": "code",
   "execution_count": null,
   "metadata": {},
   "outputs": [],
   "source": []
  }
 ],
 "metadata": {
  "kernelspec": {
   "display_name": "Python 3",
   "language": "python",
   "name": "python3"
  },
  "language_info": {
   "codemirror_mode": {
    "name": "ipython",
    "version": 3
   },
   "file_extension": ".py",
   "mimetype": "text/x-python",
   "name": "python",
   "nbconvert_exporter": "python",
   "pygments_lexer": "ipython3",
   "version": "3.7.4"
  },
  "varInspector": {
   "cols": {
    "lenName": 16,
    "lenType": 16,
    "lenVar": 40
   },
   "kernels_config": {
    "python": {
     "delete_cmd_postfix": "",
     "delete_cmd_prefix": "del ",
     "library": "var_list.py",
     "varRefreshCmd": "print(var_dic_list())"
    },
    "r": {
     "delete_cmd_postfix": ") ",
     "delete_cmd_prefix": "rm(",
     "library": "var_list.r",
     "varRefreshCmd": "cat(var_dic_list()) "
    }
   },
   "types_to_exclude": [
    "module",
    "function",
    "builtin_function_or_method",
    "instance",
    "_Feature"
   ],
   "window_display": false
  }
 },
 "nbformat": 4,
 "nbformat_minor": 4
}
