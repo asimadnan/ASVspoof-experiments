{
 "cells": [
  {
   "cell_type": "code",
   "execution_count": 19,
   "metadata": {
    "ExecuteTime": {
     "end_time": "2021-03-18T02:36:17.919949Z",
     "start_time": "2021-03-18T02:36:17.894206Z"
    }
   },
   "outputs": [],
   "source": [
    "import seaborn as sns\n",
    "import matplotlib.pyplot as plt\n",
    "import pandas as pd\n",
    "import pickle\n",
    "from sklearn.svm import SVC\n",
    "from sklearn.metrics import roc_auc_score, roc_curve\n",
    "from scipy.optimize import brentq\n",
    "from scipy.interpolate import interp1d\n",
    "\n",
    "plt.style.use('seaborn')\n",
    "%matplotlib inline"
   ]
  },
  {
   "cell_type": "markdown",
   "metadata": {},
   "source": [
    "## GMM SCORES"
   ]
  },
  {
   "cell_type": "code",
   "execution_count": 10,
   "metadata": {
    "ExecuteTime": {
     "end_time": "2021-03-18T02:23:52.115134Z",
     "start_time": "2021-03-18T02:23:52.029632Z"
    }
   },
   "outputs": [
    {
     "data": {
      "text/html": [
       "<div>\n",
       "<style scoped>\n",
       "    .dataframe tbody tr th:only-of-type {\n",
       "        vertical-align: middle;\n",
       "    }\n",
       "\n",
       "    .dataframe tbody tr th {\n",
       "        vertical-align: top;\n",
       "    }\n",
       "\n",
       "    .dataframe thead th {\n",
       "        text-align: right;\n",
       "    }\n",
       "</style>\n",
       "<table border=\"1\" class=\"dataframe\">\n",
       "  <thead>\n",
       "    <tr style=\"text-align: right;\">\n",
       "      <th></th>\n",
       "      <th>AUDIO_FILE_NAME</th>\n",
       "      <th>SCORE</th>\n",
       "      <th>Prediction</th>\n",
       "      <th>SPEAKER_ID</th>\n",
       "      <th>ENVIRONMENT_ID</th>\n",
       "      <th>ATTACK_ID</th>\n",
       "      <th>KEY</th>\n",
       "      <th>Stat</th>\n",
       "    </tr>\n",
       "  </thead>\n",
       "  <tbody>\n",
       "    <tr>\n",
       "      <th>0</th>\n",
       "      <td>LA_E_7338223</td>\n",
       "      <td>-1827.310830</td>\n",
       "      <td>spoof</td>\n",
       "      <td>LA_0014</td>\n",
       "      <td>-</td>\n",
       "      <td>A07</td>\n",
       "      <td>spoof</td>\n",
       "      <td>True</td>\n",
       "    </tr>\n",
       "    <tr>\n",
       "      <th>1</th>\n",
       "      <td>LA_E_9469091</td>\n",
       "      <td>-2782.358037</td>\n",
       "      <td>spoof</td>\n",
       "      <td>LA_0033</td>\n",
       "      <td>-</td>\n",
       "      <td>A10</td>\n",
       "      <td>spoof</td>\n",
       "      <td>True</td>\n",
       "    </tr>\n",
       "    <tr>\n",
       "      <th>2</th>\n",
       "      <td>LA_E_1788336</td>\n",
       "      <td>-1716.014268</td>\n",
       "      <td>spoof</td>\n",
       "      <td>LA_0035</td>\n",
       "      <td>-</td>\n",
       "      <td>A07</td>\n",
       "      <td>spoof</td>\n",
       "      <td>True</td>\n",
       "    </tr>\n",
       "    <tr>\n",
       "      <th>3</th>\n",
       "      <td>LA_E_6616286</td>\n",
       "      <td>-0.124108</td>\n",
       "      <td>spoof</td>\n",
       "      <td>LA_0009</td>\n",
       "      <td>-</td>\n",
       "      <td>A19</td>\n",
       "      <td>spoof</td>\n",
       "      <td>True</td>\n",
       "    </tr>\n",
       "    <tr>\n",
       "      <th>4</th>\n",
       "      <td>LA_E_1222387</td>\n",
       "      <td>-2280.597529</td>\n",
       "      <td>spoof</td>\n",
       "      <td>LA_0013</td>\n",
       "      <td>-</td>\n",
       "      <td>A07</td>\n",
       "      <td>spoof</td>\n",
       "      <td>True</td>\n",
       "    </tr>\n",
       "    <tr>\n",
       "      <th>...</th>\n",
       "      <td>...</td>\n",
       "      <td>...</td>\n",
       "      <td>...</td>\n",
       "      <td>...</td>\n",
       "      <td>...</td>\n",
       "      <td>...</td>\n",
       "      <td>...</td>\n",
       "      <td>...</td>\n",
       "    </tr>\n",
       "    <tr>\n",
       "      <th>17868</th>\n",
       "      <td>LA_E_8797106</td>\n",
       "      <td>20.822824</td>\n",
       "      <td>bonafide</td>\n",
       "      <td>LA_0055</td>\n",
       "      <td>-</td>\n",
       "      <td>-</td>\n",
       "      <td>bonafide</td>\n",
       "      <td>True</td>\n",
       "    </tr>\n",
       "    <tr>\n",
       "      <th>17869</th>\n",
       "      <td>LA_E_3394900</td>\n",
       "      <td>204.465933</td>\n",
       "      <td>bonafide</td>\n",
       "      <td>LA_0067</td>\n",
       "      <td>-</td>\n",
       "      <td>-</td>\n",
       "      <td>bonafide</td>\n",
       "      <td>True</td>\n",
       "    </tr>\n",
       "    <tr>\n",
       "      <th>17870</th>\n",
       "      <td>LA_E_4215246</td>\n",
       "      <td>11.243683</td>\n",
       "      <td>bonafide</td>\n",
       "      <td>LA_0064</td>\n",
       "      <td>-</td>\n",
       "      <td>-</td>\n",
       "      <td>bonafide</td>\n",
       "      <td>True</td>\n",
       "    </tr>\n",
       "    <tr>\n",
       "      <th>17871</th>\n",
       "      <td>LA_E_9153255</td>\n",
       "      <td>112.628749</td>\n",
       "      <td>bonafide</td>\n",
       "      <td>LA_0039</td>\n",
       "      <td>-</td>\n",
       "      <td>-</td>\n",
       "      <td>bonafide</td>\n",
       "      <td>True</td>\n",
       "    </tr>\n",
       "    <tr>\n",
       "      <th>17872</th>\n",
       "      <td>LA_E_4576503</td>\n",
       "      <td>103.175629</td>\n",
       "      <td>bonafide</td>\n",
       "      <td>LA_0001</td>\n",
       "      <td>-</td>\n",
       "      <td>-</td>\n",
       "      <td>bonafide</td>\n",
       "      <td>True</td>\n",
       "    </tr>\n",
       "  </tbody>\n",
       "</table>\n",
       "<p>17873 rows × 8 columns</p>\n",
       "</div>"
      ],
      "text/plain": [
       "      AUDIO_FILE_NAME        SCORE Prediction SPEAKER_ID ENVIRONMENT_ID  \\\n",
       "0        LA_E_7338223 -1827.310830      spoof    LA_0014              -   \n",
       "1        LA_E_9469091 -2782.358037      spoof    LA_0033              -   \n",
       "2        LA_E_1788336 -1716.014268      spoof    LA_0035              -   \n",
       "3        LA_E_6616286    -0.124108      spoof    LA_0009              -   \n",
       "4        LA_E_1222387 -2280.597529      spoof    LA_0013              -   \n",
       "...               ...          ...        ...        ...            ...   \n",
       "17868    LA_E_8797106    20.822824   bonafide    LA_0055              -   \n",
       "17869    LA_E_3394900   204.465933   bonafide    LA_0067              -   \n",
       "17870    LA_E_4215246    11.243683   bonafide    LA_0064              -   \n",
       "17871    LA_E_9153255   112.628749   bonafide    LA_0039              -   \n",
       "17872    LA_E_4576503   103.175629   bonafide    LA_0001              -   \n",
       "\n",
       "      ATTACK_ID       KEY  Stat  \n",
       "0           A07     spoof  True  \n",
       "1           A10     spoof  True  \n",
       "2           A07     spoof  True  \n",
       "3           A19     spoof  True  \n",
       "4           A07     spoof  True  \n",
       "...         ...       ...   ...  \n",
       "17868         -  bonafide  True  \n",
       "17869         -  bonafide  True  \n",
       "17870         -  bonafide  True  \n",
       "17871         -  bonafide  True  \n",
       "17872         -  bonafide  True  \n",
       "\n",
       "[17873 rows x 8 columns]"
      ]
     },
     "execution_count": 10,
     "metadata": {},
     "output_type": "execute_result"
    }
   ],
   "source": [
    "cm_score = pd.read_csv('cm_score_18-march.csv')\n",
    "cm_score"
   ]
  },
  {
   "cell_type": "code",
   "execution_count": 12,
   "metadata": {
    "ExecuteTime": {
     "end_time": "2021-03-18T02:27:57.509861Z",
     "start_time": "2021-03-18T02:27:56.734108Z"
    }
   },
   "outputs": [
    {
     "data": {
      "image/png": "[encoded data removed]",
      "text/plain": [
       "<Figure size 908.75x595.44 with 1 Axes>"
      ]
     },
     "metadata": {},
     "output_type": "display_data"
    }
   ],
   "source": [
    "#sns.set(rc={'figure.figsize':(20, 8)})\n",
    "ax = sns.catplot(x=\"ATTACK_ID\", kind=\"count\", hue=\"Stat\",  data=cm_score,palette=sns.color_palette('dark', n_colors=3),height=8.27, aspect=11.7/8.27)\n"
   ]
  },
  {
   "cell_type": "markdown",
   "metadata": {},
   "source": [
    "## SVM Scores"
   ]
  },
  {
   "cell_type": "code",
   "execution_count": 15,
   "metadata": {
    "ExecuteTime": {
     "end_time": "2021-03-18T02:32:32.407659Z",
     "start_time": "2021-03-18T02:32:31.250251Z"
    }
   },
   "outputs": [],
   "source": [
    "svm = pickle.load(open('/Users/asimadnan/Desktop/Mres/Experiments/Models/svm_model.svm','rb'))"
   ]
  },
  {
   "cell_type": "code",
   "execution_count": 29,
   "metadata": {
    "ExecuteTime": {
     "end_time": "2021-03-18T02:40:19.501202Z",
     "start_time": "2021-03-18T02:40:16.792846Z"
    }
   },
   "outputs": [],
   "source": [
    "eval_data_labels = '/Users/asimadnan/Desktop/Mres/ASVSPOOF_DATA/LA/ASVspoof2019_LA_cm_protocols/ASVspoof2019.LA.cm.eval.trl.txt'\n",
    "eval_data_path = '/Users/asimadnan/Desktop/Mres/ASVSPOOF_DATA/LA/ASVspoof2019_LA_eval/mfcc_v1.csv'\n",
    "\n",
    "eval_data = pd.read_csv(eval_data_path, delimiter = \",\", header=None)\n",
    "eval_labels =  pd.read_csv(eval_data_labels, delimiter = \" \", header=None)"
   ]
  },
  {
   "cell_type": "code",
   "execution_count": 21,
   "metadata": {
    "ExecuteTime": {
     "end_time": "2021-03-18T02:36:33.742376Z",
     "start_time": "2021-03-18T02:36:33.737810Z"
    }
   },
   "outputs": [],
   "source": [
    "X_eval = eval_data.drop([0,601], axis=1)\n",
    "y_eval = eval_data[[601]]\n",
    "\n",
    "y_score = svm.decision_function(X_eval)\n"
   ]
  },
  {
   "cell_type": "code",
   "execution_count": 20,
   "metadata": {
    "ExecuteTime": {
     "end_time": "2021-03-18T02:36:27.802095Z",
     "start_time": "2021-03-18T02:36:27.754236Z"
    }
   },
   "outputs": [
    {
     "name": "stdout",
     "output_type": "stream",
     "text": [
      "EER:  0.14885496183366498\n"
     ]
    }
   ],
   "source": [
    "fpr, tpr, thresholds = roc_curve(y_eval, y_score,pos_label='spoof')\n",
    "eer = brentq(lambda x : 1. - x - interp1d(fpr, tpr)(x), 0., 1.)\n",
    "print('EER: ',eer)"
   ]
  },
  {
   "cell_type": "code",
   "execution_count": 35,
   "metadata": {
    "ExecuteTime": {
     "end_time": "2021-03-18T02:45:33.288812Z",
     "start_time": "2021-03-18T02:45:33.271070Z"
    }
   },
   "outputs": [
    {
     "data": {
      "text/plain": [
       "Index([           0,            1,            2,            3,            4,\n",
       "                  5,            6,            7,            8,            9,\n",
       "       ...\n",
       "                593,          594,          595,          596,          597,\n",
       "                598,          599,          600,          601, 'Desc Score'],\n",
       "      dtype='object', length=603)"
      ]
     },
     "execution_count": 35,
     "metadata": {},
     "output_type": "execute_result"
    }
   ],
   "source": [
    "eval_data['Desc Score'] = y_score\n",
    "eval_data.columns"
   ]
  },
  {
   "cell_type": "code",
   "execution_count": 41,
   "metadata": {
    "ExecuteTime": {
     "end_time": "2021-03-18T02:48:30.587173Z",
     "start_time": "2021-03-18T02:48:30.567574Z"
    }
   },
   "outputs": [
    {
     "data": {
      "text/html": [
       "<div>\n",
       "<style scoped>\n",
       "    .dataframe tbody tr th:only-of-type {\n",
       "        vertical-align: middle;\n",
       "    }\n",
       "\n",
       "    .dataframe tbody tr th {\n",
       "        vertical-align: top;\n",
       "    }\n",
       "\n",
       "    .dataframe thead th {\n",
       "        text-align: right;\n",
       "    }\n",
       "</style>\n",
       "<table border=\"1\" class=\"dataframe\">\n",
       "  <thead>\n",
       "    <tr style=\"text-align: right;\">\n",
       "      <th></th>\n",
       "      <th>AUDIO_FILE_NAME</th>\n",
       "      <th>Key</th>\n",
       "      <th>SCORE</th>\n",
       "    </tr>\n",
       "  </thead>\n",
       "  <tbody>\n",
       "    <tr>\n",
       "      <th>0</th>\n",
       "      <td>LA_E_7338223</td>\n",
       "      <td>spoof</td>\n",
       "      <td>2.037251</td>\n",
       "    </tr>\n",
       "    <tr>\n",
       "      <th>1</th>\n",
       "      <td>LA_E_9469091</td>\n",
       "      <td>spoof</td>\n",
       "      <td>2.673685</td>\n",
       "    </tr>\n",
       "    <tr>\n",
       "      <th>2</th>\n",
       "      <td>LA_E_1788336</td>\n",
       "      <td>spoof</td>\n",
       "      <td>2.547469</td>\n",
       "    </tr>\n",
       "    <tr>\n",
       "      <th>3</th>\n",
       "      <td>LA_E_6616286</td>\n",
       "      <td>spoof</td>\n",
       "      <td>0.920930</td>\n",
       "    </tr>\n",
       "    <tr>\n",
       "      <th>4</th>\n",
       "      <td>LA_E_1222387</td>\n",
       "      <td>spoof</td>\n",
       "      <td>3.153588</td>\n",
       "    </tr>\n",
       "    <tr>\n",
       "      <th>...</th>\n",
       "      <td>...</td>\n",
       "      <td>...</td>\n",
       "      <td>...</td>\n",
       "    </tr>\n",
       "    <tr>\n",
       "      <th>17868</th>\n",
       "      <td>LA_E_2967658</td>\n",
       "      <td>spoof</td>\n",
       "      <td>1.930929</td>\n",
       "    </tr>\n",
       "    <tr>\n",
       "      <th>17869</th>\n",
       "      <td>LA_E_7697219</td>\n",
       "      <td>spoof</td>\n",
       "      <td>2.075088</td>\n",
       "    </tr>\n",
       "    <tr>\n",
       "      <th>17870</th>\n",
       "      <td>LA_E_6825673</td>\n",
       "      <td>spoof</td>\n",
       "      <td>2.990278</td>\n",
       "    </tr>\n",
       "    <tr>\n",
       "      <th>17871</th>\n",
       "      <td>LA_E_7894529</td>\n",
       "      <td>spoof</td>\n",
       "      <td>2.402580</td>\n",
       "    </tr>\n",
       "    <tr>\n",
       "      <th>17872</th>\n",
       "      <td>LA_E_6723023</td>\n",
       "      <td>spoof</td>\n",
       "      <td>2.557633</td>\n",
       "    </tr>\n",
       "  </tbody>\n",
       "</table>\n",
       "<p>17873 rows × 3 columns</p>\n",
       "</div>"
      ],
      "text/plain": [
       "      AUDIO_FILE_NAME    Key     SCORE\n",
       "0        LA_E_7338223  spoof  2.037251\n",
       "1        LA_E_9469091  spoof  2.673685\n",
       "2        LA_E_1788336  spoof  2.547469\n",
       "3        LA_E_6616286  spoof  0.920930\n",
       "4        LA_E_1222387  spoof  3.153588\n",
       "...               ...    ...       ...\n",
       "17868    LA_E_2967658  spoof  1.930929\n",
       "17869    LA_E_7697219  spoof  2.075088\n",
       "17870    LA_E_6825673  spoof  2.990278\n",
       "17871    LA_E_7894529  spoof  2.402580\n",
       "17872    LA_E_6723023  spoof  2.557633\n",
       "\n",
       "[17873 rows x 3 columns]"
      ]
     },
     "execution_count": 41,
     "metadata": {},
     "output_type": "execute_result"
    }
   ],
   "source": [
    "eval_scores = eval_data[[0,601,'Desc Score']]\n",
    "eval_scores.columns = ['AUDIO_FILE_NAME','Key','SCORE']\n",
    "eval_scores"
   ]
  },
  {
   "cell_type": "code",
   "execution_count": 40,
   "metadata": {
    "ExecuteTime": {
     "end_time": "2021-03-18T02:48:18.988261Z",
     "start_time": "2021-03-18T02:48:18.983071Z"
    }
   },
   "outputs": [],
   "source": [
    "eval_labels.columns = ['SPEAKER_ID','AUDIO_FILE_NAME','ENVIRONMENT_ID','ATTACK_ID','KEY']"
   ]
  },
  {
   "cell_type": "code",
   "execution_count": 43,
   "metadata": {
    "ExecuteTime": {
     "end_time": "2021-03-18T02:48:51.405434Z",
     "start_time": "2021-03-18T02:48:51.315567Z"
    }
   },
   "outputs": [
    {
     "data": {
      "text/html": [
       "<div>\n",
       "<style scoped>\n",
       "    .dataframe tbody tr th:only-of-type {\n",
       "        vertical-align: middle;\n",
       "    }\n",
       "\n",
       "    .dataframe tbody tr th {\n",
       "        vertical-align: top;\n",
       "    }\n",
       "\n",
       "    .dataframe thead th {\n",
       "        text-align: right;\n",
       "    }\n",
       "</style>\n",
       "<table border=\"1\" class=\"dataframe\">\n",
       "  <thead>\n",
       "    <tr style=\"text-align: right;\">\n",
       "      <th></th>\n",
       "      <th>AUDIO_FILE_NAME</th>\n",
       "      <th>Key</th>\n",
       "      <th>SCORE</th>\n",
       "      <th>SPEAKER_ID</th>\n",
       "      <th>ENVIRONMENT_ID</th>\n",
       "      <th>ATTACK_ID</th>\n",
       "      <th>KEY</th>\n",
       "    </tr>\n",
       "  </thead>\n",
       "  <tbody>\n",
       "    <tr>\n",
       "      <th>0</th>\n",
       "      <td>LA_E_7338223</td>\n",
       "      <td>spoof</td>\n",
       "      <td>2.037251</td>\n",
       "      <td>LA_0014</td>\n",
       "      <td>-</td>\n",
       "      <td>A07</td>\n",
       "      <td>spoof</td>\n",
       "    </tr>\n",
       "    <tr>\n",
       "      <th>1</th>\n",
       "      <td>LA_E_9469091</td>\n",
       "      <td>spoof</td>\n",
       "      <td>2.673685</td>\n",
       "      <td>LA_0033</td>\n",
       "      <td>-</td>\n",
       "      <td>A10</td>\n",
       "      <td>spoof</td>\n",
       "    </tr>\n",
       "    <tr>\n",
       "      <th>2</th>\n",
       "      <td>LA_E_1788336</td>\n",
       "      <td>spoof</td>\n",
       "      <td>2.547469</td>\n",
       "      <td>LA_0035</td>\n",
       "      <td>-</td>\n",
       "      <td>A07</td>\n",
       "      <td>spoof</td>\n",
       "    </tr>\n",
       "    <tr>\n",
       "      <th>3</th>\n",
       "      <td>LA_E_6616286</td>\n",
       "      <td>spoof</td>\n",
       "      <td>0.920930</td>\n",
       "      <td>LA_0009</td>\n",
       "      <td>-</td>\n",
       "      <td>A19</td>\n",
       "      <td>spoof</td>\n",
       "    </tr>\n",
       "    <tr>\n",
       "      <th>4</th>\n",
       "      <td>LA_E_1222387</td>\n",
       "      <td>spoof</td>\n",
       "      <td>3.153588</td>\n",
       "      <td>LA_0013</td>\n",
       "      <td>-</td>\n",
       "      <td>A07</td>\n",
       "      <td>spoof</td>\n",
       "    </tr>\n",
       "    <tr>\n",
       "      <th>...</th>\n",
       "      <td>...</td>\n",
       "      <td>...</td>\n",
       "      <td>...</td>\n",
       "      <td>...</td>\n",
       "      <td>...</td>\n",
       "      <td>...</td>\n",
       "      <td>...</td>\n",
       "    </tr>\n",
       "    <tr>\n",
       "      <th>17868</th>\n",
       "      <td>LA_E_2967658</td>\n",
       "      <td>spoof</td>\n",
       "      <td>1.930929</td>\n",
       "      <td>LA_0045</td>\n",
       "      <td>-</td>\n",
       "      <td>A16</td>\n",
       "      <td>spoof</td>\n",
       "    </tr>\n",
       "    <tr>\n",
       "      <th>17869</th>\n",
       "      <td>LA_E_7697219</td>\n",
       "      <td>spoof</td>\n",
       "      <td>2.075088</td>\n",
       "      <td>LA_0031</td>\n",
       "      <td>-</td>\n",
       "      <td>A15</td>\n",
       "      <td>spoof</td>\n",
       "    </tr>\n",
       "    <tr>\n",
       "      <th>17870</th>\n",
       "      <td>LA_E_6825673</td>\n",
       "      <td>spoof</td>\n",
       "      <td>2.990278</td>\n",
       "      <td>LA_0042</td>\n",
       "      <td>-</td>\n",
       "      <td>A08</td>\n",
       "      <td>spoof</td>\n",
       "    </tr>\n",
       "    <tr>\n",
       "      <th>17871</th>\n",
       "      <td>LA_E_7894529</td>\n",
       "      <td>spoof</td>\n",
       "      <td>2.402580</td>\n",
       "      <td>LA_0042</td>\n",
       "      <td>-</td>\n",
       "      <td>A16</td>\n",
       "      <td>spoof</td>\n",
       "    </tr>\n",
       "    <tr>\n",
       "      <th>17872</th>\n",
       "      <td>LA_E_6723023</td>\n",
       "      <td>spoof</td>\n",
       "      <td>2.557633</td>\n",
       "      <td>LA_0029</td>\n",
       "      <td>-</td>\n",
       "      <td>A07</td>\n",
       "      <td>spoof</td>\n",
       "    </tr>\n",
       "  </tbody>\n",
       "</table>\n",
       "<p>17873 rows × 7 columns</p>\n",
       "</div>"
      ],
      "text/plain": [
       "      AUDIO_FILE_NAME    Key     SCORE SPEAKER_ID ENVIRONMENT_ID ATTACK_ID  \\\n",
       "0        LA_E_7338223  spoof  2.037251    LA_0014              -       A07   \n",
       "1        LA_E_9469091  spoof  2.673685    LA_0033              -       A10   \n",
       "2        LA_E_1788336  spoof  2.547469    LA_0035              -       A07   \n",
       "3        LA_E_6616286  spoof  0.920930    LA_0009              -       A19   \n",
       "4        LA_E_1222387  spoof  3.153588    LA_0013              -       A07   \n",
       "...               ...    ...       ...        ...            ...       ...   \n",
       "17868    LA_E_2967658  spoof  1.930929    LA_0045              -       A16   \n",
       "17869    LA_E_7697219  spoof  2.075088    LA_0031              -       A15   \n",
       "17870    LA_E_6825673  spoof  2.990278    LA_0042              -       A08   \n",
       "17871    LA_E_7894529  spoof  2.402580    LA_0042              -       A16   \n",
       "17872    LA_E_6723023  spoof  2.557633    LA_0029              -       A07   \n",
       "\n",
       "         KEY  \n",
       "0      spoof  \n",
       "1      spoof  \n",
       "2      spoof  \n",
       "3      spoof  \n",
       "4      spoof  \n",
       "...      ...  \n",
       "17868  spoof  \n",
       "17869  spoof  \n",
       "17870  spoof  \n",
       "17871  spoof  \n",
       "17872  spoof  \n",
       "\n",
       "[17873 rows x 7 columns]"
      ]
     },
     "execution_count": 43,
     "metadata": {},
     "output_type": "execute_result"
    }
   ],
   "source": [
    "final_score = pd.merge(eval_scores, eval_labels, on=\"AUDIO_FILE_NAME\")\n",
    "final_score"
   ]
  },
  {
   "cell_type": "code",
   "execution_count": 47,
   "metadata": {
    "ExecuteTime": {
     "end_time": "2021-03-18T03:05:25.876498Z",
     "start_time": "2021-03-18T03:05:25.854415Z"
    }
   },
   "outputs": [],
   "source": [
    "final_score.loc[final_score['SCORE'] > 0, 'Prediction'] = 'spoof'\n",
    "final_score.loc[final_score['SCORE'] < 0, 'Prediction'] = 'bonafide'\n",
    "\n",
    "final_score.loc[final_score['Prediction'] == cm_score['KEY'], 'Stat'] = True\n",
    "final_score.loc[final_score['Prediction'] != cm_score['KEY'], 'Stat'] = False"
   ]
  },
  {
   "cell_type": "code",
   "execution_count": 48,
   "metadata": {
    "ExecuteTime": {
     "end_time": "2021-03-18T03:05:28.416600Z",
     "start_time": "2021-03-18T03:05:27.709958Z"
    }
   },
   "outputs": [
    {
     "data": {
      "image/png": "[encoded data removed]",
      "text/plain": [
       "<Figure size 903.025x595.44 with 1 Axes>"
      ]
     },
     "metadata": {
      "needs_background": "light"
     },
     "output_type": "display_data"
    }
   ],
   "source": [
    "ax = sns.catplot(x=\"ATTACK_ID\", kind=\"count\", hue=\"Stat\",  data=final_score,palette=sns.color_palette('dark', n_colors=3),height=8.27, aspect=11.7/8.27)\n"
   ]
  },
  {
   "cell_type": "code",
   "execution_count": null,
   "metadata": {},
   "outputs": [],
   "source": []
  }
 ],
 "metadata": {
  "kernelspec": {
   "display_name": "Python [conda env:root] *",
   "language": "python",
   "name": "conda-root-py"
  },
  "language_info": {
   "codemirror_mode": {
    "name": "ipython",
    "version": 3
   },
   "file_extension": ".py",
   "mimetype": "text/x-python",
   "name": "python",
   "nbconvert_exporter": "python",
   "pygments_lexer": "ipython3",
   "version": "3.8.5"
  },
  "varInspector": {
   "cols": {
    "lenName": 16,
    "lenType": 16,
    "lenVar": 40
   },
   "kernels_config": {
    "python": {
     "delete_cmd_postfix": "",
     "delete_cmd_prefix": "del ",
     "library": "var_list.py",
     "varRefreshCmd": "print(var_dic_list())"
    },
    "r": {
     "delete_cmd_postfix": ") ",
     "delete_cmd_prefix": "rm(",
     "library": "var_list.r",
     "varRefreshCmd": "cat(var_dic_list()) "
    }
   },
   "types_to_exclude": [
    "module",
    "function",
    "builtin_function_or_method",
    "instance",
    "_Feature"
   ],
   "window_display": false
  }
 },
 "nbformat": 4,
 "nbformat_minor": 4
}
