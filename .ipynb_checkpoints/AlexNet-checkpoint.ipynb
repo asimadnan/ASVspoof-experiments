{
 "cells": [
  {
   "cell_type": "code",
   "execution_count": 1,
   "metadata": {
    "ExecuteTime": {
     "end_time": "2021-05-17T13:03:03.414073Z",
     "start_time": "2021-05-17T13:02:50.961848Z"
    }
   },
   "outputs": [],
   "source": [
    "import pandas as pd\n",
    "import os\n",
    "import librosa\n",
    "import librosa.display"
   ]
  },
  {
   "cell_type": "code",
   "execution_count": 2,
   "metadata": {
    "ExecuteTime": {
     "end_time": "2021-05-17T13:03:03.450513Z",
     "start_time": "2021-05-17T13:03:03.441350Z"
    }
   },
   "outputs": [],
   "source": [
    "# https://towardsdatascience.com/cnns-for-audio-classification-6244954665ab\n",
    "# https://mikesmales.medium.com/sound-classification-using-deep-learning-8bc2aa1990b7"
   ]
  },
  {
   "cell_type": "code",
   "execution_count": 3,
   "metadata": {
    "ExecuteTime": {
     "end_time": "2021-05-17T13:03:03.509080Z",
     "start_time": "2021-05-17T13:03:03.498205Z"
    }
   },
   "outputs": [],
   "source": [
    "fulldatasetpath = '/Users/asimadnan/Desktop/Mres/ASVSPOOF_DATA/LA/ASVspoof2019_LA_train/sample'\n",
    "labels_path = '/Users/asimadnan/Desktop/Mres/ASVSPOOF_DATA/LA/ASVspoof2019_LA_cm_protocols/ASVspoof2019.LA.cm.train.trn.txt'\n",
    "\n"
   ]
  },
  {
   "cell_type": "markdown",
   "metadata": {},
   "source": [
    "- ynp.ndarray [shape=(n,)] audio time series\n",
    "\n",
    "- srnumber > 0 [scalar] sampling rate of y\n",
    "\n",
    "- hop_lengthint > 0 [scalar] number of samples between successive CQT columns.\n",
    "\n",
    "- fmin float > 0 [scalar] Minimum frequency. Defaults to C1 ~= 32.70 Hz\n",
    "\n",
    "- n_bins int > 0 [scalar] Number of frequency bins, starting at fmin\n",
    "\n",
    "- bins_per_octaveint > 0 [scalar] Number of bins per octave\n",
    "\n",
    "- tuningNone or float Tuning offset in fractions of a bin. If None, tuning will be automatically estimated from the signal. The minimum frequency of the resulting CQT will be modified to fmin * 2**(tuning / bins_per_octave).\n",
    "\n",
    "- filter_scale float > 0 Filter scale factor. Small values (<1) use shorter windows for improved time resolution.\n",
    "\n",
    "- norm{inf, -inf, 0, float > 0} Type of norm to use for basis function normalization. See librosa.util.normalize.\n",
    "\n",
    "- sparsityfloat in [0, 1) Sparsify the CQT basis by discarding up to sparsity fraction of the energy in each basis. Set sparsity=0 to disable sparsification.\n",
    "\n",
    "- windowstr, tuple, number, or function Window specification for the basis filters. See filters.get_window for details.\n",
    "\n",
    "- scalebool If True, scale the CQT response by square-root the length of each channel’s filter. This is analogous to norm='ortho' in FFT. If False, do not scale the CQT. This is analogous to norm=None in FFT.\n",
    "\n",
    "- pad_modestring Padding mode for centered frame analysis.\n",
    "\n",
    "\n",
    "- res_typestring [optional] The resampling mode for recursive downsampling. By default, cqt will adaptively select a resampling mode which trades off accuracy at high frequencies for efficiency at low frequencies. You can override this by specifying a resampling mode as supported by librosa.resample. For example, res_type='fft' will use a high-quality, but potentially slow FFT-based down-sampling, while res_type='polyphase' will use a fast, but potentially inaccurate down-sampling.\n",
    "\n",
    "- dtypenp.dtype The (complex) data type of the output array. By default, this is inferred to match the numerical precision of the input signal."
   ]
  },
  {
   "cell_type": "markdown",
   "metadata": {},
   "source": [
    "### from matlab code for cqt\n",
    "    # %         x         : input signal\n",
    "    # %         B         : number of bins per octave\n",
    "    # %         fs        : sampling frequency\n",
    "    # %         fmin      : lowest frequency to be analyzed\n",
    "    # %         fmax      : highest frequency to be analyzed\n",
    "    # %         varargin  : Optional input pairs (see table below)"
   ]
  },
  {
   "cell_type": "markdown",
   "metadata": {},
   "source": [
    "    # %         x         : audio signal\n",
    "    # %         B         : 96\n",
    "    # %         fs        : sampling rate\n",
    "    # %         fmin      : fmax/2**9\n",
    "    # %         fmax      : samplin grate//2\n",
    "    # %         varargin  : 'rasterize', 'full', 'gamma', gamma"
   ]
  },
  {
   "cell_type": "code",
   "execution_count": 26,
   "metadata": {
    "ExecuteTime": {
     "end_time": "2021-05-17T13:17:42.925118Z",
     "start_time": "2021-05-17T13:17:42.911563Z"
    }
   },
   "outputs": [],
   "source": [
    "def extract_features(filename):\n",
    "    try:\n",
    "        #print(fulldatasetpath + '/' +filename)\n",
    "\n",
    "        audio, sample_rate = librosa.load(fulldatasetpath + '/' +filename) \n",
    "        B = 96\n",
    "        fmax = sample_rate/2\n",
    "        fmin = fmax/2**9\n",
    "    \n",
    "        cqt = librosa.feature.chroma_cqt(y=audio, sr=sample_rate,fmin = fmin ,  bins_per_octave=B)\n",
    "#         audio, sample_rate = librosa.load(fulldatasetpath + '/' +filename, res_type='kaiser_fast') \n",
    "#         mfccs = librosa.feature.mfcc(y=audio, sr=sample_rate, n_mfcc=40)\n",
    "#         mfccsscaled = np.mean(mfccs.T,axis=0)\n",
    "        \n",
    "        \n",
    "    except Exception as e:\n",
    "        print(\"Error encountered while parsing file: \", filename)\n",
    "        return None \n",
    "     \n",
    "    return cqt\n",
    "#     return mfccs\n",
    "    \n",
    "    "
   ]
  },
  {
   "cell_type": "code",
   "execution_count": 29,
   "metadata": {
    "ExecuteTime": {
     "end_time": "2021-05-17T13:18:18.638702Z",
     "start_time": "2021-05-17T13:18:17.855894Z"
    }
   },
   "outputs": [
    {
     "data": {
      "text/plain": [
       "(12, 100)"
      ]
     },
     "execution_count": 29,
     "metadata": {},
     "output_type": "execute_result"
    }
   ],
   "source": [
    "a = extract_features('LA_T_2361751.flac')\n",
    "a.shape"
   ]
  },
  {
   "cell_type": "code",
   "execution_count": 45,
   "metadata": {
    "ExecuteTime": {
     "end_time": "2021-05-17T13:32:59.745364Z",
     "start_time": "2021-05-17T13:32:59.728034Z"
    }
   },
   "outputs": [
    {
     "data": {
      "text/plain": [
       "array([[[0.56106639],\n",
       "        [0.57417262],\n",
       "        [0.59225315],\n",
       "        ...,\n",
       "        [0.15939793],\n",
       "        [0.16409318],\n",
       "        [0.15303573]],\n",
       "\n",
       "       [[0.65517092],\n",
       "        [0.65396738],\n",
       "        [0.63133591],\n",
       "        ...,\n",
       "        [0.24072932],\n",
       "        [0.24116313],\n",
       "        [0.22821383]],\n",
       "\n",
       "       [[0.65466219],\n",
       "        [0.66270059],\n",
       "        [0.63558215],\n",
       "        ...,\n",
       "        [0.20154944],\n",
       "        [0.17776719],\n",
       "        [0.19642866]],\n",
       "\n",
       "       ...,\n",
       "\n",
       "       [[0.60797274],\n",
       "        [0.61681205],\n",
       "        [0.61940122],\n",
       "        ...,\n",
       "        [0.16711131],\n",
       "        [0.20131853],\n",
       "        [0.22420275]],\n",
       "\n",
       "       [[0.72703379],\n",
       "        [0.73620403],\n",
       "        [0.7628082 ],\n",
       "        ...,\n",
       "        [0.18136518],\n",
       "        [0.16225776],\n",
       "        [0.16497579]],\n",
       "\n",
       "       [[0.50228602],\n",
       "        [0.55280256],\n",
       "        [0.61127782],\n",
       "        ...,\n",
       "        [0.15067911],\n",
       "        [0.14948094],\n",
       "        [0.16244379]]])"
      ]
     },
     "execution_count": 45,
     "metadata": {},
     "output_type": "execute_result"
    }
   ],
   "source": [
    "np.reshape(a.tolist(),(12,100,1))"
   ]
  },
  {
   "cell_type": "code",
   "execution_count": 32,
   "metadata": {
    "ExecuteTime": {
     "end_time": "2021-05-17T13:20:48.172488Z",
     "start_time": "2021-05-17T13:20:48.166682Z"
    }
   },
   "outputs": [],
   "source": [
    "features = []"
   ]
  },
  {
   "cell_type": "code",
   "execution_count": 39,
   "metadata": {
    "ExecuteTime": {
     "end_time": "2021-05-17T13:30:31.157193Z",
     "start_time": "2021-05-17T13:30:25.194816Z"
    }
   },
   "outputs": [
    {
     "name": "stderr",
     "output_type": "stream",
     "text": [
      "/Users/asimadnan/opt/anaconda3/lib/python3.8/site-packages/librosa/core/spectrum.py:222: UserWarning: n_fft=4096 is too small for input signal of length=3170\n",
      "  warnings.warn(\n",
      "/Users/asimadnan/opt/anaconda3/lib/python3.8/site-packages/librosa/core/spectrum.py:222: UserWarning: n_fft=4096 is too small for input signal of length=1585\n",
      "  warnings.warn(\n",
      "/Users/asimadnan/opt/anaconda3/lib/python3.8/site-packages/librosa/core/spectrum.py:222: UserWarning: n_fft=4096 is too small for input signal of length=793\n",
      "  warnings.warn(\n"
     ]
    },
    {
     "name": "stdout",
     "output_type": "stream",
     "text": [
      "(12, 100)\n",
      "(12, 150)\n"
     ]
    },
    {
     "name": "stderr",
     "output_type": "stream",
     "text": [
      "/Users/asimadnan/opt/anaconda3/lib/python3.8/site-packages/librosa/core/spectrum.py:222: UserWarning: n_fft=4096 is too small for input signal of length=2322\n",
      "  warnings.warn(\n",
      "/Users/asimadnan/opt/anaconda3/lib/python3.8/site-packages/librosa/core/spectrum.py:222: UserWarning: n_fft=4096 is too small for input signal of length=1161\n",
      "  warnings.warn(\n"
     ]
    },
    {
     "name": "stdout",
     "output_type": "stream",
     "text": [
      "(12, 146)\n",
      "(12, 150)\n"
     ]
    },
    {
     "name": "stderr",
     "output_type": "stream",
     "text": [
      "/Users/asimadnan/opt/anaconda3/lib/python3.8/site-packages/librosa/core/spectrum.py:222: UserWarning: n_fft=4096 is too small for input signal of length=3877\n",
      "  warnings.warn(\n",
      "/Users/asimadnan/opt/anaconda3/lib/python3.8/site-packages/librosa/core/spectrum.py:222: UserWarning: n_fft=4096 is too small for input signal of length=1939\n",
      "  warnings.warn(\n",
      "/Users/asimadnan/opt/anaconda3/lib/python3.8/site-packages/librosa/core/spectrum.py:222: UserWarning: n_fft=4096 is too small for input signal of length=970\n",
      "  warnings.warn(\n"
     ]
    },
    {
     "name": "stdout",
     "output_type": "stream",
     "text": [
      "(12, 122)\n",
      "(12, 150)\n"
     ]
    },
    {
     "name": "stderr",
     "output_type": "stream",
     "text": [
      "/Users/asimadnan/opt/anaconda3/lib/python3.8/site-packages/librosa/core/spectrum.py:222: UserWarning: n_fft=4096 is too small for input signal of length=3204\n",
      "  warnings.warn(\n",
      "/Users/asimadnan/opt/anaconda3/lib/python3.8/site-packages/librosa/core/spectrum.py:222: UserWarning: n_fft=4096 is too small for input signal of length=1602\n",
      "  warnings.warn(\n",
      "/Users/asimadnan/opt/anaconda3/lib/python3.8/site-packages/librosa/core/spectrum.py:222: UserWarning: n_fft=4096 is too small for input signal of length=801\n",
      "  warnings.warn(\n"
     ]
    },
    {
     "name": "stdout",
     "output_type": "stream",
     "text": [
      "(12, 101)\n",
      "(12, 150)\n"
     ]
    },
    {
     "name": "stderr",
     "output_type": "stream",
     "text": [
      "/Users/asimadnan/opt/anaconda3/lib/python3.8/site-packages/librosa/core/spectrum.py:222: UserWarning: n_fft=4096 is too small for input signal of length=2377\n",
      "  warnings.warn(\n",
      "/Users/asimadnan/opt/anaconda3/lib/python3.8/site-packages/librosa/core/spectrum.py:222: UserWarning: n_fft=4096 is too small for input signal of length=1189\n",
      "  warnings.warn(\n"
     ]
    },
    {
     "name": "stdout",
     "output_type": "stream",
     "text": [
      "(12, 149)\n",
      "(12, 150)\n",
      "(12, 79)\n",
      "(12, 150)\n",
      "Finished feature extraction from  6  files\n"
     ]
    },
    {
     "name": "stderr",
     "output_type": "stream",
     "text": [
      "/Users/asimadnan/opt/anaconda3/lib/python3.8/site-packages/librosa/core/spectrum.py:222: UserWarning: n_fft=4096 is too small for input signal of length=2514\n",
      "  warnings.warn(\n",
      "/Users/asimadnan/opt/anaconda3/lib/python3.8/site-packages/librosa/core/spectrum.py:222: UserWarning: n_fft=4096 is too small for input signal of length=1257\n",
      "  warnings.warn(\n",
      "/Users/asimadnan/opt/anaconda3/lib/python3.8/site-packages/librosa/core/spectrum.py:222: UserWarning: n_fft=4096 is too small for input signal of length=629\n",
      "  warnings.warn(\n"
     ]
    }
   ],
   "source": [
    "filename2label = {}\n",
    "for line in open(labels_path):\n",
    "    line = line.split()\n",
    "    filename, label = line[1], line[-1]\n",
    "    filename2label[filename] = label\n",
    "\n",
    "metadata = pd.read_csv(labels_path, delimiter = \" \", header=None)\n",
    "metadata.columns = ['SPEAKER_ID','AUDIO_FILE_NAME','ENVIRONMENT_ID','ATTACK_ID','KEY']\n",
    "\n",
    "features = []\n",
    "target_num_rows = 150\n",
    "# Iterate through each sound file and extract the features \n",
    "for filename in os.listdir(fulldatasetpath):\n",
    "    class_label = filename2label[filename.split('.')[0]]\n",
    "\n",
    "    data = extract_features(filename)\n",
    "    print(data.shape)\n",
    "    if(target_num_rows > data.shape[1]):\n",
    "        # repeat sample\n",
    "        while(target_num_rows != data.shape[1]):\n",
    "            data = np.concatenate((data, data[:,:target_num_rows - data.shape[1]]), axis=1)\n",
    "    else:\n",
    "        #cut  sample\n",
    "        data = data[:,:target_num_rows] \n",
    "    print(data.shape)\n",
    "    features.append([data, class_label])\n",
    "\n",
    "# Convert into a Panda dataframe \n",
    "featuresdf = pd.DataFrame(features, columns=['feature','class_label'])\n",
    "\n",
    "print('Finished feature extraction from ', len(featuresdf), ' files')"
   ]
  },
  {
   "cell_type": "code",
   "execution_count": 40,
   "metadata": {
    "ExecuteTime": {
     "end_time": "2021-05-17T13:31:21.328851Z",
     "start_time": "2021-05-17T13:30:59.845369Z"
    }
   },
   "outputs": [],
   "source": [
    "from sklearn.preprocessing import LabelEncoder\n",
    "from keras.utils import to_categorical\n",
    "\n",
    "# Convert features and corresponding classification labels into numpy arrays\n",
    "X = np.array(featuresdf.feature.tolist())\n",
    "y = np.array(featuresdf.class_label.tolist())\n",
    "\n",
    "# Encode the classification labels\n",
    "le = LabelEncoder()\n",
    "yy = to_categorical(le.fit_transform(y)) \n",
    "\n",
    "# split the dataset \n",
    "from sklearn.model_selection import train_test_split \n",
    "\n",
    "x_train, x_test, y_train, y_test = train_test_split(X, yy, test_size=0.2, random_state = 42)"
   ]
  },
  {
   "cell_type": "code",
   "execution_count": 47,
   "metadata": {
    "ExecuteTime": {
     "end_time": "2021-05-17T13:33:23.245995Z",
     "start_time": "2021-05-17T13:33:23.236483Z"
    }
   },
   "outputs": [
    {
     "data": {
      "text/plain": [
       "array([[0.2526004 , 0.2850003 , 0.31982777, ..., 0.16061579, 0.1378899 ,\n",
       "        0.12073319],\n",
       "       [0.09440217, 0.10933936, 0.12777668, ..., 0.13984126, 0.11871572,\n",
       "        0.10807937],\n",
       "       [0.03524254, 0.0432864 , 0.05357295, ..., 0.31998473, 0.29775378,\n",
       "        0.2789284 ],\n",
       "       ...,\n",
       "       [0.70190877, 0.66027176, 0.6044564 , ..., 0.6767256 , 0.60169744,\n",
       "        0.5216474 ],\n",
       "       [1.        , 1.        , 1.        , ..., 0.3910538 , 0.31139305,\n",
       "        0.24066952],\n",
       "       [0.58612186, 0.6231946 , 0.64614666, ..., 0.25573826, 0.20012942,\n",
       "        0.16162549]], dtype=float32)"
      ]
     },
     "execution_count": 47,
     "metadata": {},
     "output_type": "execute_result"
    }
   ],
   "source": [
    "x_train[0]"
   ]
  },
  {
   "cell_type": "code",
   "execution_count": 43,
   "metadata": {
    "ExecuteTime": {
     "end_time": "2021-05-17T13:32:19.820267Z",
     "start_time": "2021-05-17T13:32:19.813782Z"
    }
   },
   "outputs": [],
   "source": [
    "import numpy as np\n",
    "from keras.models import Sequential\n",
    "from keras.layers import Dense, Dropout, Activation, Flatten\n",
    "from keras.layers import Convolution2D, Conv2D, MaxPooling2D, GlobalAveragePooling2D\n",
    "from keras.optimizers import Adam\n",
    "from keras.utils import np_utils\n",
    "from sklearn import metrics \n",
    "\n",
    "# np.reshape(a,(12,100,1))\n",
    "num_rows = 12\n",
    "num_columns = 150\n",
    "num_channels = 1\n",
    "\n",
    "\n"
   ]
  },
  {
   "cell_type": "code",
   "execution_count": 44,
   "metadata": {
    "ExecuteTime": {
     "end_time": "2021-05-17T13:32:20.710525Z",
     "start_time": "2021-05-17T13:32:20.684187Z"
    }
   },
   "outputs": [
    {
     "ename": "ValueError",
     "evalue": "cannot reshape array of size 7200 into shape (12,150,1)",
     "output_type": "error",
     "traceback": [
      "\u001b[0;31m---------------------------------------------------------------------------\u001b[0m",
      "\u001b[0;31mValueError\u001b[0m                                Traceback (most recent call last)",
      "\u001b[0;32m<ipython-input-44-8ec58534cdae>\u001b[0m in \u001b[0;36m<module>\u001b[0;34m\u001b[0m\n\u001b[0;32m----> 1\u001b[0;31m \u001b[0mx_train\u001b[0m \u001b[0;34m=\u001b[0m \u001b[0mx_train\u001b[0m\u001b[0;34m.\u001b[0m\u001b[0mreshape\u001b[0m\u001b[0;34m(\u001b[0m \u001b[0mnum_rows\u001b[0m\u001b[0;34m,\u001b[0m \u001b[0mnum_columns\u001b[0m\u001b[0;34m,\u001b[0m \u001b[0mnum_channels\u001b[0m\u001b[0;34m)\u001b[0m\u001b[0;34m\u001b[0m\u001b[0;34m\u001b[0m\u001b[0m\n\u001b[0m\u001b[1;32m      2\u001b[0m \u001b[0mx_test\u001b[0m \u001b[0;34m=\u001b[0m \u001b[0mx_test\u001b[0m\u001b[0;34m.\u001b[0m\u001b[0mreshape\u001b[0m\u001b[0;34m(\u001b[0m \u001b[0mnum_rows\u001b[0m\u001b[0;34m,\u001b[0m \u001b[0mnum_columns\u001b[0m\u001b[0;34m,\u001b[0m \u001b[0mnum_channels\u001b[0m\u001b[0;34m)\u001b[0m\u001b[0;34m\u001b[0m\u001b[0;34m\u001b[0m\u001b[0m\n\u001b[1;32m      3\u001b[0m \u001b[0mmax_size\u001b[0m\u001b[0;34m=\u001b[0m\u001b[0;36m174\u001b[0m\u001b[0;34m\u001b[0m\u001b[0;34m\u001b[0m\u001b[0m\n\u001b[1;32m      4\u001b[0m \u001b[0;34m\u001b[0m\u001b[0m\n\u001b[1;32m      5\u001b[0m \u001b[0mnum_labels\u001b[0m \u001b[0;34m=\u001b[0m \u001b[0myy\u001b[0m\u001b[0;34m.\u001b[0m\u001b[0mshape\u001b[0m\u001b[0;34m[\u001b[0m\u001b[0;36m1\u001b[0m\u001b[0;34m]\u001b[0m\u001b[0;34m\u001b[0m\u001b[0;34m\u001b[0m\u001b[0m\n",
      "\u001b[0;31mValueError\u001b[0m: cannot reshape array of size 7200 into shape (12,150,1)"
     ]
    }
   ],
   "source": [
    "x_train = x_train.reshape( num_rows, num_columns, num_channels)\n",
    "x_test = x_test.reshape( num_rows, num_columns, num_channels)\n",
    "max_size=174\n",
    "\n",
    "num_labels = yy.shape[1]\n",
    "filter_size = 2"
   ]
  },
  {
   "cell_type": "code",
   "execution_count": 65,
   "metadata": {
    "ExecuteTime": {
     "end_time": "2021-05-12T12:29:33.214135Z",
     "start_time": "2021-05-12T12:29:32.909214Z"
    }
   },
   "outputs": [
    {
     "ename": "NameError",
     "evalue": "name 'num_labels' is not defined",
     "output_type": "error",
     "traceback": [
      "\u001b[0;31m---------------------------------------------------------------------------\u001b[0m",
      "\u001b[0;31mNameError\u001b[0m                                 Traceback (most recent call last)",
      "\u001b[0;32m<ipython-input-65-417fa328d028>\u001b[0m in \u001b[0;36m<module>\u001b[0;34m\u001b[0m\n\u001b[1;32m     18\u001b[0m \u001b[0mmodel\u001b[0m\u001b[0;34m.\u001b[0m\u001b[0madd\u001b[0m\u001b[0;34m(\u001b[0m\u001b[0mGlobalAveragePooling2D\u001b[0m\u001b[0;34m(\u001b[0m\u001b[0;34m)\u001b[0m\u001b[0;34m)\u001b[0m\u001b[0;34m\u001b[0m\u001b[0;34m\u001b[0m\u001b[0m\n\u001b[1;32m     19\u001b[0m \u001b[0;34m\u001b[0m\u001b[0m\n\u001b[0;32m---> 20\u001b[0;31m \u001b[0mmodel\u001b[0m\u001b[0;34m.\u001b[0m\u001b[0madd\u001b[0m\u001b[0;34m(\u001b[0m\u001b[0mDense\u001b[0m\u001b[0;34m(\u001b[0m\u001b[0mnum_labels\u001b[0m\u001b[0;34m,\u001b[0m \u001b[0mactivation\u001b[0m\u001b[0;34m=\u001b[0m\u001b[0;34m'softmax'\u001b[0m\u001b[0;34m)\u001b[0m\u001b[0;34m)\u001b[0m\u001b[0;34m\u001b[0m\u001b[0;34m\u001b[0m\u001b[0m\n\u001b[0m",
      "\u001b[0;31mNameError\u001b[0m: name 'num_labels' is not defined"
     ]
    }
   ],
   "source": [
    "\n",
    "# Construct model \n",
    "model = Sequential()\n",
    "model.add(Conv2D(filters=16, kernel_size=2, input_shape=(num_rows, num_columns, num_channels), activation='relu'))\n",
    "model.add(MaxPooling2D(pool_size=2))\n",
    "model.add(Dropout(0.2))\n",
    "\n",
    "model.add(Conv2D(filters=32, kernel_size=2, activation='relu'))\n",
    "model.add(MaxPooling2D(pool_size=2))\n",
    "model.add(Dropout(0.2))\n",
    "\n",
    "model.add(Conv2D(filters=64, kernel_size=2, activation='relu'))\n",
    "model.add(MaxPooling2D(pool_size=2))\n",
    "model.add(Dropout(0.2))\n",
    "\n",
    "model.add(Conv2D(filters=128, kernel_size=2, activation='relu'))\n",
    "model.add(MaxPooling2D(pool_size=2))\n",
    "model.add(Dropout(0.2))\n",
    "model.add(GlobalAveragePooling2D())\n",
    "\n",
    "model.add(Dense(num_labels, activation='softmax'))"
   ]
  },
  {
   "cell_type": "code",
   "execution_count": 63,
   "metadata": {
    "ExecuteTime": {
     "end_time": "2021-05-12T12:27:18.007228Z",
     "start_time": "2021-05-12T12:27:17.996368Z"
    }
   },
   "outputs": [],
   "source": []
  },
  {
   "cell_type": "code",
   "execution_count": null,
   "metadata": {},
   "outputs": [],
   "source": []
  }
 ],
 "metadata": {
  "kernelspec": {
   "display_name": "Python [conda env:root] *",
   "language": "python",
   "name": "conda-root-py"
  },
  "language_info": {
   "codemirror_mode": {
    "name": "ipython",
    "version": 3
   },
   "file_extension": ".py",
   "mimetype": "text/x-python",
   "name": "python",
   "nbconvert_exporter": "python",
   "pygments_lexer": "ipython3",
   "version": "3.8.5"
  },
  "varInspector": {
   "cols": {
    "lenName": 16,
    "lenType": 16,
    "lenVar": 40
   },
   "kernels_config": {
    "python": {
     "delete_cmd_postfix": "",
     "delete_cmd_prefix": "del ",
     "library": "var_list.py",
     "varRefreshCmd": "print(var_dic_list())"
    },
    "r": {
     "delete_cmd_postfix": ") ",
     "delete_cmd_prefix": "rm(",
     "library": "var_list.r",
     "varRefreshCmd": "cat(var_dic_list()) "
    }
   },
   "types_to_exclude": [
    "module",
    "function",
    "builtin_function_or_method",
    "instance",
    "_Feature"
   ],
   "window_display": false
  }
 },
 "nbformat": 4,
 "nbformat_minor": 4
}
