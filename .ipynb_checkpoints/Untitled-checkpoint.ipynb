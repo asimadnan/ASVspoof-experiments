{
 "cells": [
  {
   "cell_type": "code",
   "execution_count": 1,
   "metadata": {
    "ExecuteTime": {
     "end_time": "2021-04-04T05:03:07.588343Z",
     "start_time": "2021-04-04T05:03:03.191119Z"
    }
   },
   "outputs": [],
   "source": [
    "from python_speech_features import mfcc\n",
    "from CQCC.cqcc import cqcc\n",
    "import scipy.io.wavfile as wav\n",
    "import soundfile as sf\n",
    "import os\n",
    "import numpy as np\n",
    "import pickle\n",
    "import argparse\n",
    "import sys\n",
    "import time\n",
    "import multiprocessing as mp\n",
    "import warnings"
   ]
  },
  {
   "cell_type": "code",
   "execution_count": 24,
   "metadata": {
    "ExecuteTime": {
     "end_time": "2021-04-02T13:26:24.351565Z",
     "start_time": "2021-04-02T13:26:24.344602Z"
    }
   },
   "outputs": [],
   "source": [
    "def chunks(lst, n):\n",
    "#\"\"\"Yield successive n-sized chunks from lst.\"\"\"\n",
    "    list = []\n",
    "    for i in range(0, len(lst), n):\n",
    "        list.append(lst[i:i + n])\n",
    "    return list"
   ]
  },
  {
   "cell_type": "code",
   "execution_count": 25,
   "metadata": {
    "ExecuteTime": {
     "end_time": "2021-04-02T13:26:25.621995Z",
     "start_time": "2021-04-02T13:26:25.616709Z"
    }
   },
   "outputs": [],
   "source": [
    "data_path = '/Users/asimadnan/Desktop/Mres/ASVSPOOF_DATA/LA/ASVspoof2019_LA_train/sample_train'\n",
    "label_path = '/Users/asimadnan/Desktop/Mres/ASVSPOOF_DATA/LA/ASVspoof2019_LA_cm_protocols/ASVspoof2019.LA.cm.train.trn.txt'\n",
    "output_path = '/Users/asimadnan/Desktop/Mres/ASVSPOOF_DATA/LA/ASVspoof2019_LA_train/'\n",
    "\n"
   ]
  },
  {
   "cell_type": "code",
   "execution_count": 40,
   "metadata": {
    "ExecuteTime": {
     "end_time": "2021-04-03T05:56:29.149153Z",
     "start_time": "2021-04-03T05:56:29.136711Z"
    }
   },
   "outputs": [
    {
     "data": {
      "text/plain": [
       "25"
      ]
     },
     "execution_count": 40,
     "metadata": {},
     "output_type": "execute_result"
    }
   ],
   "source": [
    "total_files = len(os.listdir(data_path))\n",
    "total_files\n",
    "\n",
    "round(total_files/4)"
   ]
  },
  {
   "cell_type": "code",
   "execution_count": 41,
   "metadata": {
    "ExecuteTime": {
     "end_time": "2021-04-03T05:56:37.930474Z",
     "start_time": "2021-04-03T05:56:37.917643Z"
    }
   },
   "outputs": [
    {
     "data": {
      "text/plain": [
       "[['LA_T_1014095.flac',\n",
       "  'LA_T_1029929.flac',\n",
       "  'LA_T_1013068.flac',\n",
       "  'LA_T_1022109.flac',\n",
       "  'LA_T_1028046.flac',\n",
       "  'LA_T_1023667.flac',\n",
       "  'LA_T_1034356.flac',\n",
       "  'LA_T_1000824.flac',\n",
       "  'LA_T_1000648.flac',\n",
       "  'LA_T_1009193.flac',\n",
       "  'LA_T_1030180.flac',\n",
       "  'LA_T_2361751.flac',\n",
       "  'LA_T_1011022.flac',\n",
       "  'LA_T_1010799.flac',\n",
       "  'LA_T_1004631.flac',\n",
       "  'LA_T_1028533.flac',\n",
       "  'LA_T_1011920.flac',\n",
       "  'LA_T_1005349.flac',\n",
       "  'LA_T_1001074.flac',\n",
       "  'LA_T_1029621.flac',\n",
       "  'LA_T_1021790.flac',\n",
       "  'LA_T_1019645.flac',\n",
       "  'LA_T_1026106.flac',\n",
       "  'LA_T_1030482.flac',\n",
       "  'LA_T_1029007.flac'],\n",
       " ['LA_T_1004407.flac',\n",
       "  'LA_T_1006969.flac',\n",
       "  'LA_T_1021749.flac',\n",
       "  'LA_T_1026130.flac',\n",
       "  'LA_T_1025399.flac',\n",
       "  'LA_T_1010137.flac',\n",
       "  'LA_T_1000137.flac',\n",
       "  'LA_T_1017164.flac',\n",
       "  'LA_T_1010025.flac',\n",
       "  'LA_T_1027268.flac',\n",
       "  'LA_T_1035039.flac',\n",
       "  'LA_T_1026727.flac',\n",
       "  'LA_T_1033159.flac',\n",
       "  'LA_T_1017386.flac',\n",
       "  'LA_T_1007914.flac',\n",
       "  'LA_T_1703395.flac',\n",
       "  'LA_T_1012583.flac',\n",
       "  'LA_T_1030559.flac',\n",
       "  'LA_T_1006715.flac',\n",
       "  'LA_T_1007283.flac',\n",
       "  'LA_T_1276960.flac',\n",
       "  'LA_T_1007217.flac',\n",
       "  'LA_T_1003665.flac',\n",
       "  'LA_T_1033197.flac',\n",
       "  'LA_T_1017036.flac'],\n",
       " ['LA_T_1023546.flac',\n",
       "  'LA_T_1010949.flac',\n",
       "  'LA_T_1021310.flac',\n",
       "  'LA_T_1007408.flac',\n",
       "  'LA_T_1022551.flac',\n",
       "  'LA_T_1032064.flac',\n",
       "  'LA_T_1018227.flac',\n",
       "  'LA_T_1014341.flac',\n",
       "  'LA_T_1001114.flac',\n",
       "  'LA_T_1034923.flac',\n",
       "  'LA_T_1024889.flac',\n",
       "  'LA_T_1029184.flac',\n",
       "  'LA_T_1026765.flac',\n",
       "  'LA_T_1034308.flac',\n",
       "  'LA_T_1013597.flac',\n",
       "  'LA_T_1012129.flac',\n",
       "  'LA_T_1026006.flac',\n",
       "  'LA_T_1016062.flac',\n",
       "  'LA_T_1001169.flac',\n",
       "  'LA_T_1032598.flac',\n",
       "  'LA_T_1000406.flac',\n",
       "  'LA_T_1007615.flac',\n",
       "  'LA_T_1015917.flac',\n",
       "  'LA_T_9411527.flac',\n",
       "  'LA_T_1021789.flac'],\n",
       " ['LA_T_1016803.flac',\n",
       "  'LA_T_1004644.flac',\n",
       "  'LA_T_1013549.flac',\n",
       "  'LA_T_1001718.flac',\n",
       "  'LA_T_1034552.flac',\n",
       "  'LA_T_1017249.flac',\n",
       "  'LA_T_1011221.flac',\n",
       "  'LA_T_4795888.flac',\n",
       "  'LA_T_1007571.flac',\n",
       "  'LA_T_1033243.flac',\n",
       "  'LA_T_1031792.flac',\n",
       "  'LA_T_1034416.flac',\n",
       "  'LA_T_1007663.flac',\n",
       "  'LA_T_1030843.flac',\n",
       "  'LA_T_1001871.flac',\n",
       "  'LA_T_1008492.flac',\n",
       "  'LA_T_1032079.flac',\n",
       "  'LA_T_1034027.flac',\n",
       "  'LA_T_1031233.flac',\n",
       "  'LA_T_1033465.flac',\n",
       "  'LA_T_1025525.flac',\n",
       "  'LA_T_1002656.flac',\n",
       "  'LA_T_1025067.flac',\n",
       "  'LA_T_4578643.flac',\n",
       "  'LA_T_1033664.flac']]"
      ]
     },
     "execution_count": 41,
     "metadata": {},
     "output_type": "execute_result"
    }
   ],
   "source": [
    "file_lists = chunks(os.listdir(data_path),25)\n",
    "file_lists"
   ]
  },
  {
   "cell_type": "code",
   "execution_count": 28,
   "metadata": {
    "ExecuteTime": {
     "end_time": "2021-04-02T13:26:43.422384Z",
     "start_time": "2021-04-02T13:26:43.418207Z"
    }
   },
   "outputs": [],
   "source": [
    "def process_sound(filename):\n",
    "    print(filename)"
   ]
  },
  {
   "cell_type": "code",
   "execution_count": 29,
   "metadata": {
    "ExecuteTime": {
     "end_time": "2021-04-02T13:26:44.003626Z",
     "start_time": "2021-04-02T13:26:43.996450Z"
    }
   },
   "outputs": [
    {
     "name": "stdout",
     "output_type": "stream",
     "text": [
      "Number of processors:  4\n"
     ]
    }
   ],
   "source": [
    "print(\"Number of processors: \", mp.cpu_count())"
   ]
  },
  {
   "cell_type": "code",
   "execution_count": 22,
   "metadata": {
    "ExecuteTime": {
     "end_time": "2021-04-02T13:26:20.483997Z",
     "start_time": "2021-04-02T13:23:31.012736Z"
    }
   },
   "outputs": [
    {
     "ename": "KeyboardInterrupt",
     "evalue": "",
     "output_type": "error",
     "traceback": [
      "\u001b[0;31m---------------------------------------------------------------------------\u001b[0m",
      "\u001b[0;31mKeyboardInterrupt\u001b[0m                         Traceback (most recent call last)",
      "\u001b[0;32m<ipython-input-22-8fe2952b0b36>\u001b[0m in \u001b[0;36m<module>\u001b[0;34m\u001b[0m\n\u001b[1;32m      1\u001b[0m \u001b[0mpool\u001b[0m \u001b[0;34m=\u001b[0m \u001b[0mmp\u001b[0m\u001b[0;34m.\u001b[0m\u001b[0mPool\u001b[0m\u001b[0;34m(\u001b[0m\u001b[0mmp\u001b[0m\u001b[0;34m.\u001b[0m\u001b[0mcpu_count\u001b[0m\u001b[0;34m(\u001b[0m\u001b[0;34m)\u001b[0m\u001b[0;34m)\u001b[0m\u001b[0;34m\u001b[0m\u001b[0;34m\u001b[0m\u001b[0m\n\u001b[1;32m      2\u001b[0m \u001b[0mfile_lists\u001b[0m \u001b[0;34m=\u001b[0m \u001b[0mchunks\u001b[0m\u001b[0;34m(\u001b[0m\u001b[0mos\u001b[0m\u001b[0;34m.\u001b[0m\u001b[0mlistdir\u001b[0m\u001b[0;34m(\u001b[0m\u001b[0mdata_path\u001b[0m\u001b[0;34m)\u001b[0m\u001b[0;34m,\u001b[0m\u001b[0;36m2\u001b[0m\u001b[0;34m)\u001b[0m\u001b[0;34m\u001b[0m\u001b[0;34m\u001b[0m\u001b[0m\n\u001b[0;32m----> 3\u001b[0;31m \u001b[0mresults\u001b[0m \u001b[0;34m=\u001b[0m \u001b[0mpool\u001b[0m\u001b[0;34m.\u001b[0m\u001b[0mmap\u001b[0m\u001b[0;34m(\u001b[0m\u001b[0mprocess_sound\u001b[0m\u001b[0;34m,\u001b[0m \u001b[0;34m[\u001b[0m\u001b[0mrow\u001b[0m \u001b[0;32mfor\u001b[0m \u001b[0mrow\u001b[0m \u001b[0;32min\u001b[0m \u001b[0mfile_lists\u001b[0m\u001b[0;34m]\u001b[0m\u001b[0;34m)\u001b[0m\u001b[0;34m\u001b[0m\u001b[0;34m\u001b[0m\u001b[0m\n\u001b[0m\u001b[1;32m      4\u001b[0m \u001b[0;34m\u001b[0m\u001b[0m\n\u001b[1;32m      5\u001b[0m \u001b[0mpool\u001b[0m\u001b[0;34m.\u001b[0m\u001b[0mclose\u001b[0m\u001b[0;34m(\u001b[0m\u001b[0;34m)\u001b[0m\u001b[0;34m\u001b[0m\u001b[0;34m\u001b[0m\u001b[0m\n",
      "\u001b[0;32m~/opt/anaconda3/lib/python3.8/multiprocessing/pool.py\u001b[0m in \u001b[0;36mmap\u001b[0;34m(self, func, iterable, chunksize)\u001b[0m\n\u001b[1;32m    362\u001b[0m         \u001b[0;32min\u001b[0m \u001b[0ma\u001b[0m \u001b[0mlist\u001b[0m \u001b[0mthat\u001b[0m \u001b[0;32mis\u001b[0m \u001b[0mreturned\u001b[0m\u001b[0;34m.\u001b[0m\u001b[0;34m\u001b[0m\u001b[0;34m\u001b[0m\u001b[0m\n\u001b[1;32m    363\u001b[0m         '''\n\u001b[0;32m--> 364\u001b[0;31m         \u001b[0;32mreturn\u001b[0m \u001b[0mself\u001b[0m\u001b[0;34m.\u001b[0m\u001b[0m_map_async\u001b[0m\u001b[0;34m(\u001b[0m\u001b[0mfunc\u001b[0m\u001b[0;34m,\u001b[0m \u001b[0miterable\u001b[0m\u001b[0;34m,\u001b[0m \u001b[0mmapstar\u001b[0m\u001b[0;34m,\u001b[0m \u001b[0mchunksize\u001b[0m\u001b[0;34m)\u001b[0m\u001b[0;34m.\u001b[0m\u001b[0mget\u001b[0m\u001b[0;34m(\u001b[0m\u001b[0;34m)\u001b[0m\u001b[0;34m\u001b[0m\u001b[0;34m\u001b[0m\u001b[0m\n\u001b[0m\u001b[1;32m    365\u001b[0m \u001b[0;34m\u001b[0m\u001b[0m\n\u001b[1;32m    366\u001b[0m     \u001b[0;32mdef\u001b[0m \u001b[0mstarmap\u001b[0m\u001b[0;34m(\u001b[0m\u001b[0mself\u001b[0m\u001b[0;34m,\u001b[0m \u001b[0mfunc\u001b[0m\u001b[0;34m,\u001b[0m \u001b[0miterable\u001b[0m\u001b[0;34m,\u001b[0m \u001b[0mchunksize\u001b[0m\u001b[0;34m=\u001b[0m\u001b[0;32mNone\u001b[0m\u001b[0;34m)\u001b[0m\u001b[0;34m:\u001b[0m\u001b[0;34m\u001b[0m\u001b[0;34m\u001b[0m\u001b[0m\n",
      "\u001b[0;32m~/opt/anaconda3/lib/python3.8/multiprocessing/pool.py\u001b[0m in \u001b[0;36mget\u001b[0;34m(self, timeout)\u001b[0m\n\u001b[1;32m    763\u001b[0m \u001b[0;34m\u001b[0m\u001b[0m\n\u001b[1;32m    764\u001b[0m     \u001b[0;32mdef\u001b[0m \u001b[0mget\u001b[0m\u001b[0;34m(\u001b[0m\u001b[0mself\u001b[0m\u001b[0;34m,\u001b[0m \u001b[0mtimeout\u001b[0m\u001b[0;34m=\u001b[0m\u001b[0;32mNone\u001b[0m\u001b[0;34m)\u001b[0m\u001b[0;34m:\u001b[0m\u001b[0;34m\u001b[0m\u001b[0;34m\u001b[0m\u001b[0m\n\u001b[0;32m--> 765\u001b[0;31m         \u001b[0mself\u001b[0m\u001b[0;34m.\u001b[0m\u001b[0mwait\u001b[0m\u001b[0;34m(\u001b[0m\u001b[0mtimeout\u001b[0m\u001b[0;34m)\u001b[0m\u001b[0;34m\u001b[0m\u001b[0;34m\u001b[0m\u001b[0m\n\u001b[0m\u001b[1;32m    766\u001b[0m         \u001b[0;32mif\u001b[0m \u001b[0;32mnot\u001b[0m \u001b[0mself\u001b[0m\u001b[0;34m.\u001b[0m\u001b[0mready\u001b[0m\u001b[0;34m(\u001b[0m\u001b[0;34m)\u001b[0m\u001b[0;34m:\u001b[0m\u001b[0;34m\u001b[0m\u001b[0;34m\u001b[0m\u001b[0m\n\u001b[1;32m    767\u001b[0m             \u001b[0;32mraise\u001b[0m \u001b[0mTimeoutError\u001b[0m\u001b[0;34m\u001b[0m\u001b[0;34m\u001b[0m\u001b[0m\n",
      "\u001b[0;32m~/opt/anaconda3/lib/python3.8/multiprocessing/pool.py\u001b[0m in \u001b[0;36mwait\u001b[0;34m(self, timeout)\u001b[0m\n\u001b[1;32m    760\u001b[0m \u001b[0;34m\u001b[0m\u001b[0m\n\u001b[1;32m    761\u001b[0m     \u001b[0;32mdef\u001b[0m \u001b[0mwait\u001b[0m\u001b[0;34m(\u001b[0m\u001b[0mself\u001b[0m\u001b[0;34m,\u001b[0m \u001b[0mtimeout\u001b[0m\u001b[0;34m=\u001b[0m\u001b[0;32mNone\u001b[0m\u001b[0;34m)\u001b[0m\u001b[0;34m:\u001b[0m\u001b[0;34m\u001b[0m\u001b[0;34m\u001b[0m\u001b[0m\n\u001b[0;32m--> 762\u001b[0;31m         \u001b[0mself\u001b[0m\u001b[0;34m.\u001b[0m\u001b[0m_event\u001b[0m\u001b[0;34m.\u001b[0m\u001b[0mwait\u001b[0m\u001b[0;34m(\u001b[0m\u001b[0mtimeout\u001b[0m\u001b[0;34m)\u001b[0m\u001b[0;34m\u001b[0m\u001b[0;34m\u001b[0m\u001b[0m\n\u001b[0m\u001b[1;32m    763\u001b[0m \u001b[0;34m\u001b[0m\u001b[0m\n\u001b[1;32m    764\u001b[0m     \u001b[0;32mdef\u001b[0m \u001b[0mget\u001b[0m\u001b[0;34m(\u001b[0m\u001b[0mself\u001b[0m\u001b[0;34m,\u001b[0m \u001b[0mtimeout\u001b[0m\u001b[0;34m=\u001b[0m\u001b[0;32mNone\u001b[0m\u001b[0;34m)\u001b[0m\u001b[0;34m:\u001b[0m\u001b[0;34m\u001b[0m\u001b[0;34m\u001b[0m\u001b[0m\n",
      "\u001b[0;32m~/opt/anaconda3/lib/python3.8/threading.py\u001b[0m in \u001b[0;36mwait\u001b[0;34m(self, timeout)\u001b[0m\n\u001b[1;32m    556\u001b[0m             \u001b[0msignaled\u001b[0m \u001b[0;34m=\u001b[0m \u001b[0mself\u001b[0m\u001b[0;34m.\u001b[0m\u001b[0m_flag\u001b[0m\u001b[0;34m\u001b[0m\u001b[0;34m\u001b[0m\u001b[0m\n\u001b[1;32m    557\u001b[0m             \u001b[0;32mif\u001b[0m \u001b[0;32mnot\u001b[0m \u001b[0msignaled\u001b[0m\u001b[0;34m:\u001b[0m\u001b[0;34m\u001b[0m\u001b[0;34m\u001b[0m\u001b[0m\n\u001b[0;32m--> 558\u001b[0;31m                 \u001b[0msignaled\u001b[0m \u001b[0;34m=\u001b[0m \u001b[0mself\u001b[0m\u001b[0;34m.\u001b[0m\u001b[0m_cond\u001b[0m\u001b[0;34m.\u001b[0m\u001b[0mwait\u001b[0m\u001b[0;34m(\u001b[0m\u001b[0mtimeout\u001b[0m\u001b[0;34m)\u001b[0m\u001b[0;34m\u001b[0m\u001b[0;34m\u001b[0m\u001b[0m\n\u001b[0m\u001b[1;32m    559\u001b[0m             \u001b[0;32mreturn\u001b[0m \u001b[0msignaled\u001b[0m\u001b[0;34m\u001b[0m\u001b[0;34m\u001b[0m\u001b[0m\n\u001b[1;32m    560\u001b[0m \u001b[0;34m\u001b[0m\u001b[0m\n",
      "\u001b[0;32m~/opt/anaconda3/lib/python3.8/threading.py\u001b[0m in \u001b[0;36mwait\u001b[0;34m(self, timeout)\u001b[0m\n\u001b[1;32m    300\u001b[0m         \u001b[0;32mtry\u001b[0m\u001b[0;34m:\u001b[0m    \u001b[0;31m# restore state no matter what (e.g., KeyboardInterrupt)\u001b[0m\u001b[0;34m\u001b[0m\u001b[0;34m\u001b[0m\u001b[0m\n\u001b[1;32m    301\u001b[0m             \u001b[0;32mif\u001b[0m \u001b[0mtimeout\u001b[0m \u001b[0;32mis\u001b[0m \u001b[0;32mNone\u001b[0m\u001b[0;34m:\u001b[0m\u001b[0;34m\u001b[0m\u001b[0;34m\u001b[0m\u001b[0m\n\u001b[0;32m--> 302\u001b[0;31m                 \u001b[0mwaiter\u001b[0m\u001b[0;34m.\u001b[0m\u001b[0macquire\u001b[0m\u001b[0;34m(\u001b[0m\u001b[0;34m)\u001b[0m\u001b[0;34m\u001b[0m\u001b[0;34m\u001b[0m\u001b[0m\n\u001b[0m\u001b[1;32m    303\u001b[0m                 \u001b[0mgotit\u001b[0m \u001b[0;34m=\u001b[0m \u001b[0;32mTrue\u001b[0m\u001b[0;34m\u001b[0m\u001b[0;34m\u001b[0m\u001b[0m\n\u001b[1;32m    304\u001b[0m             \u001b[0;32melse\u001b[0m\u001b[0;34m:\u001b[0m\u001b[0;34m\u001b[0m\u001b[0;34m\u001b[0m\u001b[0m\n",
      "\u001b[0;31mKeyboardInterrupt\u001b[0m: "
     ]
    }
   ],
   "source": [
    "pool = mp.Pool(mp.cpu_count())\n",
    "file_lists = chunks(os.listdir(data_path),2)\n",
    "results = pool.map(process_sound, [row for row in file_lists])\n",
    "\n",
    "pool.close()\n"
   ]
  },
  {
   "cell_type": "code",
   "execution_count": 31,
   "metadata": {
    "ExecuteTime": {
     "end_time": "2021-04-03T05:37:08.601126Z",
     "start_time": "2021-04-03T05:37:08.597874Z"
    }
   },
   "outputs": [],
   "source": [
    "import pickle"
   ]
  },
  {
   "cell_type": "code",
   "execution_count": 44,
   "metadata": {
    "ExecuteTime": {
     "end_time": "2021-04-03T06:23:16.494232Z",
     "start_time": "2021-04-03T06:23:16.335330Z"
    }
   },
   "outputs": [],
   "source": []
  },
  {
   "cell_type": "code",
   "execution_count": 36,
   "metadata": {
    "ExecuteTime": {
     "end_time": "2021-04-03T05:44:07.927434Z",
     "start_time": "2021-04-03T05:44:07.885335Z"
    }
   },
   "outputs": [],
   "source": [
    "label_path = '/Users/asimadnan/Desktop/Mres/ASVSPOOF_DATA/LA/ASVspoof2019_LA_cm_protocols/ASVspoof2019.LA.cm.train.trn.txt'\n",
    "data_path = '/Users/asimadnan/Desktop/Mres/ASVSPOOF_DATA/LA/ASVspoof2019_LA_train/sample_train'\n",
    "filename2label = {}\n",
    "for line in open(label_path):\n",
    "    line = line.split()\n",
    "    filename, label = line[1], line[-1]\n",
    "    filename2label[filename] = label"
   ]
  },
  {
   "cell_type": "code",
   "execution_count": 51,
   "metadata": {
    "ExecuteTime": {
     "end_time": "2021-04-03T06:26:19.054165Z",
     "start_time": "2021-04-03T06:26:19.043342Z"
    }
   },
   "outputs": [
    {
     "data": {
      "text/plain": [
       "tuple"
      ]
     },
     "execution_count": 51,
     "metadata": {},
     "output_type": "execute_result"
    }
   ],
   "source": [
    "type(data[0][0])"
   ]
  },
  {
   "cell_type": "code",
   "execution_count": 53,
   "metadata": {
    "ExecuteTime": {
     "end_time": "2021-04-03T06:27:27.770532Z",
     "start_time": "2021-04-03T06:27:27.761323Z"
    }
   },
   "outputs": [
    {
     "data": {
      "text/plain": [
       "100"
      ]
     },
     "execution_count": 53,
     "metadata": {},
     "output_type": "execute_result"
    }
   ],
   "source": [
    "flatten = lambda t: [item for data in t for item in data]\n"
   ]
  },
  {
   "cell_type": "code",
   "execution_count": 6,
   "metadata": {
    "ExecuteTime": {
     "end_time": "2021-04-04T02:58:03.749663Z",
     "start_time": "2021-04-04T02:57:32.167748Z"
    }
   },
   "outputs": [
    {
     "name": "stdout",
     "output_type": "stream",
     "text": [
      "[[-6.60349393e+02 -7.04826919e+02 -7.37667327e+02 ... -1.38257954e+00\n",
      "  -1.40581155e+00 -1.43238604e+00]\n",
      " [ 1.73128343e+01  1.83007115e+01  1.90021203e+01 ... -3.14679500e+00\n",
      "  -3.19922428e+00 -3.25932885e+00]\n",
      " [ 6.07230954e+00  6.45861601e+00  6.72785897e+00 ... -4.10284074e+00\n",
      "  -4.17225011e+00 -4.25176133e+00]\n",
      " ...\n",
      " [ 2.31367291e-04  2.03143421e-04  1.69412470e-04 ... -3.61784554e-07\n",
      "   3.91199248e-08  4.72176060e-07]\n",
      " [-2.47204460e-04 -2.42253376e-04 -2.30251962e-04 ... -2.77792685e-07\n",
      "   6.56057836e-08  4.31017543e-07]\n",
      " [ 2.02410597e-04  2.21681108e-04  2.30305178e-04 ... -2.67332414e-07\n",
      "   4.79241801e-09  2.93597385e-07]]\n",
      "[[-15.13938347 -28.60180613  -0.71545291 ...  16.44492649   9.83964958\n",
      "   -1.35974847]\n",
      " [-14.99706422 -28.77221369  -2.35061034 ...  20.12482742  11.86167896\n",
      "   -0.28109699]\n",
      " [-14.94785585 -27.43157864   0.30984831 ...  17.06328375   8.83545859\n",
      "   -1.35583969]\n",
      " ...\n",
      " [ -2.21038863  12.56346488 -24.70194791 ...  21.82673051  -8.058702\n",
      "  -12.97937352]\n",
      " [ -2.49971906  12.35054516 -22.93988269 ...  21.34473787   0.81568537\n",
      "   -5.70848496]\n",
      " [ -2.8237278   11.62921752 -19.72608443 ...  22.98930808   0.68859821\n",
      "   -8.39614702]]\n",
      "spoof\n",
      "LA_D_2776056\n"
     ]
    }
   ],
   "source": [
    "data = pickle.load(open('/Users/asimadnan/Desktop/Mres/Experiments/testfiles/la_dev_mfcc_cqcc.pkl','rb'))\n",
    "for feat_cqcc, feat_mfcc, label, filename in data:\n",
    "    # feature selection\n",
    "    print(feat_cqcc)\n",
    "    print(feat_mfcc)\n",
    "    print(label)\n",
    "    print(filename)\n",
    "    break"
   ]
  },
  {
   "cell_type": "code",
   "execution_count": 7,
   "metadata": {
    "ExecuteTime": {
     "end_time": "2021-04-04T03:00:15.697603Z",
     "start_time": "2021-04-04T03:00:15.637360Z"
    }
   },
   "outputs": [],
   "source": [
    "# chunk size 25, total time = 74 sec"
   ]
  },
  {
   "cell_type": "code",
   "execution_count": 8,
   "metadata": {
    "ExecuteTime": {
     "end_time": "2021-04-04T03:01:10.834766Z",
     "start_time": "2021-04-04T03:01:10.786799Z"
    }
   },
   "outputs": [
    {
     "data": {
      "text/plain": [
       "24986"
      ]
     },
     "execution_count": 8,
     "metadata": {},
     "output_type": "execute_result"
    }
   ],
   "source": [
    "len(data)"
   ]
  },
  {
   "cell_type": "code",
   "execution_count": 9,
   "metadata": {
    "ExecuteTime": {
     "end_time": "2021-04-04T03:02:03.891021Z",
     "start_time": "2021-04-04T03:02:03.863125Z"
    }
   },
   "outputs": [
    {
     "data": {
      "text/plain": [
       "0.5192455293456736"
      ]
     },
     "execution_count": 9,
     "metadata": {},
     "output_type": "execute_result"
    }
   ],
   "source": [
    "12973.868796231/24986"
   ]
  },
  {
   "cell_type": "code",
   "execution_count": 62,
   "metadata": {
    "ExecuteTime": {
     "end_time": "2021-04-03T06:39:12.145932Z",
     "start_time": "2021-04-03T06:39:12.137665Z"
    }
   },
   "outputs": [
    {
     "data": {
      "text/plain": [
       "[[2, 5]]"
      ]
     },
     "execution_count": 62,
     "metadata": {},
     "output_type": "execute_result"
    }
   ],
   "source": [
    "time_list = []\n",
    "time_list.append([2,5])\n",
    "time_list"
   ]
  },
  {
   "cell_type": "code",
   "execution_count": 65,
   "metadata": {
    "ExecuteTime": {
     "end_time": "2021-04-03T08:10:17.658549Z",
     "start_time": "2021-04-03T08:10:17.602783Z"
    }
   },
   "outputs": [
    {
     "name": "stdout",
     "output_type": "stream",
     "text": [
      "total_files, Input Chunk Size, total Chunks, total time\n"
     ]
    },
    {
     "data": {
      "text/plain": [
       "[[100, 2, 50, 62.678468432],\n",
       " [100, 4, 25, 70.29705011499999],\n",
       " [100, 6, 17, 68.383582563],\n",
       " [100, 8, 13, 72.17383657099998],\n",
       " [100, 10, 10, 78.09945650700001],\n",
       " [100, 12, 9, 76.57388660999999],\n",
       " [100, 14, 8, 76.59905989499998],\n",
       " [100, 16, 7, 76.56350377800004],\n",
       " [100, 18, 6, 76.64314643],\n",
       " [100, 20, 5, 83.150412673],\n",
       " [100, 22, 5, 79.01533577499993],\n",
       " [100, 24, 5, 84.58491776400001],\n",
       " [100, 26, 4, 86.48939740499998],\n",
       " [100, 28, 4, 87.91821308599992],\n",
       " [100, 30, 4, 80.50912069700007],\n",
       " [100, 32, 4, 95.53424700999994],\n",
       " [100, 34, 3, 109.93023481399996],\n",
       " [100, 36, 3, 90.16819629600013],\n",
       " [100, 38, 3, 99.56177691300013],\n",
       " [100, 40, 3, 149.62133563899988],\n",
       " [100, 42, 3, 135.55788136900014],\n",
       " [100, 44, 3, 76.08604159900005],\n",
       " [100, 46, 3, 73.35683923800002],\n",
       " [100, 48, 3, 76.672087036]]"
      ]
     },
     "execution_count": 65,
     "metadata": {},
     "output_type": "execute_result"
    }
   ],
   "source": [
    "print('total_files,','Input Chunk Size,','total Chunks,','total time')\n",
    "timeee = [[100, 2, 50, 62.678468432], [100, 4, 25, 70.29705011499999], [100, 6, 17, 68.383582563], [100, 8, 13, 72.17383657099998], [100, 10, 10, 78.09945650700001], [100, 12, 9, 76.57388660999999], [100, 14, 8, 76.59905989499998], [100, 16, 7, 76.56350377800004], [100, 18, 6, 76.64314643], [100, 20, 5, 83.150412673], [100, 22, 5, 79.01533577499993], [100, 24, 5, 84.58491776400001], [100, 26, 4, 86.48939740499998], [100, 28, 4, 87.91821308599992], [100, 30, 4, 80.50912069700007], [100, 32, 4, 95.53424700999994], [100, 34, 3, 109.93023481399996], [100, 36, 3, 90.16819629600013], [100, 38, 3, 99.56177691300013], [100, 40, 3, 149.62133563899988], [100, 42, 3, 135.55788136900014], [100, 44, 3, 76.08604159900005], [100, 46, 3, 73.35683923800002], [100, 48, 3, 76.672087036]]\n",
    "[[100, 2, 50, 62.678468432], [100, 4, 25, 70.29705011499999], [100, 6, 17, 68.383582563], [100, 8, 13, 72.17383657099998], [100, 10, 10, 78.09945650700001], [100, 12, 9, 76.57388660999999], [100, 14, 8, 76.59905989499998], [100, 16, 7, 76.56350377800004], [100, 18, 6, 76.64314643], [100, 20, 5, 83.150412673], [100, 22, 5, 79.01533577499993], [100, 24, 5, 84.58491776400001], [100, 26, 4, 86.48939740499998], [100, 28, 4, 87.91821308599992], [100, 30, 4, 80.50912069700007], [100, 32, 4, 95.53424700999994], [100, 34, 3, 109.93023481399996], [100, 36, 3, 90.16819629600013], [100, 38, 3, 99.56177691300013], [100, 40, 3, 149.62133563899988], [100, 42, 3, 135.55788136900014], [100, 44, 3, 76.08604159900005], [100, 46, 3, 73.35683923800002], [100, 48, 3, 76.672087036]]\n",
    "\n",
    "\n"
   ]
  },
  {
   "cell_type": "code",
   "execution_count": 19,
   "metadata": {
    "ExecuteTime": {
     "end_time": "2021-04-04T05:10:20.075393Z",
     "start_time": "2021-04-04T05:10:20.071235Z"
    }
   },
   "outputs": [],
   "source": [
    "data_sample = '/Users/asimadnan/Desktop/Mres/Experiments/testfiles/04-04-2021_15-09_dev_1.pkl'"
   ]
  },
  {
   "cell_type": "code",
   "execution_count": 20,
   "metadata": {
    "ExecuteTime": {
     "end_time": "2021-04-04T05:10:21.189756Z",
     "start_time": "2021-04-04T05:10:21.180360Z"
    }
   },
   "outputs": [],
   "source": [
    "def extract_feature(pkl_path,feature_type):\n",
    "    max_len = 50  # 1.25 seconds  # check the timesteps of cqcc and mfcc \n",
    "    X = []\n",
    "    y = []\n",
    "    i=0\n",
    "    with open(pkl_path, 'rb') as infile:\n",
    "        data = pickle.load(infile)\n",
    "        for feat_cqcc, feat_mfcc, label,filename in data:\n",
    "            features = []\n",
    "            feature_block = ''\n",
    "            \n",
    "            if feature_type == 'mfcc':\n",
    "                feature_block = feat_mfcc\n",
    "            elif feature_type == 'cqcc':\n",
    "                feature_block = feat_cqcc\n",
    "\n",
    "\n",
    "            if len(feature_block) > max_len:\n",
    "                features = feature_block[:max_len]\n",
    "            elif len(feature_block) < max_len:\n",
    "                features = np.concatenate((feature_block, np.array([[0.]*num_dim]*(max_len-len(feature_block)))), axis=0)\n",
    "            print(i)\n",
    "            i+=1\n",
    "            X.append(features.reshape(-1))\n",
    "            y.append([label,filename])\n",
    "            return X,y\n",
    "\n",
    "\n",
    "\n"
   ]
  },
  {
   "cell_type": "code",
   "execution_count": 21,
   "metadata": {
    "ExecuteTime": {
     "end_time": "2021-04-04T05:10:21.962482Z",
     "start_time": "2021-04-04T05:10:21.948812Z"
    }
   },
   "outputs": [],
   "source": [
    "X,y = extract_feature(data_sample,'cqcc')"
   ]
  },
  {
   "cell_type": "code",
   "execution_count": 23,
   "metadata": {
    "ExecuteTime": {
     "end_time": "2021-04-04T05:10:28.323729Z",
     "start_time": "2021-04-04T05:10:28.316880Z"
    }
   },
   "outputs": [
    {
     "data": {
      "text/plain": [
       "1"
      ]
     },
     "execution_count": 23,
     "metadata": {},
     "output_type": "execute_result"
    }
   ],
   "source": [
    "len(X)"
   ]
  },
  {
   "cell_type": "code",
   "execution_count": 31,
   "metadata": {
    "ExecuteTime": {
     "end_time": "2021-04-04T05:12:12.486795Z",
     "start_time": "2021-04-04T05:12:12.474840Z"
    }
   },
   "outputs": [],
   "source": [
    "max_len = 50  # 1.25 seconds  # check the timesteps of cqcc and mfcc \n",
    "X = []\n",
    "y = []\n",
    "with open(data_sample, 'rb') as infile:\n",
    "    data = pickle.load(infile)\n",
    "    for feat_cqcc, feat_mfcc, label,filename in data:\n",
    "        cqcc = []\n",
    "        if len(feat_cqcc) > max_len:\n",
    "            cqcc = feat_cqcc[:max_len]\n",
    "        elif len(feat_cqcc) < max_len:\n",
    "            cqcc = np.concatenate((feat_cqcc, np.array([[0.]*num_dim]*(max_len-len(feat_cqcc)))), axis=0)\n",
    "        X.append(cqcc.reshape(-1))\n",
    "#         y.append(label,filename)\n",
    "    #print(data)"
   ]
  },
  {
   "cell_type": "code",
   "execution_count": 33,
   "metadata": {
    "ExecuteTime": {
     "end_time": "2021-04-04T05:12:25.329900Z",
     "start_time": "2021-04-04T05:12:25.323634Z"
    }
   },
   "outputs": [
    {
     "data": {
      "text/plain": [
       "7"
      ]
     },
     "execution_count": 33,
     "metadata": {},
     "output_type": "execute_result"
    }
   ],
   "source": [
    "len(X)"
   ]
  },
  {
   "cell_type": "code",
   "execution_count": null,
   "metadata": {},
   "outputs": [],
   "source": []
  }
 ],
 "metadata": {
  "kernelspec": {
   "display_name": "Python [conda env:root] *",
   "language": "python",
   "name": "conda-root-py"
  },
  "language_info": {
   "codemirror_mode": {
    "name": "ipython",
    "version": 3
   },
   "file_extension": ".py",
   "mimetype": "text/x-python",
   "name": "python",
   "nbconvert_exporter": "python",
   "pygments_lexer": "ipython3",
   "version": "3.8.5"
  },
  "varInspector": {
   "cols": {
    "lenName": 16,
    "lenType": 16,
    "lenVar": 40
   },
   "kernels_config": {
    "python": {
     "delete_cmd_postfix": "",
     "delete_cmd_prefix": "del ",
     "library": "var_list.py",
     "varRefreshCmd": "print(var_dic_list())"
    },
    "r": {
     "delete_cmd_postfix": ") ",
     "delete_cmd_prefix": "rm(",
     "library": "var_list.r",
     "varRefreshCmd": "cat(var_dic_list()) "
    }
   },
   "types_to_exclude": [
    "module",
    "function",
    "builtin_function_or_method",
    "instance",
    "_Feature"
   ],
   "window_display": false
  }
 },
 "nbformat": 4,
 "nbformat_minor": 4
}
