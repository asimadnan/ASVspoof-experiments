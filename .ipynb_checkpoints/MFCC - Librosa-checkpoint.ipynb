{
 "cells": [
  {
   "cell_type": "code",
   "execution_count": 270,
   "metadata": {
    "ExecuteTime": {
     "end_time": "2021-03-13T08:03:19.324804Z",
     "start_time": "2021-03-13T08:03:19.227973Z"
    }
   },
   "outputs": [],
   "source": [
    "import librosa\n",
    "import numpy as np\n",
    "import pandas as pd\n",
    "import os\n",
    "from sklearn.mixture import GaussianMixture as GMM\n",
    "import csv\n",
    "import time\n",
    "import multiprocessing\n",
    "\n",
    "import pickle\n"
   ]
  },
  {
   "cell_type": "code",
   "execution_count": 243,
   "metadata": {
    "ExecuteTime": {
     "end_time": "2021-03-13T05:06:01.052983Z",
     "start_time": "2021-03-13T05:06:01.050600Z"
    }
   },
   "outputs": [],
   "source": [
    "train_files = '/Users/asimadnan/Desktop/Mres/ASVSPOOF_DATA/LA/ASVspoof2019_LA_train/sample_train/'\n",
    "train_labels = '/Users/asimadnan/Desktop/Mres/ASVSPOOF_DATA/LA/ASVspoof2019_LA_cm_protocols/ASVspoof2019.LA.cm.train.trn.txt'\n",
    "\n"
   ]
  },
  {
   "cell_type": "code",
   "execution_count": 187,
   "metadata": {
    "ExecuteTime": {
     "end_time": "2021-03-12T11:26:30.997263Z",
     "start_time": "2021-03-12T11:26:30.954237Z"
    }
   },
   "outputs": [],
   "source": [
    "la_train_labels = pd.read_csv(train_labels, delimiter = \" \", header=None)\n",
    "la_train_labels.columns = ['SPEAKER_ID','AUDIO_FILE_NAME','ENVIRONMENT_ID','ATTACK_ID','KEY']\n",
    "\n"
   ]
  },
  {
   "cell_type": "code",
   "execution_count": 224,
   "metadata": {
    "ExecuteTime": {
     "end_time": "2021-03-13T03:08:35.112590Z",
     "start_time": "2021-03-13T03:08:35.055522Z"
    }
   },
   "outputs": [
    {
     "data": {
      "text/plain": [
       "(25380, 5)"
      ]
     },
     "execution_count": 224,
     "metadata": {},
     "output_type": "execute_result"
    }
   ],
   "source": [
    "la_train_labels.shape"
   ]
  },
  {
   "cell_type": "code",
   "execution_count": 331,
   "metadata": {
    "ExecuteTime": {
     "end_time": "2021-03-13T08:36:32.217620Z",
     "start_time": "2021-03-13T08:36:32.211349Z"
    }
   },
   "outputs": [],
   "source": [
    "train_mfcc = '/Users/asimadnan/Desktop/Mres/ASVSPOOF_DATA/LA/ASVspoof2019_LA_train/mfcc_v1.csv'\n",
    "dev_mfcc = '/Users/asimadnan/Desktop/Mres/ASVSPOOF_DATA/LA/ASVspoof2019_LA_dev/mfcc_v1.csv'\n",
    "eval_mfcc = '/Users/asimadnan/Desktop/Mres/ASVSPOOF_DATA/LA/ASVspoof2019_LA_eval/mfcc_v1.csv'\n",
    "\n",
    "dev_labels = '/Users/asimadnan/Desktop/Mres/ASVSPOOF_DATA/LA/ASVspoof2019_LA_cm_protocols/ASVspoof2019.LA.cm.eval.trl.txt'\n",
    "eval_labels = '/Users/asimadnan/Desktop/Mres/ASVSPOOF_DATA/LA/ASVspoof2019_LA_cm_protocols/ASVspoof2019.LA.cm.eval.trl.txt'"
   ]
  },
  {
   "cell_type": "code",
   "execution_count": 232,
   "metadata": {
    "ExecuteTime": {
     "end_time": "2021-03-13T03:13:24.611095Z",
     "start_time": "2021-03-13T03:13:16.345854Z"
    }
   },
   "outputs": [
    {
     "data": {
      "text/plain": [
       "(25380, 602)"
      ]
     },
     "execution_count": 232,
     "metadata": {},
     "output_type": "execute_result"
    }
   ],
   "source": [
    "la_train = pd.read_csv(train_mfcc, delimiter = \",\", header=None)\n",
    "la_train.shape"
   ]
  },
  {
   "cell_type": "code",
   "execution_count": 233,
   "metadata": {
    "ExecuteTime": {
     "end_time": "2021-03-13T03:13:42.525161Z",
     "start_time": "2021-03-13T03:13:33.614871Z"
    }
   },
   "outputs": [
    {
     "data": {
      "text/plain": [
       "(24844, 602)"
      ]
     },
     "execution_count": 233,
     "metadata": {},
     "output_type": "execute_result"
    }
   ],
   "source": [
    "la_dev = pd.read_csv(dev_mfcc, delimiter = \",\", header=None)\n",
    "la_dev.shape"
   ]
  },
  {
   "cell_type": "code",
   "execution_count": 234,
   "metadata": {
    "ExecuteTime": {
     "end_time": "2021-03-13T03:14:28.352230Z",
     "start_time": "2021-03-13T03:14:10.801761Z"
    }
   },
   "outputs": [
    {
     "data": {
      "text/plain": [
       "(17873, 602)"
      ]
     },
     "execution_count": 234,
     "metadata": {},
     "output_type": "execute_result"
    }
   ],
   "source": [
    "la_eval = pd.read_csv(eval_mfcc, delimiter = \",\", header=None)\n",
    "la_eval.shape"
   ]
  },
  {
   "cell_type": "code",
   "execution_count": 238,
   "metadata": {
    "ExecuteTime": {
     "end_time": "2021-03-13T04:01:47.315050Z",
     "start_time": "2021-03-13T04:01:47.169012Z"
    }
   },
   "outputs": [
    {
     "data": {
      "text/plain": [
       "(71237, 5)"
      ]
     },
     "execution_count": 238,
     "metadata": {},
     "output_type": "execute_result"
    }
   ],
   "source": [
    "dev_labels = pd.read_csv(dev_labels, delimiter = \" \", header=None)\n",
    "dev_labels.shape"
   ]
  },
  {
   "cell_type": "code",
   "execution_count": 332,
   "metadata": {
    "ExecuteTime": {
     "end_time": "2021-03-13T08:36:39.606835Z",
     "start_time": "2021-03-13T08:36:39.479245Z"
    }
   },
   "outputs": [
    {
     "data": {
      "text/html": [
       "<div>\n",
       "<style scoped>\n",
       "    .dataframe tbody tr th:only-of-type {\n",
       "        vertical-align: middle;\n",
       "    }\n",
       "\n",
       "    .dataframe tbody tr th {\n",
       "        vertical-align: top;\n",
       "    }\n",
       "\n",
       "    .dataframe thead th {\n",
       "        text-align: right;\n",
       "    }\n",
       "</style>\n",
       "<table border=\"1\" class=\"dataframe\">\n",
       "  <thead>\n",
       "    <tr style=\"text-align: right;\">\n",
       "      <th></th>\n",
       "      <th>0</th>\n",
       "      <th>1</th>\n",
       "      <th>2</th>\n",
       "      <th>3</th>\n",
       "      <th>4</th>\n",
       "    </tr>\n",
       "  </thead>\n",
       "  <tbody>\n",
       "    <tr>\n",
       "      <th>0</th>\n",
       "      <td>LA_0039</td>\n",
       "      <td>LA_E_2834763</td>\n",
       "      <td>-</td>\n",
       "      <td>A11</td>\n",
       "      <td>spoof</td>\n",
       "    </tr>\n",
       "    <tr>\n",
       "      <th>1</th>\n",
       "      <td>LA_0014</td>\n",
       "      <td>LA_E_8877452</td>\n",
       "      <td>-</td>\n",
       "      <td>A14</td>\n",
       "      <td>spoof</td>\n",
       "    </tr>\n",
       "    <tr>\n",
       "      <th>2</th>\n",
       "      <td>LA_0040</td>\n",
       "      <td>LA_E_6828287</td>\n",
       "      <td>-</td>\n",
       "      <td>A16</td>\n",
       "      <td>spoof</td>\n",
       "    </tr>\n",
       "    <tr>\n",
       "      <th>3</th>\n",
       "      <td>LA_0022</td>\n",
       "      <td>LA_E_6977360</td>\n",
       "      <td>-</td>\n",
       "      <td>A09</td>\n",
       "      <td>spoof</td>\n",
       "    </tr>\n",
       "    <tr>\n",
       "      <th>4</th>\n",
       "      <td>LA_0031</td>\n",
       "      <td>LA_E_5932896</td>\n",
       "      <td>-</td>\n",
       "      <td>A13</td>\n",
       "      <td>spoof</td>\n",
       "    </tr>\n",
       "    <tr>\n",
       "      <th>...</th>\n",
       "      <td>...</td>\n",
       "      <td>...</td>\n",
       "      <td>...</td>\n",
       "      <td>...</td>\n",
       "      <td>...</td>\n",
       "    </tr>\n",
       "    <tr>\n",
       "      <th>71232</th>\n",
       "      <td>LA_0004</td>\n",
       "      <td>LA_E_1665632</td>\n",
       "      <td>-</td>\n",
       "      <td>-</td>\n",
       "      <td>bonafide</td>\n",
       "    </tr>\n",
       "    <tr>\n",
       "      <th>71233</th>\n",
       "      <td>LA_0038</td>\n",
       "      <td>LA_E_5085671</td>\n",
       "      <td>-</td>\n",
       "      <td>A09</td>\n",
       "      <td>spoof</td>\n",
       "    </tr>\n",
       "    <tr>\n",
       "      <th>71234</th>\n",
       "      <td>LA_0012</td>\n",
       "      <td>LA_E_4926022</td>\n",
       "      <td>-</td>\n",
       "      <td>A16</td>\n",
       "      <td>spoof</td>\n",
       "    </tr>\n",
       "    <tr>\n",
       "      <th>71235</th>\n",
       "      <td>LA_0052</td>\n",
       "      <td>LA_E_2894498</td>\n",
       "      <td>-</td>\n",
       "      <td>-</td>\n",
       "      <td>bonafide</td>\n",
       "    </tr>\n",
       "    <tr>\n",
       "      <th>71236</th>\n",
       "      <td>LA_0009</td>\n",
       "      <td>LA_E_4689563</td>\n",
       "      <td>-</td>\n",
       "      <td>A19</td>\n",
       "      <td>spoof</td>\n",
       "    </tr>\n",
       "  </tbody>\n",
       "</table>\n",
       "<p>71237 rows × 5 columns</p>\n",
       "</div>"
      ],
      "text/plain": [
       "             0             1  2    3         4\n",
       "0      LA_0039  LA_E_2834763  -  A11     spoof\n",
       "1      LA_0014  LA_E_8877452  -  A14     spoof\n",
       "2      LA_0040  LA_E_6828287  -  A16     spoof\n",
       "3      LA_0022  LA_E_6977360  -  A09     spoof\n",
       "4      LA_0031  LA_E_5932896  -  A13     spoof\n",
       "...        ...           ... ..  ...       ...\n",
       "71232  LA_0004  LA_E_1665632  -    -  bonafide\n",
       "71233  LA_0038  LA_E_5085671  -  A09     spoof\n",
       "71234  LA_0012  LA_E_4926022  -  A16     spoof\n",
       "71235  LA_0052  LA_E_2894498  -    -  bonafide\n",
       "71236  LA_0009  LA_E_4689563  -  A19     spoof\n",
       "\n",
       "[71237 rows x 5 columns]"
      ]
     },
     "execution_count": 332,
     "metadata": {},
     "output_type": "execute_result"
    }
   ],
   "source": [
    "eval_labels = pd.read_csv(eval_labels, delimiter = \" \", header=None)\n",
    "eval_labels.shape\n",
    "eval_labels"
   ]
  },
  {
   "cell_type": "code",
   "execution_count": null,
   "metadata": {},
   "outputs": [],
   "source": [
    "# GMM"
   ]
  },
  {
   "cell_type": "code",
   "execution_count": 258,
   "metadata": {
    "ExecuteTime": {
     "end_time": "2021-03-13T06:44:29.192718Z",
     "start_time": "2021-03-13T06:44:29.085876Z"
    }
   },
   "outputs": [],
   "source": [
    "la_train\n",
    "X = la_train.drop([0,601], axis=1)\n",
    "y = la_train[[601]]\n"
   ]
  },
  {
   "cell_type": "code",
   "execution_count": 259,
   "metadata": {
    "ExecuteTime": {
     "end_time": "2021-03-13T06:44:41.498108Z",
     "start_time": "2021-03-13T06:44:41.491629Z"
    }
   },
   "outputs": [],
   "source": [
    "gmm_bon = GMM(n_components = 144, covariance_type='diag',n_init = 50) # min shape[0] = 135 # max = 1112\n",
    "# 2580 1112 337.8709302325581 289\n",
    "gmm_sp  = GMM(n_components = 144, covariance_type='diag',n_init = 50)  # min shape[0] = 64  # max = 1318"
   ]
  },
  {
   "cell_type": "code",
   "execution_count": 260,
   "metadata": {
    "ExecuteTime": {
     "end_time": "2021-03-13T06:44:58.691275Z",
     "start_time": "2021-03-13T06:44:58.686370Z"
    }
   },
   "outputs": [],
   "source": [
    "bondata = []\n",
    "spdata = []\n",
    "feature_type = 'mfcc'\n",
    "dest = '/Users/asimadnan/Desktop/Mres/Experiments/Models/'"
   ]
  },
  {
   "cell_type": "code",
   "execution_count": 263,
   "metadata": {
    "ExecuteTime": {
     "end_time": "2021-03-13T06:47:01.908936Z",
     "start_time": "2021-03-13T06:47:01.526710Z"
    }
   },
   "outputs": [],
   "source": [
    "bondata = la_train.loc[la_train[601] == 'bonafide']\n",
    "spdata = la_train.loc[la_train[601] == 'spoof']\n",
    "\n",
    "bondata = bondata.drop([0,601], axis=1)\n",
    "spdata = spdata.drop([0,601], axis=1)\n"
   ]
  },
  {
   "cell_type": "code",
   "execution_count": 268,
   "metadata": {
    "ExecuteTime": {
     "end_time": "2021-03-13T06:48:21.128507Z",
     "start_time": "2021-03-13T06:48:20.496970Z"
    }
   },
   "outputs": [],
   "source": [
    "Xbon = np.vstack(bondata.values)\n",
    "Xsp = np.vstack(spdata.values)"
   ]
  },
  {
   "cell_type": "code",
   "execution_count": 269,
   "metadata": {
    "ExecuteTime": {
     "end_time": "2021-03-13T07:58:36.479589Z",
     "start_time": "2021-03-13T06:48:52.577815Z"
    }
   },
   "outputs": [
    {
     "name": "stdout",
     "output_type": "stream",
     "text": [
      "Bon gmm trained, time spend: 414.075621843338\n",
      "Sp gmm trained, time spend: 3769.10390996933\n"
     ]
    },
    {
     "ename": "NameError",
     "evalue": "name 'pickle' is not defined",
     "output_type": "error",
     "traceback": [
      "\u001b[0;31m---------------------------------------------------------------------------\u001b[0m",
      "\u001b[0;31mNameError\u001b[0m                                 Traceback (most recent call last)",
      "\u001b[0;32m<ipython-input-269-054377ee510d>\u001b[0m in \u001b[0;36m<module>\u001b[0;34m\u001b[0m\n\u001b[1;32m      7\u001b[0m \u001b[0mprint\u001b[0m\u001b[0;34m(\u001b[0m\u001b[0;34m'Sp gmm trained, time spend:'\u001b[0m\u001b[0;34m,\u001b[0m \u001b[0mtime\u001b[0m\u001b[0;34m.\u001b[0m\u001b[0mtime\u001b[0m\u001b[0;34m(\u001b[0m\u001b[0;34m)\u001b[0m \u001b[0;34m-\u001b[0m \u001b[0mt0\u001b[0m\u001b[0;34m)\u001b[0m\u001b[0;34m\u001b[0m\u001b[0;34m\u001b[0m\u001b[0m\n\u001b[1;32m      8\u001b[0m \u001b[0;34m\u001b[0m\u001b[0m\n\u001b[0;32m----> 9\u001b[0;31m \u001b[0mpickle\u001b[0m\u001b[0;34m.\u001b[0m\u001b[0mdump\u001b[0m\u001b[0;34m(\u001b[0m\u001b[0mgmm_bon\u001b[0m\u001b[0;34m,\u001b[0m \u001b[0mopen\u001b[0m\u001b[0;34m(\u001b[0m\u001b[0mdest\u001b[0m \u001b[0;34m+\u001b[0m \u001b[0;34m'bon_train'\u001b[0m \u001b[0;34m+\u001b[0m \u001b[0;34m'.gmm'\u001b[0m\u001b[0;34m,\u001b[0m \u001b[0;34m'wb'\u001b[0m\u001b[0;34m)\u001b[0m\u001b[0;34m)\u001b[0m\u001b[0;34m\u001b[0m\u001b[0;34m\u001b[0m\u001b[0m\n\u001b[0m\u001b[1;32m     10\u001b[0m \u001b[0mpickle\u001b[0m\u001b[0;34m.\u001b[0m\u001b[0mdump\u001b[0m\u001b[0;34m(\u001b[0m\u001b[0mgmm_sp\u001b[0m\u001b[0;34m,\u001b[0m \u001b[0mopen\u001b[0m\u001b[0;34m(\u001b[0m\u001b[0mdest\u001b[0m \u001b[0;34m+\u001b[0m \u001b[0;34m'sp_train'\u001b[0m \u001b[0;34m+\u001b[0m \u001b[0;34m'.gmm'\u001b[0m\u001b[0;34m,\u001b[0m \u001b[0;34m'wb'\u001b[0m\u001b[0;34m)\u001b[0m\u001b[0;34m)\u001b[0m\u001b[0;34m\u001b[0m\u001b[0;34m\u001b[0m\u001b[0m\n\u001b[1;32m     11\u001b[0m \u001b[0mprint\u001b[0m\u001b[0;34m(\u001b[0m\u001b[0;34m'GMM model created'\u001b[0m\u001b[0;34m)\u001b[0m\u001b[0;34m\u001b[0m\u001b[0;34m\u001b[0m\u001b[0m\n",
      "\u001b[0;31mNameError\u001b[0m: name 'pickle' is not defined"
     ]
    }
   ],
   "source": [
    "t0 = time.time()\n",
    "gmm_bon.fit(Xbon)\n",
    "print('Bon gmm trained, time spend:', time.time() - t0)\n",
    "\n",
    "t0 = time.time()\n",
    "gmm_sp.fit(Xsp)\n",
    "print('Sp gmm trained, time spend:', time.time() - t0)\n",
    "\n",
    "pickle.dump(gmm_bon, open(dest + 'bon_train' + '.gmm', 'wb'))\n",
    "pickle.dump(gmm_sp, open(dest + 'sp_train' + '.gmm', 'wb'))\n",
    "print('GMM model created')"
   ]
  },
  {
   "cell_type": "code",
   "execution_count": 271,
   "metadata": {
    "ExecuteTime": {
     "end_time": "2021-03-13T08:03:31.208642Z",
     "start_time": "2021-03-13T08:03:31.140796Z"
    }
   },
   "outputs": [
    {
     "name": "stdout",
     "output_type": "stream",
     "text": [
      "GMM model created\n"
     ]
    }
   ],
   "source": [
    "pickle.dump(gmm_bon, open(dest + 'bon_train' + '.gmm', 'wb'))\n",
    "pickle.dump(gmm_sp, open(dest + 'sp_train' + '.gmm', 'wb'))\n",
    "print('GMM model created')"
   ]
  },
  {
   "cell_type": "code",
   "execution_count": 279,
   "metadata": {
    "ExecuteTime": {
     "end_time": "2021-03-13T08:08:51.919245Z",
     "start_time": "2021-03-13T08:08:51.753661Z"
    }
   },
   "outputs": [],
   "source": [
    "bondata_eval = la_eval.loc[la_eval[601] == 'bonafide']\n",
    "spdata_eval = la_eval.loc[la_eval[601] == 'spoof']\n",
    "\n",
    "bondata_eval = bondata_eval.drop([0,601], axis=1).values\n",
    "spdata_eval = spdata_eval.drop([0,601], axis=1).values"
   ]
  },
  {
   "cell_type": "code",
   "execution_count": 285,
   "metadata": {
    "ExecuteTime": {
     "end_time": "2021-03-13T08:11:21.556366Z",
     "start_time": "2021-03-13T08:11:21.532891Z"
    }
   },
   "outputs": [
    {
     "data": {
      "text/plain": [
       "-1800.6367789795681"
      ]
     },
     "execution_count": 285,
     "metadata": {},
     "output_type": "execute_result"
    }
   ],
   "source": [
    "gmm_bon.score([bondata_eval[0]])"
   ]
  },
  {
   "cell_type": "code",
   "execution_count": 288,
   "metadata": {
    "ExecuteTime": {
     "end_time": "2021-03-13T08:15:06.919562Z",
     "start_time": "2021-03-13T08:13:32.120190Z"
    }
   },
   "outputs": [
    {
     "name": "stdout",
     "output_type": "stream",
     "text": [
      "Evaluating Bon sample at 0.0 %\n",
      "Evaluating Bon sample at 2.7262813522355507 %\n",
      "Evaluating Bon sample at 5.452562704471101 %\n",
      "Evaluating Bon sample at 8.178844056706652 %\n",
      "Evaluating Bon sample at 10.905125408942203 %\n",
      "Evaluating Bon sample at 13.631406761177752 %\n",
      "Evaluating Bon sample at 16.357688113413303 %\n",
      "Evaluating Bon sample at 19.083969465648856 %\n",
      "Evaluating Bon sample at 21.810250817884405 %\n",
      "Evaluating Bon sample at 24.53653217011996 %\n",
      "Evaluating Bon sample at 27.262813522355504 %\n",
      "Evaluating Bon sample at 29.98909487459106 %\n",
      "Evaluating Bon sample at 32.715376226826606 %\n",
      "Evaluating Bon sample at 35.44165757906216 %\n",
      "Evaluating Bon sample at 38.16793893129771 %\n",
      "Evaluating Bon sample at 40.89422028353326 %\n",
      "Evaluating Bon sample at 43.62050163576881 %\n",
      "Evaluating Bon sample at 46.346782988004364 %\n",
      "Evaluating Bon sample at 49.07306434023992 %\n",
      "Evaluating Bon sample at 51.79934569247546 %\n",
      "Evaluating Bon sample at 54.52562704471101 %\n",
      "Evaluating Bon sample at 57.25190839694656 %\n",
      "Evaluating Bon sample at 59.97818974918212 %\n",
      "Evaluating Bon sample at 62.70447110141767 %\n",
      "Evaluating Bon sample at 65.43075245365321 %\n",
      "Evaluating Bon sample at 68.15703380588877 %\n",
      "Evaluating Bon sample at 70.88331515812432 %\n",
      "Evaluating Bon sample at 73.60959651035986 %\n",
      "Evaluating Bon sample at 76.33587786259542 %\n",
      "Evaluating Bon sample at 79.06215921483097 %\n",
      "Evaluating Bon sample at 81.78844056706652 %\n",
      "Evaluating Bon sample at 84.51472191930208 %\n",
      "Evaluating Bon sample at 87.24100327153762 %\n",
      "Evaluating Bon sample at 89.96728462377317 %\n",
      "Evaluating Bon sample at 92.69356597600873 %\n",
      "Evaluating Bon sample at 95.41984732824427 %\n",
      "Evaluating Bon sample at 98.14612868047983 %\n",
      "Evaluating Sp sample at 0.0 %\n",
      "Evaluating Sp sample at 0.31174013342477713 %\n",
      "Evaluating Sp sample at 0.6234802668495543 %\n",
      "Evaluating Sp sample at 0.9352204002743314 %\n",
      "Evaluating Sp sample at 1.2469605336991085 %\n",
      "Evaluating Sp sample at 1.5587006671238854 %\n",
      "Evaluating Sp sample at 1.8704408005486628 %\n",
      "Evaluating Sp sample at 2.1821809339734397 %\n",
      "Evaluating Sp sample at 2.493921067398217 %\n",
      "Evaluating Sp sample at 2.805661200822994 %\n",
      "Evaluating Sp sample at 3.117401334247771 %\n",
      "Evaluating Sp sample at 3.4291414676725482 %\n",
      "Evaluating Sp sample at 3.7408816010973256 %\n",
      "Evaluating Sp sample at 4.052621734522102 %\n",
      "Evaluating Sp sample at 4.364361867946879 %\n",
      "Evaluating Sp sample at 4.676102001371656 %\n",
      "Evaluating Sp sample at 4.987842134796434 %\n",
      "Evaluating Sp sample at 5.2995822682212115 %\n",
      "Evaluating Sp sample at 5.611322401645988 %\n",
      "Evaluating Sp sample at 5.923062535070765 %\n",
      "Evaluating Sp sample at 6.234802668495542 %\n",
      "Evaluating Sp sample at 6.546542801920319 %\n",
      "Evaluating Sp sample at 6.8582829353450965 %\n",
      "Evaluating Sp sample at 7.170023068769874 %\n",
      "Evaluating Sp sample at 7.481763202194651 %\n",
      "Evaluating Sp sample at 7.7935033356194285 %\n",
      "Evaluating Sp sample at 8.105243469044204 %\n",
      "Evaluating Sp sample at 8.416983602468981 %\n",
      "Evaluating Sp sample at 8.728723735893759 %\n",
      "Evaluating Sp sample at 9.040463869318536 %\n",
      "Evaluating Sp sample at 9.352204002743312 %\n",
      "Evaluating Sp sample at 9.663944136168091 %\n",
      "Evaluating Sp sample at 9.975684269592868 %\n",
      "Evaluating Sp sample at 10.287424403017646 %\n",
      "Evaluating Sp sample at 10.599164536442423 %\n",
      "Evaluating Sp sample at 10.910904669867199 %\n",
      "Evaluating Sp sample at 11.222644803291976 %\n",
      "Evaluating Sp sample at 11.534384936716753 %\n",
      "Evaluating Sp sample at 11.84612507014153 %\n",
      "Evaluating Sp sample at 12.157865203566306 %\n",
      "Evaluating Sp sample at 12.469605336991084 %\n",
      "Evaluating Sp sample at 12.78134547041586 %\n",
      "Evaluating Sp sample at 13.093085603840638 %\n",
      "Evaluating Sp sample at 13.404825737265416 %\n",
      "Evaluating Sp sample at 13.716565870690193 %\n",
      "Evaluating Sp sample at 14.02830600411497 %\n",
      "Evaluating Sp sample at 14.340046137539748 %\n",
      "Evaluating Sp sample at 14.651786270964523 %\n",
      "Evaluating Sp sample at 14.963526404389302 %\n",
      "Evaluating Sp sample at 15.275266537814078 %\n",
      "Evaluating Sp sample at 15.587006671238857 %\n",
      "Evaluating Sp sample at 15.898746804663633 %\n",
      "Evaluating Sp sample at 16.21048693808841 %\n",
      "Evaluating Sp sample at 16.52222707151319 %\n",
      "Evaluating Sp sample at 16.833967204937963 %\n",
      "Evaluating Sp sample at 17.14570733836274 %\n",
      "Evaluating Sp sample at 17.457447471787518 %\n",
      "Evaluating Sp sample at 17.769187605212295 %\n",
      "Evaluating Sp sample at 18.080927738637072 %\n",
      "Evaluating Sp sample at 18.39266787206185 %\n",
      "Evaluating Sp sample at 18.704408005486624 %\n",
      "Evaluating Sp sample at 19.016148138911404 %\n",
      "Evaluating Sp sample at 19.327888272336182 %\n",
      "Evaluating Sp sample at 19.63962840576096 %\n",
      "Evaluating Sp sample at 19.951368539185736 %\n",
      "Evaluating Sp sample at 20.26310867261051 %\n",
      "Evaluating Sp sample at 20.57484880603529 %\n",
      "Evaluating Sp sample at 20.886588939460065 %\n",
      "Evaluating Sp sample at 21.198329072884846 %\n",
      "Evaluating Sp sample at 21.51006920630962 %\n",
      "Evaluating Sp sample at 21.821809339734397 %\n",
      "Evaluating Sp sample at 22.133549473159174 %\n",
      "Evaluating Sp sample at 22.445289606583952 %\n",
      "Evaluating Sp sample at 22.757029740008726 %\n",
      "Evaluating Sp sample at 23.068769873433506 %\n",
      "Evaluating Sp sample at 23.380510006858284 %\n",
      "Evaluating Sp sample at 23.69225014028306 %\n",
      "Evaluating Sp sample at 24.00399027370784 %\n",
      "Evaluating Sp sample at 24.315730407132612 %\n",
      "Evaluating Sp sample at 24.627470540557393 %\n",
      "Evaluating Sp sample at 24.939210673982167 %\n",
      "Evaluating Sp sample at 25.250950807406948 %\n",
      "Evaluating Sp sample at 25.56269094083172 %\n",
      "Evaluating Sp sample at 25.8744310742565 %\n",
      "Evaluating Sp sample at 26.186171207681276 %\n",
      "Evaluating Sp sample at 26.497911341106057 %\n",
      "Evaluating Sp sample at 26.80965147453083 %\n",
      "Evaluating Sp sample at 27.12139160795561 %\n",
      "Evaluating Sp sample at 27.433131741380386 %\n",
      "Evaluating Sp sample at 27.74487187480516 %\n",
      "Evaluating Sp sample at 28.05661200822994 %\n",
      "Evaluating Sp sample at 28.368352141654718 %\n",
      "Evaluating Sp sample at 28.680092275079495 %\n",
      "Evaluating Sp sample at 28.99183240850427 %\n",
      "Evaluating Sp sample at 29.303572541929046 %\n",
      "Evaluating Sp sample at 29.615312675353827 %\n",
      "Evaluating Sp sample at 29.927052808778605 %\n",
      "Evaluating Sp sample at 30.23879294220338 %\n",
      "Evaluating Sp sample at 30.550533075628156 %\n",
      "Evaluating Sp sample at 30.862273209052933 %\n",
      "Evaluating Sp sample at 31.174013342477714 %\n",
      "Evaluating Sp sample at 31.485753475902488 %\n",
      "Evaluating Sp sample at 31.797493609327265 %\n",
      "Evaluating Sp sample at 32.10923374275204 %\n",
      "Evaluating Sp sample at 32.42097387617682 %\n",
      "Evaluating Sp sample at 32.732714009601594 %\n",
      "Evaluating Sp sample at 33.04445414302638 %\n",
      "Evaluating Sp sample at 33.35619427645115 %\n",
      "Evaluating Sp sample at 33.667934409875926 %\n",
      "Evaluating Sp sample at 33.9796745433007 %\n",
      "Evaluating Sp sample at 34.29141467672548 %\n",
      "Evaluating Sp sample at 34.60315481015026 %\n",
      "Evaluating Sp sample at 34.914894943575035 %\n",
      "Evaluating Sp sample at 35.22663507699981 %\n",
      "Evaluating Sp sample at 35.53837521042459 %\n",
      "Evaluating Sp sample at 35.85011534384937 %\n",
      "Evaluating Sp sample at 36.161855477274145 %\n",
      "Evaluating Sp sample at 36.47359561069892 %\n",
      "Evaluating Sp sample at 36.7853357441237 %\n",
      "Evaluating Sp sample at 37.09707587754848 %\n",
      "Evaluating Sp sample at 37.40881601097325 %\n",
      "Evaluating Sp sample at 37.72055614439803 %\n",
      "Evaluating Sp sample at 38.03229627782281 %\n",
      "Evaluating Sp sample at 38.344036411247586 %\n",
      "Evaluating Sp sample at 38.655776544672364 %\n",
      "Evaluating Sp sample at 38.967516678097134 %\n",
      "Evaluating Sp sample at 39.27925681152192 %\n",
      "Evaluating Sp sample at 39.590996944946696 %\n",
      "Evaluating Sp sample at 39.90273707837147 %\n",
      "Evaluating Sp sample at 40.21447721179624 %\n",
      "Evaluating Sp sample at 40.52621734522102 %\n",
      "Evaluating Sp sample at 40.837957478645805 %\n",
      "Evaluating Sp sample at 41.14969761207058 %\n",
      "Evaluating Sp sample at 41.46143774549535 %\n",
      "Evaluating Sp sample at 41.77317787892013 %\n",
      "Evaluating Sp sample at 42.08491801234491 %\n",
      "Evaluating Sp sample at 42.39665814576969 %\n",
      "Evaluating Sp sample at 42.70839827919446 %\n",
      "Evaluating Sp sample at 43.02013841261924 %\n",
      "Evaluating Sp sample at 43.33187854604402 %\n",
      "Evaluating Sp sample at 43.643618679468794 %\n",
      "Evaluating Sp sample at 43.95535881289357 %\n",
      "Evaluating Sp sample at 44.26709894631835 %\n",
      "Evaluating Sp sample at 44.578839079743126 %\n",
      "Evaluating Sp sample at 44.890579213167904 %\n",
      "Evaluating Sp sample at 45.20231934659268 %\n",
      "Evaluating Sp sample at 45.51405948001745 %\n",
      "Evaluating Sp sample at 45.825799613442236 %\n"
     ]
    },
    {
     "name": "stdout",
     "output_type": "stream",
     "text": [
      "Evaluating Sp sample at 46.13753974686701 %\n",
      "Evaluating Sp sample at 46.44927988029179 %\n",
      "Evaluating Sp sample at 46.76102001371657 %\n",
      "Evaluating Sp sample at 47.07276014714134 %\n",
      "Evaluating Sp sample at 47.38450028056612 %\n",
      "Evaluating Sp sample at 47.6962404139909 %\n",
      "Evaluating Sp sample at 48.00798054741568 %\n",
      "Evaluating Sp sample at 48.31972068084045 %\n",
      "Evaluating Sp sample at 48.631460814265225 %\n",
      "Evaluating Sp sample at 48.94320094769001 %\n",
      "Evaluating Sp sample at 49.25494108111479 %\n",
      "Evaluating Sp sample at 49.56668121453956 %\n",
      "Evaluating Sp sample at 49.878421347964334 %\n",
      "Evaluating Sp sample at 50.19016148138912 %\n",
      "Evaluating Sp sample at 50.501901614813896 %\n",
      "Evaluating Sp sample at 50.813641748238666 %\n",
      "Evaluating Sp sample at 51.12538188166344 %\n",
      "Evaluating Sp sample at 51.43712201508822 %\n",
      "Evaluating Sp sample at 51.748862148513 %\n",
      "Evaluating Sp sample at 52.060602281937776 %\n",
      "Evaluating Sp sample at 52.37234241536255 %\n",
      "Evaluating Sp sample at 52.68408254878732 %\n",
      "Evaluating Sp sample at 52.995822682212115 %\n",
      "Evaluating Sp sample at 53.307562815636885 %\n",
      "Evaluating Sp sample at 53.61930294906166 %\n",
      "Evaluating Sp sample at 53.93104308248644 %\n",
      "Evaluating Sp sample at 54.24278321591122 %\n",
      "Evaluating Sp sample at 54.554523349335994 %\n",
      "Evaluating Sp sample at 54.86626348276077 %\n",
      "Evaluating Sp sample at 55.17800361618554 %\n",
      "Evaluating Sp sample at 55.48974374961032 %\n",
      "Evaluating Sp sample at 55.8014838830351 %\n",
      "Evaluating Sp sample at 56.11322401645988 %\n",
      "Evaluating Sp sample at 56.42496414988466 %\n",
      "Evaluating Sp sample at 56.736704283309436 %\n",
      "Evaluating Sp sample at 57.04844441673421 %\n",
      "Evaluating Sp sample at 57.36018455015899 %\n",
      "Evaluating Sp sample at 57.67192468358376 %\n",
      "Evaluating Sp sample at 57.98366481700854 %\n",
      "Evaluating Sp sample at 58.295404950433316 %\n",
      "Evaluating Sp sample at 58.60714508385809 %\n",
      "Evaluating Sp sample at 58.91888521728287 %\n",
      "Evaluating Sp sample at 59.230625350707655 %\n",
      "Evaluating Sp sample at 59.54236548413243 %\n",
      "Evaluating Sp sample at 59.85410561755721 %\n",
      "Evaluating Sp sample at 60.16584575098199 %\n",
      "Evaluating Sp sample at 60.47758588440676 %\n",
      "Evaluating Sp sample at 60.789326017831534 %\n",
      "Evaluating Sp sample at 61.10106615125631 %\n",
      "Evaluating Sp sample at 61.41280628468109 %\n",
      "Evaluating Sp sample at 61.72454641810587 %\n",
      "Evaluating Sp sample at 62.03628655153064 %\n",
      "Evaluating Sp sample at 62.34802668495543 %\n",
      "Evaluating Sp sample at 62.659766818380206 %\n",
      "Evaluating Sp sample at 62.971506951804976 %\n",
      "Evaluating Sp sample at 63.28324708522975 %\n",
      "Evaluating Sp sample at 63.59498721865453 %\n",
      "Evaluating Sp sample at 63.90672735207931 %\n",
      "Evaluating Sp sample at 64.21846748550408 %\n",
      "Evaluating Sp sample at 64.53020761892886 %\n",
      "Evaluating Sp sample at 64.84194775235363 %\n",
      "Evaluating Sp sample at 65.15368788577841 %\n",
      "Evaluating Sp sample at 65.46542801920319 %\n",
      "Evaluating Sp sample at 65.77716815262798 %\n",
      "Evaluating Sp sample at 66.08890828605276 %\n",
      "Evaluating Sp sample at 66.40064841947752 %\n",
      "Evaluating Sp sample at 66.7123885529023 %\n",
      "Evaluating Sp sample at 67.02412868632707 %\n",
      "Evaluating Sp sample at 67.33586881975185 %\n",
      "Evaluating Sp sample at 67.64760895317663 %\n",
      "Evaluating Sp sample at 67.9593490866014 %\n",
      "Evaluating Sp sample at 68.27108922002618 %\n",
      "Evaluating Sp sample at 68.58282935345096 %\n",
      "Evaluating Sp sample at 68.89456948687574 %\n",
      "Evaluating Sp sample at 69.20630962030052 %\n",
      "Evaluating Sp sample at 69.5180497537253 %\n",
      "Evaluating Sp sample at 69.82978988715007 %\n",
      "Evaluating Sp sample at 70.14153002057485 %\n",
      "Evaluating Sp sample at 70.45327015399963 %\n",
      "Evaluating Sp sample at 70.7650102874244 %\n",
      "Evaluating Sp sample at 71.07675042084918 %\n",
      "Evaluating Sp sample at 71.38849055427396 %\n",
      "Evaluating Sp sample at 71.70023068769873 %\n",
      "Evaluating Sp sample at 72.01197082112351 %\n",
      "Evaluating Sp sample at 72.32371095454829 %\n",
      "Evaluating Sp sample at 72.63545108797307 %\n",
      "Evaluating Sp sample at 72.94719122139784 %\n",
      "Evaluating Sp sample at 73.25893135482262 %\n",
      "Evaluating Sp sample at 73.5706714882474 %\n",
      "Evaluating Sp sample at 73.88241162167218 %\n",
      "Evaluating Sp sample at 74.19415175509695 %\n",
      "Evaluating Sp sample at 74.50589188852173 %\n",
      "Evaluating Sp sample at 74.8176320219465 %\n",
      "Evaluating Sp sample at 75.12937215537129 %\n",
      "Evaluating Sp sample at 75.44111228879606 %\n",
      "Evaluating Sp sample at 75.75285242222084 %\n",
      "Evaluating Sp sample at 76.06459255564562 %\n",
      "Evaluating Sp sample at 76.3763326890704 %\n",
      "Evaluating Sp sample at 76.68807282249517 %\n",
      "Evaluating Sp sample at 76.99981295591995 %\n",
      "Evaluating Sp sample at 77.31155308934473 %\n",
      "Evaluating Sp sample at 77.62329322276949 %\n",
      "Evaluating Sp sample at 77.93503335619427 %\n",
      "Evaluating Sp sample at 78.24677348961904 %\n",
      "Evaluating Sp sample at 78.55851362304384 %\n",
      "Evaluating Sp sample at 78.87025375646861 %\n",
      "Evaluating Sp sample at 79.18199388989339 %\n",
      "Evaluating Sp sample at 79.49373402331817 %\n",
      "Evaluating Sp sample at 79.80547415674295 %\n",
      "Evaluating Sp sample at 80.11721429016771 %\n",
      "Evaluating Sp sample at 80.42895442359249 %\n",
      "Evaluating Sp sample at 80.74069455701726 %\n",
      "Evaluating Sp sample at 81.05243469044204 %\n",
      "Evaluating Sp sample at 81.36417482386682 %\n",
      "Evaluating Sp sample at 81.67591495729161 %\n",
      "Evaluating Sp sample at 81.98765509071639 %\n",
      "Evaluating Sp sample at 82.29939522414116 %\n",
      "Evaluating Sp sample at 82.61113535756593 %\n",
      "Evaluating Sp sample at 82.9228754909907 %\n",
      "Evaluating Sp sample at 83.23461562441548 %\n",
      "Evaluating Sp sample at 83.54635575784026 %\n",
      "Evaluating Sp sample at 83.85809589126504 %\n",
      "Evaluating Sp sample at 84.16983602468981 %\n",
      "Evaluating Sp sample at 84.48157615811459 %\n",
      "Evaluating Sp sample at 84.79331629153938 %\n",
      "Evaluating Sp sample at 85.10505642496415 %\n",
      "Evaluating Sp sample at 85.41679655838892 %\n",
      "Evaluating Sp sample at 85.7285366918137 %\n",
      "Evaluating Sp sample at 86.04027682523848 %\n",
      "Evaluating Sp sample at 86.35201695866326 %\n",
      "Evaluating Sp sample at 86.66375709208803 %\n",
      "Evaluating Sp sample at 86.97549722551281 %\n",
      "Evaluating Sp sample at 87.28723735893759 %\n",
      "Evaluating Sp sample at 87.59897749236237 %\n",
      "Evaluating Sp sample at 87.91071762578714 %\n",
      "Evaluating Sp sample at 88.22245775921192 %\n",
      "Evaluating Sp sample at 88.5341978926367 %\n",
      "Evaluating Sp sample at 88.84593802606148 %\n",
      "Evaluating Sp sample at 89.15767815948625 %\n",
      "Evaluating Sp sample at 89.46941829291103 %\n",
      "Evaluating Sp sample at 89.78115842633581 %\n",
      "Evaluating Sp sample at 90.09289855976058 %\n",
      "Evaluating Sp sample at 90.40463869318536 %\n",
      "Evaluating Sp sample at 90.71637882661014 %\n",
      "Evaluating Sp sample at 91.0281189600349 %\n",
      "Evaluating Sp sample at 91.3398590934597 %\n",
      "Evaluating Sp sample at 91.65159922688447 %\n",
      "Evaluating Sp sample at 91.96333936030925 %\n",
      "Evaluating Sp sample at 92.27507949373403 %\n",
      "Evaluating Sp sample at 92.5868196271588 %\n",
      "Evaluating Sp sample at 92.89855976058358 %\n",
      "Evaluating Sp sample at 93.21029989400836 %\n",
      "Evaluating Sp sample at 93.52204002743314 %\n",
      "Evaluating Sp sample at 93.8337801608579 %\n",
      "Evaluating Sp sample at 94.14552029428268 %\n",
      "Evaluating Sp sample at 94.45726042770747 %\n",
      "Evaluating Sp sample at 94.76900056113224 %\n",
      "Evaluating Sp sample at 95.08074069455702 %\n",
      "Evaluating Sp sample at 95.3924808279818 %\n",
      "Evaluating Sp sample at 95.70422096140658 %\n",
      "Evaluating Sp sample at 96.01596109483135 %\n",
      "Evaluating Sp sample at 96.32770122825612 %\n",
      "Evaluating Sp sample at 96.6394413616809 %\n",
      "Evaluating Sp sample at 96.95118149510567 %\n",
      "Evaluating Sp sample at 97.26292162853045 %\n",
      "Evaluating Sp sample at 97.57466176195524 %\n",
      "Evaluating Sp sample at 97.88640189538002 %\n",
      "Evaluating Sp sample at 98.1981420288048 %\n",
      "Evaluating Sp sample at 98.50988216222957 %\n",
      "Evaluating Sp sample at 98.82162229565435 %\n",
      "Evaluating Sp sample at 99.13336242907911 %\n",
      "Evaluating Sp sample at 99.44510256250389 %\n",
      "Evaluating Sp sample at 99.75684269592867 %\n"
     ]
    }
   ],
   "source": [
    "predb = []\n",
    "preds = []\n",
    "j_bon = len(bondata_eval)\n",
    "k_sp  = len(spdata_eval)\n",
    "\n",
    "for i in range(j_bon):\n",
    "    if (i % 50 == 0):\n",
    "        print('Evaluating Bon sample at',i/j_bon * 100, '%')\n",
    "    X = [bondata_eval[i]]\n",
    "    bscore = gmm_bon.score(X)\n",
    "    sscore = gmm_sp.score(X)\n",
    "\n",
    "    #predb.append(np.exp(bscore)-np.exp(sscore))\n",
    "    predb.append(bscore-sscore)\n",
    "\n",
    "for i in range(k_sp):\n",
    "    if (i % 50 == 0):\n",
    "        print('Evaluating Sp sample at',i/k_sp * 100, '%')\n",
    "    X = [spdata_eval[i]]\n",
    "    bscore = gmm_bon.score(X)\n",
    "    sscore = gmm_sp.score(X)\n",
    "\n",
    "    #preds.append(np.exp(bscore)-np.exp(sscore))\n",
    "    preds.append(bscore-sscore)\n",
    "\n",
    "predb1 = np.asarray(predb)\n",
    "preds1 = np.asarray(preds)\n",
    "\n"
   ]
  },
  {
   "cell_type": "code",
   "execution_count": 297,
   "metadata": {
    "ExecuteTime": {
     "end_time": "2021-03-13T08:21:43.391346Z",
     "start_time": "2021-03-13T08:21:43.288189Z"
    }
   },
   "outputs": [],
   "source": [
    "bondata_eval = la_eval.loc[la_eval[601] == 'bonafide'][[0]]\n",
    "spdata_eval = la_eval.loc[la_eval[601] == 'spoof'][[0]]\n",
    "\n",
    "bonn = np.asarray(predb1)\n",
    "spp = np.asarray(preds1)\n"
   ]
  },
  {
   "cell_type": "code",
   "execution_count": 306,
   "metadata": {
    "ExecuteTime": {
     "end_time": "2021-03-13T08:23:53.828771Z",
     "start_time": "2021-03-13T08:23:53.815401Z"
    }
   },
   "outputs": [],
   "source": [
    "bondata_eval[\"score\"] = bonn\n",
    "spdata_eval[\"score\"] = preds1"
   ]
  },
  {
   "cell_type": "code",
   "execution_count": 307,
   "metadata": {
    "ExecuteTime": {
     "end_time": "2021-03-13T08:24:00.000541Z",
     "start_time": "2021-03-13T08:23:59.989237Z"
    }
   },
   "outputs": [
    {
     "data": {
      "text/html": [
       "<div>\n",
       "<style scoped>\n",
       "    .dataframe tbody tr th:only-of-type {\n",
       "        vertical-align: middle;\n",
       "    }\n",
       "\n",
       "    .dataframe tbody tr th {\n",
       "        vertical-align: top;\n",
       "    }\n",
       "\n",
       "    .dataframe thead th {\n",
       "        text-align: right;\n",
       "    }\n",
       "</style>\n",
       "<table border=\"1\" class=\"dataframe\">\n",
       "  <thead>\n",
       "    <tr style=\"text-align: right;\">\n",
       "      <th></th>\n",
       "      <th>0</th>\n",
       "      <th>score</th>\n",
       "    </tr>\n",
       "  </thead>\n",
       "  <tbody>\n",
       "    <tr>\n",
       "      <th>0</th>\n",
       "      <td>LA_E_7338223</td>\n",
       "      <td>-1827.310830</td>\n",
       "    </tr>\n",
       "    <tr>\n",
       "      <th>1</th>\n",
       "      <td>LA_E_9469091</td>\n",
       "      <td>-2782.358037</td>\n",
       "    </tr>\n",
       "    <tr>\n",
       "      <th>2</th>\n",
       "      <td>LA_E_1788336</td>\n",
       "      <td>-1716.014268</td>\n",
       "    </tr>\n",
       "    <tr>\n",
       "      <th>3</th>\n",
       "      <td>LA_E_6616286</td>\n",
       "      <td>-0.124108</td>\n",
       "    </tr>\n",
       "    <tr>\n",
       "      <th>4</th>\n",
       "      <td>LA_E_1222387</td>\n",
       "      <td>-2280.597529</td>\n",
       "    </tr>\n",
       "  </tbody>\n",
       "</table>\n",
       "</div>"
      ],
      "text/plain": [
       "              0        score\n",
       "0  LA_E_7338223 -1827.310830\n",
       "1  LA_E_9469091 -2782.358037\n",
       "2  LA_E_1788336 -1716.014268\n",
       "3  LA_E_6616286    -0.124108\n",
       "4  LA_E_1222387 -2280.597529"
      ]
     },
     "execution_count": 307,
     "metadata": {},
     "output_type": "execute_result"
    }
   ],
   "source": [
    "spdata_eval.head()"
   ]
  },
  {
   "cell_type": "code",
   "execution_count": 308,
   "metadata": {
    "ExecuteTime": {
     "end_time": "2021-03-13T08:25:32.055609Z",
     "start_time": "2021-03-13T08:25:32.047970Z"
    }
   },
   "outputs": [],
   "source": [
    "final_score = pd.concat([spdata_eval,bondata_eval])"
   ]
  },
  {
   "cell_type": "code",
   "execution_count": 317,
   "metadata": {
    "ExecuteTime": {
     "end_time": "2021-03-13T08:28:30.310475Z",
     "start_time": "2021-03-13T08:28:30.296082Z"
    }
   },
   "outputs": [],
   "source": [
    "y_score = final_score[['score']].values.tolist()"
   ]
  },
  {
   "cell_type": "code",
   "execution_count": 314,
   "metadata": {
    "ExecuteTime": {
     "end_time": "2021-03-13T08:28:07.213830Z",
     "start_time": "2021-03-13T08:28:07.204241Z"
    }
   },
   "outputs": [],
   "source": [
    "y = la_eval[[601]].values.tolist()"
   ]
  },
  {
   "cell_type": "code",
   "execution_count": 325,
   "metadata": {
    "ExecuteTime": {
     "end_time": "2021-03-13T08:30:28.064430Z",
     "start_time": "2021-03-13T08:30:28.060662Z"
    }
   },
   "outputs": [],
   "source": [
    "from sklearn.metrics import roc_auc_score, roc_curve\n",
    "from scipy.optimize import brentq\n",
    "from scipy.interpolate import interp1d\n",
    "\n"
   ]
  },
  {
   "cell_type": "code",
   "execution_count": 326,
   "metadata": {
    "ExecuteTime": {
     "end_time": "2021-03-13T08:30:34.166864Z",
     "start_time": "2021-03-13T08:30:34.053328Z"
    }
   },
   "outputs": [
    {
     "name": "stdout",
     "output_type": "stream",
     "text": [
      "EER 0.4989094874583328\n"
     ]
    }
   ],
   "source": [
    "fpr, tpr, thresholds = roc_curve(y, y_score, pos_label='spoof')\n",
    "eer = brentq(lambda x : 1. - x - interp1d(fpr, tpr)(x), 0., 1.)\n",
    "print ('EER', eer)"
   ]
  },
  {
   "cell_type": "code",
   "execution_count": null,
   "metadata": {},
   "outputs": [],
   "source": [
    "final_score[['score']]"
   ]
  },
  {
   "cell_type": "code",
   "execution_count": null,
   "metadata": {},
   "outputs": [],
   "source": [
    "def eer(model,X,y):\n",
    "    y_score = model.decision_function(X)\n",
    "    fpr, tpr, thresholds = roc_curve(y, y_score, pos_label='spoof')\n",
    "    eer = brentq(lambda x : 1. - x - interp1d(fpr, tpr)(x), 0., 1.)\n",
    "    thresh = interp1d(fpr, thresholds)(eer)\n",
    "    print ('EER', eer)"
   ]
  },
  {
   "cell_type": "code",
   "execution_count": 328,
   "metadata": {
    "ExecuteTime": {
     "end_time": "2021-03-13T08:34:52.956989Z",
     "start_time": "2021-03-13T08:34:52.951400Z"
    }
   },
   "outputs": [],
   "source": [
    "eval_asv_score_path = '/Users/asimadnan/Desktop/Mres/ASVSPOOF_DATA/LA/ASVspoof2019_LA_asv_scores/ASVspoof2019.LA.asv.eval.gi.trl.scores.txt'"
   ]
  },
  {
   "cell_type": "code",
   "execution_count": 329,
   "metadata": {
    "ExecuteTime": {
     "end_time": "2021-03-13T08:35:53.262585Z",
     "start_time": "2021-03-13T08:35:53.156491Z"
    }
   },
   "outputs": [
    {
     "data": {
      "text/html": [
       "<div>\n",
       "<style scoped>\n",
       "    .dataframe tbody tr th:only-of-type {\n",
       "        vertical-align: middle;\n",
       "    }\n",
       "\n",
       "    .dataframe tbody tr th {\n",
       "        vertical-align: top;\n",
       "    }\n",
       "\n",
       "    .dataframe thead th {\n",
       "        text-align: right;\n",
       "    }\n",
       "</style>\n",
       "<table border=\"1\" class=\"dataframe\">\n",
       "  <thead>\n",
       "    <tr style=\"text-align: right;\">\n",
       "      <th></th>\n",
       "      <th>CM_KEY</th>\n",
       "      <th>ASV_KEY</th>\n",
       "      <th>SCORES</th>\n",
       "    </tr>\n",
       "  </thead>\n",
       "  <tbody>\n",
       "    <tr>\n",
       "      <th>0</th>\n",
       "      <td>bonafide</td>\n",
       "      <td>target</td>\n",
       "      <td>7.981530</td>\n",
       "    </tr>\n",
       "    <tr>\n",
       "      <th>1</th>\n",
       "      <td>bonafide</td>\n",
       "      <td>target</td>\n",
       "      <td>22.408420</td>\n",
       "    </tr>\n",
       "    <tr>\n",
       "      <th>2</th>\n",
       "      <td>bonafide</td>\n",
       "      <td>target</td>\n",
       "      <td>25.735920</td>\n",
       "    </tr>\n",
       "    <tr>\n",
       "      <th>3</th>\n",
       "      <td>bonafide</td>\n",
       "      <td>target</td>\n",
       "      <td>26.003140</td>\n",
       "    </tr>\n",
       "    <tr>\n",
       "      <th>4</th>\n",
       "      <td>bonafide</td>\n",
       "      <td>target</td>\n",
       "      <td>3.467947</td>\n",
       "    </tr>\n",
       "    <tr>\n",
       "      <th>...</th>\n",
       "      <td>...</td>\n",
       "      <td>...</td>\n",
       "      <td>...</td>\n",
       "    </tr>\n",
       "    <tr>\n",
       "      <th>102574</th>\n",
       "      <td>A18</td>\n",
       "      <td>spoof</td>\n",
       "      <td>-12.137650</td>\n",
       "    </tr>\n",
       "    <tr>\n",
       "      <th>102575</th>\n",
       "      <td>A19</td>\n",
       "      <td>spoof</td>\n",
       "      <td>2.121193</td>\n",
       "    </tr>\n",
       "    <tr>\n",
       "      <th>102576</th>\n",
       "      <td>A17</td>\n",
       "      <td>spoof</td>\n",
       "      <td>-29.728380</td>\n",
       "    </tr>\n",
       "    <tr>\n",
       "      <th>102577</th>\n",
       "      <td>A18</td>\n",
       "      <td>spoof</td>\n",
       "      <td>-12.865140</td>\n",
       "    </tr>\n",
       "    <tr>\n",
       "      <th>102578</th>\n",
       "      <td>A19</td>\n",
       "      <td>spoof</td>\n",
       "      <td>-7.964767</td>\n",
       "    </tr>\n",
       "  </tbody>\n",
       "</table>\n",
       "<p>102579 rows × 3 columns</p>\n",
       "</div>"
      ],
      "text/plain": [
       "          CM_KEY ASV_KEY     SCORES\n",
       "0       bonafide  target   7.981530\n",
       "1       bonafide  target  22.408420\n",
       "2       bonafide  target  25.735920\n",
       "3       bonafide  target  26.003140\n",
       "4       bonafide  target   3.467947\n",
       "...          ...     ...        ...\n",
       "102574       A18   spoof -12.137650\n",
       "102575       A19   spoof   2.121193\n",
       "102576       A17   spoof -29.728380\n",
       "102577       A18   spoof -12.865140\n",
       "102578       A19   spoof  -7.964767\n",
       "\n",
       "[102579 rows x 3 columns]"
      ]
     },
     "execution_count": 329,
     "metadata": {},
     "output_type": "execute_result"
    }
   ],
   "source": [
    "eval_asv_score = pd.read_csv(eval_asv_score_path, delimiter = \" \", header=None)\n",
    "eval_asv_score.columns = ['CM_KEY','ASV_KEY','SCORES']\n",
    "eval_asv_score"
   ]
  },
  {
   "cell_type": "code",
   "execution_count": 292,
   "metadata": {
    "ExecuteTime": {
     "end_time": "2021-03-13T08:18:32.386279Z",
     "start_time": "2021-03-13T08:18:32.378435Z"
    }
   },
   "outputs": [
    {
     "data": {
      "text/plain": [
       "array([197.98901579,  58.43943915,  32.95567251, ...,  11.24368288,\n",
       "       112.62874853, 103.17562945])"
      ]
     },
     "execution_count": 292,
     "metadata": {},
     "output_type": "execute_result"
    }
   ],
   "source": [
    "len(predb1)\n",
    "len(preds1)\n",
    "predb1"
   ]
  },
  {
   "cell_type": "code",
   "execution_count": 287,
   "metadata": {
    "ExecuteTime": {
     "end_time": "2021-03-13T08:13:18.053795Z",
     "start_time": "2021-03-13T08:13:18.035528Z"
    }
   },
   "outputs": [
    {
     "name": "stdout",
     "output_type": "stream",
     "text": [
      "1288.0 Bon samples were CORRECTLY evaluated out of 1834 samples. Bon_Accuracy =  0.7022900763358778\n",
      "14038.0 Sp samples were CORRECTLY evaluated out of 16039 samples. Sp_Accuracy =  0.8752415986034042\n",
      "Total GMM Classifier Accuracy =  0.8574945448441784\n"
     ]
    }
   ],
   "source": [
    "predb1[predb1 < 0] = 0\n",
    "predb1[predb1 > 0] = 1\n",
    "predbresult1 = np.sum(predb1)\n",
    "print(predbresult1, 'Bon samples were CORRECTLY evaluated out of', j_bon,'samples. Bon_Accuracy = ', predbresult1/j_bon )# 0.7356\n",
    "\n",
    "\n",
    "preds1[preds1 > 0] = 0\n",
    "preds1[preds1 < 0] = 1\n",
    "predsresult = np.sum(preds1)\n",
    "print(predsresult, 'Sp samples were CORRECTLY evaluated out of', k_sp, 'samples. Sp_Accuracy = ', predsresult/k_sp)# 0.4092\n",
    "\n",
    "print('Total GMM Classifier Accuracy = ',(predbresult1 + predsresult)/(j_bon + k_sp))"
   ]
  },
  {
   "cell_type": "code",
   "execution_count": null,
   "metadata": {},
   "outputs": [],
   "source": []
  },
  {
   "cell_type": "code",
   "execution_count": 340,
   "metadata": {
    "ExecuteTime": {
     "end_time": "2021-03-13T08:53:00.888029Z",
     "start_time": "2021-03-13T08:52:59.528024Z"
    }
   },
   "outputs": [
    {
     "data": {
      "text/html": [
       "<div>\n",
       "<style scoped>\n",
       "    .dataframe tbody tr th:only-of-type {\n",
       "        vertical-align: middle;\n",
       "    }\n",
       "\n",
       "    .dataframe tbody tr th {\n",
       "        vertical-align: top;\n",
       "    }\n",
       "\n",
       "    .dataframe thead th {\n",
       "        text-align: right;\n",
       "    }\n",
       "</style>\n",
       "<table border=\"1\" class=\"dataframe\">\n",
       "  <thead>\n",
       "    <tr style=\"text-align: right;\">\n",
       "      <th></th>\n",
       "      <th>AUDIO_FILE_NAME</th>\n",
       "      <th>SCORE</th>\n",
       "      <th>pred</th>\n",
       "    </tr>\n",
       "  </thead>\n",
       "  <tbody>\n",
       "    <tr>\n",
       "      <th>0</th>\n",
       "      <td>LA_E_7338223</td>\n",
       "      <td>-1827.310830</td>\n",
       "      <td>spoof</td>\n",
       "    </tr>\n",
       "    <tr>\n",
       "      <th>1</th>\n",
       "      <td>LA_E_9469091</td>\n",
       "      <td>-2782.358037</td>\n",
       "      <td>spoof</td>\n",
       "    </tr>\n",
       "    <tr>\n",
       "      <th>2</th>\n",
       "      <td>LA_E_1788336</td>\n",
       "      <td>-1716.014268</td>\n",
       "      <td>spoof</td>\n",
       "    </tr>\n",
       "    <tr>\n",
       "      <th>3</th>\n",
       "      <td>LA_E_6616286</td>\n",
       "      <td>-0.124108</td>\n",
       "      <td>spoof</td>\n",
       "    </tr>\n",
       "    <tr>\n",
       "      <th>4</th>\n",
       "      <td>LA_E_1222387</td>\n",
       "      <td>-2280.597529</td>\n",
       "      <td>spoof</td>\n",
       "    </tr>\n",
       "  </tbody>\n",
       "</table>\n",
       "</div>"
      ],
      "text/plain": [
       "  AUDIO_FILE_NAME        SCORE   pred\n",
       "0    LA_E_7338223 -1827.310830  spoof\n",
       "1    LA_E_9469091 -2782.358037  spoof\n",
       "2    LA_E_1788336 -1716.014268  spoof\n",
       "3    LA_E_6616286    -0.124108  spoof\n",
       "4    LA_E_1222387 -2280.597529  spoof"
      ]
     },
     "execution_count": 340,
     "metadata": {},
     "output_type": "execute_result"
    }
   ],
   "source": [
    "final_score.columns = ['AUDIO_FILE_NAME','SCORE']\n",
    "final_score.loc[final_score['SCORE'] > 0, 'pred'] = 'bonafide'\n",
    "final_score.loc[final_score['SCORE'] < 0, 'pred'] = 'spoof'\n",
    "final_score.head()"
   ]
  },
  {
   "cell_type": "code",
   "execution_count": 337,
   "metadata": {
    "ExecuteTime": {
     "end_time": "2021-03-13T08:47:51.614172Z",
     "start_time": "2021-03-13T08:47:51.572524Z"
    }
   },
   "outputs": [
    {
     "data": {
      "text/html": [
       "<div>\n",
       "<style scoped>\n",
       "    .dataframe tbody tr th:only-of-type {\n",
       "        vertical-align: middle;\n",
       "    }\n",
       "\n",
       "    .dataframe tbody tr th {\n",
       "        vertical-align: top;\n",
       "    }\n",
       "\n",
       "    .dataframe thead th {\n",
       "        text-align: right;\n",
       "    }\n",
       "</style>\n",
       "<table border=\"1\" class=\"dataframe\">\n",
       "  <thead>\n",
       "    <tr style=\"text-align: right;\">\n",
       "      <th></th>\n",
       "      <th>SPEAKER_ID</th>\n",
       "      <th>AUDIO_FILE_NAME</th>\n",
       "      <th>ENVIRONMENT_ID</th>\n",
       "      <th>ATTACK_ID</th>\n",
       "      <th>KEY</th>\n",
       "    </tr>\n",
       "  </thead>\n",
       "  <tbody>\n",
       "    <tr>\n",
       "      <th>0</th>\n",
       "      <td>LA_0039</td>\n",
       "      <td>LA_E_2834763</td>\n",
       "      <td>-</td>\n",
       "      <td>A11</td>\n",
       "      <td>spoof</td>\n",
       "    </tr>\n",
       "    <tr>\n",
       "      <th>1</th>\n",
       "      <td>LA_0014</td>\n",
       "      <td>LA_E_8877452</td>\n",
       "      <td>-</td>\n",
       "      <td>A14</td>\n",
       "      <td>spoof</td>\n",
       "    </tr>\n",
       "    <tr>\n",
       "      <th>2</th>\n",
       "      <td>LA_0040</td>\n",
       "      <td>LA_E_6828287</td>\n",
       "      <td>-</td>\n",
       "      <td>A16</td>\n",
       "      <td>spoof</td>\n",
       "    </tr>\n",
       "    <tr>\n",
       "      <th>3</th>\n",
       "      <td>LA_0022</td>\n",
       "      <td>LA_E_6977360</td>\n",
       "      <td>-</td>\n",
       "      <td>A09</td>\n",
       "      <td>spoof</td>\n",
       "    </tr>\n",
       "    <tr>\n",
       "      <th>4</th>\n",
       "      <td>LA_0031</td>\n",
       "      <td>LA_E_5932896</td>\n",
       "      <td>-</td>\n",
       "      <td>A13</td>\n",
       "      <td>spoof</td>\n",
       "    </tr>\n",
       "  </tbody>\n",
       "</table>\n",
       "</div>"
      ],
      "text/plain": [
       "  SPEAKER_ID AUDIO_FILE_NAME ENVIRONMENT_ID ATTACK_ID    KEY\n",
       "0    LA_0039    LA_E_2834763              -       A11  spoof\n",
       "1    LA_0014    LA_E_8877452              -       A14  spoof\n",
       "2    LA_0040    LA_E_6828287              -       A16  spoof\n",
       "3    LA_0022    LA_E_6977360              -       A09  spoof\n",
       "4    LA_0031    LA_E_5932896              -       A13  spoof"
      ]
     },
     "execution_count": 337,
     "metadata": {},
     "output_type": "execute_result"
    }
   ],
   "source": [
    "eval_labels.columns = ['SPEAKER_ID','AUDIO_FILE_NAME','ENVIRONMENT_ID','ATTACK_ID','KEY']\n",
    "eval_labels.head()"
   ]
  },
  {
   "cell_type": "code",
   "execution_count": 342,
   "metadata": {
    "ExecuteTime": {
     "end_time": "2021-03-13T08:53:36.945765Z",
     "start_time": "2021-03-13T08:53:36.886972Z"
    }
   },
   "outputs": [],
   "source": [
    "cm_score = pd.merge(final_score, eval_labels, on=\"AUDIO_FILE_NAME\")\n",
    "cm_score_file = cm_score[['AUDIO_FILE_NAME','ATTACK_ID','pred','SCORE']]"
   ]
  },
  {
   "cell_type": "code",
   "execution_count": 344,
   "metadata": {
    "ExecuteTime": {
     "end_time": "2021-03-13T08:55:30.862963Z",
     "start_time": "2021-03-13T08:55:30.756544Z"
    }
   },
   "outputs": [],
   "source": [
    "cm_score_file.to_csv('cm_score.txt',index=False,sep=\" \",header=False)"
   ]
  },
  {
   "cell_type": "code",
   "execution_count": null,
   "metadata": {},
   "outputs": [],
   "source": []
  },
  {
   "cell_type": "code",
   "execution_count": null,
   "metadata": {},
   "outputs": [],
   "source": []
  },
  {
   "cell_type": "code",
   "execution_count": 244,
   "metadata": {
    "ExecuteTime": {
     "end_time": "2021-03-13T05:06:11.435785Z",
     "start_time": "2021-03-13T05:06:11.405858Z"
    }
   },
   "outputs": [],
   "source": [
    "file_out_path = '/Users/asimadnan/Desktop/Mres/ASVSPOOF_DATA/LA/ASVspoof2019_LA_train/mfcc_test.csv'\n",
    "\n",
    "features = []\n",
    "max_len = 30\n",
    "ff\n",
    "total_files = len(os.listdir(train_files))\n",
    "i = 1"
   ]
  },
  {
   "cell_type": "code",
   "execution_count": 251,
   "metadata": {
    "ExecuteTime": {
     "end_time": "2021-03-13T06:40:12.547851Z",
     "start_time": "2021-03-13T06:40:11.238833Z"
    }
   },
   "outputs": [
    {
     "name": "stdout",
     "output_type": "stream",
     "text": [
      "1 of 6 Processed, 16.67 % ,Est Time Left: 0.04 Mins, time spent so far 0.01 Avg Per Row Time 0.44 s\n",
      "2 of 6 Processed, 33.33 % ,Est Time Left: 0.02 Mins, time spent so far 0.01 Avg Per Row Time 0.3 s\n",
      "3 of 6 Processed, 50.0 % ,Est Time Left: 0.01 Mins, time spent so far 0.01 Avg Per Row Time 0.23 s\n",
      "4 of 6 Processed, 66.67 % ,Est Time Left: 0.01 Mins, time spent so far 0.01 Avg Per Row Time 0.2 s\n",
      "5 of 6 Processed, 83.33 % ,Est Time Left: 0.0 Mins, time spent so far 0.02 Avg Per Row Time 0.19 s\n",
      "6 of 6 Processed, 100.0 % ,Est Time Left: 0.0 Mins, time spent so far 0.02 Avg Per Row Time 0.19 s\n",
      "Total Time Taken  1.15 Seconds, Avg time per row 0.16\n"
     ]
    }
   ],
   "source": [
    "i = 1\n",
    "with open(file_out_path, \"w\") as f:\n",
    "    writer = csv.writer(f,delimiter=',',lineterminator='\\n')\n",
    "\n",
    "    t_loop_start = time.time()\n",
    "    for filepath in os.listdir(train_files):\n",
    "        t_row_start = time.time()\n",
    "        filename = filepath.split('.')[0]\n",
    "        if filename not in la_train_labels.values[:, 1]: # checking if filename exists in label file\n",
    "            print('File not Found in Label File')\n",
    "            continue\n",
    "        file_index = np.where(la_train_labels.values== filename)[0][0]    \n",
    "        #print(\"Filename:\", os.path.join(train_files, filepath))\n",
    "        signal, sampling_rate = librosa.load(train_files + filepath)\n",
    "        #print(sampling_rate)\n",
    "        mfcc = librosa.feature.mfcc(y=signal, sr=sampling_rate)\n",
    "\n",
    "        feature_t = np.transpose(mfcc)\n",
    "        num_dim = feature_t.shape[1]\n",
    "        length = len(feature_t)\n",
    "        if length > max_len:\n",
    "            feature_f = feature_t[:max_len]\n",
    "        elif length < max_len:\n",
    "            # add zero's if len < max lenght, taken this max_len from an existing implemntation, maybe need to change\n",
    "            feature_f = np.concatenate((feature_t, np.array([[0.]*num_dim]*(max_len-length))), axis=0)\n",
    "        feature_row = feature_f.reshape(-1).tolist()\n",
    "        #print(len(feature_row))\n",
    "        feature_row.append(la_train_labels.values[file_index][4])\n",
    "        feature_row.insert(0, filename)\n",
    "\n",
    "        features.append(feature_row)\n",
    "        writer.writerow(feature_row)\n",
    "\n",
    "        t_row_end = time.time()\n",
    "\n",
    "        row_time = t_row_end - t_row_start\n",
    "        files_left = (total_files- i)\n",
    "        total_time = t_row_end - t_loop_start\n",
    "        row_avg = total_time/i\n",
    "        est_time_left = row_avg * (total_files - i)\n",
    "\n",
    "\n",
    "        print(i, 'of', total_files, 'Processed,',round( ((i/total_files)*100),2 ),'%', \n",
    "              ',Est Time Left:', round(est_time_left/60,2),\n",
    "              'Mins, time spent so far',round((t_row_end - t_loop_start)/60,2),\n",
    "              'Avg Per Row Time',round(row_avg,2), 's')\n",
    "        i=i+1\n",
    "    t_loop_end = time.time()\n",
    "    print('Total Time Taken ', round((t_loop_end-t_loop_start),2), 'Seconds, Avg time per row',round(((t_loop_end-t_loop_start)/i),2))"
   ]
  },
  {
   "cell_type": "code",
   "execution_count": 247,
   "metadata": {
    "ExecuteTime": {
     "end_time": "2021-03-13T05:07:32.681518Z",
     "start_time": "2021-03-13T05:07:31.893828Z"
    }
   },
   "outputs": [
    {
     "name": "stdout",
     "output_type": "stream",
     "text": [
      "1 of 6 Processed, 16.67 % ,Est Time Left: 0.01 Mins, time spent so far 0.0 Avg Per Row Time 0.1 s\n",
      "2 of 6 Processed, 33.33 % ,Est Time Left: 0.01 Mins, time spent so far 0.0 Avg Per Row Time 0.1 s\n",
      "3 of 6 Processed, 50.0 % ,Est Time Left: 0.01 Mins, time spent so far 0.01 Avg Per Row Time 0.12 s\n",
      "4 of 6 Processed, 66.67 % ,Est Time Left: 0.0 Mins, time spent so far 0.01 Avg Per Row Time 0.13 s\n",
      "5 of 6 Processed, 83.33 % ,Est Time Left: 0.0 Mins, time spent so far 0.01 Avg Per Row Time 0.14 s\n",
      "6 of 6 Processed, 100.0 % ,Est Time Left: 0.0 Mins, time spent so far 0.01 Avg Per Row Time 0.13 s\n",
      "Total Time Taken  0.77 Seconds, Avg time per row 0.11\n"
     ]
    }
   ],
   "source": [
    "get_meff(file_out_path,train_files,la_train_labels)"
   ]
  },
  {
   "cell_type": "code",
   "execution_count": 248,
   "metadata": {
    "ExecuteTime": {
     "end_time": "2021-03-13T05:08:32.633960Z",
     "start_time": "2021-03-13T05:08:32.630386Z"
    }
   },
   "outputs": [],
   "source": [
    "def multiprocessing_func(file_out_path,train_files,la_train_labels):\n",
    "    time.sleep(2)\n",
    "    get_meff(file_out_path,train_files,la_train_labels)"
   ]
  },
  {
   "cell_type": "code",
   "execution_count": 249,
   "metadata": {
    "ExecuteTime": {
     "end_time": "2021-03-13T05:10:49.792401Z",
     "start_time": "2021-03-13T05:08:40.312095Z"
    }
   },
   "outputs": [
    {
     "ename": "KeyboardInterrupt",
     "evalue": "",
     "output_type": "error",
     "traceback": [
      "\u001b[0;31m---------------------------------------------------------------------------\u001b[0m",
      "\u001b[0;31mKeyboardInterrupt\u001b[0m                         Traceback (most recent call last)",
      "\u001b[0;32m<ipython-input-249-d1dcfd3474bb>\u001b[0m in \u001b[0;36m<module>\u001b[0;34m\u001b[0m\n\u001b[1;32m      5\u001b[0m     \u001b[0mp\u001b[0m \u001b[0;34m=\u001b[0m \u001b[0mmultiprocessing\u001b[0m\u001b[0;34m.\u001b[0m\u001b[0mProcess\u001b[0m\u001b[0;34m(\u001b[0m\u001b[0mtarget\u001b[0m\u001b[0;34m=\u001b[0m\u001b[0mmultiprocessing_func\u001b[0m\u001b[0;34m,\u001b[0m \u001b[0margs\u001b[0m\u001b[0;34m=\u001b[0m\u001b[0;34m(\u001b[0m\u001b[0mfile_out_path\u001b[0m\u001b[0;34m,\u001b[0m\u001b[0mtrain_files\u001b[0m\u001b[0;34m,\u001b[0m\u001b[0mla_train_labels\u001b[0m\u001b[0;34m)\u001b[0m\u001b[0;34m)\u001b[0m\u001b[0;34m\u001b[0m\u001b[0;34m\u001b[0m\u001b[0m\n\u001b[1;32m      6\u001b[0m     \u001b[0mprocesses\u001b[0m\u001b[0;34m.\u001b[0m\u001b[0mappend\u001b[0m\u001b[0;34m(\u001b[0m\u001b[0mp\u001b[0m\u001b[0;34m)\u001b[0m\u001b[0;34m\u001b[0m\u001b[0;34m\u001b[0m\u001b[0m\n\u001b[0;32m----> 7\u001b[0;31m     \u001b[0mp\u001b[0m\u001b[0;34m.\u001b[0m\u001b[0mstart\u001b[0m\u001b[0;34m(\u001b[0m\u001b[0;34m)\u001b[0m\u001b[0;34m\u001b[0m\u001b[0;34m\u001b[0m\u001b[0m\n\u001b[0m\u001b[1;32m      8\u001b[0m \u001b[0;34m\u001b[0m\u001b[0m\n\u001b[1;32m      9\u001b[0m     \u001b[0;32mfor\u001b[0m \u001b[0mprocess\u001b[0m \u001b[0;32min\u001b[0m \u001b[0mprocesses\u001b[0m\u001b[0;34m:\u001b[0m\u001b[0;34m\u001b[0m\u001b[0;34m\u001b[0m\u001b[0m\n",
      "\u001b[0;32m~/opt/anaconda3/lib/python3.8/multiprocessing/process.py\u001b[0m in \u001b[0;36mstart\u001b[0;34m(self)\u001b[0m\n\u001b[1;32m    119\u001b[0m                \u001b[0;34m'daemonic processes are not allowed to have children'\u001b[0m\u001b[0;34m\u001b[0m\u001b[0;34m\u001b[0m\u001b[0m\n\u001b[1;32m    120\u001b[0m         \u001b[0m_cleanup\u001b[0m\u001b[0;34m(\u001b[0m\u001b[0;34m)\u001b[0m\u001b[0;34m\u001b[0m\u001b[0;34m\u001b[0m\u001b[0m\n\u001b[0;32m--> 121\u001b[0;31m         \u001b[0mself\u001b[0m\u001b[0;34m.\u001b[0m\u001b[0m_popen\u001b[0m \u001b[0;34m=\u001b[0m \u001b[0mself\u001b[0m\u001b[0;34m.\u001b[0m\u001b[0m_Popen\u001b[0m\u001b[0;34m(\u001b[0m\u001b[0mself\u001b[0m\u001b[0;34m)\u001b[0m\u001b[0;34m\u001b[0m\u001b[0;34m\u001b[0m\u001b[0m\n\u001b[0m\u001b[1;32m    122\u001b[0m         \u001b[0mself\u001b[0m\u001b[0;34m.\u001b[0m\u001b[0m_sentinel\u001b[0m \u001b[0;34m=\u001b[0m \u001b[0mself\u001b[0m\u001b[0;34m.\u001b[0m\u001b[0m_popen\u001b[0m\u001b[0;34m.\u001b[0m\u001b[0msentinel\u001b[0m\u001b[0;34m\u001b[0m\u001b[0;34m\u001b[0m\u001b[0m\n\u001b[1;32m    123\u001b[0m         \u001b[0;31m# Avoid a refcycle if the target function holds an indirect\u001b[0m\u001b[0;34m\u001b[0m\u001b[0;34m\u001b[0m\u001b[0;34m\u001b[0m\u001b[0m\n",
      "\u001b[0;32m~/opt/anaconda3/lib/python3.8/multiprocessing/context.py\u001b[0m in \u001b[0;36m_Popen\u001b[0;34m(process_obj)\u001b[0m\n\u001b[1;32m    222\u001b[0m     \u001b[0;34m@\u001b[0m\u001b[0mstaticmethod\u001b[0m\u001b[0;34m\u001b[0m\u001b[0;34m\u001b[0m\u001b[0m\n\u001b[1;32m    223\u001b[0m     \u001b[0;32mdef\u001b[0m \u001b[0m_Popen\u001b[0m\u001b[0;34m(\u001b[0m\u001b[0mprocess_obj\u001b[0m\u001b[0;34m)\u001b[0m\u001b[0;34m:\u001b[0m\u001b[0;34m\u001b[0m\u001b[0;34m\u001b[0m\u001b[0m\n\u001b[0;32m--> 224\u001b[0;31m         \u001b[0;32mreturn\u001b[0m \u001b[0m_default_context\u001b[0m\u001b[0;34m.\u001b[0m\u001b[0mget_context\u001b[0m\u001b[0;34m(\u001b[0m\u001b[0;34m)\u001b[0m\u001b[0;34m.\u001b[0m\u001b[0mProcess\u001b[0m\u001b[0;34m.\u001b[0m\u001b[0m_Popen\u001b[0m\u001b[0;34m(\u001b[0m\u001b[0mprocess_obj\u001b[0m\u001b[0;34m)\u001b[0m\u001b[0;34m\u001b[0m\u001b[0;34m\u001b[0m\u001b[0m\n\u001b[0m\u001b[1;32m    225\u001b[0m \u001b[0;34m\u001b[0m\u001b[0m\n\u001b[1;32m    226\u001b[0m \u001b[0;32mclass\u001b[0m \u001b[0mDefaultContext\u001b[0m\u001b[0;34m(\u001b[0m\u001b[0mBaseContext\u001b[0m\u001b[0;34m)\u001b[0m\u001b[0;34m:\u001b[0m\u001b[0;34m\u001b[0m\u001b[0;34m\u001b[0m\u001b[0m\n",
      "\u001b[0;32m~/opt/anaconda3/lib/python3.8/multiprocessing/context.py\u001b[0m in \u001b[0;36m_Popen\u001b[0;34m(process_obj)\u001b[0m\n\u001b[1;32m    282\u001b[0m         \u001b[0;32mdef\u001b[0m \u001b[0m_Popen\u001b[0m\u001b[0;34m(\u001b[0m\u001b[0mprocess_obj\u001b[0m\u001b[0;34m)\u001b[0m\u001b[0;34m:\u001b[0m\u001b[0;34m\u001b[0m\u001b[0;34m\u001b[0m\u001b[0m\n\u001b[1;32m    283\u001b[0m             \u001b[0;32mfrom\u001b[0m \u001b[0;34m.\u001b[0m\u001b[0mpopen_spawn_posix\u001b[0m \u001b[0;32mimport\u001b[0m \u001b[0mPopen\u001b[0m\u001b[0;34m\u001b[0m\u001b[0;34m\u001b[0m\u001b[0m\n\u001b[0;32m--> 284\u001b[0;31m             \u001b[0;32mreturn\u001b[0m \u001b[0mPopen\u001b[0m\u001b[0;34m(\u001b[0m\u001b[0mprocess_obj\u001b[0m\u001b[0;34m)\u001b[0m\u001b[0;34m\u001b[0m\u001b[0;34m\u001b[0m\u001b[0m\n\u001b[0m\u001b[1;32m    285\u001b[0m \u001b[0;34m\u001b[0m\u001b[0m\n\u001b[1;32m    286\u001b[0m     \u001b[0;32mclass\u001b[0m \u001b[0mForkServerProcess\u001b[0m\u001b[0;34m(\u001b[0m\u001b[0mprocess\u001b[0m\u001b[0;34m.\u001b[0m\u001b[0mBaseProcess\u001b[0m\u001b[0;34m)\u001b[0m\u001b[0;34m:\u001b[0m\u001b[0;34m\u001b[0m\u001b[0;34m\u001b[0m\u001b[0m\n",
      "\u001b[0;32m~/opt/anaconda3/lib/python3.8/multiprocessing/popen_spawn_posix.py\u001b[0m in \u001b[0;36m__init__\u001b[0;34m(self, process_obj)\u001b[0m\n\u001b[1;32m     30\u001b[0m     \u001b[0;32mdef\u001b[0m \u001b[0m__init__\u001b[0m\u001b[0;34m(\u001b[0m\u001b[0mself\u001b[0m\u001b[0;34m,\u001b[0m \u001b[0mprocess_obj\u001b[0m\u001b[0;34m)\u001b[0m\u001b[0;34m:\u001b[0m\u001b[0;34m\u001b[0m\u001b[0;34m\u001b[0m\u001b[0m\n\u001b[1;32m     31\u001b[0m         \u001b[0mself\u001b[0m\u001b[0;34m.\u001b[0m\u001b[0m_fds\u001b[0m \u001b[0;34m=\u001b[0m \u001b[0;34m[\u001b[0m\u001b[0;34m]\u001b[0m\u001b[0;34m\u001b[0m\u001b[0;34m\u001b[0m\u001b[0m\n\u001b[0;32m---> 32\u001b[0;31m         \u001b[0msuper\u001b[0m\u001b[0;34m(\u001b[0m\u001b[0;34m)\u001b[0m\u001b[0;34m.\u001b[0m\u001b[0m__init__\u001b[0m\u001b[0;34m(\u001b[0m\u001b[0mprocess_obj\u001b[0m\u001b[0;34m)\u001b[0m\u001b[0;34m\u001b[0m\u001b[0;34m\u001b[0m\u001b[0m\n\u001b[0m\u001b[1;32m     33\u001b[0m \u001b[0;34m\u001b[0m\u001b[0m\n\u001b[1;32m     34\u001b[0m     \u001b[0;32mdef\u001b[0m \u001b[0mduplicate_for_child\u001b[0m\u001b[0;34m(\u001b[0m\u001b[0mself\u001b[0m\u001b[0;34m,\u001b[0m \u001b[0mfd\u001b[0m\u001b[0;34m)\u001b[0m\u001b[0;34m:\u001b[0m\u001b[0;34m\u001b[0m\u001b[0;34m\u001b[0m\u001b[0m\n",
      "\u001b[0;32m~/opt/anaconda3/lib/python3.8/multiprocessing/popen_fork.py\u001b[0m in \u001b[0;36m__init__\u001b[0;34m(self, process_obj)\u001b[0m\n\u001b[1;32m     17\u001b[0m         \u001b[0mself\u001b[0m\u001b[0;34m.\u001b[0m\u001b[0mreturncode\u001b[0m \u001b[0;34m=\u001b[0m \u001b[0;32mNone\u001b[0m\u001b[0;34m\u001b[0m\u001b[0;34m\u001b[0m\u001b[0m\n\u001b[1;32m     18\u001b[0m         \u001b[0mself\u001b[0m\u001b[0;34m.\u001b[0m\u001b[0mfinalizer\u001b[0m \u001b[0;34m=\u001b[0m \u001b[0;32mNone\u001b[0m\u001b[0;34m\u001b[0m\u001b[0;34m\u001b[0m\u001b[0m\n\u001b[0;32m---> 19\u001b[0;31m         \u001b[0mself\u001b[0m\u001b[0;34m.\u001b[0m\u001b[0m_launch\u001b[0m\u001b[0;34m(\u001b[0m\u001b[0mprocess_obj\u001b[0m\u001b[0;34m)\u001b[0m\u001b[0;34m\u001b[0m\u001b[0;34m\u001b[0m\u001b[0m\n\u001b[0m\u001b[1;32m     20\u001b[0m \u001b[0;34m\u001b[0m\u001b[0m\n\u001b[1;32m     21\u001b[0m     \u001b[0;32mdef\u001b[0m \u001b[0mduplicate_for_child\u001b[0m\u001b[0;34m(\u001b[0m\u001b[0mself\u001b[0m\u001b[0;34m,\u001b[0m \u001b[0mfd\u001b[0m\u001b[0;34m)\u001b[0m\u001b[0;34m:\u001b[0m\u001b[0;34m\u001b[0m\u001b[0;34m\u001b[0m\u001b[0m\n",
      "\u001b[0;32m~/opt/anaconda3/lib/python3.8/multiprocessing/popen_spawn_posix.py\u001b[0m in \u001b[0;36m_launch\u001b[0;34m(self, process_obj)\u001b[0m\n\u001b[1;32m     60\u001b[0m             \u001b[0mself\u001b[0m\u001b[0;34m.\u001b[0m\u001b[0msentinel\u001b[0m \u001b[0;34m=\u001b[0m \u001b[0mparent_r\u001b[0m\u001b[0;34m\u001b[0m\u001b[0;34m\u001b[0m\u001b[0m\n\u001b[1;32m     61\u001b[0m             \u001b[0;32mwith\u001b[0m \u001b[0mopen\u001b[0m\u001b[0;34m(\u001b[0m\u001b[0mparent_w\u001b[0m\u001b[0;34m,\u001b[0m \u001b[0;34m'wb'\u001b[0m\u001b[0;34m,\u001b[0m \u001b[0mclosefd\u001b[0m\u001b[0;34m=\u001b[0m\u001b[0;32mFalse\u001b[0m\u001b[0;34m)\u001b[0m \u001b[0;32mas\u001b[0m \u001b[0mf\u001b[0m\u001b[0;34m:\u001b[0m\u001b[0;34m\u001b[0m\u001b[0;34m\u001b[0m\u001b[0m\n\u001b[0;32m---> 62\u001b[0;31m                 \u001b[0mf\u001b[0m\u001b[0;34m.\u001b[0m\u001b[0mwrite\u001b[0m\u001b[0;34m(\u001b[0m\u001b[0mfp\u001b[0m\u001b[0;34m.\u001b[0m\u001b[0mgetbuffer\u001b[0m\u001b[0;34m(\u001b[0m\u001b[0;34m)\u001b[0m\u001b[0;34m)\u001b[0m\u001b[0;34m\u001b[0m\u001b[0;34m\u001b[0m\u001b[0m\n\u001b[0m\u001b[1;32m     63\u001b[0m         \u001b[0;32mfinally\u001b[0m\u001b[0;34m:\u001b[0m\u001b[0;34m\u001b[0m\u001b[0;34m\u001b[0m\u001b[0m\n\u001b[1;32m     64\u001b[0m             \u001b[0mfds_to_close\u001b[0m \u001b[0;34m=\u001b[0m \u001b[0;34m[\u001b[0m\u001b[0;34m]\u001b[0m\u001b[0;34m\u001b[0m\u001b[0;34m\u001b[0m\u001b[0m\n",
      "\u001b[0;31mKeyboardInterrupt\u001b[0m: "
     ]
    }
   ],
   "source": [
    "if __name__ == '__main__':\n",
    "    starttime = time.time()\n",
    "    processes = []\n",
    "\n",
    "    p = multiprocessing.Process(target=multiprocessing_func, args=(file_out_path,train_files,la_train_labels))\n",
    "    processes.append(p)\n",
    "    p.start()\n",
    "        \n",
    "    for process in processes:\n",
    "        process.join()"
   ]
  },
  {
   "cell_type": "code",
   "execution_count": 250,
   "metadata": {
    "ExecuteTime": {
     "end_time": "2021-03-13T05:10:55.592215Z",
     "start_time": "2021-03-13T05:10:54.838580Z"
    }
   },
   "outputs": [
    {
     "name": "stdout",
     "output_type": "stream",
     "text": [
      "\n",
      "Time taken = 0.7339620590209961 seconds\n"
     ]
    }
   ],
   "source": [
    "import time\n",
    "import multiprocessing\n",
    "def is_prime(n):\n",
    "      if (n <= 1) : \n",
    "          return 'not a prime number'\n",
    "      if (n <= 3) : \n",
    "          return 'prime number'\n",
    "          \n",
    "      if (n % 2 == 0 or n % 3 == 0) : \n",
    "          return 'not a prime number'\n",
    "    \n",
    "      i = 5\n",
    "      while(i * i <= n) : \n",
    "          if (n % i == 0 or n % (i + 2) == 0) : \n",
    "              return 'not a prime number'\n",
    "          i = i + 6\n",
    "    \n",
    "      return 'prime number'\n",
    "def multiprocessing_func(x):\n",
    "    time.sleep(2)\n",
    "    print('{} is {} number'.format(x, is_prime(x)))\n",
    "    \n",
    "if __name__ == '__main__':\n",
    "    starttime = time.time()\n",
    "    processes = []\n",
    "    for i in range(1,10):\n",
    "        p = multiprocessing.Process(target=multiprocessing_func, args=(i,))\n",
    "        processes.append(p)\n",
    "        p.start()\n",
    "        \n",
    "    for process in processes:\n",
    "        process.join()\n",
    "        \n",
    "    print()    \n",
    "    print('Time taken = {} seconds'.format(time.time() - starttime))"
   ]
  },
  {
   "cell_type": "code",
   "execution_count": null,
   "metadata": {},
   "outputs": [],
   "source": []
  },
  {
   "cell_type": "code",
   "execution_count": 203,
   "metadata": {
    "ExecuteTime": {
     "end_time": "2021-03-12T11:57:48.442579Z",
     "start_time": "2021-03-12T11:57:48.420782Z"
    }
   },
   "outputs": [
    {
     "data": {
      "text/plain": [
       "['LA_T_2361751',\n",
       " -551.235107421875,\n",
       " 28.366321563720703,\n",
       " 26.904769897460938,\n",
       " 24.82605743408203,\n",
       " 22.447601318359375,\n",
       " 19.945920944213867,\n",
       " 17.3449764251709,\n",
       " 14.627218246459961,\n",
       " 11.860616683959961,\n",
       " 9.230694770812988,\n",
       " 6.953351020812988,\n",
       " 5.148382186889648,\n",
       " 3.785722255706787,\n",
       " 2.7522072792053223,\n",
       " 1.979970097541809,\n",
       " 1.5218030214309692,\n",
       " 1.501400351524353,\n",
       " 1.9736948013305664,\n",
       " 2.811986207962036,\n",
       " 3.7244579792022705,\n",
       " -553.2172241210938,\n",
       " 25.746496200561523,\n",
       " 24.72983169555664,\n",
       " 23.118698120117188,\n",
       " 21.025766372680664,\n",
       " 18.587364196777344,\n",
       " 15.948328018188477,\n",
       " 13.249151229858398,\n",
       " 10.616931915283203,\n",
       " 8.160447120666504,\n",
       " 5.967820167541504,\n",
       " 4.105415344238281,\n",
       " 2.6162655353546143,\n",
       " 1.5179784297943115,\n",
       " 0.8009222745895386,\n",
       " 0.4283280372619629,\n",
       " 0.3398301601409912,\n",
       " 0.4590610861778259,\n",
       " 0.7043025493621826,\n",
       " 1.0001932382583618,\n",
       " -554.4674072265625,\n",
       " 23.775157928466797,\n",
       " 22.222658157348633,\n",
       " 19.93691635131836,\n",
       " 17.273632049560547,\n",
       " 14.573209762573242,\n",
       " 12.073784828186035,\n",
       " 9.86871337890625,\n",
       " 7.919742584228516,\n",
       " 6.115484237670898,\n",
       " 4.3482842445373535,\n",
       " 2.577643394470215,\n",
       " 0.8558075428009033,\n",
       " -0.6920392513275146,\n",
       " -1.9215120077133179,\n",
       " -2.7324347496032715,\n",
       " -3.114576578140259,\n",
       " -3.157128095626831,\n",
       " -3.0190505981445312,\n",
       " -2.873028039932251,\n",
       " -553.723388671875,\n",
       " 24.574546813964844,\n",
       " 22.359060287475586,\n",
       " 19.24492073059082,\n",
       " 15.87533187866211,\n",
       " 12.80210018157959,\n",
       " 10.322955131530762,\n",
       " 8.439388275146484,\n",
       " 6.9400482177734375,\n",
       " 5.558606147766113,\n",
       " 4.126243591308594,\n",
       " 2.649019241333008,\n",
       " 1.2824995517730713,\n",
       " 0.22783833742141724,\n",
       " -0.3905860185623169,\n",
       " -0.6017662286758423,\n",
       " -0.5827529430389404,\n",
       " -0.5784631967544556,\n",
       " -0.7905262112617493,\n",
       " -1.2912365198135376,\n",
       " -557.22705078125,\n",
       " 19.696025848388672,\n",
       " 17.715320587158203,\n",
       " 15.006641387939453,\n",
       " 12.219442367553711,\n",
       " 9.891603469848633,\n",
       " 8.27808666229248,\n",
       " 7.310728073120117,\n",
       " 6.695029258728027,\n",
       " 6.088626861572266,\n",
       " 5.273318767547607,\n",
       " 4.242765426635742,\n",
       " 3.172900915145874,\n",
       " 2.3006224632263184,\n",
       " 1.7783422470092773,\n",
       " 1.5795009136199951,\n",
       " 1.5011661052703857,\n",
       " 1.2598340511322021,\n",
       " 0.6310315132141113,\n",
       " -0.43602463603019714,\n",
       " -558.3109741210938,\n",
       " 18.196517944335938,\n",
       " 16.3591251373291,\n",
       " 13.987895965576172,\n",
       " 11.757902145385742,\n",
       " 10.097175598144531,\n",
       " 9.027128219604492,\n",
       " 8.227248191833496,\n",
       " 7.267661094665527,\n",
       " 5.866244316101074,\n",
       " 4.029948711395264,\n",
       " 2.0217936038970947,\n",
       " 0.20032015442848206,\n",
       " -1.1589148044586182,\n",
       " -1.961519718170166,\n",
       " -2.281461238861084,\n",
       " -2.279191017150879,\n",
       " -2.122068405151367,\n",
       " -1.9518576860427856,\n",
       " -1.891310214996338,\n",
       " -557.0431518554688,\n",
       " 19.958417892456055,\n",
       " 18.004087448120117,\n",
       " 15.371122360229492,\n",
       " 12.672212600708008,\n",
       " 10.309633255004883,\n",
       " 8.347826957702637,\n",
       " 6.587021350860596,\n",
       " 4.772885322570801,\n",
       " 2.802912712097168,\n",
       " 0.8061516880989075,\n",
       " -0.9374191164970398,\n",
       " -2.169084310531616,\n",
       " -2.797089099884033,\n",
       " -2.92866849899292,\n",
       " -2.78486967086792,\n",
       " -2.5714354515075684,\n",
       " -2.3975472450256348,\n",
       " -2.2867319583892822,\n",
       " -2.2501373291015625,\n",
       " -556.465087890625,\n",
       " 20.815399169921875,\n",
       " 18.92403793334961,\n",
       " 16.24285125732422,\n",
       " 13.248064041137695,\n",
       " 10.290045738220215,\n",
       " 7.517397880554199,\n",
       " 4.940467834472656,\n",
       " 2.5703630447387695,\n",
       " 0.5236407518386841,\n",
       " -0.988013744354248,\n",
       " -1.7780156135559082,\n",
       " -1.8298622369766235,\n",
       " -1.3590879440307617,\n",
       " -0.7376805543899536,\n",
       " -0.31854093074798584,\n",
       " -0.2663974165916443,\n",
       " -0.5007796287536621,\n",
       " -0.7852416038513184,\n",
       " -0.9028756022453308,\n",
       " -556.4857177734375,\n",
       " 20.848114013671875,\n",
       " 19.11728286743164,\n",
       " 16.64166259765625,\n",
       " 13.861831665039062,\n",
       " 11.141395568847656,\n",
       " 8.675688743591309,\n",
       " 6.498028755187988,\n",
       " 4.560842514038086,\n",
       " 2.830507516860962,\n",
       " 1.3368347883224487,\n",
       " 0.15457437932491302,\n",
       " -0.6591805219650269,\n",
       " -1.121888279914856,\n",
       " -1.3357561826705933,\n",
       " -1.4449129104614258,\n",
       " -1.5690457820892334,\n",
       " -1.75629460811615,\n",
       " -1.9823695421218872,\n",
       " -2.1898622512817383,\n",
       " -557.8810424804688,\n",
       " 18.903114318847656,\n",
       " 17.28936004638672,\n",
       " 15.092254638671875,\n",
       " 12.810579299926758,\n",
       " 10.795897483825684,\n",
       " 9.138204574584961,\n",
       " 7.6976470947265625,\n",
       " 6.248881816864014,\n",
       " 4.6468963623046875,\n",
       " 2.921222686767578,\n",
       " 1.2562321424484253,\n",
       " -0.11584097146987915,\n",
       " -1.0371252298355103,\n",
       " -1.4921795129776,\n",
       " -1.5946121215820312,\n",
       " -1.5164787769317627,\n",
       " -1.4121618270874023,\n",
       " -1.3788237571716309,\n",
       " -1.4611328840255737,\n",
       " -555.3859252929688,\n",
       " 22.15480613708496,\n",
       " 19.742332458496094,\n",
       " 16.330097198486328,\n",
       " 12.609264373779297,\n",
       " 9.199761390686035,\n",
       " 6.480197906494141,\n",
       " 4.52880334854126,\n",
       " 3.182634115219116,\n",
       " 2.172752857208252,\n",
       " 1.2679692506790161,\n",
       " 0.3674021363258362,\n",
       " -0.4861297607421875,\n",
       " -1.1620683670043945,\n",
       " -1.5310701131820679,\n",
       " -1.5438891649246216,\n",
       " -1.268472671508789,\n",
       " -0.873928427696228,\n",
       " -0.5708999633789062,\n",
       " -0.5314624309539795,\n",
       " -554.282470703125,\n",
       " 23.654361724853516,\n",
       " 21.070024490356445,\n",
       " 17.408096313476562,\n",
       " 13.411916732788086,\n",
       " 9.76420783996582,\n",
       " 6.901450157165527,\n",
       " 4.936182022094727,\n",
       " 3.7023987770080566,\n",
       " 2.888065814971924,\n",
       " 2.1890149116516113,\n",
       " 1.418871283531189,\n",
       " 0.5397560596466064,\n",
       " -0.38094592094421387,\n",
       " -1.2497236728668213,\n",
       " -2.0139410495758057,\n",
       " -2.683838367462158,\n",
       " -3.3057498931884766,\n",
       " -3.9103617668151855,\n",
       " -4.47109317779541,\n",
       " -551.5958862304688,\n",
       " 19.019649505615234,\n",
       " 15.877659797668457,\n",
       " 21.225574493408203,\n",
       " 10.387311935424805,\n",
       " 6.4711833000183105,\n",
       " 13.524906158447266,\n",
       " 5.711956977844238,\n",
       " 2.1188530921936035,\n",
       " 8.599607467651367,\n",
       " 1.2435137033462524,\n",
       " -3.3409106731414795,\n",
       " 2.7083353996276855,\n",
       " -2.090803861618042,\n",
       " -5.14811372756958,\n",
       " 1.2028274536132812,\n",
       " -1.7763746976852417,\n",
       " -4.632074356079102,\n",
       " 0.38957875967025757,\n",
       " -1.5943025350570679,\n",
       " -508.5137023925781,\n",
       " 10.052637100219727,\n",
       " -19.39280891418457,\n",
       " 42.806175231933594,\n",
       " 3.2662692070007324,\n",
       " -13.53608512878418,\n",
       " 32.5599365234375,\n",
       " 11.385991096496582,\n",
       " -6.637594223022461,\n",
       " 7.060144424438477,\n",
       " -8.755487442016602,\n",
       " -6.835940837860107,\n",
       " 10.377275466918945,\n",
       " -6.497610092163086,\n",
       " -11.862369537353516,\n",
       " 2.5236172676086426,\n",
       " -3.4012324810028076,\n",
       " -3.320831298828125,\n",
       " 2.2698659896850586,\n",
       " -5.891511917114258,\n",
       " -482.0641784667969,\n",
       " 13.551130294799805,\n",
       " -33.475563049316406,\n",
       " 38.57696533203125,\n",
       " -7.294028282165527,\n",
       " -6.956989765167236,\n",
       " 39.10266876220703,\n",
       " 1.0180972814559937,\n",
       " -12.986101150512695,\n",
       " -1.3675323724746704,\n",
       " -10.802899360656738,\n",
       " 2.8970866203308105,\n",
       " 11.153965950012207,\n",
       " -9.939512252807617,\n",
       " -11.219297409057617,\n",
       " 2.894636392593384,\n",
       " -1.569551944732666,\n",
       " -2.106555461883545,\n",
       " -1.9258880615234375,\n",
       " -9.455302238464355,\n",
       " -466.3443298339844,\n",
       " 29.240612030029297,\n",
       " -33.48659896850586,\n",
       " 26.804649353027344,\n",
       " -1.8092011213302612,\n",
       " 4.597380638122559,\n",
       " 22.63555908203125,\n",
       " -19.235307693481445,\n",
       " -21.955673217773438,\n",
       " -1.9340314865112305,\n",
       " -1.1329373121261597,\n",
       " 12.644424438476562,\n",
       " 8.119843482971191,\n",
       " -18.200977325439453,\n",
       " -4.05549430847168,\n",
       " 8.315681457519531,\n",
       " -8.288837432861328,\n",
       " -11.432658195495605,\n",
       " -11.041695594787598,\n",
       " -6.147604465484619,\n",
       " -480.4064636230469,\n",
       " 43.941017150878906,\n",
       " -18.982662200927734,\n",
       " 12.919378280639648,\n",
       " 4.678716659545898,\n",
       " 8.3380126953125,\n",
       " 13.590160369873047,\n",
       " -18.762968063354492,\n",
       " -14.486673355102539,\n",
       " 4.784758567810059,\n",
       " 3.3638415336608887,\n",
       " 12.273743629455566,\n",
       " 1.3773363828659058,\n",
       " -20.47347068786621,\n",
       " -1.385993242263794,\n",
       " 9.227461814880371,\n",
       " -6.985960483551025,\n",
       " -10.451263427734375,\n",
       " -11.653242111206055,\n",
       " -5.350452423095703,\n",
       " -483.01312255859375,\n",
       " 78.27011108398438,\n",
       " -0.4461004137992859,\n",
       " -22.526451110839844,\n",
       " 4.912078380584717,\n",
       " 18.223983764648438,\n",
       " -2.0018680095672607,\n",
       " -16.15626335144043,\n",
       " -2.2960357666015625,\n",
       " 11.31242561340332,\n",
       " 6.597938537597656,\n",
       " -1.7548730373382568,\n",
       " -3.2562575340270996,\n",
       " -0.6113498210906982,\n",
       " -0.48912546038627625,\n",
       " -5.592694282531738,\n",
       " -9.738090515136719,\n",
       " -9.05471420288086,\n",
       " -4.268869876861572,\n",
       " 1.6856837272644043,\n",
       " -450.1635437011719,\n",
       " 95.26712799072266,\n",
       " -10.167119979858398,\n",
       " -25.356674194335938,\n",
       " 0.4487292170524597,\n",
       " 13.105997085571289,\n",
       " -7.4454474449157715,\n",
       " -24.956817626953125,\n",
       " 3.412433385848999,\n",
       " 18.824010848999023,\n",
       " 0.19345039129257202,\n",
       " -0.6705243587493896,\n",
       " 3.372896671295166,\n",
       " -0.8037132620811462,\n",
       " -0.9612333178520203,\n",
       " -12.077198028564453,\n",
       " -17.71718978881836,\n",
       " -4.800490379333496,\n",
       " 1.0324784517288208,\n",
       " 1.3147940635681152,\n",
       " -427.04425048828125,\n",
       " 97.30046844482422,\n",
       " -22.481895446777344,\n",
       " -15.22364616394043,\n",
       " -0.33945900201797485,\n",
       " 6.273106575012207,\n",
       " -1.2750109434127808,\n",
       " -24.412303924560547,\n",
       " 3.793060064315796,\n",
       " 20.986486434936523,\n",
       " -6.893927574157715,\n",
       " -1.075629472732544,\n",
       " 9.248559951782227,\n",
       " -3.470224142074585,\n",
       " -5.009303092956543,\n",
       " -15.867049217224121,\n",
       " -21.993261337280273,\n",
       " -1.4742512702941895,\n",
       " 5.856006622314453,\n",
       " 0.1617245376110077,\n",
       " -406.86175537109375,\n",
       " 94.71104431152344,\n",
       " -35.349876403808594,\n",
       " -9.325620651245117,\n",
       " -3.3105690479278564,\n",
       " 8.457649230957031,\n",
       " 5.871654510498047,\n",
       " -22.579036712646484,\n",
       " 5.829132556915283,\n",
       " 18.087909698486328,\n",
       " -10.003860473632812,\n",
       " -2.099337577819824,\n",
       " 8.072474479675293,\n",
       " -7.480751991271973,\n",
       " -9.54897689819336,\n",
       " -13.033524513244629,\n",
       " -19.339614868164062,\n",
       " -1.3966748714447021,\n",
       " 7.830218315124512,\n",
       " 2.693491220474243,\n",
       " -391.23516845703125,\n",
       " 84.48794555664062,\n",
       " -48.77946472167969,\n",
       " -2.390167236328125,\n",
       " -6.082803726196289,\n",
       " 11.103313446044922,\n",
       " 7.969707012176514,\n",
       " -22.113628387451172,\n",
       " 4.028241157531738,\n",
       " 14.809484481811523,\n",
       " -7.710480213165283,\n",
       " -5.464813232421875,\n",
       " 7.233674049377441,\n",
       " -0.3045060634613037,\n",
       " -4.018891334533691,\n",
       " -6.069925308227539,\n",
       " -15.580259323120117,\n",
       " -7.93131160736084,\n",
       " 4.680713176727295,\n",
       " -1.086966633796692,\n",
       " -384.9242858886719,\n",
       " 82.82649230957031,\n",
       " -56.28443145751953,\n",
       " -3.4685304164886475,\n",
       " -2.587938070297241,\n",
       " 15.443159103393555,\n",
       " 7.607269287109375,\n",
       " -23.095001220703125,\n",
       " 5.6193695068359375,\n",
       " 18.66260528564453,\n",
       " -5.274881839752197,\n",
       " -7.402779579162598,\n",
       " 3.234825849533081,\n",
       " -3.8987090587615967,\n",
       " -3.9606356620788574,\n",
       " -5.895569324493408,\n",
       " -15.95580768585205,\n",
       " -5.979367256164551,\n",
       " 4.207428932189941,\n",
       " -1.8044445514678955,\n",
       " -388.1073913574219,\n",
       " 87.45870971679688,\n",
       " -57.57170867919922,\n",
       " -8.795289993286133,\n",
       " -1.813876748085022,\n",
       " 15.285346984863281,\n",
       " 13.656031608581543,\n",
       " -23.675275802612305,\n",
       " 3.2435662746429443,\n",
       " 19.344043731689453,\n",
       " -6.3913373947143555,\n",
       " -6.560793876647949,\n",
       " 0.2891203761100769,\n",
       " -8.938211441040039,\n",
       " -3.6326189041137695,\n",
       " -5.584710597991943,\n",
       " -18.5401611328125,\n",
       " -2.5635058879852295,\n",
       " 6.249881744384766,\n",
       " 0.48926842212677,\n",
       " -381.3815612792969,\n",
       " 93.89744567871094,\n",
       " -61.2971305847168,\n",
       " -18.796939849853516,\n",
       " -5.83608341217041,\n",
       " 18.074508666992188,\n",
       " 20.399084091186523,\n",
       " -18.50674819946289,\n",
       " 5.748181343078613,\n",
       " 21.579593658447266,\n",
       " -5.3737077713012695,\n",
       " -0.40012744069099426,\n",
       " 3.4929511547088623,\n",
       " -13.393941879272461,\n",
       " -8.785272598266602,\n",
       " -13.596301078796387,\n",
       " -24.712554931640625,\n",
       " -1.4907116889953613,\n",
       " 10.020147323608398,\n",
       " -4.5319108963012695,\n",
       " -378.9033203125,\n",
       " 98.04547119140625,\n",
       " -65.83486938476562,\n",
       " -27.37821388244629,\n",
       " -4.84759521484375,\n",
       " 21.624187469482422,\n",
       " 24.721431732177734,\n",
       " -19.36644744873047,\n",
       " 3.152196168899536,\n",
       " 26.47013282775879,\n",
       " -3.1549205780029297,\n",
       " 2.6095125675201416,\n",
       " 6.603551864624023,\n",
       " -11.744712829589844,\n",
       " -4.571209907531738,\n",
       " -10.599700927734375,\n",
       " -23.433513641357422,\n",
       " -3.6519899368286133,\n",
       " 14.255278587341309,\n",
       " -2.619520425796509,\n",
       " -414.7748718261719,\n",
       " 88.17182159423828,\n",
       " -56.6829948425293,\n",
       " -35.27318572998047,\n",
       " 1.6279058456420898,\n",
       " 30.99297332763672,\n",
       " 29.849681854248047,\n",
       " -15.486984252929688,\n",
       " 2.9820785522460938,\n",
       " 29.013214111328125,\n",
       " -2.105170965194702,\n",
       " -1.6962761878967285,\n",
       " 10.26395034790039,\n",
       " -6.471497535705566,\n",
       " -4.786969184875488,\n",
       " -5.662693023681641,\n",
       " -22.632274627685547,\n",
       " -8.69857120513916,\n",
       " 14.771984100341797,\n",
       " 1.494423270225525,\n",
       " -485.78289794921875,\n",
       " 68.86919403076172,\n",
       " -11.460447311401367,\n",
       " -23.008953094482422,\n",
       " 16.734786987304688,\n",
       " 43.79685974121094,\n",
       " 26.64272689819336,\n",
       " -6.427065849304199,\n",
       " -4.902986526489258,\n",
       " 14.033931732177734,\n",
       " 6.858236312866211,\n",
       " -5.5754852294921875,\n",
       " -0.09474039077758789,\n",
       " 3.196427822113037,\n",
       " -3.1183342933654785,\n",
       " -12.661494255065918,\n",
       " -18.146297454833984,\n",
       " -5.00562858581543,\n",
       " 11.820768356323242,\n",
       " 5.552525520324707,\n",
       " -494.9935607910156,\n",
       " 61.86625671386719,\n",
       " 9.40347957611084,\n",
       " 7.739255905151367,\n",
       " 4.02370548248291,\n",
       " 5.334234237670898,\n",
       " 15.59190559387207,\n",
       " 9.995966911315918,\n",
       " 7.828760623931885,\n",
       " 6.58762264251709,\n",
       " -7.1491618156433105,\n",
       " -7.497898578643799,\n",
       " 5.643983840942383,\n",
       " 1.4138171672821045,\n",
       " -12.804054260253906,\n",
       " -5.608098983764648,\n",
       " 6.0701751708984375,\n",
       " -2.7346291542053223,\n",
       " -2.697429656982422,\n",
       " 6.084098815917969,\n",
       " -148.53871154785156,\n",
       " 136.54379272460938,\n",
       " -111.52992248535156,\n",
       " 37.53875732421875,\n",
       " -60.72967529296875,\n",
       " -12.600946426391602,\n",
       " 4.50059175491333,\n",
       " -20.908519744873047,\n",
       " 16.03292465209961,\n",
       " 3.3257534503936768,\n",
       " -17.642353057861328,\n",
       " -4.9873175621032715,\n",
       " 1.17903470993042,\n",
       " -10.544672012329102,\n",
       " -15.043901443481445,\n",
       " -24.045442581176758,\n",
       " -0.32880306243896484,\n",
       " -13.163516998291016,\n",
       " -18.060501098632812,\n",
       " 2.5291218757629395,\n",
       " 'bonafide']"
      ]
     },
     "execution_count": 203,
     "metadata": {},
     "output_type": "execute_result"
    }
   ],
   "source": [
    "ff"
   ]
  },
  {
   "cell_type": "code",
   "execution_count": 190,
   "metadata": {
    "ExecuteTime": {
     "end_time": "2021-03-12T11:32:14.268351Z",
     "start_time": "2021-03-12T11:32:14.241614Z"
    }
   },
   "outputs": [],
   "source": [
    "file_out_path = '/Users/asimadnan/Desktop/Mres/ASVSPOOF_DATA/LA/ASVspoof2019_LA_train/'\n",
    "\n",
    "with open(file_out_path + 'features.csv', \"w\", newline=\"\") as f:\n",
    "    writer = csv.writer(f)\n",
    "    writer.writerows(features)"
   ]
  },
  {
   "cell_type": "code",
   "execution_count": null,
   "metadata": {},
   "outputs": [],
   "source": []
  },
  {
   "cell_type": "code",
   "execution_count": null,
   "metadata": {},
   "outputs": [],
   "source": []
  },
  {
   "cell_type": "code",
   "execution_count": 179,
   "metadata": {
    "ExecuteTime": {
     "end_time": "2021-03-12T11:22:35.784260Z",
     "start_time": "2021-03-12T11:22:35.776632Z"
    }
   },
   "outputs": [
    {
     "data": {
      "text/plain": [
       "(50, 20)"
      ]
     },
     "execution_count": 179,
     "metadata": {},
     "output_type": "execute_result"
    }
   ],
   "source": [
    "features[0].shape\n",
    "la_train_labels.values.shape\n",
    "'LA_T_1138215' in la_train_labels.values[:, 1]"
   ]
  },
  {
   "cell_type": "code",
   "execution_count": 170,
   "metadata": {
    "ExecuteTime": {
     "end_time": "2021-03-12T11:19:55.224946Z",
     "start_time": "2021-03-12T11:19:55.216972Z"
    }
   },
   "outputs": [
    {
     "data": {
      "text/plain": [
       "3950"
      ]
     },
     "execution_count": 170,
     "metadata": {},
     "output_type": "execute_result"
    }
   ],
   "source": [
    "len(aa)"
   ]
  },
  {
   "cell_type": "code",
   "execution_count": null,
   "metadata": {
    "ExecuteTime": {
     "end_time": "2021-03-12T10:43:38.686631Z",
     "start_time": "2021-03-12T10:43:38.663153Z"
    }
   },
   "outputs": [],
   "source": []
  },
  {
   "cell_type": "code",
   "execution_count": 143,
   "metadata": {
    "ExecuteTime": {
     "end_time": "2021-03-12T10:43:49.162873Z",
     "start_time": "2021-03-12T10:43:49.139326Z"
    }
   },
   "outputs": [],
   "source": [
    "gmm_bon = GMM(n_components = 144, covariance_type='diag',n_init = 50) # min shape[0] = 135 # max = 1112\n",
    "gmm_sp  = GMM(n_components = 144, covariance_type='diag',n_init = 50)  # min shape[0] = 64  # max = 1318"
   ]
  },
  {
   "cell_type": "code",
   "execution_count": 160,
   "metadata": {
    "ExecuteTime": {
     "end_time": "2021-03-12T10:51:40.403281Z",
     "start_time": "2021-03-12T10:51:40.399904Z"
    }
   },
   "outputs": [],
   "source": [
    "bondata = []\n",
    "spdata = []\n",
    "feature_type = 'mfcc'\n",
    "dest = '/Users/asimadnan/Desktop/Mres/Experiments/Models/'"
   ]
  },
  {
   "cell_type": "code",
   "execution_count": 161,
   "metadata": {
    "ExecuteTime": {
     "end_time": "2021-03-12T10:51:43.727308Z",
     "start_time": "2021-03-12T10:51:43.721716Z"
    }
   },
   "outputs": [],
   "source": [
    "#seperate bonafide and spoof data for 2 GMMS\n",
    "for feature,filename,label in final_data:\n",
    "    if (label == 'bonafide'):\n",
    "        #i += 1\n",
    "        bondata.append(feature)\n",
    "    elif(label == 'spoof'):\n",
    "        spdata.append(feature)\n",
    "    "
   ]
  },
  {
   "cell_type": "code",
   "execution_count": 162,
   "metadata": {
    "ExecuteTime": {
     "end_time": "2021-03-12T10:51:47.982264Z",
     "start_time": "2021-03-12T10:51:47.974979Z"
    }
   },
   "outputs": [
    {
     "name": "stdout",
     "output_type": "stream",
     "text": [
      "Bon feature stacked, shape as:  (3, 1000)\n",
      "Sp feature stacked, shape as:  (3, 1000)\n"
     ]
    }
   ],
   "source": [
    "Xbon = np.vstack(bondata)\n",
    "print('Bon feature stacked, shape as: ', Xbon.shape)\n",
    "Xsp = np.vstack(spdata)\n",
    "print('Sp feature stacked, shape as: ', Xsp.shape)"
   ]
  },
  {
   "cell_type": "code",
   "execution_count": null,
   "metadata": {},
   "outputs": [],
   "source": []
  },
  {
   "cell_type": "code",
   "execution_count": null,
   "metadata": {},
   "outputs": [],
   "source": []
  },
  {
   "cell_type": "code",
   "execution_count": 112,
   "metadata": {
    "ExecuteTime": {
     "end_time": "2021-03-12T10:08:50.814987Z",
     "start_time": "2021-03-12T10:08:50.807665Z"
    }
   },
   "outputs": [
    {
     "data": {
      "text/plain": [
       "(20, 100)"
      ]
     },
     "execution_count": 112,
     "metadata": {},
     "output_type": "execute_result"
    }
   ],
   "source": [
    "features[0][0].shape"
   ]
  },
  {
   "cell_type": "code",
   "execution_count": 115,
   "metadata": {
    "ExecuteTime": {
     "end_time": "2021-03-12T10:11:36.063973Z",
     "start_time": "2021-03-12T10:11:36.042112Z"
    }
   },
   "outputs": [
    {
     "data": {
      "text/plain": [
       "20"
      ]
     },
     "execution_count": 115,
     "metadata": {},
     "output_type": "execute_result"
    }
   ],
   "source": [
    "len(features[0][0])"
   ]
  },
  {
   "cell_type": "code",
   "execution_count": 113,
   "metadata": {
    "ExecuteTime": {
     "end_time": "2021-03-12T10:10:25.689414Z",
     "start_time": "2021-03-12T10:10:25.610510Z"
    }
   },
   "outputs": [
    {
     "data": {
      "text/html": [
       "<div>\n",
       "<style scoped>\n",
       "    .dataframe tbody tr th:only-of-type {\n",
       "        vertical-align: middle;\n",
       "    }\n",
       "\n",
       "    .dataframe tbody tr th {\n",
       "        vertical-align: top;\n",
       "    }\n",
       "\n",
       "    .dataframe thead th {\n",
       "        text-align: right;\n",
       "    }\n",
       "</style>\n",
       "<table border=\"1\" class=\"dataframe\">\n",
       "  <thead>\n",
       "    <tr style=\"text-align: right;\">\n",
       "      <th></th>\n",
       "      <th>0</th>\n",
       "      <th>1</th>\n",
       "      <th>2</th>\n",
       "      <th>3</th>\n",
       "      <th>4</th>\n",
       "      <th>5</th>\n",
       "      <th>6</th>\n",
       "      <th>7</th>\n",
       "      <th>8</th>\n",
       "      <th>9</th>\n",
       "      <th>...</th>\n",
       "      <th>90</th>\n",
       "      <th>91</th>\n",
       "      <th>92</th>\n",
       "      <th>93</th>\n",
       "      <th>94</th>\n",
       "      <th>95</th>\n",
       "      <th>96</th>\n",
       "      <th>97</th>\n",
       "      <th>98</th>\n",
       "      <th>99</th>\n",
       "    </tr>\n",
       "  </thead>\n",
       "  <tbody>\n",
       "    <tr>\n",
       "      <th>0</th>\n",
       "      <td>-551.235107</td>\n",
       "      <td>-553.217224</td>\n",
       "      <td>-554.467407</td>\n",
       "      <td>-553.723389</td>\n",
       "      <td>-557.227051</td>\n",
       "      <td>-558.310974</td>\n",
       "      <td>-557.043152</td>\n",
       "      <td>-556.465088</td>\n",
       "      <td>-556.485718</td>\n",
       "      <td>-557.881042</td>\n",
       "      <td>...</td>\n",
       "      <td>-437.631683</td>\n",
       "      <td>-372.205048</td>\n",
       "      <td>-321.854675</td>\n",
       "      <td>-294.829742</td>\n",
       "      <td>-291.342529</td>\n",
       "      <td>-308.167084</td>\n",
       "      <td>-340.274841</td>\n",
       "      <td>-407.162872</td>\n",
       "      <td>-491.195892</td>\n",
       "      <td>-527.351990</td>\n",
       "    </tr>\n",
       "    <tr>\n",
       "      <th>1</th>\n",
       "      <td>28.366322</td>\n",
       "      <td>25.746496</td>\n",
       "      <td>23.775158</td>\n",
       "      <td>24.574547</td>\n",
       "      <td>19.696026</td>\n",
       "      <td>18.196518</td>\n",
       "      <td>19.958418</td>\n",
       "      <td>20.815399</td>\n",
       "      <td>20.848114</td>\n",
       "      <td>18.903114</td>\n",
       "      <td>...</td>\n",
       "      <td>-15.073683</td>\n",
       "      <td>-18.616821</td>\n",
       "      <td>-8.371799</td>\n",
       "      <td>6.737293</td>\n",
       "      <td>21.140430</td>\n",
       "      <td>37.390320</td>\n",
       "      <td>55.999847</td>\n",
       "      <td>69.897713</td>\n",
       "      <td>75.487823</td>\n",
       "      <td>52.443794</td>\n",
       "    </tr>\n",
       "    <tr>\n",
       "      <th>2</th>\n",
       "      <td>26.904770</td>\n",
       "      <td>24.729832</td>\n",
       "      <td>22.222658</td>\n",
       "      <td>22.359060</td>\n",
       "      <td>17.715321</td>\n",
       "      <td>16.359125</td>\n",
       "      <td>18.004087</td>\n",
       "      <td>18.924038</td>\n",
       "      <td>19.117283</td>\n",
       "      <td>17.289360</td>\n",
       "      <td>...</td>\n",
       "      <td>8.217652</td>\n",
       "      <td>-14.679516</td>\n",
       "      <td>-33.391384</td>\n",
       "      <td>-46.571083</td>\n",
       "      <td>-60.533279</td>\n",
       "      <td>-58.071423</td>\n",
       "      <td>-41.000633</td>\n",
       "      <td>-19.073334</td>\n",
       "      <td>16.455784</td>\n",
       "      <td>31.093760</td>\n",
       "    </tr>\n",
       "    <tr>\n",
       "      <th>3</th>\n",
       "      <td>24.826057</td>\n",
       "      <td>23.118698</td>\n",
       "      <td>19.936916</td>\n",
       "      <td>19.244921</td>\n",
       "      <td>15.006641</td>\n",
       "      <td>13.987896</td>\n",
       "      <td>15.371122</td>\n",
       "      <td>16.242851</td>\n",
       "      <td>16.641663</td>\n",
       "      <td>15.092255</td>\n",
       "      <td>...</td>\n",
       "      <td>12.823214</td>\n",
       "      <td>10.070377</td>\n",
       "      <td>15.170005</td>\n",
       "      <td>24.493111</td>\n",
       "      <td>18.799023</td>\n",
       "      <td>13.258192</td>\n",
       "      <td>12.611596</td>\n",
       "      <td>0.409822</td>\n",
       "      <td>-5.083149</td>\n",
       "      <td>14.448299</td>\n",
       "    </tr>\n",
       "    <tr>\n",
       "      <th>4</th>\n",
       "      <td>22.447601</td>\n",
       "      <td>21.025766</td>\n",
       "      <td>17.273632</td>\n",
       "      <td>15.875332</td>\n",
       "      <td>12.219442</td>\n",
       "      <td>11.757902</td>\n",
       "      <td>12.672213</td>\n",
       "      <td>13.248064</td>\n",
       "      <td>13.861832</td>\n",
       "      <td>12.810579</td>\n",
       "      <td>...</td>\n",
       "      <td>-30.583443</td>\n",
       "      <td>-49.443638</td>\n",
       "      <td>-62.021118</td>\n",
       "      <td>-57.777580</td>\n",
       "      <td>-41.912464</td>\n",
       "      <td>-28.238503</td>\n",
       "      <td>-26.111090</td>\n",
       "      <td>-24.514397</td>\n",
       "      <td>-2.596131</td>\n",
       "      <td>7.119341</td>\n",
       "    </tr>\n",
       "    <tr>\n",
       "      <th>5</th>\n",
       "      <td>19.945921</td>\n",
       "      <td>18.587364</td>\n",
       "      <td>14.573210</td>\n",
       "      <td>12.802100</td>\n",
       "      <td>9.891603</td>\n",
       "      <td>10.097176</td>\n",
       "      <td>10.309633</td>\n",
       "      <td>10.290046</td>\n",
       "      <td>11.141396</td>\n",
       "      <td>10.795897</td>\n",
       "      <td>...</td>\n",
       "      <td>46.421955</td>\n",
       "      <td>41.780373</td>\n",
       "      <td>25.717718</td>\n",
       "      <td>15.318632</td>\n",
       "      <td>14.353361</td>\n",
       "      <td>20.391747</td>\n",
       "      <td>21.276455</td>\n",
       "      <td>10.929760</td>\n",
       "      <td>1.106476</td>\n",
       "      <td>4.286587</td>\n",
       "    </tr>\n",
       "    <tr>\n",
       "      <th>6</th>\n",
       "      <td>17.344976</td>\n",
       "      <td>15.948328</td>\n",
       "      <td>12.073785</td>\n",
       "      <td>10.322955</td>\n",
       "      <td>8.278087</td>\n",
       "      <td>9.027128</td>\n",
       "      <td>8.347827</td>\n",
       "      <td>7.517398</td>\n",
       "      <td>8.675689</td>\n",
       "      <td>9.138205</td>\n",
       "      <td>...</td>\n",
       "      <td>-24.838734</td>\n",
       "      <td>-43.091309</td>\n",
       "      <td>-47.592876</td>\n",
       "      <td>-51.628551</td>\n",
       "      <td>-51.838993</td>\n",
       "      <td>-44.592506</td>\n",
       "      <td>-29.875458</td>\n",
       "      <td>-13.253798</td>\n",
       "      <td>-4.187895</td>\n",
       "      <td>4.246969</td>\n",
       "    </tr>\n",
       "    <tr>\n",
       "      <th>7</th>\n",
       "      <td>14.627218</td>\n",
       "      <td>13.249151</td>\n",
       "      <td>9.868713</td>\n",
       "      <td>8.439388</td>\n",
       "      <td>7.310728</td>\n",
       "      <td>8.227248</td>\n",
       "      <td>6.587021</td>\n",
       "      <td>4.940468</td>\n",
       "      <td>6.498029</td>\n",
       "      <td>7.697647</td>\n",
       "      <td>...</td>\n",
       "      <td>24.668674</td>\n",
       "      <td>24.617886</td>\n",
       "      <td>23.736544</td>\n",
       "      <td>23.796532</td>\n",
       "      <td>22.547592</td>\n",
       "      <td>14.822548</td>\n",
       "      <td>1.113088</td>\n",
       "      <td>-8.282784</td>\n",
       "      <td>-4.110465</td>\n",
       "      <td>8.638052</td>\n",
       "    </tr>\n",
       "    <tr>\n",
       "      <th>8</th>\n",
       "      <td>11.860617</td>\n",
       "      <td>10.616932</td>\n",
       "      <td>7.919743</td>\n",
       "      <td>6.940048</td>\n",
       "      <td>6.695029</td>\n",
       "      <td>7.267661</td>\n",
       "      <td>4.772885</td>\n",
       "      <td>2.570363</td>\n",
       "      <td>4.560843</td>\n",
       "      <td>6.248882</td>\n",
       "      <td>...</td>\n",
       "      <td>-11.048569</td>\n",
       "      <td>-17.561525</td>\n",
       "      <td>-26.830612</td>\n",
       "      <td>-23.794670</td>\n",
       "      <td>-11.679419</td>\n",
       "      <td>-2.919087</td>\n",
       "      <td>-0.138705</td>\n",
       "      <td>5.344200</td>\n",
       "      <td>8.138214</td>\n",
       "      <td>13.697525</td>\n",
       "    </tr>\n",
       "    <tr>\n",
       "      <th>9</th>\n",
       "      <td>9.230695</td>\n",
       "      <td>8.160447</td>\n",
       "      <td>6.115484</td>\n",
       "      <td>5.558606</td>\n",
       "      <td>6.088627</td>\n",
       "      <td>5.866244</td>\n",
       "      <td>2.802913</td>\n",
       "      <td>0.523641</td>\n",
       "      <td>2.830508</td>\n",
       "      <td>4.646896</td>\n",
       "      <td>...</td>\n",
       "      <td>12.920789</td>\n",
       "      <td>11.968887</td>\n",
       "      <td>11.031855</td>\n",
       "      <td>0.520792</td>\n",
       "      <td>-2.759276</td>\n",
       "      <td>-5.233954</td>\n",
       "      <td>-9.978817</td>\n",
       "      <td>-9.433331</td>\n",
       "      <td>5.790260</td>\n",
       "      <td>12.498693</td>\n",
       "    </tr>\n",
       "    <tr>\n",
       "      <th>10</th>\n",
       "      <td>6.953351</td>\n",
       "      <td>5.967820</td>\n",
       "      <td>4.348284</td>\n",
       "      <td>4.126244</td>\n",
       "      <td>5.273319</td>\n",
       "      <td>4.029949</td>\n",
       "      <td>0.806152</td>\n",
       "      <td>-0.988014</td>\n",
       "      <td>1.336835</td>\n",
       "      <td>2.921223</td>\n",
       "      <td>...</td>\n",
       "      <td>-9.864542</td>\n",
       "      <td>-12.230570</td>\n",
       "      <td>-8.521051</td>\n",
       "      <td>-6.124127</td>\n",
       "      <td>-13.177002</td>\n",
       "      <td>-18.852764</td>\n",
       "      <td>-21.764053</td>\n",
       "      <td>-18.203415</td>\n",
       "      <td>-5.364039</td>\n",
       "      <td>5.837012</td>\n",
       "    </tr>\n",
       "    <tr>\n",
       "      <th>11</th>\n",
       "      <td>5.148382</td>\n",
       "      <td>4.105415</td>\n",
       "      <td>2.577643</td>\n",
       "      <td>2.649019</td>\n",
       "      <td>4.242765</td>\n",
       "      <td>2.021794</td>\n",
       "      <td>-0.937419</td>\n",
       "      <td>-1.778016</td>\n",
       "      <td>0.154574</td>\n",
       "      <td>1.256232</td>\n",
       "      <td>...</td>\n",
       "      <td>-4.319084</td>\n",
       "      <td>-2.628102</td>\n",
       "      <td>-3.170462</td>\n",
       "      <td>-0.350708</td>\n",
       "      <td>0.254151</td>\n",
       "      <td>-2.595196</td>\n",
       "      <td>-4.661335</td>\n",
       "      <td>-0.395892</td>\n",
       "      <td>-0.628744</td>\n",
       "      <td>1.490911</td>\n",
       "    </tr>\n",
       "    <tr>\n",
       "      <th>12</th>\n",
       "      <td>3.785722</td>\n",
       "      <td>2.616266</td>\n",
       "      <td>0.855808</td>\n",
       "      <td>1.282500</td>\n",
       "      <td>3.172901</td>\n",
       "      <td>0.200320</td>\n",
       "      <td>-2.169084</td>\n",
       "      <td>-1.829862</td>\n",
       "      <td>-0.659181</td>\n",
       "      <td>-0.115841</td>\n",
       "      <td>...</td>\n",
       "      <td>13.689383</td>\n",
       "      <td>15.918761</td>\n",
       "      <td>21.807213</td>\n",
       "      <td>24.480347</td>\n",
       "      <td>25.802885</td>\n",
       "      <td>22.634659</td>\n",
       "      <td>26.309971</td>\n",
       "      <td>23.869087</td>\n",
       "      <td>10.409304</td>\n",
       "      <td>1.840281</td>\n",
       "    </tr>\n",
       "    <tr>\n",
       "      <th>13</th>\n",
       "      <td>2.752207</td>\n",
       "      <td>1.517978</td>\n",
       "      <td>-0.692039</td>\n",
       "      <td>0.227838</td>\n",
       "      <td>2.300622</td>\n",
       "      <td>-1.158915</td>\n",
       "      <td>-2.797089</td>\n",
       "      <td>-1.359088</td>\n",
       "      <td>-1.121888</td>\n",
       "      <td>-1.037125</td>\n",
       "      <td>...</td>\n",
       "      <td>-13.054493</td>\n",
       "      <td>-12.567663</td>\n",
       "      <td>-10.438265</td>\n",
       "      <td>-11.603627</td>\n",
       "      <td>-8.931381</td>\n",
       "      <td>-8.557405</td>\n",
       "      <td>-6.297359</td>\n",
       "      <td>1.600405</td>\n",
       "      <td>12.106772</td>\n",
       "      <td>1.074245</td>\n",
       "    </tr>\n",
       "    <tr>\n",
       "      <th>14</th>\n",
       "      <td>1.979970</td>\n",
       "      <td>0.800922</td>\n",
       "      <td>-1.921512</td>\n",
       "      <td>-0.390586</td>\n",
       "      <td>1.778342</td>\n",
       "      <td>-1.961520</td>\n",
       "      <td>-2.928668</td>\n",
       "      <td>-0.737681</td>\n",
       "      <td>-1.335756</td>\n",
       "      <td>-1.492180</td>\n",
       "      <td>...</td>\n",
       "      <td>8.814795</td>\n",
       "      <td>11.512079</td>\n",
       "      <td>8.019459</td>\n",
       "      <td>8.847467</td>\n",
       "      <td>8.560181</td>\n",
       "      <td>-1.845600</td>\n",
       "      <td>-12.635505</td>\n",
       "      <td>-5.708923</td>\n",
       "      <td>0.429246</td>\n",
       "      <td>-3.679651</td>\n",
       "    </tr>\n",
       "    <tr>\n",
       "      <th>15</th>\n",
       "      <td>1.521803</td>\n",
       "      <td>0.428328</td>\n",
       "      <td>-2.732435</td>\n",
       "      <td>-0.601766</td>\n",
       "      <td>1.579501</td>\n",
       "      <td>-2.281461</td>\n",
       "      <td>-2.784870</td>\n",
       "      <td>-0.318541</td>\n",
       "      <td>-1.444913</td>\n",
       "      <td>-1.594612</td>\n",
       "      <td>...</td>\n",
       "      <td>-12.424225</td>\n",
       "      <td>-12.377872</td>\n",
       "      <td>-18.082619</td>\n",
       "      <td>-18.011026</td>\n",
       "      <td>-15.533440</td>\n",
       "      <td>-22.477943</td>\n",
       "      <td>-28.007828</td>\n",
       "      <td>-17.438320</td>\n",
       "      <td>-10.331302</td>\n",
       "      <td>-7.427498</td>\n",
       "    </tr>\n",
       "    <tr>\n",
       "      <th>16</th>\n",
       "      <td>1.501400</td>\n",
       "      <td>0.339830</td>\n",
       "      <td>-3.114577</td>\n",
       "      <td>-0.582753</td>\n",
       "      <td>1.501166</td>\n",
       "      <td>-2.279191</td>\n",
       "      <td>-2.571435</td>\n",
       "      <td>-0.266397</td>\n",
       "      <td>-1.569046</td>\n",
       "      <td>-1.516479</td>\n",
       "      <td>...</td>\n",
       "      <td>13.581917</td>\n",
       "      <td>23.051250</td>\n",
       "      <td>25.557047</td>\n",
       "      <td>18.541363</td>\n",
       "      <td>13.844757</td>\n",
       "      <td>8.158421</td>\n",
       "      <td>-2.234836</td>\n",
       "      <td>-9.995491</td>\n",
       "      <td>-7.418155</td>\n",
       "      <td>-6.729111</td>\n",
       "    </tr>\n",
       "    <tr>\n",
       "      <th>17</th>\n",
       "      <td>1.973695</td>\n",
       "      <td>0.459061</td>\n",
       "      <td>-3.157128</td>\n",
       "      <td>-0.578463</td>\n",
       "      <td>1.259834</td>\n",
       "      <td>-2.122068</td>\n",
       "      <td>-2.397547</td>\n",
       "      <td>-0.500780</td>\n",
       "      <td>-1.756295</td>\n",
       "      <td>-1.412162</td>\n",
       "      <td>...</td>\n",
       "      <td>-13.964731</td>\n",
       "      <td>-16.738331</td>\n",
       "      <td>-14.559135</td>\n",
       "      <td>-14.382745</td>\n",
       "      <td>-13.215879</td>\n",
       "      <td>-10.359785</td>\n",
       "      <td>-7.130126</td>\n",
       "      <td>-2.949377</td>\n",
       "      <td>-6.143126</td>\n",
       "      <td>-5.674174</td>\n",
       "    </tr>\n",
       "    <tr>\n",
       "      <th>18</th>\n",
       "      <td>2.811986</td>\n",
       "      <td>0.704303</td>\n",
       "      <td>-3.019051</td>\n",
       "      <td>-0.790526</td>\n",
       "      <td>0.631032</td>\n",
       "      <td>-1.951858</td>\n",
       "      <td>-2.286732</td>\n",
       "      <td>-0.785242</td>\n",
       "      <td>-1.982370</td>\n",
       "      <td>-1.378824</td>\n",
       "      <td>...</td>\n",
       "      <td>-1.580395</td>\n",
       "      <td>3.698584</td>\n",
       "      <td>4.111812</td>\n",
       "      <td>-1.578797</td>\n",
       "      <td>-3.466854</td>\n",
       "      <td>-6.132483</td>\n",
       "      <td>-9.237875</td>\n",
       "      <td>-9.865303</td>\n",
       "      <td>-7.342961</td>\n",
       "      <td>-7.697251</td>\n",
       "    </tr>\n",
       "    <tr>\n",
       "      <th>19</th>\n",
       "      <td>3.724458</td>\n",
       "      <td>1.000193</td>\n",
       "      <td>-2.873028</td>\n",
       "      <td>-1.291237</td>\n",
       "      <td>-0.436025</td>\n",
       "      <td>-1.891310</td>\n",
       "      <td>-2.250137</td>\n",
       "      <td>-0.902876</td>\n",
       "      <td>-2.189862</td>\n",
       "      <td>-1.461133</td>\n",
       "      <td>...</td>\n",
       "      <td>0.421402</td>\n",
       "      <td>4.469769</td>\n",
       "      <td>11.810795</td>\n",
       "      <td>11.126225</td>\n",
       "      <td>6.752218</td>\n",
       "      <td>6.009085</td>\n",
       "      <td>7.168567</td>\n",
       "      <td>5.432876</td>\n",
       "      <td>-3.261277</td>\n",
       "      <td>-8.710932</td>\n",
       "    </tr>\n",
       "  </tbody>\n",
       "</table>\n",
       "<p>20 rows × 100 columns</p>\n",
       "</div>"
      ],
      "text/plain": [
       "            0           1           2           3           4           5   \\\n",
       "0  -551.235107 -553.217224 -554.467407 -553.723389 -557.227051 -558.310974   \n",
       "1    28.366322   25.746496   23.775158   24.574547   19.696026   18.196518   \n",
       "2    26.904770   24.729832   22.222658   22.359060   17.715321   16.359125   \n",
       "3    24.826057   23.118698   19.936916   19.244921   15.006641   13.987896   \n",
       "4    22.447601   21.025766   17.273632   15.875332   12.219442   11.757902   \n",
       "5    19.945921   18.587364   14.573210   12.802100    9.891603   10.097176   \n",
       "6    17.344976   15.948328   12.073785   10.322955    8.278087    9.027128   \n",
       "7    14.627218   13.249151    9.868713    8.439388    7.310728    8.227248   \n",
       "8    11.860617   10.616932    7.919743    6.940048    6.695029    7.267661   \n",
       "9     9.230695    8.160447    6.115484    5.558606    6.088627    5.866244   \n",
       "10    6.953351    5.967820    4.348284    4.126244    5.273319    4.029949   \n",
       "11    5.148382    4.105415    2.577643    2.649019    4.242765    2.021794   \n",
       "12    3.785722    2.616266    0.855808    1.282500    3.172901    0.200320   \n",
       "13    2.752207    1.517978   -0.692039    0.227838    2.300622   -1.158915   \n",
       "14    1.979970    0.800922   -1.921512   -0.390586    1.778342   -1.961520   \n",
       "15    1.521803    0.428328   -2.732435   -0.601766    1.579501   -2.281461   \n",
       "16    1.501400    0.339830   -3.114577   -0.582753    1.501166   -2.279191   \n",
       "17    1.973695    0.459061   -3.157128   -0.578463    1.259834   -2.122068   \n",
       "18    2.811986    0.704303   -3.019051   -0.790526    0.631032   -1.951858   \n",
       "19    3.724458    1.000193   -2.873028   -1.291237   -0.436025   -1.891310   \n",
       "\n",
       "            6           7           8           9   ...          90  \\\n",
       "0  -557.043152 -556.465088 -556.485718 -557.881042  ... -437.631683   \n",
       "1    19.958418   20.815399   20.848114   18.903114  ...  -15.073683   \n",
       "2    18.004087   18.924038   19.117283   17.289360  ...    8.217652   \n",
       "3    15.371122   16.242851   16.641663   15.092255  ...   12.823214   \n",
       "4    12.672213   13.248064   13.861832   12.810579  ...  -30.583443   \n",
       "5    10.309633   10.290046   11.141396   10.795897  ...   46.421955   \n",
       "6     8.347827    7.517398    8.675689    9.138205  ...  -24.838734   \n",
       "7     6.587021    4.940468    6.498029    7.697647  ...   24.668674   \n",
       "8     4.772885    2.570363    4.560843    6.248882  ...  -11.048569   \n",
       "9     2.802913    0.523641    2.830508    4.646896  ...   12.920789   \n",
       "10    0.806152   -0.988014    1.336835    2.921223  ...   -9.864542   \n",
       "11   -0.937419   -1.778016    0.154574    1.256232  ...   -4.319084   \n",
       "12   -2.169084   -1.829862   -0.659181   -0.115841  ...   13.689383   \n",
       "13   -2.797089   -1.359088   -1.121888   -1.037125  ...  -13.054493   \n",
       "14   -2.928668   -0.737681   -1.335756   -1.492180  ...    8.814795   \n",
       "15   -2.784870   -0.318541   -1.444913   -1.594612  ...  -12.424225   \n",
       "16   -2.571435   -0.266397   -1.569046   -1.516479  ...   13.581917   \n",
       "17   -2.397547   -0.500780   -1.756295   -1.412162  ...  -13.964731   \n",
       "18   -2.286732   -0.785242   -1.982370   -1.378824  ...   -1.580395   \n",
       "19   -2.250137   -0.902876   -2.189862   -1.461133  ...    0.421402   \n",
       "\n",
       "            91          92          93          94          95          96  \\\n",
       "0  -372.205048 -321.854675 -294.829742 -291.342529 -308.167084 -340.274841   \n",
       "1   -18.616821   -8.371799    6.737293   21.140430   37.390320   55.999847   \n",
       "2   -14.679516  -33.391384  -46.571083  -60.533279  -58.071423  -41.000633   \n",
       "3    10.070377   15.170005   24.493111   18.799023   13.258192   12.611596   \n",
       "4   -49.443638  -62.021118  -57.777580  -41.912464  -28.238503  -26.111090   \n",
       "5    41.780373   25.717718   15.318632   14.353361   20.391747   21.276455   \n",
       "6   -43.091309  -47.592876  -51.628551  -51.838993  -44.592506  -29.875458   \n",
       "7    24.617886   23.736544   23.796532   22.547592   14.822548    1.113088   \n",
       "8   -17.561525  -26.830612  -23.794670  -11.679419   -2.919087   -0.138705   \n",
       "9    11.968887   11.031855    0.520792   -2.759276   -5.233954   -9.978817   \n",
       "10  -12.230570   -8.521051   -6.124127  -13.177002  -18.852764  -21.764053   \n",
       "11   -2.628102   -3.170462   -0.350708    0.254151   -2.595196   -4.661335   \n",
       "12   15.918761   21.807213   24.480347   25.802885   22.634659   26.309971   \n",
       "13  -12.567663  -10.438265  -11.603627   -8.931381   -8.557405   -6.297359   \n",
       "14   11.512079    8.019459    8.847467    8.560181   -1.845600  -12.635505   \n",
       "15  -12.377872  -18.082619  -18.011026  -15.533440  -22.477943  -28.007828   \n",
       "16   23.051250   25.557047   18.541363   13.844757    8.158421   -2.234836   \n",
       "17  -16.738331  -14.559135  -14.382745  -13.215879  -10.359785   -7.130126   \n",
       "18    3.698584    4.111812   -1.578797   -3.466854   -6.132483   -9.237875   \n",
       "19    4.469769   11.810795   11.126225    6.752218    6.009085    7.168567   \n",
       "\n",
       "            97          98          99  \n",
       "0  -407.162872 -491.195892 -527.351990  \n",
       "1    69.897713   75.487823   52.443794  \n",
       "2   -19.073334   16.455784   31.093760  \n",
       "3     0.409822   -5.083149   14.448299  \n",
       "4   -24.514397   -2.596131    7.119341  \n",
       "5    10.929760    1.106476    4.286587  \n",
       "6   -13.253798   -4.187895    4.246969  \n",
       "7    -8.282784   -4.110465    8.638052  \n",
       "8     5.344200    8.138214   13.697525  \n",
       "9    -9.433331    5.790260   12.498693  \n",
       "10  -18.203415   -5.364039    5.837012  \n",
       "11   -0.395892   -0.628744    1.490911  \n",
       "12   23.869087   10.409304    1.840281  \n",
       "13    1.600405   12.106772    1.074245  \n",
       "14   -5.708923    0.429246   -3.679651  \n",
       "15  -17.438320  -10.331302   -7.427498  \n",
       "16   -9.995491   -7.418155   -6.729111  \n",
       "17   -2.949377   -6.143126   -5.674174  \n",
       "18   -9.865303   -7.342961   -7.697251  \n",
       "19    5.432876   -3.261277   -8.710932  \n",
       "\n",
       "[20 rows x 100 columns]"
      ]
     },
     "execution_count": 113,
     "metadata": {},
     "output_type": "execute_result"
    }
   ],
   "source": [
    "pd.DataFrame(data=features[0][0])"
   ]
  },
  {
   "cell_type": "code",
   "execution_count": 73,
   "metadata": {
    "ExecuteTime": {
     "end_time": "2021-03-12T09:33:12.723666Z",
     "start_time": "2021-03-12T09:33:12.712197Z"
    }
   },
   "outputs": [
    {
     "data": {
      "text/plain": [
       "(20, 79)"
      ]
     },
     "execution_count": 73,
     "metadata": {},
     "output_type": "execute_result"
    }
   ],
   "source": [
    "mfcc_sample.shape"
   ]
  },
  {
   "cell_type": "code",
   "execution_count": 20,
   "metadata": {
    "ExecuteTime": {
     "end_time": "2021-03-07T09:30:01.484889Z",
     "start_time": "2021-03-07T09:30:01.393711Z"
    }
   },
   "outputs": [],
   "source": [
    "filename = librosa.example('nutcracker')\n",
    "y, sr = librosa.load(path)\n"
   ]
  },
  {
   "cell_type": "code",
   "execution_count": 84,
   "metadata": {
    "ExecuteTime": {
     "end_time": "2021-03-12T09:37:55.656197Z",
     "start_time": "2021-03-12T09:37:55.644972Z"
    }
   },
   "outputs": [
    {
     "data": {
      "text/plain": [
       "18"
      ]
     },
     "execution_count": 84,
     "metadata": {},
     "output_type": "execute_result"
    }
   ],
   "source": [
    "np.where(la_train_labels.values=='LA_T_2361751')[0][0]"
   ]
  },
  {
   "cell_type": "code",
   "execution_count": 89,
   "metadata": {
    "ExecuteTime": {
     "end_time": "2021-03-12T09:44:18.267315Z",
     "start_time": "2021-03-12T09:44:18.258519Z"
    }
   },
   "outputs": [
    {
     "data": {
      "text/plain": [
       "'bonafide'"
      ]
     },
     "execution_count": 89,
     "metadata": {},
     "output_type": "execute_result"
    }
   ],
   "source": [
    "la_train_labels.values[18][4]"
   ]
  },
  {
   "cell_type": "code",
   "execution_count": 22,
   "metadata": {
    "ExecuteTime": {
     "end_time": "2021-03-07T09:30:03.330279Z",
     "start_time": "2021-03-07T09:30:03.182806Z"
    }
   },
   "outputs": [],
   "source": [
    "# Separate harmonics and percussives into two waveforms\n",
    "y_harmonic, y_percussive = librosa.effects.hpss(y)"
   ]
  },
  {
   "cell_type": "code",
   "execution_count": 23,
   "metadata": {
    "ExecuteTime": {
     "end_time": "2021-03-07T09:30:03.793069Z",
     "start_time": "2021-03-07T09:30:03.757742Z"
    }
   },
   "outputs": [],
   "source": [
    "# Beat track on the percussive signal\n",
    "tempo, beat_frames = librosa.beat.beat_track(y=y_percussive,sr=sr)"
   ]
  },
  {
   "cell_type": "code",
   "execution_count": 24,
   "metadata": {
    "ExecuteTime": {
     "end_time": "2021-03-07T09:30:04.273847Z",
     "start_time": "2021-03-07T09:30:04.255668Z"
    }
   },
   "outputs": [],
   "source": [
    "# Compute MFCC features from the raw signal\n",
    "mfcc = librosa.feature.mfcc(y=y, sr=sr, hop_length=hop_length, n_mfcc=13)\n"
   ]
  },
  {
   "cell_type": "code",
   "execution_count": 27,
   "metadata": {
    "ExecuteTime": {
     "end_time": "2021-03-10T12:58:02.158195Z",
     "start_time": "2021-03-10T12:58:02.145576Z"
    }
   },
   "outputs": [
    {
     "data": {
      "text/plain": [
       "(13, 108)"
      ]
     },
     "execution_count": 27,
     "metadata": {},
     "output_type": "execute_result"
    }
   ],
   "source": [
    "mfcc.shape"
   ]
  },
  {
   "cell_type": "code",
   "execution_count": 30,
   "metadata": {
    "ExecuteTime": {
     "end_time": "2021-03-10T12:59:32.316678Z",
     "start_time": "2021-03-10T12:59:32.307862Z"
    }
   },
   "outputs": [
    {
     "data": {
      "text/plain": [
       "array([[-5.7725134e+02, -5.7443140e+02, -5.6305115e+02, ...,\n",
       "        -5.9215002e+02, -5.9236627e+02, -5.9290540e+02],\n",
       "       [ 2.2329237e+01,  2.6190737e+01,  3.9650543e+01, ...,\n",
       "         1.7013292e+00,  1.3962271e+00,  6.3580132e-01],\n",
       "       [ 2.1114815e+01,  2.4584599e+01,  3.2721329e+01, ...,\n",
       "         1.6894166e+00,  1.3865058e+00,  6.3220859e-01],\n",
       "       ...,\n",
       "       [ 6.8366833e+00,  4.0916414e+00, -1.7278962e+00, ...,\n",
       "         1.3242446e+00,  1.0884244e+00,  5.2080083e-01],\n",
       "       [ 5.0499392e+00,  2.3161101e+00, -2.1820407e+00, ...,\n",
       "         1.2484130e+00,  1.0265031e+00,  4.9732968e-01],\n",
       "       [ 3.5925984e+00,  9.7300601e-01, -3.7069716e+00, ...,\n",
       "         1.1669822e+00,  9.6000022e-01,  4.7198355e-01]], dtype=float32)"
      ]
     },
     "execution_count": 30,
     "metadata": {},
     "output_type": "execute_result"
    }
   ],
   "source": [
    "mfcc"
   ]
  },
  {
   "cell_type": "code",
   "execution_count": 31,
   "metadata": {
    "ExecuteTime": {
     "end_time": "2021-03-10T12:59:47.764089Z",
     "start_time": "2021-03-10T12:59:47.644207Z"
    }
   },
   "outputs": [
    {
     "data": {
      "text/html": [
       "<div>\n",
       "<style scoped>\n",
       "    .dataframe tbody tr th:only-of-type {\n",
       "        vertical-align: middle;\n",
       "    }\n",
       "\n",
       "    .dataframe tbody tr th {\n",
       "        vertical-align: top;\n",
       "    }\n",
       "\n",
       "    .dataframe thead th {\n",
       "        text-align: right;\n",
       "    }\n",
       "</style>\n",
       "<table border=\"1\" class=\"dataframe\">\n",
       "  <thead>\n",
       "    <tr style=\"text-align: right;\">\n",
       "      <th></th>\n",
       "      <th>0</th>\n",
       "      <th>1</th>\n",
       "      <th>2</th>\n",
       "      <th>3</th>\n",
       "      <th>4</th>\n",
       "      <th>5</th>\n",
       "      <th>6</th>\n",
       "      <th>7</th>\n",
       "      <th>8</th>\n",
       "      <th>9</th>\n",
       "      <th>...</th>\n",
       "      <th>98</th>\n",
       "      <th>99</th>\n",
       "      <th>100</th>\n",
       "      <th>101</th>\n",
       "      <th>102</th>\n",
       "      <th>103</th>\n",
       "      <th>104</th>\n",
       "      <th>105</th>\n",
       "      <th>106</th>\n",
       "      <th>107</th>\n",
       "    </tr>\n",
       "  </thead>\n",
       "  <tbody>\n",
       "    <tr>\n",
       "      <th>0</th>\n",
       "      <td>-577.251343</td>\n",
       "      <td>-574.431396</td>\n",
       "      <td>-563.051147</td>\n",
       "      <td>-545.598083</td>\n",
       "      <td>-551.294067</td>\n",
       "      <td>-418.369843</td>\n",
       "      <td>-347.876984</td>\n",
       "      <td>-247.094391</td>\n",
       "      <td>-167.910172</td>\n",
       "      <td>-176.151443</td>\n",
       "      <td>...</td>\n",
       "      <td>-571.478149</td>\n",
       "      <td>-560.026245</td>\n",
       "      <td>-566.824036</td>\n",
       "      <td>-589.923218</td>\n",
       "      <td>-590.388428</td>\n",
       "      <td>-590.893127</td>\n",
       "      <td>-591.665833</td>\n",
       "      <td>-592.150024</td>\n",
       "      <td>-592.366272</td>\n",
       "      <td>-592.905396</td>\n",
       "    </tr>\n",
       "    <tr>\n",
       "      <th>1</th>\n",
       "      <td>22.329237</td>\n",
       "      <td>26.190737</td>\n",
       "      <td>39.650543</td>\n",
       "      <td>51.616810</td>\n",
       "      <td>48.545898</td>\n",
       "      <td>91.751129</td>\n",
       "      <td>92.709503</td>\n",
       "      <td>134.890167</td>\n",
       "      <td>149.924011</td>\n",
       "      <td>146.335907</td>\n",
       "      <td>...</td>\n",
       "      <td>29.481430</td>\n",
       "      <td>36.212006</td>\n",
       "      <td>28.096390</td>\n",
       "      <td>4.843446</td>\n",
       "      <td>4.187057</td>\n",
       "      <td>3.474866</td>\n",
       "      <td>2.384439</td>\n",
       "      <td>1.701329</td>\n",
       "      <td>1.396227</td>\n",
       "      <td>0.635801</td>\n",
       "    </tr>\n",
       "    <tr>\n",
       "      <th>2</th>\n",
       "      <td>21.114815</td>\n",
       "      <td>24.584599</td>\n",
       "      <td>32.721329</td>\n",
       "      <td>27.145979</td>\n",
       "      <td>28.697990</td>\n",
       "      <td>-13.040560</td>\n",
       "      <td>-36.155354</td>\n",
       "      <td>-39.356445</td>\n",
       "      <td>-62.148193</td>\n",
       "      <td>-65.861000</td>\n",
       "      <td>...</td>\n",
       "      <td>25.708382</td>\n",
       "      <td>16.747969</td>\n",
       "      <td>11.844942</td>\n",
       "      <td>4.810560</td>\n",
       "      <td>4.158680</td>\n",
       "      <td>3.451093</td>\n",
       "      <td>2.367821</td>\n",
       "      <td>1.689417</td>\n",
       "      <td>1.386506</td>\n",
       "      <td>0.632209</td>\n",
       "    </tr>\n",
       "    <tr>\n",
       "      <th>3</th>\n",
       "      <td>19.437206</td>\n",
       "      <td>22.232470</td>\n",
       "      <td>25.836233</td>\n",
       "      <td>19.065804</td>\n",
       "      <td>17.651125</td>\n",
       "      <td>28.952459</td>\n",
       "      <td>43.710968</td>\n",
       "      <td>70.688187</td>\n",
       "      <td>72.539665</td>\n",
       "      <td>69.117401</td>\n",
       "      <td>...</td>\n",
       "      <td>21.026657</td>\n",
       "      <td>8.849477</td>\n",
       "      <td>6.575434</td>\n",
       "      <td>4.755957</td>\n",
       "      <td>4.111564</td>\n",
       "      <td>3.411619</td>\n",
       "      <td>2.340224</td>\n",
       "      <td>1.669631</td>\n",
       "      <td>1.370359</td>\n",
       "      <td>0.626238</td>\n",
       "    </tr>\n",
       "    <tr>\n",
       "      <th>4</th>\n",
       "      <td>17.627996</td>\n",
       "      <td>19.483822</td>\n",
       "      <td>19.500792</td>\n",
       "      <td>16.999603</td>\n",
       "      <td>14.874973</td>\n",
       "      <td>15.261661</td>\n",
       "      <td>5.743208</td>\n",
       "      <td>9.851320</td>\n",
       "      <td>3.295689</td>\n",
       "      <td>9.542868</td>\n",
       "      <td>...</td>\n",
       "      <td>16.760012</td>\n",
       "      <td>12.032352</td>\n",
       "      <td>10.798122</td>\n",
       "      <td>4.679940</td>\n",
       "      <td>4.045965</td>\n",
       "      <td>3.356657</td>\n",
       "      <td>2.301792</td>\n",
       "      <td>1.642074</td>\n",
       "      <td>1.347869</td>\n",
       "      <td>0.617907</td>\n",
       "    </tr>\n",
       "    <tr>\n",
       "      <th>5</th>\n",
       "      <td>15.892206</td>\n",
       "      <td>16.629780</td>\n",
       "      <td>13.765924</td>\n",
       "      <td>12.041586</td>\n",
       "      <td>13.775722</td>\n",
       "      <td>11.694130</td>\n",
       "      <td>9.018446</td>\n",
       "      <td>-7.081094</td>\n",
       "      <td>-12.026428</td>\n",
       "      <td>-8.175545</td>\n",
       "      <td>...</td>\n",
       "      <td>13.449207</td>\n",
       "      <td>11.757940</td>\n",
       "      <td>10.358810</td>\n",
       "      <td>4.582927</td>\n",
       "      <td>3.962244</td>\n",
       "      <td>3.286511</td>\n",
       "      <td>2.252740</td>\n",
       "      <td>1.606890</td>\n",
       "      <td>1.319156</td>\n",
       "      <td>0.607256</td>\n",
       "    </tr>\n",
       "    <tr>\n",
       "      <th>6</th>\n",
       "      <td>14.246410</td>\n",
       "      <td>13.837147</td>\n",
       "      <td>9.794383</td>\n",
       "      <td>11.724621</td>\n",
       "      <td>13.540888</td>\n",
       "      <td>-11.011059</td>\n",
       "      <td>-17.716570</td>\n",
       "      <td>-25.598850</td>\n",
       "      <td>-33.235622</td>\n",
       "      <td>-34.596092</td>\n",
       "      <td>...</td>\n",
       "      <td>10.824013</td>\n",
       "      <td>4.192137</td>\n",
       "      <td>2.021859</td>\n",
       "      <td>4.465464</td>\n",
       "      <td>3.860864</td>\n",
       "      <td>3.201563</td>\n",
       "      <td>2.193321</td>\n",
       "      <td>1.564261</td>\n",
       "      <td>1.284363</td>\n",
       "      <td>0.594316</td>\n",
       "    </tr>\n",
       "    <tr>\n",
       "      <th>7</th>\n",
       "      <td>12.575865</td>\n",
       "      <td>11.161027</td>\n",
       "      <td>6.808388</td>\n",
       "      <td>12.703932</td>\n",
       "      <td>10.516325</td>\n",
       "      <td>-14.721930</td>\n",
       "      <td>-7.322502</td>\n",
       "      <td>-8.718969</td>\n",
       "      <td>-9.394810</td>\n",
       "      <td>-12.740625</td>\n",
       "      <td>...</td>\n",
       "      <td>8.369122</td>\n",
       "      <td>-0.597394</td>\n",
       "      <td>-3.598624</td>\n",
       "      <td>4.328204</td>\n",
       "      <td>3.742383</td>\n",
       "      <td>3.102280</td>\n",
       "      <td>2.123855</td>\n",
       "      <td>1.514406</td>\n",
       "      <td>1.243670</td>\n",
       "      <td>0.579140</td>\n",
       "    </tr>\n",
       "    <tr>\n",
       "      <th>8</th>\n",
       "      <td>10.764237</td>\n",
       "      <td>8.612143</td>\n",
       "      <td>3.004765</td>\n",
       "      <td>3.522508</td>\n",
       "      <td>1.202287</td>\n",
       "      <td>-6.009192</td>\n",
       "      <td>-1.210608</td>\n",
       "      <td>-15.595279</td>\n",
       "      <td>-27.620579</td>\n",
       "      <td>-25.285521</td>\n",
       "      <td>...</td>\n",
       "      <td>5.944611</td>\n",
       "      <td>3.490692</td>\n",
       "      <td>0.296376</td>\n",
       "      <td>4.171908</td>\n",
       "      <td>3.607454</td>\n",
       "      <td>2.989201</td>\n",
       "      <td>2.044710</td>\n",
       "      <td>1.457584</td>\n",
       "      <td>1.197282</td>\n",
       "      <td>0.561785</td>\n",
       "    </tr>\n",
       "    <tr>\n",
       "      <th>9</th>\n",
       "      <td>8.807026</td>\n",
       "      <td>6.226609</td>\n",
       "      <td>-0.479181</td>\n",
       "      <td>-8.775867</td>\n",
       "      <td>-5.504288</td>\n",
       "      <td>-7.963610</td>\n",
       "      <td>-10.893322</td>\n",
       "      <td>-11.059959</td>\n",
       "      <td>-3.745290</td>\n",
       "      <td>-0.407229</td>\n",
       "      <td>...</td>\n",
       "      <td>3.938116</td>\n",
       "      <td>9.545652</td>\n",
       "      <td>7.134342</td>\n",
       "      <td>3.997436</td>\n",
       "      <td>3.456811</td>\n",
       "      <td>2.862947</td>\n",
       "      <td>1.956314</td>\n",
       "      <td>1.394088</td>\n",
       "      <td>1.145449</td>\n",
       "      <td>0.542313</td>\n",
       "    </tr>\n",
       "    <tr>\n",
       "      <th>10</th>\n",
       "      <td>6.836683</td>\n",
       "      <td>4.091641</td>\n",
       "      <td>-1.727896</td>\n",
       "      <td>-7.098280</td>\n",
       "      <td>-0.800147</td>\n",
       "      <td>5.465762</td>\n",
       "      <td>-8.028097</td>\n",
       "      <td>-35.938080</td>\n",
       "      <td>-49.849083</td>\n",
       "      <td>-54.331059</td>\n",
       "      <td>...</td>\n",
       "      <td>2.872491</td>\n",
       "      <td>7.511851</td>\n",
       "      <td>6.377097</td>\n",
       "      <td>3.805759</td>\n",
       "      <td>3.291285</td>\n",
       "      <td>2.724201</td>\n",
       "      <td>1.859129</td>\n",
       "      <td>1.324245</td>\n",
       "      <td>1.088424</td>\n",
       "      <td>0.520801</td>\n",
       "    </tr>\n",
       "    <tr>\n",
       "      <th>11</th>\n",
       "      <td>5.049939</td>\n",
       "      <td>2.316110</td>\n",
       "      <td>-2.182041</td>\n",
       "      <td>2.717058</td>\n",
       "      <td>6.900303</td>\n",
       "      <td>6.099670</td>\n",
       "      <td>-1.424299</td>\n",
       "      <td>-9.158799</td>\n",
       "      <td>-12.481024</td>\n",
       "      <td>-15.182541</td>\n",
       "      <td>...</td>\n",
       "      <td>2.862412</td>\n",
       "      <td>-2.645622</td>\n",
       "      <td>-2.784351</td>\n",
       "      <td>3.597934</td>\n",
       "      <td>3.111778</td>\n",
       "      <td>2.573719</td>\n",
       "      <td>1.753674</td>\n",
       "      <td>1.248413</td>\n",
       "      <td>1.026503</td>\n",
       "      <td>0.497330</td>\n",
       "    </tr>\n",
       "    <tr>\n",
       "      <th>12</th>\n",
       "      <td>3.592598</td>\n",
       "      <td>0.973006</td>\n",
       "      <td>-3.706972</td>\n",
       "      <td>1.812497</td>\n",
       "      <td>6.479445</td>\n",
       "      <td>-3.032794</td>\n",
       "      <td>-4.990085</td>\n",
       "      <td>-7.328897</td>\n",
       "      <td>-6.982724</td>\n",
       "      <td>-7.843511</td>\n",
       "      <td>...</td>\n",
       "      <td>3.411137</td>\n",
       "      <td>-10.108597</td>\n",
       "      <td>-9.849546</td>\n",
       "      <td>3.375104</td>\n",
       "      <td>2.919268</td>\n",
       "      <td>2.412314</td>\n",
       "      <td>1.640503</td>\n",
       "      <td>1.166982</td>\n",
       "      <td>0.960000</td>\n",
       "      <td>0.471984</td>\n",
       "    </tr>\n",
       "  </tbody>\n",
       "</table>\n",
       "<p>13 rows × 108 columns</p>\n",
       "</div>"
      ],
      "text/plain": [
       "           0           1           2           3           4           5    \\\n",
       "0  -577.251343 -574.431396 -563.051147 -545.598083 -551.294067 -418.369843   \n",
       "1    22.329237   26.190737   39.650543   51.616810   48.545898   91.751129   \n",
       "2    21.114815   24.584599   32.721329   27.145979   28.697990  -13.040560   \n",
       "3    19.437206   22.232470   25.836233   19.065804   17.651125   28.952459   \n",
       "4    17.627996   19.483822   19.500792   16.999603   14.874973   15.261661   \n",
       "5    15.892206   16.629780   13.765924   12.041586   13.775722   11.694130   \n",
       "6    14.246410   13.837147    9.794383   11.724621   13.540888  -11.011059   \n",
       "7    12.575865   11.161027    6.808388   12.703932   10.516325  -14.721930   \n",
       "8    10.764237    8.612143    3.004765    3.522508    1.202287   -6.009192   \n",
       "9     8.807026    6.226609   -0.479181   -8.775867   -5.504288   -7.963610   \n",
       "10    6.836683    4.091641   -1.727896   -7.098280   -0.800147    5.465762   \n",
       "11    5.049939    2.316110   -2.182041    2.717058    6.900303    6.099670   \n",
       "12    3.592598    0.973006   -3.706972    1.812497    6.479445   -3.032794   \n",
       "\n",
       "           6           7           8           9    ...         98   \\\n",
       "0  -347.876984 -247.094391 -167.910172 -176.151443  ... -571.478149   \n",
       "1    92.709503  134.890167  149.924011  146.335907  ...   29.481430   \n",
       "2   -36.155354  -39.356445  -62.148193  -65.861000  ...   25.708382   \n",
       "3    43.710968   70.688187   72.539665   69.117401  ...   21.026657   \n",
       "4     5.743208    9.851320    3.295689    9.542868  ...   16.760012   \n",
       "5     9.018446   -7.081094  -12.026428   -8.175545  ...   13.449207   \n",
       "6   -17.716570  -25.598850  -33.235622  -34.596092  ...   10.824013   \n",
       "7    -7.322502   -8.718969   -9.394810  -12.740625  ...    8.369122   \n",
       "8    -1.210608  -15.595279  -27.620579  -25.285521  ...    5.944611   \n",
       "9   -10.893322  -11.059959   -3.745290   -0.407229  ...    3.938116   \n",
       "10   -8.028097  -35.938080  -49.849083  -54.331059  ...    2.872491   \n",
       "11   -1.424299   -9.158799  -12.481024  -15.182541  ...    2.862412   \n",
       "12   -4.990085   -7.328897   -6.982724   -7.843511  ...    3.411137   \n",
       "\n",
       "           99          100         101         102         103         104  \\\n",
       "0  -560.026245 -566.824036 -589.923218 -590.388428 -590.893127 -591.665833   \n",
       "1    36.212006   28.096390    4.843446    4.187057    3.474866    2.384439   \n",
       "2    16.747969   11.844942    4.810560    4.158680    3.451093    2.367821   \n",
       "3     8.849477    6.575434    4.755957    4.111564    3.411619    2.340224   \n",
       "4    12.032352   10.798122    4.679940    4.045965    3.356657    2.301792   \n",
       "5    11.757940   10.358810    4.582927    3.962244    3.286511    2.252740   \n",
       "6     4.192137    2.021859    4.465464    3.860864    3.201563    2.193321   \n",
       "7    -0.597394   -3.598624    4.328204    3.742383    3.102280    2.123855   \n",
       "8     3.490692    0.296376    4.171908    3.607454    2.989201    2.044710   \n",
       "9     9.545652    7.134342    3.997436    3.456811    2.862947    1.956314   \n",
       "10    7.511851    6.377097    3.805759    3.291285    2.724201    1.859129   \n",
       "11   -2.645622   -2.784351    3.597934    3.111778    2.573719    1.753674   \n",
       "12  -10.108597   -9.849546    3.375104    2.919268    2.412314    1.640503   \n",
       "\n",
       "           105         106         107  \n",
       "0  -592.150024 -592.366272 -592.905396  \n",
       "1     1.701329    1.396227    0.635801  \n",
       "2     1.689417    1.386506    0.632209  \n",
       "3     1.669631    1.370359    0.626238  \n",
       "4     1.642074    1.347869    0.617907  \n",
       "5     1.606890    1.319156    0.607256  \n",
       "6     1.564261    1.284363    0.594316  \n",
       "7     1.514406    1.243670    0.579140  \n",
       "8     1.457584    1.197282    0.561785  \n",
       "9     1.394088    1.145449    0.542313  \n",
       "10    1.324245    1.088424    0.520801  \n",
       "11    1.248413    1.026503    0.497330  \n",
       "12    1.166982    0.960000    0.471984  \n",
       "\n",
       "[13 rows x 108 columns]"
      ]
     },
     "execution_count": 31,
     "metadata": {},
     "output_type": "execute_result"
    }
   ],
   "source": [
    "df = pd.DataFrame(data=mfcc)\n",
    "df"
   ]
  },
  {
   "cell_type": "code",
   "execution_count": null,
   "metadata": {},
   "outputs": [],
   "source": []
  }
 ],
 "metadata": {
  "kernelspec": {
   "display_name": "Python [conda env:root] *",
   "language": "python",
   "name": "conda-root-py"
  },
  "language_info": {
   "codemirror_mode": {
    "name": "ipython",
    "version": 3
   },
   "file_extension": ".py",
   "mimetype": "text/x-python",
   "name": "python",
   "nbconvert_exporter": "python",
   "pygments_lexer": "ipython3",
   "version": "3.8.5"
  },
  "varInspector": {
   "cols": {
    "lenName": 16,
    "lenType": 16,
    "lenVar": 40
   },
   "kernels_config": {
    "python": {
     "delete_cmd_postfix": "",
     "delete_cmd_prefix": "del ",
     "library": "var_list.py",
     "varRefreshCmd": "print(var_dic_list())"
    },
    "r": {
     "delete_cmd_postfix": ") ",
     "delete_cmd_prefix": "rm(",
     "library": "var_list.r",
     "varRefreshCmd": "cat(var_dic_list()) "
    }
   },
   "types_to_exclude": [
    "module",
    "function",
    "builtin_function_or_method",
    "instance",
    "_Feature"
   ],
   "window_display": false
  }
 },
 "nbformat": 4,
 "nbformat_minor": 4
}
