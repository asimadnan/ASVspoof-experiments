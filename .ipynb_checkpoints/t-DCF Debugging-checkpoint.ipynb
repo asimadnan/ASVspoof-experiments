{
 "cells": [
  {
   "cell_type": "code",
   "execution_count": 2,
   "metadata": {
    "ExecuteTime": {
     "end_time": "2021-03-24T22:51:21.326969Z",
     "start_time": "2021-03-24T22:51:19.945640Z"
    }
   },
   "outputs": [],
   "source": [
    "import sys\n",
    "import numpy as np\n",
    "\n",
    "import matplotlib.pyplot as plt"
   ]
  },
  {
   "cell_type": "code",
   "execution_count": 3,
   "metadata": {
    "ExecuteTime": {
     "end_time": "2021-03-24T22:51:26.979461Z",
     "start_time": "2021-03-24T22:51:26.947845Z"
    }
   },
   "outputs": [],
   "source": [
    "def obtain_asv_error_rates(tar_asv, non_asv, spoof_asv, asv_threshold):\n",
    "\n",
    "    # False alarm and miss rates for ASV\n",
    "    Pfa_asv = sum(non_asv >= asv_threshold) / non_asv.size\n",
    "    Pmiss_asv = sum(tar_asv < asv_threshold) / tar_asv.size\n",
    "\n",
    "    # Rate of rejecting spoofs in ASV\n",
    "    if spoof_asv.size == 0:\n",
    "        Pmiss_spoof_asv = None\n",
    "    else:\n",
    "        Pmiss_spoof_asv = np.sum(spoof_asv < asv_threshold) / spoof_asv.size\n",
    "\n",
    "    return Pfa_asv, Pmiss_asv, Pmiss_spoof_asv"
   ]
  },
  {
   "cell_type": "code",
   "execution_count": 4,
   "metadata": {
    "ExecuteTime": {
     "end_time": "2021-03-24T22:51:37.689279Z",
     "start_time": "2021-03-24T22:51:37.525976Z"
    }
   },
   "outputs": [],
   "source": [
    "def compute_det_curve(target_scores, nontarget_scores):\n",
    "\n",
    "    n_scores = target_scores.size + nontarget_scores.size\n",
    "    all_scores = np.concatenate((target_scores, nontarget_scores))\n",
    "    labels = np.concatenate((np.ones(target_scores.size), np.zeros(nontarget_scores.size)))\n",
    "\n",
    "    # Sort labels based on scores\n",
    "    indices = np.argsort(all_scores, kind='mergesort')\n",
    "    labels = labels[indices]\n",
    "\n",
    "    # Compute false rejection and false acceptance rates\n",
    "    tar_trial_sums = np.cumsum(labels)\n",
    "    nontarget_trial_sums = nontarget_scores.size - (np.arange(1, n_scores + 1) - tar_trial_sums)\n",
    "\n",
    "    frr = np.concatenate((np.atleast_1d(0), tar_trial_sums / target_scores.size))  # false rejection rates\n",
    "    far = np.concatenate((np.atleast_1d(1), nontarget_trial_sums / nontarget_scores.size))  # false acceptance rates\n",
    "    thresholds = np.concatenate((np.atleast_1d(all_scores[indices[0]] - 0.001), all_scores[indices]))  # Thresholds are the sorted scores\n",
    "\n",
    "    return frr, far, thresholds"
   ]
  },
  {
   "cell_type": "code",
   "execution_count": 5,
   "metadata": {
    "ExecuteTime": {
     "end_time": "2021-03-24T22:51:46.434329Z",
     "start_time": "2021-03-24T22:51:46.393475Z"
    }
   },
   "outputs": [],
   "source": [
    "def compute_eer(target_scores, nontarget_scores):\n",
    "    \"\"\" Returns equal error rate (EER) and the corresponding threshold. \"\"\"\n",
    "    frr, far, thresholds = compute_det_curve(target_scores, nontarget_scores)\n",
    "    abs_diffs = np.abs(frr - far)\n",
    "    min_index = np.argmin(abs_diffs)\n",
    "    eer = np.mean((frr[min_index], far[min_index]))\n",
    "    return eer, thresholds[min_index]"
   ]
  },
  {
   "cell_type": "code",
   "execution_count": 6,
   "metadata": {
    "ExecuteTime": {
     "end_time": "2021-03-24T22:52:02.341958Z",
     "start_time": "2021-03-24T22:52:02.291392Z"
    }
   },
   "outputs": [],
   "source": [
    "def compute_tDCF(bonafide_score_cm, spoof_score_cm, Pfa_asv, Pmiss_asv, Pmiss_spoof_asv, cost_model, print_cost):\n",
    "    \"\"\"\n",
    "    Compute Tandem Detection Cost Function (t-DCF) [1] for a fixed ASV system.\n",
    "    In brief, t-DCF returns a detection cost of a cascaded system of this form,\n",
    "\n",
    "      Speech waveform -> [CM] -> [ASV] -> decision\n",
    "\n",
    "    where CM stands for countermeasure and ASV for automatic speaker\n",
    "    verification. The CM is therefore used as a 'gate' to decided whether or\n",
    "    not the input speech sample should be passed onwards to the ASV system.\n",
    "    Generally, both CM and ASV can do detection errors. Not all those errors\n",
    "    are necessarily equally cost, and not all types of users are necessarily\n",
    "    equally likely. The tandem t-DCF gives a principled with to compare\n",
    "    different spoofing countermeasures under a detection cost function\n",
    "    framework that takes that information into account.\n",
    "\n",
    "    INPUTS:\n",
    "\n",
    "      bonafide_score_cm   A vector of POSITIVE CLASS (bona fide or human)\n",
    "                          detection scores obtained by executing a spoofing\n",
    "                          countermeasure (CM) on some positive evaluation trials.\n",
    "                          trial represents a bona fide case.\n",
    "      spoof_score_cm      A vector of NEGATIVE CLASS (spoofing attack)\n",
    "                          detection scores obtained by executing a spoofing\n",
    "                          CM on some negative evaluation trials.\n",
    "      Pfa_asv             False alarm (false acceptance) rate of the ASV\n",
    "                          system that is evaluated in tandem with the CM.\n",
    "                          Assumed to be in fractions, not percentages.\n",
    "      Pmiss_asv           Miss (false rejection) rate of the ASV system that\n",
    "                          is evaluated in tandem with the spoofing CM.\n",
    "                          Assumed to be in fractions, not percentages.\n",
    "      Pmiss_spoof_asv     Miss rate of spoof samples of the ASV system that\n",
    "                          is evaluated in tandem with the spoofing CM. That\n",
    "                          is, the fraction of spoof samples that were\n",
    "                          rejected by the ASV system.\n",
    "      cost_model          A struct that contains the parameters of t-DCF,\n",
    "                          with the following fields.\n",
    "\n",
    "                          Ptar        Prior probability of target speaker.\n",
    "                          Pnon        Prior probability of nontarget speaker (zero-effort impostor)\n",
    "                          Psoof       Prior probability of spoofing attack.\n",
    "                          Cmiss_asv   Cost of ASV falsely rejecting target.\n",
    "                          Cfa_asv     Cost of ASV falsely accepting nontarget.\n",
    "                          Cmiss_cm    Cost of CM falsely rejecting target.\n",
    "                          Cfa_cm      Cost of CM falsely accepting spoof.\n",
    "\n",
    "      print_cost          Print a summary of the cost parameters and the\n",
    "                          implied t-DCF cost function?\n",
    "\n",
    "    OUTPUTS:\n",
    "\n",
    "      tDCF_norm           Normalized t-DCF curve across the different CM\n",
    "                          system operating points; see [2] for more details.\n",
    "                          Normalized t-DCF > 1 indicates a useless\n",
    "                          countermeasure (as the tandem system would do\n",
    "                          better without it). min(tDCF_norm) will be the\n",
    "                          minimum t-DCF used in ASVspoof 2019 [2].\n",
    "      CM_thresholds       Vector of same size as tDCF_norm corresponding to\n",
    "                          the CM threshold (operating point).\n",
    "\n",
    "    NOTE:\n",
    "    o     In relative terms, higher detection scores values are assumed to\n",
    "          indicate stronger support for the bona fide hypothesis.\n",
    "    o     You should provide real-valued soft scores, NOT hard decisions. The\n",
    "          recommendation is that the scores are log-likelihood ratios (LLRs)\n",
    "          from a bonafide-vs-spoof hypothesis based on some statistical model.\n",
    "          This, however, is NOT required. The scores can have arbitrary range\n",
    "          and scaling.\n",
    "    o     Pfa_asv, Pmiss_asv, Pmiss_spoof_asv are in fractions, not percentages.\n",
    "\n",
    "    References:\n",
    "\n",
    "      [1] T. Kinnunen, K.-A. Lee, H. Delgado, N. Evans, M. Todisco,\n",
    "          M. Sahidullah, J. Yamagishi, D.A. Reynolds: \"t-DCF: a Detection\n",
    "          Cost Function for the Tandem Assessment of Spoofing Countermeasures\n",
    "          and Automatic Speaker Verification\", Proc. Odyssey 2018: the\n",
    "          Speaker and Language Recognition Workshop, pp. 312--319, Les Sables d'Olonne,\n",
    "          France, June 2018 (https://www.isca-speech.org/archive/Odyssey_2018/pdfs/68.pdf)\n",
    "\n",
    "      [2] ASVspoof 2019 challenge evaluation plan\n",
    "          TODO: <add link>\n",
    "    \"\"\"\n",
    "\n",
    "\n",
    "    # Sanity check of cost parameters\n",
    "    if cost_model['Cfa_asv'] < 0 or cost_model['Cmiss_asv'] < 0 or \\\n",
    "            cost_model['Cfa_cm'] < 0 or cost_model['Cmiss_cm'] < 0:\n",
    "        print('WARNING: Usually the cost values should be positive!')\n",
    "\n",
    "    if cost_model['Ptar'] < 0 or cost_model['Pnon'] < 0 or cost_model['Pspoof'] < 0 or \\\n",
    "            np.abs(cost_model['Ptar'] + cost_model['Pnon'] + cost_model['Pspoof'] - 1) > 1e-10:\n",
    "        sys.exit('ERROR: Your prior probabilities should be positive and sum up to one.')\n",
    "\n",
    "    # Unless we evaluate worst-case model, we need to have some spoof tests against asv\n",
    "    if Pmiss_spoof_asv is None:\n",
    "        sys.exit('ERROR: you should provide miss rate of spoof tests against your ASV system.')\n",
    "\n",
    "    # Sanity check of scores\n",
    "    combined_scores = np.concatenate((bonafide_score_cm, spoof_score_cm))\n",
    "    if np.isnan(combined_scores).any() or np.isinf(combined_scores).any():\n",
    "        sys.exit('ERROR: Your scores contain nan or inf.')\n",
    "\n",
    "    # Sanity check that inputs are scores and not decisions\n",
    "    n_uniq = np.unique(combined_scores).size\n",
    "    if n_uniq < 3:\n",
    "        sys.exit('ERROR: You should provide soft CM scores - not binary decisions')\n",
    "\n",
    "    # Obtain miss and false alarm rates of CM\n",
    "    Pmiss_cm, Pfa_cm, CM_thresholds = compute_det_curve(bonafide_score_cm, spoof_score_cm)\n",
    "\n",
    "    # Constants - see ASVspoof 2019 evaluation plan\n",
    "    C1 = cost_model['Ptar'] * (cost_model['Cmiss_cm'] - cost_model['Cmiss_asv'] * Pmiss_asv) - \\\n",
    "         cost_model['Pnon'] * cost_model['Cfa_asv'] * Pfa_asv\n",
    "    C2 = cost_model['Cfa_cm'] * cost_model['Pspoof'] * (1 - Pmiss_spoof_asv)\n",
    "\n",
    "    # Sanity check of the weights\n",
    "    if C1 < 0 or C2 < 0:\n",
    "        sys.exit('You should never see this error but I cannot evalute tDCF with negative weights - please check whether your ASV error rates are correctly computed?')\n",
    "\n",
    "    # Obtain t-DCF curve for all thresholds\n",
    "    tDCF = C1 * Pmiss_cm + C2 * Pfa_cm\n",
    "\n",
    "    # Normalized t-DCF\n",
    "    tDCF_norm = tDCF / np.minimum(C1, C2)\n",
    "\n",
    "    # Everything should be fine if reaching here.\n",
    "    if print_cost:\n",
    "\n",
    "        print('t-DCF evaluation from [Nbona={}, Nspoof={}] trials\\n'.format(bonafide_score_cm.size, spoof_score_cm.size))\n",
    "        print('t-DCF MODEL')\n",
    "        print('   Ptar         = {:8.5f} (Prior probability of target user)'.format(cost_model['Ptar']))\n",
    "        print('   Pnon         = {:8.5f} (Prior probability of nontarget user)'.format(cost_model['Pnon']))\n",
    "        print('   Pspoof       = {:8.5f} (Prior probability of spoofing attack)'.format(cost_model['Pspoof']))\n",
    "        print('   Cfa_asv      = {:8.5f} (Cost of ASV falsely accepting a nontarget)'.format(cost_model['Cfa_asv']))\n",
    "        print('   Cmiss_asv    = {:8.5f} (Cost of ASV falsely rejecting target speaker)'.format(cost_model['Cmiss_asv']))\n",
    "        print('   Cfa_cm       = {:8.5f} (Cost of CM falsely passing a spoof to ASV system)'.format(cost_model['Cfa_cm']))\n",
    "        print('   Cmiss_cm     = {:8.5f} (Cost of CM falsely blocking target utterance which never reaches ASV)'.format(cost_model['Cmiss_cm']))\n",
    "        print('\\n   Implied normalized t-DCF function (depends on t-DCF parameters and ASV errors), s=CM threshold)')\n",
    "\n",
    "        if C2 == np.minimum(C1, C2):\n",
    "            print('   tDCF_norm(s) = {:8.5f} x Pmiss_cm(s) + Pfa_cm(s)\\n'.format(C1 / C2))\n",
    "        else:\n",
    "            print('   tDCF_norm(s) = Pmiss_cm(s) + {:8.5f} x Pfa_cm(s)\\n'.format(C2 / C1))\n",
    "\n",
    "    return tDCF_norm, CM_thresholds"
   ]
  },
  {
   "cell_type": "code",
   "execution_count": 80,
   "metadata": {
    "ExecuteTime": {
     "end_time": "2021-03-25T00:55:22.757302Z",
     "start_time": "2021-03-25T00:55:22.710529Z"
    }
   },
   "outputs": [],
   "source": [
    "# Replace CM scores with your own scores or provide score file as the first argument.\n",
    "cm_score_file_d = '/Users/asimadnan/Desktop/Mres/tDCF_python_v1/scores/cm_dev.txt'\n",
    "# Replace ASV scores with organizers' scores or provide score file as the second argument.\n",
    "asv_score_file_d = '/Users/asimadnan/Desktop/Mres/tDCF_python_v1/scores/asv_dev.txt'\n",
    "\n",
    "asv_score_file = '/Users/asimadnan/Desktop/Mres/ASVSPOOF_DATA/LA/ASVspoof2019_LA_asv_scores/ASVspoof2019.LA.asv.eval.gi.trl.scores.txt'\n",
    "#cm_score_file = '/Users/asimadnan/Desktop/Mres/Experiments/Models/25-03-2021_11-09cm_score.txt'\n",
    "cm_score_file = '/Users/asimadnan/Desktop/Mres/Experiments/Models/25-03-2021_11-54svm_cm_score.txt'"
   ]
  },
  {
   "cell_type": "code",
   "execution_count": null,
   "metadata": {},
   "outputs": [],
   "source": []
  },
  {
   "cell_type": "code",
   "execution_count": 8,
   "metadata": {
    "ExecuteTime": {
     "end_time": "2021-03-24T22:53:22.612540Z",
     "start_time": "2021-03-24T22:53:22.607124Z"
    }
   },
   "outputs": [],
   "source": [
    "# Fix tandem detection cost function (t-DCF) parameters\n",
    "Pspoof = 0.05\n",
    "cost_model = {\n",
    "    'Pspoof': Pspoof,  # Prior probability of a spoofing attack\n",
    "    'Ptar': (1 - Pspoof) * 0.99,  # Prior probability of target speaker\n",
    "    'Pnon': (1 - Pspoof) * 0.01,  # Prior probability of nontarget speaker\n",
    "    'Cmiss_asv': 1,  # Cost of ASV system falsely rejecting target speaker\n",
    "    'Cfa_asv': 10,  # Cost of ASV system falsely accepting nontarget speaker\n",
    "    'Cmiss_cm': 1,  # Cost of CM system falsely rejecting target speaker\n",
    "    'Cfa_cm': 10,  # Cost of CM system falsely accepting spoof\n",
    "}\n"
   ]
  },
  {
   "cell_type": "code",
   "execution_count": 92,
   "metadata": {
    "ExecuteTime": {
     "end_time": "2021-03-25T01:55:20.022959Z",
     "start_time": "2021-03-25T01:55:19.917534Z"
    }
   },
   "outputs": [],
   "source": [
    "def tdfc(asv_score_file,cm_score_file):\n",
    "\n",
    "    # Load organizers' ASV scores\n",
    "    asv_data = np.genfromtxt(asv_score_file, dtype=str)\n",
    "    asv_sources = asv_data[:, 0]\n",
    "    asv_keys = asv_data[:, 1]\n",
    "    asv_scores = asv_data[:, 2].astype(np.float)\n",
    "\n",
    "    # Load CM scores\n",
    "    cm_data = np.genfromtxt(cm_score_file, dtype=str)\n",
    "    cm_utt_id = cm_data[:, 0]\n",
    "    cm_sources = cm_data[:, 1]\n",
    "    cm_keys = cm_data[:, 2]\n",
    "    cm_scores = cm_data[:, 3].astype(np.float)\n",
    "\n",
    "    # Extract target, nontarget, and spoof scores from the ASV scores\n",
    "    tar_asv = asv_scores[asv_keys == 'target']\n",
    "    non_asv = asv_scores[asv_keys == 'nontarget']\n",
    "    spoof_asv = asv_scores[asv_keys == 'spoof']\n",
    "\n",
    "    # Extract bona fide (real human) and spoof scores from the CM scores\n",
    "    bona_cm = cm_scores[cm_keys == 'bonafide']\n",
    "    spoof_cm = cm_scores[cm_keys == 'spoof']\n",
    "\n",
    "    # EERs of the standalone systems and fix ASV operating point to EER threshold\n",
    "    eer_asv, asv_threshold = compute_eer(tar_asv, non_asv)\n",
    "    eer_cm = compute_eer(bona_cm, spoof_cm)[0]\n",
    "\n",
    "    print('eer asv:',eer_asv)\n",
    "    print('eer cm:',eer_cm)\n",
    "\n",
    "    [Pfa_asv, Pmiss_asv, Pmiss_spoof_asv] = obtain_asv_error_rates(tar_asv, non_asv, spoof_asv, asv_threshold)\n",
    "\n",
    "    tDCF_curve, CM_thresholds = compute_tDCF(bona_cm, spoof_cm, Pfa_asv, Pmiss_asv, Pmiss_spoof_asv, cost_model, True)\n",
    "\n",
    "    min_tDCF_index = np.argmin(tDCF_curve)\n",
    "    min_tDCF = tDCF_curve[min_tDCF_index]\n",
    "\n",
    "    print('ASV SYSTEM')\n",
    "    print('   EER            = {:8.5f} % (Equal error rate (target vs. nontarget discrimination)'.format(eer_asv * 100))\n",
    "    print('   Pfa            = {:8.5f} % (False acceptance rate of nontargets)'.format(Pfa_asv * 100))\n",
    "    print('   Pmiss          = {:8.5f} % (False rejection rate of targets)'.format(Pmiss_asv * 100))\n",
    "    print('   1-Pmiss,spoof  = {:8.5f} % (Spoof false acceptance rate)'.format((1 - Pmiss_spoof_asv) * 100))\n",
    "\n",
    "    print('\\nCM SYSTEM')\n",
    "    print('   EER            = {:8.5f} % (Equal error rate for countermeasure)'.format(eer_cm * 100))\n",
    "\n",
    "    print('\\nTANDEM')\n",
    "    print('   min-tDCF       = {:8.5f}'.format(min_tDCF))"
   ]
  },
  {
   "cell_type": "code",
   "execution_count": 93,
   "metadata": {
    "ExecuteTime": {
     "end_time": "2021-03-25T01:55:52.172567Z",
     "start_time": "2021-03-25T01:55:50.921028Z"
    }
   },
   "outputs": [
    {
     "name": "stdout",
     "output_type": "stream",
     "text": [
      "SVM SCORE\n",
      "eer asv: 0.02457783738686887\n",
      "eer cm: 0.8511601492354752\n",
      "t-DCF evaluation from [Nbona=1834, Nspoof=16039] trials\n",
      "\n",
      "t-DCF MODEL\n",
      "   Ptar         =  0.94050 (Prior probability of target user)\n",
      "   Pnon         =  0.00950 (Prior probability of nontarget user)\n",
      "   Pspoof       =  0.05000 (Prior probability of spoofing attack)\n",
      "   Cfa_asv      = 10.00000 (Cost of ASV falsely accepting a nontarget)\n",
      "   Cmiss_asv    =  1.00000 (Cost of ASV falsely rejecting target speaker)\n",
      "   Cfa_cm       = 10.00000 (Cost of CM falsely passing a spoof to ASV system)\n",
      "   Cmiss_cm     =  1.00000 (Cost of CM falsely blocking target utterance which never reaches ASV)\n",
      "\n",
      "   Implied normalized t-DCF function (depends on t-DCF parameters and ASV errors), s=CM threshold)\n",
      "   tDCF_norm(s) =  2.40595 x Pmiss_cm(s) + Pfa_cm(s)\n",
      "\n",
      "ASV SYSTEM\n",
      "   EER            =  2.45778 % (Equal error rate (target vs. nontarget discrimination)\n",
      "   Pfa            =  2.46047 % (False acceptance rate of nontargets)\n",
      "   Pmiss          =  2.45810 % (False rejection rate of targets)\n",
      "   1-Pmiss,spoof  = 76.06525 % (Spoof false acceptance rate)\n",
      "\n",
      "CM SYSTEM\n",
      "   EER            = 85.11601 % (Equal error rate for countermeasure)\n",
      "\n",
      "TANDEM\n",
      "   min-tDCF       =  0.99969\n"
     ]
    }
   ],
   "source": [
    "asv_score_file = '/Users/asimadnan/Desktop/Mres/ASVSPOOF_DATA/LA/ASVspoof2019_LA_asv_scores/ASVspoof2019.LA.asv.eval.gi.trl.scores.txt'\n",
    "#cm_score_file = '/Users/asimadnan/Desktop/Mres/Experiments/Models/25-03-2021_11-09cm_score.txt'\n",
    "cm_score_file = '/Users/asimadnan/Desktop/Mres/Experiments/Models/25-03-2021_11-54svm_cm_score.txt'\n",
    "print('SVM SCORE')\n",
    "tdfc(asv_score_file,cm_score_file)"
   ]
  },
  {
   "cell_type": "code",
   "execution_count": 94,
   "metadata": {
    "ExecuteTime": {
     "end_time": "2021-03-25T01:56:07.917607Z",
     "start_time": "2021-03-25T01:56:06.722502Z"
    }
   },
   "outputs": [
    {
     "name": "stdout",
     "output_type": "stream",
     "text": [
      "GMM SCORE\n",
      "eer asv: 0.02457783738686887\n",
      "eer cm: 0.16564595853223907\n",
      "t-DCF evaluation from [Nbona=1834, Nspoof=16039] trials\n",
      "\n",
      "t-DCF MODEL\n",
      "   Ptar         =  0.94050 (Prior probability of target user)\n",
      "   Pnon         =  0.00950 (Prior probability of nontarget user)\n",
      "   Pspoof       =  0.05000 (Prior probability of spoofing attack)\n",
      "   Cfa_asv      = 10.00000 (Cost of ASV falsely accepting a nontarget)\n",
      "   Cmiss_asv    =  1.00000 (Cost of ASV falsely rejecting target speaker)\n",
      "   Cfa_cm       = 10.00000 (Cost of CM falsely passing a spoof to ASV system)\n",
      "   Cmiss_cm     =  1.00000 (Cost of CM falsely blocking target utterance which never reaches ASV)\n",
      "\n",
      "   Implied normalized t-DCF function (depends on t-DCF parameters and ASV errors), s=CM threshold)\n",
      "   tDCF_norm(s) =  2.40595 x Pmiss_cm(s) + Pfa_cm(s)\n",
      "\n",
      "ASV SYSTEM\n",
      "   EER            =  2.45778 % (Equal error rate (target vs. nontarget discrimination)\n",
      "   Pfa            =  2.46047 % (False acceptance rate of nontargets)\n",
      "   Pmiss          =  2.45810 % (False rejection rate of targets)\n",
      "   1-Pmiss,spoof  = 76.06525 % (Spoof false acceptance rate)\n",
      "\n",
      "CM SYSTEM\n",
      "   EER            = 16.56460 % (Equal error rate for countermeasure)\n",
      "\n",
      "TANDEM\n",
      "   min-tDCF       =  0.31006\n"
     ]
    }
   ],
   "source": [
    "asv_score_file = '/Users/asimadnan/Desktop/Mres/ASVSPOOF_DATA/LA/ASVspoof2019_LA_asv_scores/ASVspoof2019.LA.asv.eval.gi.trl.scores.txt'\n",
    "cm_score_file = '/Users/asimadnan/Desktop/Mres/Experiments/Models/25-03-2021_11-09cm_score.txt'\n",
    "#cm_score_file = '/Users/asimadnan/Desktop/Mres/Experiments/Models/25-03-2021_11-54svm_cm_score.txt'\n",
    "print('GMM SCORE')\n",
    "tdfc(asv_score_file,cm_score_file)"
   ]
  },
  {
   "cell_type": "markdown",
   "metadata": {
    "ExecuteTime": {
     "end_time": "2021-03-25T00:55:34.382537Z",
     "start_time": "2021-03-25T00:55:34.357447Z"
    }
   },
   "source": [
    "# Baseline EER & t-DCF\n",
    "\n",
    "\n",
    "| Type     \t| Feature  \t| t-DCF   \t| EER %    \t|\n",
    "|----------\t|----------\t|---------\t|----------\t|\n",
    "| Baseline \t| LFCC-GMM \t| 0.0663  \t| 2.71     \t|\n",
    "| Baseline \t| CQCC-GMM \t| 0.0123  \t| 0.43     \t|\n",
    "| Our      \t| MFCC-GMM \t| 0.31006 \t| 16.56460 \t|\n",
    "| Our      \t| MFCC-SVM \t| 0.99969 \t| 85.11601 \t|"
   ]
  },
  {
   "cell_type": "code",
   "execution_count": 91,
   "metadata": {
    "ExecuteTime": {
     "end_time": "2021-03-25T00:58:57.146388Z",
     "start_time": "2021-03-25T00:58:56.063676Z"
    }
   },
   "outputs": [
    {
     "data": {
      "image/png": "[encoded data removed]",
      "text/plain": [
       "<Figure size 432x288 with 2 Axes>"
      ]
     },
     "metadata": {
      "needs_background": "light"
     },
     "output_type": "display_data"
    },
    {
     "data": {
      "image/png": "[encoded data removed]",
      "text/plain": [
       "<Figure size 432x288 with 1 Axes>"
      ]
     },
     "metadata": {
      "needs_background": "light"
     },
     "output_type": "display_data"
    }
   ],
   "source": [
    "plt.figure()\n",
    "ax = plt.subplot(121)\n",
    "plt.hist(tar_asv, histtype='step', density=True, bins=50, label='Target')\n",
    "plt.hist(non_asv, histtype='step', density=True, bins=50, label='Nontarget')\n",
    "plt.hist(spoof_asv, histtype='step', density=True, bins=50, label='Spoof')\n",
    "plt.plot(asv_threshold, 0, 'o', markersize=10, mfc='none', mew=2, clip_on=False, label='EER threshold')\n",
    "plt.legend()\n",
    "plt.xlabel('ASV score')\n",
    "plt.ylabel('Density')\n",
    "plt.title('ASV score histogram')\n",
    "\n",
    "ax = plt.subplot(122)\n",
    "plt.hist(bona_cm, histtype='step', density=True, bins=50, label='Bona fide')\n",
    "plt.hist(spoof_cm, histtype='step', density=True, bins=50, label='Spoof')\n",
    "plt.legend()\n",
    "plt.xlabel('CM score')\n",
    "#plt.ylabel('Density')\n",
    "plt.title('CM score histogram')\n",
    "\n",
    "\n",
    "# Plot t-DCF as function of the CM threshold.\n",
    "plt.figure()\n",
    "plt.plot(CM_thresholds, tDCF_curve)\n",
    "plt.plot(CM_thresholds[min_tDCF_index], min_tDCF, 'o', markersize=10, mfc='none', mew=2)\n",
    "plt.xlabel('CM threshold index (operating point)')\n",
    "plt.ylabel('Norm t-DCF');\n",
    "plt.title('Normalized tandem t-DCF')\n",
    "plt.plot([np.min(CM_thresholds), np.max(CM_thresholds)], [1, 1], '--', color='black')\n",
    "plt.legend(('t-DCF', 'min t-DCF ({:.5f})'.format(min_tDCF), 'Arbitrarily bad CM (Norm t-DCF=1)'))\n",
    "plt.xlim([np.min(CM_thresholds), np.max(CM_thresholds)])\n",
    "plt.ylim([0, 1.5])\n",
    "\n",
    "plt.show()\n"
   ]
  },
  {
   "cell_type": "code",
   "execution_count": null,
   "metadata": {},
   "outputs": [],
   "source": []
  }
 ],
 "metadata": {
  "kernelspec": {
   "display_name": "Python [conda env:root] *",
   "language": "python",
   "name": "conda-root-py"
  },
  "language_info": {
   "codemirror_mode": {
    "name": "ipython",
    "version": 3
   },
   "file_extension": ".py",
   "mimetype": "text/x-python",
   "name": "python",
   "nbconvert_exporter": "python",
   "pygments_lexer": "ipython3",
   "version": "3.8.5"
  },
  "varInspector": {
   "cols": {
    "lenName": 16,
    "lenType": 16,
    "lenVar": 40
   },
   "kernels_config": {
    "python": {
     "delete_cmd_postfix": "",
     "delete_cmd_prefix": "del ",
     "library": "var_list.py",
     "varRefreshCmd": "print(var_dic_list())"
    },
    "r": {
     "delete_cmd_postfix": ") ",
     "delete_cmd_prefix": "rm(",
     "library": "var_list.r",
     "varRefreshCmd": "cat(var_dic_list()) "
    }
   },
   "types_to_exclude": [
    "module",
    "function",
    "builtin_function_or_method",
    "instance",
    "_Feature"
   ],
   "window_display": false
  }
 },
 "nbformat": 4,
 "nbformat_minor": 4
}
