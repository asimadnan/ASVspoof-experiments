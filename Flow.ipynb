{
 "cells": [
  {
   "cell_type": "markdown",
   "metadata": {},
   "source": [
    "## TODO LIST\n",
    "\n",
    "- [x] Convert audio to MFCC features using librosa\n",
    "- [x] Debug CQCC/MFCC Code (matlab translation)\n",
    "- [ ] Run CQCC code to get CQCC features\n",
    "- [ ] feature extraction for PA database\n",
    "- [ ] train single model for LA + PA data and train seperate models for both dataset.\n",
    "- [x] GMM model on MFCC\n",
    "- [x] SVM model on MFCC\n",
    "- [ ] NNET model on MFCC\n",
    "- [ ] GMM model on CQCC\n",
    "- [ ] SVM model on CQCC\n",
    "- [ ] NNET model on CQCC\n",
    "- [x] Debug t-DCF code\n",
    "- [x] calculate metrics, tDCF & EER\n",
    "- [x] Basic Error Analysis\n"
   ]
  },
  {
   "cell_type": "markdown",
   "metadata": {},
   "source": [
    "## Some Other Features\n",
    "\n",
    "- [ ] linear & gemoetric CQCC\n",
    "- [ ] Log-magnitude STFT\n",
    "- [ ] x-vectors of size 512 as an input with kladi\n",
    "- [ ] 60-dimensional LFCCs The frame size is 20ms and the hop size is 10ms\n",
    "- [ ] 257-dimension spectrograms using 512-point FFT, and Kaldi toolkit to apply cepstral mean and variance normalization (cmvn)\n",
    "- [ ] Blackman analysis window of 25 ms length with 10 ms of frame shift. Log magnitude spectrogram features (STFT) with 256 frequency bins\n",
    "- [ ] Narrow Band Spectrum\n",
    "- [ ] Full Band Spectrum\n",
    "- [ ] Narrow & Full Band Spectrum \n",
    "- [ ] pre-detection as a preliminary step checks whether the input speech signal has zero temporal energy values\n",
    "- [ ] MFPC coefficients\n",
    "- [ ] phase spectrum, obtained by the Fourier Transform \n",
    "- [ ] wavelet-packet transform adapted to the mel scale\n",
    "- [ ] all-pole group delay function (APGDF)\n",
    "- [ ] fundamental frequency variation (FFV) to extract pitch variation at frame-level, provides complementary information to CQCC and APGDF.\n",
    "- [ ] MGDF, CosPhase, RPS\n",
    "- [ ] logspec\n",
    "- [ ] inverted mel frequency cepstral coefficients (IMFCCs)\n",
    "- [ ]  sub-band centroid magnitude coefficients (SCMC)\n",
    "- [ ] longterm-average-spectrum (LTAS) feature\n",
    "\n",
    "\n",
    "\n",
    "\n"
   ]
  },
  {
   "cell_type": "code",
   "execution_count": null,
   "metadata": {},
   "outputs": [],
   "source": []
  }
 ],
 "metadata": {
  "kernelspec": {
   "display_name": "Python [conda env:root] *",
   "language": "python",
   "name": "conda-root-py"
  },
  "language_info": {
   "codemirror_mode": {
    "name": "ipython",
    "version": 3
   },
   "file_extension": ".py",
   "mimetype": "text/x-python",
   "name": "python",
   "nbconvert_exporter": "python",
   "pygments_lexer": "ipython3",
   "version": "3.8.5"
  },
  "varInspector": {
   "cols": {
    "lenName": 16,
    "lenType": 16,
    "lenVar": 40
   },
   "kernels_config": {
    "python": {
     "delete_cmd_postfix": "",
     "delete_cmd_prefix": "del ",
     "library": "var_list.py",
     "varRefreshCmd": "print(var_dic_list())"
    },
    "r": {
     "delete_cmd_postfix": ") ",
     "delete_cmd_prefix": "rm(",
     "library": "var_list.r",
     "varRefreshCmd": "cat(var_dic_list()) "
    }
   },
   "types_to_exclude": [
    "module",
    "function",
    "builtin_function_or_method",
    "instance",
    "_Feature"
   ],
   "window_display": false
  }
 },
 "nbformat": 4,
 "nbformat_minor": 4
}
