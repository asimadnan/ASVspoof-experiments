{
 "cells": [
  {
   "cell_type": "code",
   "execution_count": 10,
   "metadata": {
    "ExecuteTime": {
     "end_time": "2021-02-27T12:20:46.706492Z",
     "start_time": "2021-02-27T12:20:43.001666Z"
    }
   },
   "outputs": [],
   "source": [
    "#load libraries\n",
    "import os\n",
    "import numpy as np\n",
    "import pickle\n",
    "import argparse\n",
    "import soundfile as sf\n",
    "import librosa\n",
    "import time\n",
    "import gc\n",
    "from sklearn.svm import SVC\n",
    "import matplotlib.pyplot as plt\n",
    "from scipy.optimize import brentq\n",
    "from scipy.interpolate import interp1d\n",
    "from sklearn.metrics import roc_curve\n",
    "from sklearn.mixture import GaussianMixture\n",
    "from sklearn.metrics import roc_auc_score, roc_curve, plot_roc_curve, confusion_matrix, accuracy_score, classification_report, plot_confusion_matrix\n",
    "from sklearn.preprocessing import label_binarize\n",
    "from python_speech_features import mfcc\n",
    "from sklearn.mixture import GaussianMixture as GMM\n",
    "from sklearn import preprocessing\n",
    "from pdb import set_trace\n",
    "from scipy import stats"
   ]
  },
  {
   "cell_type": "code",
   "execution_count": 2,
   "metadata": {},
   "outputs": [],
   "source": [
    "#Load training data \n",
    "#'/Users/asimadnan/Desktop/Mres/ASVSPOOF_DATA/train_sample.pkl'"
   ]
  },
  {
   "cell_type": "markdown",
   "metadata": {},
   "source": [
    "## Useful Functions"
   ]
  },
  {
   "cell_type": "code",
   "execution_count": 11,
   "metadata": {
    "ExecuteTime": {
     "end_time": "2021-02-27T12:20:50.215536Z",
     "start_time": "2021-02-27T12:20:50.205008Z"
    }
   },
   "outputs": [],
   "source": [
    "def extract_pkl(path,feature_type):\n",
    "    X = []\n",
    "    y = []\n",
    "\n",
    "    max_len = 50  # 1.25 seconds  # check the timesteps of cqcc and mfcc \n",
    "    lens = []\n",
    "    with open(path, 'rb') as infile:\n",
    "        data = pickle.load(infile)\n",
    "        for feat_cqcc, feat_mfcc, label in data:\n",
    "            #mfcc = mfccs.mean(0) # sum over all timesteps for now    # timesteps X 13\n",
    "            #lens.append(mfccs.shape[0])\n",
    "            if feature_type == \"cqcc\":\n",
    "                feats = feat_cqcc\n",
    "            elif feature_type == \"mfcc\":\n",
    "                feats = feat_mfcc\n",
    "            num_dim = feats.shape[1]\n",
    "            if len(feats) > max_len:\n",
    "                feats = feats[:max_len]\n",
    "            elif len(feats) < max_len:\n",
    "                feats = np.concatenate((feats, np.array([[0.]*num_dim]*(max_len-len(feats)))), axis=0)\n",
    "            X.append(feats.reshape(-1))\n",
    "            y.append(label)\n",
    "    X = np.array(X)\n",
    "    return X,y"
   ]
  },
  {
   "cell_type": "code",
   "execution_count": 12,
   "metadata": {
    "ExecuteTime": {
     "end_time": "2021-02-27T12:20:52.602819Z",
     "start_time": "2021-02-27T12:20:52.598629Z"
    }
   },
   "outputs": [],
   "source": [
    "def convert_to_binary(labels):\n",
    "    return label_binarize(labels, list(set(labels))[::-1]).flatten()"
   ]
  },
  {
   "cell_type": "code",
   "execution_count": 13,
   "metadata": {
    "ExecuteTime": {
     "end_time": "2021-02-27T12:22:00.052661Z",
     "start_time": "2021-02-27T12:22:00.043629Z"
    }
   },
   "outputs": [],
   "source": [
    "def class_label(n):\n",
    "    #sorted classes normally get using \n",
    "    # model.classes_\n",
    "    class_list = ['bonafide', 'spoof']\n",
    "    return class_list[n]"
   ]
  },
  {
   "cell_type": "code",
   "execution_count": 14,
   "metadata": {
    "ExecuteTime": {
     "end_time": "2021-02-27T12:22:08.476610Z",
     "start_time": "2021-02-27T12:22:08.458173Z"
    }
   },
   "outputs": [],
   "source": [
    "def evaluate( model, model_name,  x_test,y_test,threshold = .5):\n",
    "    test_prob = model.predict_proba(x_test)\n",
    "    if test_prob.shape[1] >1:\n",
    "        test_prob = test_prob[:,1]\n",
    "    y_pred = np.argmax(probas,axis=1)\n",
    "    y_pred = list(map(class_label,y_pred))\n",
    "    y_pred= convert_to_binary(y_pred)\n",
    "    y_test = convert_to_binary(y_test)\n",
    "    acc = accuracy_score(y_test, y_pred)\n",
    "    auc = roc_auc_score(y_test, test_prob) \n",
    "   \n",
    "    conf_matrix = confusion_matrix(y_test, y_pred)\n",
    "    #print(conf_matrix)\n",
    "    TP = conf_matrix[1][1]\n",
    "    TN = conf_matrix[0][0]\n",
    "    FP = conf_matrix[0][1]\n",
    "    FN = conf_matrix[1][0]\n",
    "    \n",
    "    # calculate the sensitivity\n",
    "    conf_sensitivity = (TP / float(TP + FN))\n",
    "    # calculate the specificity\n",
    "    conf_specificity = (TN / float(TN + FP))\n",
    "    \n",
    "\n",
    "    fpr, tpr, thr = roc_curve(y_test, test_prob)\n",
    "    \n",
    "    y_score = model.decision_function(x_test)\n",
    "    fpr, tpr, thresholds = roc_curve(y_test, y_score)\n",
    "    eer = brentq(lambda x : 1. - x - interp1d(fpr, tpr)(x), 0., 1.)\n",
    "    \n",
    "    #plt.plot(fpr, tpr, marker='.', label=\"Model\")\n",
    "    #plt.plot([0, 1], [0, 1], linestyle='--', lw=2, color='r',\n",
    "    #    label=\"Chance\", alpha=.8)\n",
    "    \n",
    "    \n",
    "    #print(\"\\n\\n\")\n",
    "    rr = {'Model': model_name,\n",
    "          'Accuracy' : acc,\n",
    "          'EER' : eer,\n",
    "          'AUC':auc, \n",
    "          'Sensitivity': conf_sensitivity, \n",
    "          'specificity': conf_specificity}\n",
    "    print(rr)"
   ]
  },
  {
   "cell_type": "code",
   "execution_count": 19,
   "metadata": {},
   "outputs": [],
   "source": [
    "# windows Path\n",
    "train_pkl_path = r'C:\\Users\\Administrator\\Downloads\\ASV\\ASV_DATA\\LA\\train_cqcc.pkl'\n",
    "dev_pkl_path = r'C:\\Users\\Administrator\\Downloads\\ASV\\ASV_DATA\\LA\\train_cqcc.pkl'\n",
    "eval_pkl_path = r'C:\\Users\\Administrator\\Downloads\\ASV\\ASV_DATA\\LA\\eval_cqcc.pkl'"
   ]
  },
  {
   "cell_type": "code",
   "execution_count": 21,
   "metadata": {
    "ExecuteTime": {
     "end_time": "2021-02-27T12:25:22.719314Z",
     "start_time": "2021-02-27T12:25:22.714545Z"
    }
   },
   "outputs": [],
   "source": [
    "# Mac Path\n",
    "train_pkl_path = '/Users/asimadnan/Desktop/Mres/ASVSPOOF_DATA/train_sample.pkl'\n",
    "dev_pkl_path = '/Users/asimadnan/Desktop/Mres/ASVSPOOF_DATA/dev_sample.pkl'\n",
    "eval_pkl_path = '/Users/asimadnan/Desktop/Mres/ASVSPOOF_DATA/eval_sample.pkl'"
   ]
  },
  {
   "cell_type": "markdown",
   "metadata": {},
   "source": [
    "# Training,Dev, and Eval MFCC Features "
   ]
  },
  {
   "cell_type": "code",
   "execution_count": 16,
   "metadata": {
    "ExecuteTime": {
     "end_time": "2021-02-27T12:24:07.846348Z",
     "start_time": "2021-02-27T12:24:07.832970Z"
    }
   },
   "outputs": [],
   "source": [
    "X_train_mfcc,y_train_mfcc = extract_pkl(train_pkl_path,'mfcc')"
   ]
  },
  {
   "cell_type": "code",
   "execution_count": 17,
   "metadata": {
    "ExecuteTime": {
     "end_time": "2021-02-27T12:24:08.578366Z",
     "start_time": "2021-02-27T12:24:08.572041Z"
    }
   },
   "outputs": [
    {
     "data": {
      "text/plain": [
       "(6, 650)"
      ]
     },
     "execution_count": 17,
     "metadata": {},
     "output_type": "execute_result"
    }
   ],
   "source": [
    "X_train_mfcc.shape"
   ]
  },
  {
   "cell_type": "code",
   "execution_count": 23,
   "metadata": {
    "ExecuteTime": {
     "end_time": "2021-02-27T12:25:48.073969Z",
     "start_time": "2021-02-27T12:25:48.043215Z"
    }
   },
   "outputs": [],
   "source": [
    "X_eval_mfcc,y_eval_mfcc = extract_pkl(eval_pkl_path,'mfcc')"
   ]
  },
  {
   "cell_type": "code",
   "execution_count": 24,
   "metadata": {
    "ExecuteTime": {
     "end_time": "2021-02-27T12:25:48.910720Z",
     "start_time": "2021-02-27T12:25:48.905200Z"
    }
   },
   "outputs": [
    {
     "data": {
      "text/plain": [
       "(41, 650)"
      ]
     },
     "execution_count": 24,
     "metadata": {},
     "output_type": "execute_result"
    }
   ],
   "source": [
    "X_eval_mfcc.shape"
   ]
  },
  {
   "cell_type": "markdown",
   "metadata": {},
   "source": [
    "# Training,Dev, and Eval CQCC Features "
   ]
  },
  {
   "cell_type": "code",
   "execution_count": 25,
   "metadata": {
    "ExecuteTime": {
     "end_time": "2021-02-27T12:25:51.935840Z",
     "start_time": "2021-02-27T12:25:51.920556Z"
    }
   },
   "outputs": [],
   "source": [
    "X_train_cqcc,y_train_cqcc = extract_pkl(train_pkl_path,'cqcc')"
   ]
  },
  {
   "cell_type": "code",
   "execution_count": 26,
   "metadata": {
    "ExecuteTime": {
     "end_time": "2021-02-27T12:25:52.457641Z",
     "start_time": "2021-02-27T12:25:52.448711Z"
    }
   },
   "outputs": [
    {
     "data": {
      "text/plain": [
       "(6, 3000)"
      ]
     },
     "execution_count": 26,
     "metadata": {},
     "output_type": "execute_result"
    }
   ],
   "source": [
    "X_train_cqcc.shape"
   ]
  },
  {
   "cell_type": "code",
   "execution_count": 27,
   "metadata": {
    "ExecuteTime": {
     "end_time": "2021-02-27T12:25:53.284856Z",
     "start_time": "2021-02-27T12:25:53.267210Z"
    }
   },
   "outputs": [],
   "source": [
    "X_eval_cqcc,y_eval_cqcc = extract_pkl(eval_pkl_path,'cqcc')"
   ]
  },
  {
   "cell_type": "markdown",
   "metadata": {},
   "source": [
    "# Classifiers Training - MFCC"
   ]
  },
  {
   "cell_type": "markdown",
   "metadata": {},
   "source": [
    "## SVM"
   ]
  },
  {
   "cell_type": "code",
   "execution_count": 28,
   "metadata": {
    "ExecuteTime": {
     "end_time": "2021-02-27T12:25:55.484615Z",
     "start_time": "2021-02-27T12:25:55.462515Z"
    }
   },
   "outputs": [
    {
     "data": {
      "text/plain": [
       "SVC(probability=True)"
      ]
     },
     "execution_count": 28,
     "metadata": {},
     "output_type": "execute_result"
    }
   ],
   "source": [
    "clf_mfcc = SVC(probability=True)\n",
    "clf_mfcc.fit(X_train_mfcc, y_train_mfcc)"
   ]
  },
  {
   "cell_type": "code",
   "execution_count": 29,
   "metadata": {
    "ExecuteTime": {
     "end_time": "2021-02-27T12:25:56.278108Z",
     "start_time": "2021-02-27T12:25:56.251930Z"
    }
   },
   "outputs": [
    {
     "ename": "NameError",
     "evalue": "name 'X_test_mfcc' is not defined",
     "output_type": "error",
     "traceback": [
      "\u001b[0;31m---------------------------------------------------------------------------\u001b[0m",
      "\u001b[0;31mNameError\u001b[0m                                 Traceback (most recent call last)",
      "\u001b[0;32m<ipython-input-29-d2135408febe>\u001b[0m in \u001b[0;36m<module>\u001b[0;34m\u001b[0m\n\u001b[0;32m----> 1\u001b[0;31m \u001b[0mevaluate\u001b[0m\u001b[0;34m(\u001b[0m \u001b[0mclf_mfcc\u001b[0m\u001b[0;34m,\u001b[0m \u001b[0;34m'SVM'\u001b[0m\u001b[0;34m,\u001b[0m  \u001b[0mX_test_mfcc\u001b[0m\u001b[0;34m,\u001b[0m\u001b[0my_test_mfcc\u001b[0m\u001b[0;34m,\u001b[0m\u001b[0mthreshold\u001b[0m \u001b[0;34m=\u001b[0m \u001b[0;36m.5\u001b[0m\u001b[0;34m)\u001b[0m\u001b[0;34m\u001b[0m\u001b[0;34m\u001b[0m\u001b[0m\n\u001b[0m",
      "\u001b[0;31mNameError\u001b[0m: name 'X_test_mfcc' is not defined"
     ]
    }
   ],
   "source": [
    "evaluate( clf_mfcc, 'SVM',  X_test_mfcc,y_test_mfcc,threshold = .5)"
   ]
  },
  {
   "cell_type": "markdown",
   "metadata": {},
   "source": [
    "## GMM"
   ]
  },
  {
   "cell_type": "code",
   "execution_count": null,
   "metadata": {},
   "outputs": [],
   "source": [
    "gmm_mfcc = GMM(n_components = 144, covariance_type='diag',n_init = 50)\n",
    "gmm_mfcc.fit(X_train_mfcc, y_train_mfcc)"
   ]
  },
  {
   "cell_type": "code",
   "execution_count": null,
   "metadata": {},
   "outputs": [],
   "source": []
  },
  {
   "cell_type": "code",
   "execution_count": null,
   "metadata": {},
   "outputs": [],
   "source": []
  },
  {
   "cell_type": "markdown",
   "metadata": {},
   "source": [
    "# Classifiers Training - CQCC"
   ]
  },
  {
   "cell_type": "code",
   "execution_count": 19,
   "metadata": {
    "ExecuteTime": {
     "end_time": "2021-02-18T02:23:00.868798Z",
     "start_time": "2021-02-18T02:23:00.857113Z"
    }
   },
   "outputs": [
    {
     "data": {
      "text/plain": [
       "SVC()"
      ]
     },
     "execution_count": 19,
     "metadata": {},
     "output_type": "execute_result"
    }
   ],
   "source": [
    "clf_cqcc = SVC()\n",
    "clf_cqcc.fit(X_train_cqcc, y_train_cqcc)"
   ]
  },
  {
   "cell_type": "code",
   "execution_count": null,
   "metadata": {},
   "outputs": [],
   "source": [
    "#Classifer testing"
   ]
  },
  {
   "cell_type": "code",
   "execution_count": 12,
   "metadata": {
    "ExecuteTime": {
     "end_time": "2021-02-18T02:46:08.387842Z",
     "start_time": "2021-02-18T02:46:08.377080Z"
    }
   },
   "outputs": [
    {
     "data": {
      "text/plain": [
       "1.0"
      ]
     },
     "execution_count": 12,
     "metadata": {},
     "output_type": "execute_result"
    }
   ],
   "source": [
    "clf_mfcc.score(X_test_mfcc, y_test_mfcc)"
   ]
  },
  {
   "cell_type": "code",
   "execution_count": null,
   "metadata": {},
   "outputs": [],
   "source": [
    "class_probabilities = model.predict_proba(X_test_mfcc)\n"
   ]
  },
  {
   "cell_type": "code",
   "execution_count": null,
   "metadata": {},
   "outputs": [],
   "source": []
  },
  {
   "cell_type": "code",
   "execution_count": 21,
   "metadata": {
    "ExecuteTime": {
     "end_time": "2021-02-18T02:23:53.946868Z",
     "start_time": "2021-02-18T02:23:53.933866Z"
    }
   },
   "outputs": [
    {
     "data": {
      "text/plain": [
       "0.8571428571428571"
      ]
     },
     "execution_count": 21,
     "metadata": {},
     "output_type": "execute_result"
    }
   ],
   "source": [
    "clf_cqcc.score(X_test_cqcc, y_test_cqcc)"
   ]
  },
  {
   "cell_type": "code",
   "execution_count": 41,
   "metadata": {
    "ExecuteTime": {
     "end_time": "2021-02-18T02:46:46.341649Z",
     "start_time": "2021-02-18T02:46:46.337060Z"
    }
   },
   "outputs": [],
   "source": [
    "#EER"
   ]
  },
  {
   "cell_type": "code",
   "execution_count": 51,
   "metadata": {
    "ExecuteTime": {
     "end_time": "2021-02-18T02:50:53.237448Z",
     "start_time": "2021-02-18T02:50:53.230190Z"
    }
   },
   "outputs": [],
   "source": [
    "def eer(model,X,y):\n",
    "    y_score = model.decision_function(X)\n",
    "    fpr, tpr, thresholds = roc_curve(y, y_score, pos_label='spoof')\n",
    "    eer = brentq(lambda x : 1. - x - interp1d(fpr, tpr)(x), 0., 1.)\n",
    "    thresh = interp1d(fpr, thresholds)(eer)\n",
    "    print ('EER', eer)\n"
   ]
  },
  {
   "cell_type": "code",
   "execution_count": 52,
   "metadata": {
    "ExecuteTime": {
     "end_time": "2021-02-18T02:51:08.825030Z",
     "start_time": "2021-02-18T02:51:08.814183Z"
    }
   },
   "outputs": [
    {
     "name": "stdout",
     "output_type": "stream",
     "text": [
      "EER 0.25\n"
     ]
    }
   ],
   "source": [
    "eer(clf_mfcc,X_test_mfcc, y_test_mfcc)"
   ]
  },
  {
   "cell_type": "code",
   "execution_count": 53,
   "metadata": {
    "ExecuteTime": {
     "end_time": "2021-02-18T02:51:09.616480Z",
     "start_time": "2021-02-18T02:51:09.605154Z"
    }
   },
   "outputs": [
    {
     "name": "stdout",
     "output_type": "stream",
     "text": [
      "EER 0.0\n"
     ]
    }
   ],
   "source": [
    "eer(clf_cqcc,X_test_cqcc, y_test_cqcc)"
   ]
  },
  {
   "cell_type": "code",
   "execution_count": null,
   "metadata": {},
   "outputs": [],
   "source": [
    "# (t-DCF) calculation"
   ]
  },
  {
   "cell_type": "code",
   "execution_count": null,
   "metadata": {},
   "outputs": [],
   "source": [
    "results = pd.DataFrame(columns=['Classifier', 'Feature', 'Score','EER'])\n"
   ]
  },
  {
   "cell_type": "code",
   "execution_count": null,
   "metadata": {},
   "outputs": [],
   "source": [
    "# Ensemble Cqcc & Mfcc"
   ]
  },
  {
   "cell_type": "code",
   "execution_count": null,
   "metadata": {},
   "outputs": [],
   "source": [
    "cqcc vs mfcc"
   ]
  },
  {
   "cell_type": "code",
   "execution_count": null,
   "metadata": {},
   "outputs": [],
   "source": [
    "# t_DCF"
   ]
  },
  {
   "cell_type": "code",
   "execution_count": null,
   "metadata": {},
   "outputs": [],
   "source": [
    "import sys\n",
    "import numpy as np\n",
    "import eval_metrics as em\n",
    "import matplotlib.pyplot as plt\n",
    "\n",
    "# Replace CM scores with your own scores or provide score file as the first argument.\n",
    "cm_score_file = 'scores/cm_dev.txt'\n",
    "# Replace ASV scores with organizers' scores or provide score file as the second argument.\n",
    "asv_score_file = 'scores/asv_dev.txt'\n",
    "\n",
    "\n",
    "\n",
    "# Fix tandem detection cost function (t-DCF) parameters\n",
    "Pspoof = 0.05\n",
    "cost_model = {\n",
    "    'Pspoof': Pspoof,  # Prior probability of a spoofing attack\n",
    "    'Ptar': (1 - Pspoof) * 0.99,  # Prior probability of target speaker\n",
    "    'Pnon': (1 - Pspoof) * 0.01,  # Prior probability of nontarget speaker\n",
    "    'Cmiss_asv': 1,  # Cost of ASV system falsely rejecting target speaker\n",
    "    'Cfa_asv': 10,  # Cost of ASV system falsely accepting nontarget speaker\n",
    "    'Cmiss_cm': 1,  # Cost of CM system falsely rejecting target speaker\n",
    "    'Cfa_cm': 10,  # Cost of CM system falsely accepting spoof\n",
    "}\n",
    "\n",
    "# Load organizers' ASV scores\n",
    "asv_data = np.genfromtxt(asv_score_file, dtype=str)\n",
    "asv_sources = asv_data[:, 0]\n",
    "asv_keys = asv_data[:, 1]\n",
    "asv_scores = asv_data[:, 2].astype(np.float)\n",
    "\n",
    "# Load CM scores\n",
    "cm_data = np.genfromtxt(cm_score_file, dtype=str)\n",
    "cm_utt_id = cm_data[:, 0]\n",
    "cm_sources = cm_data[:, 1]\n",
    "cm_keys = cm_data[:, 2]\n",
    "cm_scores = cm_data[:, 3].astype(np.float)\n",
    "\n",
    "# Extract target, nontarget, and spoof scores from the ASV scores\n",
    "tar_asv = asv_scores[asv_keys == 'target']\n",
    "non_asv = asv_scores[asv_keys == 'nontarget']\n",
    "spoof_asv = asv_scores[asv_keys == 'spoof']\n",
    "\n",
    "# Extract bona fide (real human) and spoof scores from the CM scores\n",
    "bona_cm = cm_scores[cm_keys == 'bonafide']\n",
    "spoof_cm = cm_scores[cm_keys == 'spoof']\n",
    "\n",
    "# EERs of the standalone systems and fix ASV operating point to EER threshold\n",
    "eer_asv, asv_threshold = em.compute_eer(tar_asv, non_asv)\n",
    "eer_cm = em.compute_eer(bona_cm, spoof_cm)[0]\n",
    "\n",
    "\n",
    "[Pfa_asv, Pmiss_asv, Pmiss_spoof_asv] = em.obtain_asv_error_rates(tar_asv, non_asv, spoof_asv, asv_threshold)\n",
    "\n",
    "\n",
    "# Compute t-DCF\n",
    "tDCF_curve, CM_thresholds = em.compute_tDCF(bona_cm, spoof_cm, Pfa_asv, Pmiss_asv, Pmiss_spoof_asv, cost_model, True)\n",
    "\n",
    "# Minimum t-DCF\n",
    "min_tDCF_index = np.argmin(tDCF_curve)\n",
    "min_tDCF = tDCF_curve[min_tDCF_index]\n",
    "\n",
    "\n",
    "print('ASV SYSTEM')\n",
    "print('   EER            = {:8.5f} % (Equal error rate (target vs. nontarget discrimination)'.format(eer_asv * 100))\n",
    "print('   Pfa            = {:8.5f} % (False acceptance rate of nontargets)'.format(Pfa_asv * 100))\n",
    "print('   Pmiss          = {:8.5f} % (False rejection rate of targets)'.format(Pmiss_asv * 100))\n",
    "print('   1-Pmiss,spoof  = {:8.5f} % (Spoof false acceptance rate)'.format((1 - Pmiss_spoof_asv) * 100))\n",
    "\n",
    "print('\\nCM SYSTEM')\n",
    "print('   EER            = {:8.5f} % (Equal error rate for countermeasure)'.format(eer_cm * 100))\n",
    "\n",
    "print('\\nTANDEM')\n",
    "print('   min-tDCF       = {:8.5f}'.format(min_tDCF))\n",
    "\n",
    "\n",
    "# Visualize ASV scores and CM scores\n",
    "plt.figure()\n",
    "ax = plt.subplot(121)\n",
    "plt.hist(tar_asv, histtype='step', density=True, bins=50, label='Target')\n",
    "plt.hist(non_asv, histtype='step', density=True, bins=50, label='Nontarget')\n",
    "plt.hist(spoof_asv, histtype='step', density=True, bins=50, label='Spoof')\n",
    "plt.plot(asv_threshold, 0, 'o', markersize=10, mfc='none', mew=2, clip_on=False, label='EER threshold')\n",
    "plt.legend()\n",
    "plt.xlabel('ASV score')\n",
    "plt.ylabel('Density')\n",
    "plt.title('ASV score histogram')\n",
    "\n",
    "ax = plt.subplot(122)\n",
    "plt.hist(bona_cm, histtype='step', density=True, bins=50, label='Bona fide')\n",
    "plt.hist(spoof_cm, histtype='step', density=True, bins=50, label='Spoof')\n",
    "plt.legend()\n",
    "plt.xlabel('CM score')\n",
    "#plt.ylabel('Density')\n",
    "plt.title('CM score histogram')\n",
    "\n",
    "\n",
    "# Plot t-DCF as function of the CM threshold.\n",
    "plt.figure()\n",
    "plt.plot(CM_thresholds, tDCF_curve)\n",
    "plt.plot(CM_thresholds[min_tDCF_index], min_tDCF, 'o', markersize=10, mfc='none', mew=2)\n",
    "plt.xlabel('CM threshold index (operating point)')\n",
    "plt.ylabel('Norm t-DCF');\n",
    "plt.title('Normalized tandem t-DCF')\n",
    "plt.plot([np.min(CM_thresholds), np.max(CM_thresholds)], [1, 1], '--', color='black')\n",
    "plt.legend(('t-DCF', 'min t-DCF ({:.5f})'.format(min_tDCF), 'Arbitrarily bad CM (Norm t-DCF=1)'))\n",
    "plt.xlim([np.min(CM_thresholds), np.max(CM_thresholds)])\n",
    "plt.ylim([0, 1.5])\n",
    "\n",
    "plt.show()\n"
   ]
  },
  {
   "cell_type": "code",
   "execution_count": null,
   "metadata": {},
   "outputs": [],
   "source": []
  }
 ],
 "metadata": {
  "kernelspec": {
   "display_name": "Python [conda env:root] *",
   "language": "python",
   "name": "conda-root-py"
  },
  "language_info": {
   "codemirror_mode": {
    "name": "ipython",
    "version": 3
   },
   "file_extension": ".py",
   "mimetype": "text/x-python",
   "name": "python",
   "nbconvert_exporter": "python",
   "pygments_lexer": "ipython3",
   "version": "3.8.5"
  },
  "varInspector": {
   "cols": {
    "lenName": 16,
    "lenType": 16,
    "lenVar": 40
   },
   "kernels_config": {
    "python": {
     "delete_cmd_postfix": "",
     "delete_cmd_prefix": "del ",
     "library": "var_list.py",
     "varRefreshCmd": "print(var_dic_list())"
    },
    "r": {
     "delete_cmd_postfix": ") ",
     "delete_cmd_prefix": "rm(",
     "library": "var_list.r",
     "varRefreshCmd": "cat(var_dic_list()) "
    }
   },
   "types_to_exclude": [
    "module",
    "function",
    "builtin_function_or_method",
    "instance",
    "_Feature"
   ],
   "window_display": false
  }
 },
 "nbformat": 4,
 "nbformat_minor": 4
}
