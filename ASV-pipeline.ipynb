{
 "cells": [
  {
   "cell_type": "code",
   "execution_count": 40,
   "metadata": {
    "ExecuteTime": {
     "end_time": "2021-03-11T02:22:13.272212Z",
     "start_time": "2021-03-11T02:22:10.585846Z"
    }
   },
   "outputs": [],
   "source": [
    "#load libraries\n",
    "import os\n",
    "import numpy as np\n",
    "import pickle\n",
    "import argparse\n",
    "import soundfile as sf\n",
    "import librosa\n",
    "import time\n",
    "import pandas as pd\n",
    "import gc\n",
    "from sklearn.svm import SVC\n",
    "import matplotlib.pyplot as plt\n",
    "from scipy.optimize import brentq\n",
    "from scipy.interpolate import interp1d\n",
    "from sklearn.metrics import roc_curve\n",
    "from sklearn.mixture import GaussianMixture\n",
    "from sklearn.metrics import roc_auc_score, roc_curve, plot_roc_curve, confusion_matrix, accuracy_score, classification_report, plot_confusion_matrix\n",
    "from sklearn.preprocessing import label_binarize\n",
    "from python_speech_features import mfcc\n",
    "from sklearn.mixture import GaussianMixture as GMM\n",
    "from sklearn import preprocessing\n",
    "from pdb import set_trace\n",
    "from scipy import stats"
   ]
  },
  {
   "cell_type": "code",
   "execution_count": 2,
   "metadata": {
    "ExecuteTime": {
     "end_time": "2021-03-11T00:17:14.632786Z",
     "start_time": "2021-03-11T00:17:14.630670Z"
    }
   },
   "outputs": [],
   "source": [
    "#Load training data \n",
    "#'/Users/asimadnan/Desktop/Mres/ASVSPOOF_DATA/train_sample.pkl'"
   ]
  },
  {
   "cell_type": "markdown",
   "metadata": {},
   "source": [
    "## Useful Functions"
   ]
  },
  {
   "cell_type": "code",
   "execution_count": 3,
   "metadata": {
    "ExecuteTime": {
     "end_time": "2021-03-11T00:17:14.700047Z",
     "start_time": "2021-03-11T00:17:14.686018Z"
    }
   },
   "outputs": [],
   "source": [
    "def extract_pkl(path,feature_type):\n",
    "    X = []\n",
    "    y = []\n",
    "\n",
    "    max_len = 50  # 1.25 seconds  # check the timesteps of cqcc and mfcc \n",
    "    lens = []\n",
    "    with open(path, 'rb') as infile:\n",
    "        data = pickle.load(infile)\n",
    "        for feat_cqcc, feat_mfcc, label in data:\n",
    "            #mfcc = mfccs.mean(0) # sum over all timesteps for now    # timesteps X 13\n",
    "            #lens.append(mfccs.shape[0])\n",
    "            if feature_type == \"cqcc\":\n",
    "                feats = feat_cqcc\n",
    "            elif feature_type == \"mfcc\":\n",
    "                feats = feat_mfcc\n",
    "            num_dim = feats.shape[1]\n",
    "            if len(feats) > max_len:\n",
    "                feats = feats[:max_len]\n",
    "            elif len(feats) < max_len:\n",
    "                feats = np.concatenate((feats, np.array([[0.]*num_dim]*(max_len-len(feats)))), axis=0)\n",
    "            X.append(feats.reshape(-1))\n",
    "            y.append(label)\n",
    "    X = np.array(X)\n",
    "    return X,y"
   ]
  },
  {
   "cell_type": "code",
   "execution_count": 4,
   "metadata": {
    "ExecuteTime": {
     "end_time": "2021-03-11T00:17:14.758582Z",
     "start_time": "2021-03-11T00:17:14.752258Z"
    }
   },
   "outputs": [],
   "source": [
    "def convert_to_binary(labels):\n",
    "    return label_binarize(labels, list(set(labels))[::-1]).flatten()"
   ]
  },
  {
   "cell_type": "code",
   "execution_count": 5,
   "metadata": {
    "ExecuteTime": {
     "end_time": "2021-03-11T00:17:14.806132Z",
     "start_time": "2021-03-11T00:17:14.794656Z"
    }
   },
   "outputs": [],
   "source": [
    "def class_label(n):\n",
    "    #sorted classes normally get using \n",
    "    # model.classes_\n",
    "    class_list = ['bonafide', 'spoof']\n",
    "    return class_list[n]"
   ]
  },
  {
   "cell_type": "code",
   "execution_count": 6,
   "metadata": {
    "ExecuteTime": {
     "end_time": "2021-03-11T00:17:14.871848Z",
     "start_time": "2021-03-11T00:17:14.852281Z"
    }
   },
   "outputs": [],
   "source": [
    "def evaluate( model, model_name,  x_test,y_test,threshold = .5):\n",
    "    test_prob = model.predict_proba(x_test)\n",
    "    if test_prob.shape[1] >1:\n",
    "        test_prob = test_prob[:,1]\n",
    "    y_pred = np.argmax(probas,axis=1)\n",
    "    y_pred = list(map(class_label,y_pred))\n",
    "    y_pred= convert_to_binary(y_pred)\n",
    "    y_test = convert_to_binary(y_test)\n",
    "    acc = accuracy_score(y_test, y_pred)\n",
    "    auc = roc_auc_score(y_test, test_prob) \n",
    "   \n",
    "    conf_matrix = confusion_matrix(y_test, y_pred)\n",
    "    #print(conf_matrix)\n",
    "    TP = conf_matrix[1][1]\n",
    "    TN = conf_matrix[0][0]\n",
    "    FP = conf_matrix[0][1]\n",
    "    FN = conf_matrix[1][0]\n",
    "    \n",
    "    # calculate the sensitivity\n",
    "    conf_sensitivity = (TP / float(TP + FN))\n",
    "    # calculate the specificity\n",
    "    conf_specificity = (TN / float(TN + FP))\n",
    "    \n",
    "\n",
    "    fpr, tpr, thr = roc_curve(y_test, test_prob)\n",
    "    \n",
    "    y_score = model.decision_function(x_test)\n",
    "    fpr, tpr, thresholds = roc_curve(y_test, y_score)\n",
    "    eer = brentq(lambda x : 1. - x - interp1d(fpr, tpr)(x), 0., 1.)\n",
    "    \n",
    "    #plt.plot(fpr, tpr, marker='.', label=\"Model\")\n",
    "    #plt.plot([0, 1], [0, 1], linestyle='--', lw=2, color='r',\n",
    "    #    label=\"Chance\", alpha=.8)\n",
    "    \n",
    "    \n",
    "    #print(\"\\n\\n\")\n",
    "    rr = {'Model': model_name,\n",
    "          'Accuracy' : acc,\n",
    "          'EER' : eer,\n",
    "          'AUC':auc, \n",
    "          'Sensitivity': conf_sensitivity, \n",
    "          'specificity': conf_specificity}\n",
    "    print(rr)"
   ]
  },
  {
   "cell_type": "code",
   "execution_count": 19,
   "metadata": {},
   "outputs": [],
   "source": [
    "# windows Path\n",
    "train_pkl_path = r'C:\\Users\\Administrator\\Downloads\\ASV\\ASV_DATA\\LA\\train_cqcc.pkl'\n",
    "dev_pkl_path = r'C:\\Users\\Administrator\\Downloads\\ASV\\ASV_DATA\\LA\\train_cqcc.pkl'\n",
    "eval_pkl_path = r'C:\\Users\\Administrator\\Downloads\\ASV\\ASV_DATA\\LA\\eval_cqcc.pkl'"
   ]
  },
  {
   "cell_type": "code",
   "execution_count": 7,
   "metadata": {
    "ExecuteTime": {
     "end_time": "2021-03-11T00:17:17.692242Z",
     "start_time": "2021-03-11T00:17:17.681348Z"
    }
   },
   "outputs": [],
   "source": [
    "# Mac Path\n",
    "train_pkl_path = '/Users/asimadnan/Desktop/Mres/ASVSPOOF_DATA/train_sample.pkl'\n",
    "dev_pkl_path = '/Users/asimadnan/Desktop/Mres/ASVSPOOF_DATA/dev_sample.pkl'\n",
    "eval_pkl_path = '/Users/asimadnan/Desktop/Mres/ASVSPOOF_DATA/eval_sample.pkl'"
   ]
  },
  {
   "cell_type": "markdown",
   "metadata": {},
   "source": [
    "# Training,Dev, and Eval MFCC Features "
   ]
  },
  {
   "cell_type": "code",
   "execution_count": 8,
   "metadata": {
    "ExecuteTime": {
     "end_time": "2021-03-11T00:17:18.378009Z",
     "start_time": "2021-03-11T00:17:18.369019Z"
    }
   },
   "outputs": [],
   "source": [
    "X_train_mfcc,y_train_mfcc = extract_pkl(train_pkl_path,'mfcc')"
   ]
  },
  {
   "cell_type": "code",
   "execution_count": 9,
   "metadata": {
    "ExecuteTime": {
     "end_time": "2021-03-11T00:17:18.718067Z",
     "start_time": "2021-03-11T00:17:18.708600Z"
    }
   },
   "outputs": [
    {
     "data": {
      "text/plain": [
       "(6, 650)"
      ]
     },
     "execution_count": 9,
     "metadata": {},
     "output_type": "execute_result"
    }
   ],
   "source": [
    "X_train_mfcc.shape"
   ]
  },
  {
   "cell_type": "code",
   "execution_count": 10,
   "metadata": {
    "ExecuteTime": {
     "end_time": "2021-03-11T00:17:20.938369Z",
     "start_time": "2021-03-11T00:17:20.906340Z"
    }
   },
   "outputs": [],
   "source": [
    "X_eval_mfcc,y_eval_mfcc = extract_pkl(eval_pkl_path,'mfcc')"
   ]
  },
  {
   "cell_type": "code",
   "execution_count": 11,
   "metadata": {
    "ExecuteTime": {
     "end_time": "2021-03-11T00:17:24.305713Z",
     "start_time": "2021-03-11T00:17:24.185985Z"
    }
   },
   "outputs": [
    {
     "data": {
      "text/plain": [
       "(41, 650)"
      ]
     },
     "execution_count": 11,
     "metadata": {},
     "output_type": "execute_result"
    }
   ],
   "source": [
    "X_eval_mfcc.shape"
   ]
  },
  {
   "cell_type": "code",
   "execution_count": 12,
   "metadata": {
    "ExecuteTime": {
     "end_time": "2021-03-11T00:51:18.301406Z",
     "start_time": "2021-03-11T00:51:18.287736Z"
    }
   },
   "outputs": [],
   "source": [
    "X_eval_mfcc,y_eval_mfcc = extract_pkl(dev_pkl_path,'mfcc')"
   ]
  },
  {
   "cell_type": "code",
   "execution_count": 13,
   "metadata": {
    "ExecuteTime": {
     "end_time": "2021-03-11T00:51:18.721970Z",
     "start_time": "2021-03-11T00:51:18.713703Z"
    }
   },
   "outputs": [
    {
     "data": {
      "text/plain": [
       "(7, 650)"
      ]
     },
     "execution_count": 13,
     "metadata": {},
     "output_type": "execute_result"
    }
   ],
   "source": [
    "X_eval_mfcc.shape"
   ]
  },
  {
   "cell_type": "markdown",
   "metadata": {},
   "source": [
    "# Training,Dev, and Eval CQCC Features "
   ]
  },
  {
   "cell_type": "code",
   "execution_count": 25,
   "metadata": {
    "ExecuteTime": {
     "end_time": "2021-02-27T12:25:51.935840Z",
     "start_time": "2021-02-27T12:25:51.920556Z"
    }
   },
   "outputs": [],
   "source": [
    "X_train_cqcc,y_train_cqcc = extract_pkl(train_pkl_path,'cqcc')"
   ]
  },
  {
   "cell_type": "code",
   "execution_count": 26,
   "metadata": {
    "ExecuteTime": {
     "end_time": "2021-02-27T12:25:52.457641Z",
     "start_time": "2021-02-27T12:25:52.448711Z"
    }
   },
   "outputs": [
    {
     "data": {
      "text/plain": [
       "(6, 3000)"
      ]
     },
     "execution_count": 26,
     "metadata": {},
     "output_type": "execute_result"
    }
   ],
   "source": [
    "X_train_cqcc.shape"
   ]
  },
  {
   "cell_type": "code",
   "execution_count": 27,
   "metadata": {
    "ExecuteTime": {
     "end_time": "2021-02-27T12:25:53.284856Z",
     "start_time": "2021-02-27T12:25:53.267210Z"
    }
   },
   "outputs": [],
   "source": [
    "X_eval_cqcc,y_eval_cqcc = extract_pkl(eval_pkl_path,'cqcc')"
   ]
  },
  {
   "cell_type": "markdown",
   "metadata": {},
   "source": [
    "# Classifiers Training - MFCC"
   ]
  },
  {
   "cell_type": "markdown",
   "metadata": {},
   "source": [
    "## SVM"
   ]
  },
  {
   "cell_type": "code",
   "execution_count": 28,
   "metadata": {
    "ExecuteTime": {
     "end_time": "2021-02-27T12:25:55.484615Z",
     "start_time": "2021-02-27T12:25:55.462515Z"
    }
   },
   "outputs": [
    {
     "data": {
      "text/plain": [
       "SVC(probability=True)"
      ]
     },
     "execution_count": 28,
     "metadata": {},
     "output_type": "execute_result"
    }
   ],
   "source": [
    "clf_mfcc = SVC(probability=True)\n",
    "clf_mfcc.fit(X_train_mfcc, y_train_mfcc)"
   ]
  },
  {
   "cell_type": "code",
   "execution_count": 29,
   "metadata": {
    "ExecuteTime": {
     "end_time": "2021-02-27T12:25:56.278108Z",
     "start_time": "2021-02-27T12:25:56.251930Z"
    }
   },
   "outputs": [
    {
     "ename": "NameError",
     "evalue": "name 'X_test_mfcc' is not defined",
     "output_type": "error",
     "traceback": [
      "\u001b[0;31m---------------------------------------------------------------------------\u001b[0m",
      "\u001b[0;31mNameError\u001b[0m                                 Traceback (most recent call last)",
      "\u001b[0;32m<ipython-input-29-d2135408febe>\u001b[0m in \u001b[0;36m<module>\u001b[0;34m\u001b[0m\n\u001b[0;32m----> 1\u001b[0;31m \u001b[0mevaluate\u001b[0m\u001b[0;34m(\u001b[0m \u001b[0mclf_mfcc\u001b[0m\u001b[0;34m,\u001b[0m \u001b[0;34m'SVM'\u001b[0m\u001b[0;34m,\u001b[0m  \u001b[0mX_test_mfcc\u001b[0m\u001b[0;34m,\u001b[0m\u001b[0my_test_mfcc\u001b[0m\u001b[0;34m,\u001b[0m\u001b[0mthreshold\u001b[0m \u001b[0;34m=\u001b[0m \u001b[0;36m.5\u001b[0m\u001b[0;34m)\u001b[0m\u001b[0;34m\u001b[0m\u001b[0;34m\u001b[0m\u001b[0m\n\u001b[0m",
      "\u001b[0;31mNameError\u001b[0m: name 'X_test_mfcc' is not defined"
     ]
    }
   ],
   "source": [
    "evaluate( clf_mfcc, 'SVM',  X_test_mfcc,y_test_mfcc,threshold = .5)"
   ]
  },
  {
   "cell_type": "markdown",
   "metadata": {},
   "source": [
    "## GMM"
   ]
  },
  {
   "cell_type": "code",
   "execution_count": 14,
   "metadata": {
    "ExecuteTime": {
     "end_time": "2021-03-11T00:52:32.014774Z",
     "start_time": "2021-03-11T00:52:32.006870Z"
    }
   },
   "outputs": [],
   "source": [
    "gmm_bon = GMM(n_components = 144, covariance_type='diag',n_init = 50) # min shape[0] = 135 # max = 1112\n",
    "# 2580 1112 337.8709302325581 289\n",
    "gmm_sp  = GMM(n_components = 144, covariance_type='diag',n_init = 50)  # min shape[0] = 64  # max = 1318"
   ]
  },
  {
   "cell_type": "code",
   "execution_count": 21,
   "metadata": {
    "ExecuteTime": {
     "end_time": "2021-03-11T00:58:34.252146Z",
     "start_time": "2021-03-11T00:58:34.247037Z"
    }
   },
   "outputs": [],
   "source": [
    "bondata = []\n",
    "spdata = []\n",
    "feature_type = 'mfcc'\n",
    "dest = '/Users/asimadnan/Desktop/Mres/Experiments/Models/'"
   ]
  },
  {
   "cell_type": "code",
   "execution_count": 22,
   "metadata": {
    "ExecuteTime": {
     "end_time": "2021-03-11T00:58:34.708425Z",
     "start_time": "2021-03-11T00:58:34.690752Z"
    }
   },
   "outputs": [
    {
     "name": "stdout",
     "output_type": "stream",
     "text": [
      "Bon feature stacked, shape as:  (994, 13)\n",
      "Sp feature stacked, shape as:  (890, 13)\n"
     ]
    }
   ],
   "source": [
    " with open(train_pkl_path, 'rb') as infile:\n",
    "        data = pickle.load(infile)\n",
    "        for feat_cqcc, feat_mfcc, label in data:\n",
    "            # feature selection\n",
    "            if feature_type == \"cqcc\":\n",
    "                feats = feat_cqcc\n",
    "            elif feature_type == \"mfcc\":\n",
    "                feats = feat_mfcc\n",
    "            # label selection\n",
    "            if (label == 'bonafide'):\n",
    "                #i += 1\n",
    "                bondata.append(feats)\n",
    "            elif(label == 'spoof'):\n",
    "                spdata.append(feats)\n",
    "            '''# debug\n",
    "            if (i > 10):\n",
    "                break'''\n",
    "Xbon = np.vstack(bondata)\n",
    "print('Bon feature stacked, shape as: ', Xbon.shape)\n",
    "Xsp = np.vstack(spdata)\n",
    "print('Sp feature stacked, shape as: ', Xsp.shape)\n"
   ]
  },
  {
   "cell_type": "code",
   "execution_count": 23,
   "metadata": {
    "ExecuteTime": {
     "end_time": "2021-03-11T00:59:06.071254Z",
     "start_time": "2021-03-11T00:58:35.517147Z"
    }
   },
   "outputs": [
    {
     "name": "stdout",
     "output_type": "stream",
     "text": [
      "Bon gmm trained, time spend: 18.723251342773438\n",
      "Sp gmm trained, time spend: 11.82088589668274\n",
      "GMM model created\n"
     ]
    }
   ],
   "source": [
    "t0 = time.time()\n",
    "gmm_bon.fit(Xbon)\n",
    "print('Bon gmm trained, time spend:', time.time() - t0)\n",
    "\n",
    "t0 = time.time()\n",
    "gmm_sp.fit(Xsp)\n",
    "print('Sp gmm trained, time spend:', time.time() - t0)\n",
    "\n",
    "pickle.dump(gmm_bon, open(dest + 'bon' + '.gmm', 'wb'))\n",
    "pickle.dump(gmm_sp, open(dest + 'sp' + '.gmm', 'wb'))\n",
    "print('GMM model created')\n",
    "\n"
   ]
  },
  {
   "cell_type": "code",
   "execution_count": null,
   "metadata": {},
   "outputs": [],
   "source": [
    "# GMM Test"
   ]
  },
  {
   "cell_type": "code",
   "execution_count": 24,
   "metadata": {
    "ExecuteTime": {
     "end_time": "2021-03-11T01:01:15.984567Z",
     "start_time": "2021-03-11T01:01:15.944700Z"
    }
   },
   "outputs": [],
   "source": [
    "gmm_bon = pickle.load(open(dest + 'bon' + '.gmm','rb'))\n",
    "gmm_sp  = pickle.load(open(dest + 'sp' + '.gmm','rb'))"
   ]
  },
  {
   "cell_type": "code",
   "execution_count": 28,
   "metadata": {
    "ExecuteTime": {
     "end_time": "2021-03-11T02:09:08.736408Z",
     "start_time": "2021-03-11T02:09:08.691527Z"
    }
   },
   "outputs": [
    {
     "name": "stdout",
     "output_type": "stream",
     "text": [
      "4 (280, 13)\n",
      "3 (294, 13)\n"
     ]
    }
   ],
   "source": [
    "bondata = []\n",
    "spdata = []\n",
    "    # debug\n",
    "    #j = 0\n",
    "with open(dev_pkl_path, 'rb') as infile:\n",
    "    data = pickle.load(infile)\n",
    "    for feat_cqcc, feat_mfcc, label in data:\n",
    "        # feature selection\n",
    "        if feature_type == \"cqcc\":\n",
    "            feats = feat_cqcc\n",
    "        elif feature_type == \"mfcc\":\n",
    "            feats = feat_mfcc\n",
    "        # label selection\n",
    "        if (label == 'bonafide'):\n",
    "            #j += 1\n",
    "            bondata.append(feats)\n",
    "        elif(label == 'spoof'):\n",
    "            spdata.append(feats)\n",
    "        # debug\n",
    "        #if (j > 10):\n",
    "        #    break\n",
    "print(len(bondata), bondata[0].shape)\n",
    "print(len(spdata), spdata[0].shape)\n",
    "\n"
   ]
  },
  {
   "cell_type": "code",
   "execution_count": 34,
   "metadata": {
    "ExecuteTime": {
     "end_time": "2021-03-11T02:10:59.109947Z",
     "start_time": "2021-03-11T02:10:59.065092Z"
    }
   },
   "outputs": [
    {
     "name": "stdout",
     "output_type": "stream",
     "text": [
      "Evaluating Bon sample at 0.0 %\n",
      "Evaluating Sp sample at 0.0 %\n"
     ]
    }
   ],
   "source": [
    "predb = []\n",
    "preds = []\n",
    "j_bon = len(bondata)\n",
    "k_sp  = len(spdata)\n",
    "\n",
    "\n",
    "for i in range(j_bon):\n",
    "    if (i % 50 == 0):\n",
    "        print('Evaluating Bon sample at',i/j_bon * 100, '%')\n",
    "    X = bondata[i]\n",
    "    bscore = gmm_bon.score(X)\n",
    "    sscore = gmm_sp.score(X)\n",
    "\n",
    "    #predb.append(np.exp(bscore)-np.exp(sscore))\n",
    "    predb.append(bscore-sscore)\n",
    "\n",
    "for i in range(k_sp):\n",
    "    if (i % 50 == 0):\n",
    "        print('Evaluating Sp sample at',i/k_sp * 100, '%')\n",
    "    X = spdata[i]\n",
    "    bscore = gmm_bon.score(X)\n",
    "    sscore = gmm_sp.score(X)\n",
    "\n",
    "    #preds.append(np.exp(bscore)-np.exp(sscore))\n",
    "    preds.append(bscore-sscore)\n",
    "\n",
    "predb1 = np.asarray(predb)\n",
    "preds1 = np.asarray(preds)\n",
    "\n"
   ]
  },
  {
   "cell_type": "code",
   "execution_count": 35,
   "metadata": {
    "ExecuteTime": {
     "end_time": "2021-03-11T02:10:59.533205Z",
     "start_time": "2021-03-11T02:10:59.520819Z"
    }
   },
   "outputs": [
    {
     "data": {
      "text/plain": [
       "array([ 3.38630196,  2.21148223, -0.17349277,  5.98835172])"
      ]
     },
     "execution_count": 35,
     "metadata": {},
     "output_type": "execute_result"
    }
   ],
   "source": [
    "predb1"
   ]
  },
  {
   "cell_type": "code",
   "execution_count": 36,
   "metadata": {
    "ExecuteTime": {
     "end_time": "2021-03-11T02:11:00.063775Z",
     "start_time": "2021-03-11T02:11:00.054628Z"
    }
   },
   "outputs": [
    {
     "data": {
      "text/plain": [
       "array([ 4.60933951, -5.810361  ,  2.19222455])"
      ]
     },
     "execution_count": 36,
     "metadata": {},
     "output_type": "execute_result"
    }
   ],
   "source": [
    "preds1"
   ]
  },
  {
   "cell_type": "code",
   "execution_count": 37,
   "metadata": {
    "ExecuteTime": {
     "end_time": "2021-03-11T02:11:01.118262Z",
     "start_time": "2021-03-11T02:11:01.110796Z"
    }
   },
   "outputs": [
    {
     "name": "stdout",
     "output_type": "stream",
     "text": [
      "3.0 Bon samples were CORRECTLY evaluated out of 4 samples. Bon_Accuracy =  0.75\n",
      "1.0 Sp samples were CORRECTLY evaluated out of 3 samples. Sp_Accuracy =  0.3333333333333333\n",
      "Total GMM Classifier Accuracy =  0.5714285714285714\n"
     ]
    }
   ],
   "source": [
    "predb1[predb1 < 0] = 0\n",
    "predb1[predb1 > 0] = 1\n",
    "predbresult1 = np.sum(predb1)\n",
    "print(predbresult1, 'Bon samples were CORRECTLY evaluated out of', j_bon,'samples. Bon_Accuracy = ', predbresult1/j_bon )# 0.7356\n",
    "\n",
    "\n",
    "preds1[preds1 > 0] = 0\n",
    "preds1[preds1 < 0] = 1\n",
    "predsresult = np.sum(preds1)\n",
    "print(predsresult, 'Sp samples were CORRECTLY evaluated out of', k_sp, 'samples. Sp_Accuracy = ', predsresult/k_sp)# 0.4092\n",
    "\n",
    "print('Total GMM Classifier Accuracy = ',(predbresult1 + predsresult)/(j_bon + k_sp))"
   ]
  },
  {
   "cell_type": "markdown",
   "metadata": {
    "ExecuteTime": {
     "end_time": "2021-03-11T02:18:29.636225Z",
     "start_time": "2021-03-11T02:18:29.625080Z"
    }
   },
   "source": [
    "# Looking at All CSV Files provided with Data \n",
    "## (LA; speech synthesis/conversion attacks)  (PA; replay attacks)"
   ]
  },
  {
   "cell_type": "code",
   "execution_count": 42,
   "metadata": {
    "ExecuteTime": {
     "end_time": "2021-03-11T02:22:18.601992Z",
     "start_time": "2021-03-11T02:22:18.598275Z"
    }
   },
   "outputs": [],
   "source": [
    "train_labels = '/Users/asimadnan/Desktop/Mres/ASVSPOOF_DATA/LA/ASVspoof2019_LA_cm_protocols/ASVspoof2019.LA.cm.train.trn.txt'"
   ]
  },
  {
   "cell_type": "code",
   "execution_count": 47,
   "metadata": {
    "ExecuteTime": {
     "end_time": "2021-03-11T02:28:39.206638Z",
     "start_time": "2021-03-11T02:28:39.147302Z"
    }
   },
   "outputs": [
    {
     "data": {
      "text/html": [
       "<div>\n",
       "<style scoped>\n",
       "    .dataframe tbody tr th:only-of-type {\n",
       "        vertical-align: middle;\n",
       "    }\n",
       "\n",
       "    .dataframe tbody tr th {\n",
       "        vertical-align: top;\n",
       "    }\n",
       "\n",
       "    .dataframe thead th {\n",
       "        text-align: right;\n",
       "    }\n",
       "</style>\n",
       "<table border=\"1\" class=\"dataframe\">\n",
       "  <thead>\n",
       "    <tr style=\"text-align: right;\">\n",
       "      <th></th>\n",
       "      <th>SPEAKER_ID</th>\n",
       "      <th>AUDIO_FILE_NAME</th>\n",
       "      <th>not_used</th>\n",
       "      <th>SYSTEM_ID</th>\n",
       "      <th>KEY</th>\n",
       "    </tr>\n",
       "  </thead>\n",
       "  <tbody>\n",
       "    <tr>\n",
       "      <th>0</th>\n",
       "      <td>LA_0079</td>\n",
       "      <td>LA_T_1138215</td>\n",
       "      <td>-</td>\n",
       "      <td>-</td>\n",
       "      <td>bonafide</td>\n",
       "    </tr>\n",
       "    <tr>\n",
       "      <th>1</th>\n",
       "      <td>LA_0079</td>\n",
       "      <td>LA_T_1271820</td>\n",
       "      <td>-</td>\n",
       "      <td>-</td>\n",
       "      <td>bonafide</td>\n",
       "    </tr>\n",
       "    <tr>\n",
       "      <th>2</th>\n",
       "      <td>LA_0079</td>\n",
       "      <td>LA_T_1272637</td>\n",
       "      <td>-</td>\n",
       "      <td>-</td>\n",
       "      <td>bonafide</td>\n",
       "    </tr>\n",
       "    <tr>\n",
       "      <th>3</th>\n",
       "      <td>LA_0079</td>\n",
       "      <td>LA_T_1276960</td>\n",
       "      <td>-</td>\n",
       "      <td>-</td>\n",
       "      <td>bonafide</td>\n",
       "    </tr>\n",
       "    <tr>\n",
       "      <th>4</th>\n",
       "      <td>LA_0079</td>\n",
       "      <td>LA_T_1341447</td>\n",
       "      <td>-</td>\n",
       "      <td>-</td>\n",
       "      <td>bonafide</td>\n",
       "    </tr>\n",
       "    <tr>\n",
       "      <th>...</th>\n",
       "      <td>...</td>\n",
       "      <td>...</td>\n",
       "      <td>...</td>\n",
       "      <td>...</td>\n",
       "      <td>...</td>\n",
       "    </tr>\n",
       "    <tr>\n",
       "      <th>25375</th>\n",
       "      <td>LA_0098</td>\n",
       "      <td>LA_T_9717580</td>\n",
       "      <td>-</td>\n",
       "      <td>A06</td>\n",
       "      <td>spoof</td>\n",
       "    </tr>\n",
       "    <tr>\n",
       "      <th>25376</th>\n",
       "      <td>LA_0098</td>\n",
       "      <td>LA_T_9779814</td>\n",
       "      <td>-</td>\n",
       "      <td>A06</td>\n",
       "      <td>spoof</td>\n",
       "    </tr>\n",
       "    <tr>\n",
       "      <th>25377</th>\n",
       "      <td>LA_0098</td>\n",
       "      <td>LA_T_9783312</td>\n",
       "      <td>-</td>\n",
       "      <td>A06</td>\n",
       "      <td>spoof</td>\n",
       "    </tr>\n",
       "    <tr>\n",
       "      <th>25378</th>\n",
       "      <td>LA_0098</td>\n",
       "      <td>LA_T_9839348</td>\n",
       "      <td>-</td>\n",
       "      <td>A06</td>\n",
       "      <td>spoof</td>\n",
       "    </tr>\n",
       "    <tr>\n",
       "      <th>25379</th>\n",
       "      <td>LA_0098</td>\n",
       "      <td>LA_T_9982036</td>\n",
       "      <td>-</td>\n",
       "      <td>A06</td>\n",
       "      <td>spoof</td>\n",
       "    </tr>\n",
       "  </tbody>\n",
       "</table>\n",
       "<p>25380 rows × 5 columns</p>\n",
       "</div>"
      ],
      "text/plain": [
       "      SPEAKER_ID AUDIO_FILE_NAME not_used SYSTEM_ID       KEY\n",
       "0        LA_0079    LA_T_1138215        -         -  bonafide\n",
       "1        LA_0079    LA_T_1271820        -         -  bonafide\n",
       "2        LA_0079    LA_T_1272637        -         -  bonafide\n",
       "3        LA_0079    LA_T_1276960        -         -  bonafide\n",
       "4        LA_0079    LA_T_1341447        -         -  bonafide\n",
       "...          ...             ...      ...       ...       ...\n",
       "25375    LA_0098    LA_T_9717580        -       A06     spoof\n",
       "25376    LA_0098    LA_T_9779814        -       A06     spoof\n",
       "25377    LA_0098    LA_T_9783312        -       A06     spoof\n",
       "25378    LA_0098    LA_T_9839348        -       A06     spoof\n",
       "25379    LA_0098    LA_T_9982036        -       A06     spoof\n",
       "\n",
       "[25380 rows x 5 columns]"
      ]
     },
     "execution_count": 47,
     "metadata": {},
     "output_type": "execute_result"
    }
   ],
   "source": [
    "la_labels = pd.read_csv(train_labels, delimiter = \" \", header=None)\n",
    "la_labels.columns = ['SPEAKER_ID','AUDIO_FILE_NAME','not_used','SYSTEM_ID','KEY']\n",
    "la_labels"
   ]
  },
  {
   "cell_type": "code",
   "execution_count": 49,
   "metadata": {
    "ExecuteTime": {
     "end_time": "2021-03-11T02:34:51.559658Z",
     "start_time": "2021-03-11T02:34:51.553709Z"
    }
   },
   "outputs": [],
   "source": [
    "pa__train_labels = '/Users/asimadnan/Desktop/Mres/ASVSPOOF_DATA/PA/ASVspoof2019_PA_cm_protocols/ASVspoof2019.PA.cm.train.trn.txt'"
   ]
  },
  {
   "cell_type": "markdown",
   "metadata": {},
   "source": [
    "a triplet (S,R,D_s), which take one letter in the set {a,b,c} as categorical value, defined as:\n",
    "\n",
    "\t\t\t\t\t\t\t\ta\t\tb\t\tc\n",
    "\t\t\t--------------------------------------------------------------------------------\n",
    "\t\t\tS:   Room size (square meters)\t\t2-5\t\t5-10\t\t10-20\n",
    "\t\t\tR:   T60 (ms)\t\t\t\t50-200\t\t200-600\t\t600-1000\n",
    "\t\t\tD_s: Talker-to-ASV distance (cm)\t10-50\t\t50-100\t\t100-150\n",
    "\n",
    "\n",
    "   \t4) ATTACK_ID:\t\ta duple (D_a,Q), which take one letter in the set {A,B,C} as categorical value, defined as\n",
    "\n",
    "\t\t\t\t\t\t\t\tA\t\tB\t\tC\n",
    "\t\t\t-----------------------------------------------------------------------------\n",
    "\t\t\tZ: Attacker-to-talker distance (cm)\t10-50\t\t50-100\t\t> 100\n",
    "\t\t\tQ: Replay device quality\t\tperfect\t\thigh\t\tlow\n",
    "\n",
    "\t\t\tfor bonafide speech, ATTACK_ID is left blank ('-')\n",
    "\t\t"
   ]
  },
  {
   "cell_type": "code",
   "execution_count": 51,
   "metadata": {
    "ExecuteTime": {
     "end_time": "2021-03-11T02:35:14.975780Z",
     "start_time": "2021-03-11T02:35:14.863875Z"
    }
   },
   "outputs": [
    {
     "data": {
      "text/html": [
       "<div>\n",
       "<style scoped>\n",
       "    .dataframe tbody tr th:only-of-type {\n",
       "        vertical-align: middle;\n",
       "    }\n",
       "\n",
       "    .dataframe tbody tr th {\n",
       "        vertical-align: top;\n",
       "    }\n",
       "\n",
       "    .dataframe thead th {\n",
       "        text-align: right;\n",
       "    }\n",
       "</style>\n",
       "<table border=\"1\" class=\"dataframe\">\n",
       "  <thead>\n",
       "    <tr style=\"text-align: right;\">\n",
       "      <th></th>\n",
       "      <th>SPEAKER_ID</th>\n",
       "      <th>AUDIO_FILE_NAME</th>\n",
       "      <th>ENVIRONMENT_ID</th>\n",
       "      <th>ATTACK_ID</th>\n",
       "      <th>KEY</th>\n",
       "    </tr>\n",
       "  </thead>\n",
       "  <tbody>\n",
       "    <tr>\n",
       "      <th>0</th>\n",
       "      <td>PA_0079</td>\n",
       "      <td>PA_T_0000001</td>\n",
       "      <td>aaa</td>\n",
       "      <td>-</td>\n",
       "      <td>bonafide</td>\n",
       "    </tr>\n",
       "    <tr>\n",
       "      <th>1</th>\n",
       "      <td>PA_0079</td>\n",
       "      <td>PA_T_0000002</td>\n",
       "      <td>aaa</td>\n",
       "      <td>-</td>\n",
       "      <td>bonafide</td>\n",
       "    </tr>\n",
       "    <tr>\n",
       "      <th>2</th>\n",
       "      <td>PA_0079</td>\n",
       "      <td>PA_T_0000003</td>\n",
       "      <td>aaa</td>\n",
       "      <td>-</td>\n",
       "      <td>bonafide</td>\n",
       "    </tr>\n",
       "    <tr>\n",
       "      <th>3</th>\n",
       "      <td>PA_0079</td>\n",
       "      <td>PA_T_0000004</td>\n",
       "      <td>aaa</td>\n",
       "      <td>-</td>\n",
       "      <td>bonafide</td>\n",
       "    </tr>\n",
       "    <tr>\n",
       "      <th>4</th>\n",
       "      <td>PA_0079</td>\n",
       "      <td>PA_T_0000005</td>\n",
       "      <td>aaa</td>\n",
       "      <td>-</td>\n",
       "      <td>bonafide</td>\n",
       "    </tr>\n",
       "    <tr>\n",
       "      <th>...</th>\n",
       "      <td>...</td>\n",
       "      <td>...</td>\n",
       "      <td>...</td>\n",
       "      <td>...</td>\n",
       "      <td>...</td>\n",
       "    </tr>\n",
       "    <tr>\n",
       "      <th>53995</th>\n",
       "      <td>PA_0098</td>\n",
       "      <td>PA_T_0053996</td>\n",
       "      <td>ccc</td>\n",
       "      <td>CC</td>\n",
       "      <td>spoof</td>\n",
       "    </tr>\n",
       "    <tr>\n",
       "      <th>53996</th>\n",
       "      <td>PA_0098</td>\n",
       "      <td>PA_T_0053997</td>\n",
       "      <td>ccc</td>\n",
       "      <td>CC</td>\n",
       "      <td>spoof</td>\n",
       "    </tr>\n",
       "    <tr>\n",
       "      <th>53997</th>\n",
       "      <td>PA_0098</td>\n",
       "      <td>PA_T_0053998</td>\n",
       "      <td>ccc</td>\n",
       "      <td>CC</td>\n",
       "      <td>spoof</td>\n",
       "    </tr>\n",
       "    <tr>\n",
       "      <th>53998</th>\n",
       "      <td>PA_0098</td>\n",
       "      <td>PA_T_0053999</td>\n",
       "      <td>ccc</td>\n",
       "      <td>CC</td>\n",
       "      <td>spoof</td>\n",
       "    </tr>\n",
       "    <tr>\n",
       "      <th>53999</th>\n",
       "      <td>PA_0098</td>\n",
       "      <td>PA_T_0054000</td>\n",
       "      <td>ccc</td>\n",
       "      <td>CC</td>\n",
       "      <td>spoof</td>\n",
       "    </tr>\n",
       "  </tbody>\n",
       "</table>\n",
       "<p>54000 rows × 5 columns</p>\n",
       "</div>"
      ],
      "text/plain": [
       "      SPEAKER_ID AUDIO_FILE_NAME ENVIRONMENT_ID ATTACK_ID       KEY\n",
       "0        PA_0079    PA_T_0000001            aaa         -  bonafide\n",
       "1        PA_0079    PA_T_0000002            aaa         -  bonafide\n",
       "2        PA_0079    PA_T_0000003            aaa         -  bonafide\n",
       "3        PA_0079    PA_T_0000004            aaa         -  bonafide\n",
       "4        PA_0079    PA_T_0000005            aaa         -  bonafide\n",
       "...          ...             ...            ...       ...       ...\n",
       "53995    PA_0098    PA_T_0053996            ccc        CC     spoof\n",
       "53996    PA_0098    PA_T_0053997            ccc        CC     spoof\n",
       "53997    PA_0098    PA_T_0053998            ccc        CC     spoof\n",
       "53998    PA_0098    PA_T_0053999            ccc        CC     spoof\n",
       "53999    PA_0098    PA_T_0054000            ccc        CC     spoof\n",
       "\n",
       "[54000 rows x 5 columns]"
      ]
     },
     "execution_count": 51,
     "metadata": {},
     "output_type": "execute_result"
    }
   ],
   "source": [
    "pa_labels = pd.read_csv(pa__train_labels, delimiter = \" \", header=None)\n",
    "pa_labels.columns = ['SPEAKER_ID','AUDIO_FILE_NAME','ENVIRONMENT_ID','ATTACK_ID','KEY']\n",
    "pa_labels\n"
   ]
  },
  {
   "cell_type": "markdown",
   "metadata": {},
   "source": [
    "# Classifiers Training - CQCC"
   ]
  },
  {
   "cell_type": "code",
   "execution_count": 19,
   "metadata": {
    "ExecuteTime": {
     "end_time": "2021-02-18T02:23:00.868798Z",
     "start_time": "2021-02-18T02:23:00.857113Z"
    }
   },
   "outputs": [
    {
     "data": {
      "text/plain": [
       "SVC()"
      ]
     },
     "execution_count": 19,
     "metadata": {},
     "output_type": "execute_result"
    }
   ],
   "source": [
    "clf_cqcc = SVC()\n",
    "clf_cqcc.fit(X_train_cqcc, y_train_cqcc)"
   ]
  },
  {
   "cell_type": "code",
   "execution_count": null,
   "metadata": {},
   "outputs": [],
   "source": [
    "#Classifer testing"
   ]
  },
  {
   "cell_type": "code",
   "execution_count": 12,
   "metadata": {
    "ExecuteTime": {
     "end_time": "2021-02-18T02:46:08.387842Z",
     "start_time": "2021-02-18T02:46:08.377080Z"
    }
   },
   "outputs": [
    {
     "data": {
      "text/plain": [
       "1.0"
      ]
     },
     "execution_count": 12,
     "metadata": {},
     "output_type": "execute_result"
    }
   ],
   "source": [
    "clf_mfcc.score(X_test_mfcc, y_test_mfcc)"
   ]
  },
  {
   "cell_type": "code",
   "execution_count": null,
   "metadata": {},
   "outputs": [],
   "source": [
    "class_probabilities = model.predict_proba(X_test_mfcc)\n"
   ]
  },
  {
   "cell_type": "code",
   "execution_count": null,
   "metadata": {},
   "outputs": [],
   "source": []
  },
  {
   "cell_type": "code",
   "execution_count": 21,
   "metadata": {
    "ExecuteTime": {
     "end_time": "2021-02-18T02:23:53.946868Z",
     "start_time": "2021-02-18T02:23:53.933866Z"
    }
   },
   "outputs": [
    {
     "data": {
      "text/plain": [
       "0.8571428571428571"
      ]
     },
     "execution_count": 21,
     "metadata": {},
     "output_type": "execute_result"
    }
   ],
   "source": [
    "clf_cqcc.score(X_test_cqcc, y_test_cqcc)"
   ]
  },
  {
   "cell_type": "code",
   "execution_count": 41,
   "metadata": {
    "ExecuteTime": {
     "end_time": "2021-02-18T02:46:46.341649Z",
     "start_time": "2021-02-18T02:46:46.337060Z"
    }
   },
   "outputs": [],
   "source": [
    "#EER"
   ]
  },
  {
   "cell_type": "code",
   "execution_count": 51,
   "metadata": {
    "ExecuteTime": {
     "end_time": "2021-02-18T02:50:53.237448Z",
     "start_time": "2021-02-18T02:50:53.230190Z"
    }
   },
   "outputs": [],
   "source": [
    "def eer(model,X,y):\n",
    "    y_score = model.decision_function(X)\n",
    "    fpr, tpr, thresholds = roc_curve(y, y_score, pos_label='spoof')\n",
    "    eer = brentq(lambda x : 1. - x - interp1d(fpr, tpr)(x), 0., 1.)\n",
    "    thresh = interp1d(fpr, thresholds)(eer)\n",
    "    print ('EER', eer)\n"
   ]
  },
  {
   "cell_type": "code",
   "execution_count": 52,
   "metadata": {
    "ExecuteTime": {
     "end_time": "2021-02-18T02:51:08.825030Z",
     "start_time": "2021-02-18T02:51:08.814183Z"
    }
   },
   "outputs": [
    {
     "name": "stdout",
     "output_type": "stream",
     "text": [
      "EER 0.25\n"
     ]
    }
   ],
   "source": [
    "eer(clf_mfcc,X_test_mfcc, y_test_mfcc)"
   ]
  },
  {
   "cell_type": "code",
   "execution_count": 53,
   "metadata": {
    "ExecuteTime": {
     "end_time": "2021-02-18T02:51:09.616480Z",
     "start_time": "2021-02-18T02:51:09.605154Z"
    }
   },
   "outputs": [
    {
     "name": "stdout",
     "output_type": "stream",
     "text": [
      "EER 0.0\n"
     ]
    }
   ],
   "source": [
    "eer(clf_cqcc,X_test_cqcc, y_test_cqcc)"
   ]
  },
  {
   "cell_type": "code",
   "execution_count": null,
   "metadata": {},
   "outputs": [],
   "source": [
    "# (t-DCF) calculation"
   ]
  },
  {
   "cell_type": "code",
   "execution_count": null,
   "metadata": {},
   "outputs": [],
   "source": [
    "results = pd.DataFrame(columns=['Classifier', 'Feature', 'Score','EER'])\n"
   ]
  },
  {
   "cell_type": "code",
   "execution_count": null,
   "metadata": {},
   "outputs": [],
   "source": [
    "# Ensemble Cqcc & Mfcc"
   ]
  },
  {
   "cell_type": "code",
   "execution_count": null,
   "metadata": {},
   "outputs": [],
   "source": [
    "cqcc vs mfcc"
   ]
  },
  {
   "cell_type": "code",
   "execution_count": null,
   "metadata": {},
   "outputs": [],
   "source": [
    "# t_DCF"
   ]
  },
  {
   "cell_type": "code",
   "execution_count": null,
   "metadata": {},
   "outputs": [],
   "source": [
    "import sys\n",
    "import numpy as np\n",
    "import eval_metrics as em\n",
    "import matplotlib.pyplot as plt\n",
    "\n",
    "# Replace CM scores with your own scores or provide score file as the first argument.\n",
    "cm_score_file = 'scores/cm_dev.txt'\n",
    "# Replace ASV scores with organizers' scores or provide score file as the second argument.\n",
    "asv_score_file = 'scores/asv_dev.txt'\n",
    "\n",
    "\n",
    "\n",
    "# Fix tandem detection cost function (t-DCF) parameters\n",
    "Pspoof = 0.05\n",
    "cost_model = {\n",
    "    'Pspoof': Pspoof,  # Prior probability of a spoofing attack\n",
    "    'Ptar': (1 - Pspoof) * 0.99,  # Prior probability of target speaker\n",
    "    'Pnon': (1 - Pspoof) * 0.01,  # Prior probability of nontarget speaker\n",
    "    'Cmiss_asv': 1,  # Cost of ASV system falsely rejecting target speaker\n",
    "    'Cfa_asv': 10,  # Cost of ASV system falsely accepting nontarget speaker\n",
    "    'Cmiss_cm': 1,  # Cost of CM system falsely rejecting target speaker\n",
    "    'Cfa_cm': 10,  # Cost of CM system falsely accepting spoof\n",
    "}\n",
    "\n",
    "# Load organizers' ASV scores\n",
    "asv_data = np.genfromtxt(asv_score_file, dtype=str)\n",
    "asv_sources = asv_data[:, 0]\n",
    "asv_keys = asv_data[:, 1]\n",
    "asv_scores = asv_data[:, 2].astype(np.float)\n",
    "\n",
    "# Load CM scores\n",
    "cm_data = np.genfromtxt(cm_score_file, dtype=str)\n",
    "cm_utt_id = cm_data[:, 0]\n",
    "cm_sources = cm_data[:, 1]\n",
    "cm_keys = cm_data[:, 2]\n",
    "cm_scores = cm_data[:, 3].astype(np.float)\n",
    "\n",
    "# Extract target, nontarget, and spoof scores from the ASV scores\n",
    "tar_asv = asv_scores[asv_keys == 'target']\n",
    "non_asv = asv_scores[asv_keys == 'nontarget']\n",
    "spoof_asv = asv_scores[asv_keys == 'spoof']\n",
    "\n",
    "# Extract bona fide (real human) and spoof scores from the CM scores\n",
    "bona_cm = cm_scores[cm_keys == 'bonafide']\n",
    "spoof_cm = cm_scores[cm_keys == 'spoof']\n",
    "\n",
    "# EERs of the standalone systems and fix ASV operating point to EER threshold\n",
    "eer_asv, asv_threshold = em.compute_eer(tar_asv, non_asv)\n",
    "eer_cm = em.compute_eer(bona_cm, spoof_cm)[0]\n",
    "\n",
    "\n",
    "[Pfa_asv, Pmiss_asv, Pmiss_spoof_asv] = em.obtain_asv_error_rates(tar_asv, non_asv, spoof_asv, asv_threshold)\n",
    "\n",
    "\n",
    "# Compute t-DCF\n",
    "tDCF_curve, CM_thresholds = em.compute_tDCF(bona_cm, spoof_cm, Pfa_asv, Pmiss_asv, Pmiss_spoof_asv, cost_model, True)\n",
    "\n",
    "# Minimum t-DCF\n",
    "min_tDCF_index = np.argmin(tDCF_curve)\n",
    "min_tDCF = tDCF_curve[min_tDCF_index]\n",
    "\n",
    "\n",
    "print('ASV SYSTEM')\n",
    "print('   EER            = {:8.5f} % (Equal error rate (target vs. nontarget discrimination)'.format(eer_asv * 100))\n",
    "print('   Pfa            = {:8.5f} % (False acceptance rate of nontargets)'.format(Pfa_asv * 100))\n",
    "print('   Pmiss          = {:8.5f} % (False rejection rate of targets)'.format(Pmiss_asv * 100))\n",
    "print('   1-Pmiss,spoof  = {:8.5f} % (Spoof false acceptance rate)'.format((1 - Pmiss_spoof_asv) * 100))\n",
    "\n",
    "print('\\nCM SYSTEM')\n",
    "print('   EER            = {:8.5f} % (Equal error rate for countermeasure)'.format(eer_cm * 100))\n",
    "\n",
    "print('\\nTANDEM')\n",
    "print('   min-tDCF       = {:8.5f}'.format(min_tDCF))\n",
    "\n",
    "\n",
    "# Visualize ASV scores and CM scores\n",
    "plt.figure()\n",
    "ax = plt.subplot(121)\n",
    "plt.hist(tar_asv, histtype='step', density=True, bins=50, label='Target')\n",
    "plt.hist(non_asv, histtype='step', density=True, bins=50, label='Nontarget')\n",
    "plt.hist(spoof_asv, histtype='step', density=True, bins=50, label='Spoof')\n",
    "plt.plot(asv_threshold, 0, 'o', markersize=10, mfc='none', mew=2, clip_on=False, label='EER threshold')\n",
    "plt.legend()\n",
    "plt.xlabel('ASV score')\n",
    "plt.ylabel('Density')\n",
    "plt.title('ASV score histogram')\n",
    "\n",
    "ax = plt.subplot(122)\n",
    "plt.hist(bona_cm, histtype='step', density=True, bins=50, label='Bona fide')\n",
    "plt.hist(spoof_cm, histtype='step', density=True, bins=50, label='Spoof')\n",
    "plt.legend()\n",
    "plt.xlabel('CM score')\n",
    "#plt.ylabel('Density')\n",
    "plt.title('CM score histogram')\n",
    "\n",
    "\n",
    "# Plot t-DCF as function of the CM threshold.\n",
    "plt.figure()\n",
    "plt.plot(CM_thresholds, tDCF_curve)\n",
    "plt.plot(CM_thresholds[min_tDCF_index], min_tDCF, 'o', markersize=10, mfc='none', mew=2)\n",
    "plt.xlabel('CM threshold index (operating point)')\n",
    "plt.ylabel('Norm t-DCF');\n",
    "plt.title('Normalized tandem t-DCF')\n",
    "plt.plot([np.min(CM_thresholds), np.max(CM_thresholds)], [1, 1], '--', color='black')\n",
    "plt.legend(('t-DCF', 'min t-DCF ({:.5f})'.format(min_tDCF), 'Arbitrarily bad CM (Norm t-DCF=1)'))\n",
    "plt.xlim([np.min(CM_thresholds), np.max(CM_thresholds)])\n",
    "plt.ylim([0, 1.5])\n",
    "\n",
    "plt.show()\n"
   ]
  },
  {
   "cell_type": "code",
   "execution_count": null,
   "metadata": {},
   "outputs": [],
   "source": []
  }
 ],
 "metadata": {
  "kernelspec": {
   "display_name": "Python [conda env:root] *",
   "language": "python",
   "name": "conda-root-py"
  },
  "language_info": {
   "codemirror_mode": {
    "name": "ipython",
    "version": 3
   },
   "file_extension": ".py",
   "mimetype": "text/x-python",
   "name": "python",
   "nbconvert_exporter": "python",
   "pygments_lexer": "ipython3",
   "version": "3.8.5"
  },
  "varInspector": {
   "cols": {
    "lenName": 16,
    "lenType": 16,
    "lenVar": 40
   },
   "kernels_config": {
    "python": {
     "delete_cmd_postfix": "",
     "delete_cmd_prefix": "del ",
     "library": "var_list.py",
     "varRefreshCmd": "print(var_dic_list())"
    },
    "r": {
     "delete_cmd_postfix": ") ",
     "delete_cmd_prefix": "rm(",
     "library": "var_list.r",
     "varRefreshCmd": "cat(var_dic_list()) "
    }
   },
   "types_to_exclude": [
    "module",
    "function",
    "builtin_function_or_method",
    "instance",
    "_Feature"
   ],
   "window_display": false
  }
 },
 "nbformat": 4,
 "nbformat_minor": 4
}
