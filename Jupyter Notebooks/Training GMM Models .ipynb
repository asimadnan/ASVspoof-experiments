{
 "cells": [
  {
   "cell_type": "markdown",
   "metadata": {},
   "source": [
    "## Training GMM Model from PKL files\n",
    "## GMM - CQCC\n",
    "## GMM - MFCC"
   ]
  },
  {
   "cell_type": "code",
   "execution_count": 1,
   "metadata": {
    "ExecuteTime": {
     "end_time": "2021-04-22T13:21:04.362592Z",
     "start_time": "2021-04-22T13:21:00.756358Z"
    }
   },
   "outputs": [],
   "source": [
    "import os\n",
    "import numpy as np\n",
    "import pickle\n",
    "import argparse\n",
    "import sys\n",
    "import time\n",
    "import multiprocessing as mp\n",
    "import warnings\n",
    "import pandas as pd\n",
    "from sklearn.mixture import GaussianMixture as GMM\n",
    "from sklearn.svm import SVC"
   ]
  },
  {
   "cell_type": "code",
   "execution_count": 2,
   "metadata": {
    "ExecuteTime": {
     "end_time": "2021-04-19T00:26:16.692798Z",
     "start_time": "2021-04-19T00:26:16.678954Z"
    }
   },
   "outputs": [],
   "source": [
    "root_path = 'Users/asimadnan/Desktop/Mres/ASVSPOOF_DATA/LA/'\n"
   ]
  },
  {
   "cell_type": "code",
   "execution_count": 3,
   "metadata": {
    "ExecuteTime": {
     "end_time": "2021-04-19T00:26:16.736625Z",
     "start_time": "2021-04-19T00:26:16.725365Z"
    }
   },
   "outputs": [],
   "source": [
    "train_features_path = '/Users/asimadnan/Desktop/Mres/Experiments/testfiles/la_train_mfcc_cqcc.pkl'\n",
    "dev_features_path = '/Users/asimadnan/Desktop/Mres/Experiments/testfiles/la_dev_mfcc_cqcc.pkl'\n",
    "output_path = '/Users/asimadnan/Desktop/Mres/ASVSPOOF_DATA/LA/output_data/'\n",
    "\n",
    "# sample small file to test evrything, comment this line after all tests run correctly\n",
    "train_features_path = '/Users/asimadnan/Desktop/Mres/Experiments/testfiles/04-04-2021_15-09_dev_1.pkl'\n",
    "dev_features_path = '/Users/asimadnan/Desktop/Mres/Experiments/testfiles/04-04-2021_15-09_dev_1.pkl'"
   ]
  },
  {
   "cell_type": "markdown",
   "metadata": {
    "ExecuteTime": {
     "end_time": "2021-04-18T14:40:46.373438Z",
     "start_time": "2021-04-18T14:40:46.367818Z"
    }
   },
   "source": [
    "### Extract CQCC from train & dev"
   ]
  },
  {
   "cell_type": "code",
   "execution_count": 7,
   "metadata": {
    "ExecuteTime": {
     "end_time": "2021-04-18T17:01:13.392079Z",
     "start_time": "2021-04-18T17:01:13.374829Z"
    }
   },
   "outputs": [],
   "source": [
    "def extract_feature(pkl_path,feature_type):\n",
    "    max_len = 50  # 1.25 seconds  # check the timesteps of cqcc and mfcc \n",
    "    X = []\n",
    "    y = []\n",
    "    i=1\n",
    "    with open(pkl_path, 'rb') as infile:\n",
    "        data = pickle.load(infile)\n",
    "        total_files = len(data)\n",
    "        for feat_cqcc, feat_mfcc, label,filename in data:\n",
    "\n",
    "            features = []\n",
    "            feature_block = ''\n",
    "           \n",
    "            if feature_type == 'mfcc':\n",
    "                feature_block = feat_mfcc\n",
    "            elif feature_type == 'cqcc':\n",
    "                \n",
    "                feature_block = feat_cqcc\n",
    "\n",
    "\n",
    "            if len(feature_block) > max_len:\n",
    "                features = feature_block[:max_len]\n",
    "            elif len(feature_block) < max_len:\n",
    "                features = np.concatenate((feature_block, np.array([[0.]*num_dim]*(max_len-len(feature_block)))), axis=0)\n",
    "            \n",
    "            if (i%2 == 0):\n",
    "                print( ((i/total_files)*100), ' % done' )\n",
    "            i+=1\n",
    "            print( ((i/total_files)*100), ' % done' )\n",
    "            X.append(features.reshape(-1))\n",
    "            y.append([label,filename])\n",
    "        return X,y"
   ]
  },
  {
   "cell_type": "code",
   "execution_count": 8,
   "metadata": {
    "ExecuteTime": {
     "end_time": "2021-04-18T17:01:13.583472Z",
     "start_time": "2021-04-18T17:01:13.427936Z"
    }
   },
   "outputs": [
    {
     "name": "stdout",
     "output_type": "stream",
     "text": [
      "28.57142857142857  % done\n",
      "28.57142857142857  % done\n",
      "42.857142857142854  % done\n",
      "57.14285714285714  % done\n",
      "57.14285714285714  % done\n",
      "71.42857142857143  % done\n",
      "85.71428571428571  % done\n",
      "85.71428571428571  % done\n",
      "100.0  % done\n",
      "114.28571428571428  % done\n"
     ]
    }
   ],
   "source": [
    "# Change this acordingly, these are used to set the file name\n",
    "feature = 'cqcc'\n",
    "dataset = 'test'\n",
    "###\n",
    "\n",
    "X,y = extract_feature(dev_features_path,feature)\n",
    "train_cqcc = np.append(np.array(X),np.array(y),1)\n",
    "pd.DataFrame(train_cqcc).to_csv(os.path.join(output_path + dataset + '__' + feature + '.csv'))"
   ]
  },
  {
   "cell_type": "code",
   "execution_count": 9,
   "metadata": {
    "ExecuteTime": {
     "end_time": "2021-04-18T17:01:13.860252Z",
     "start_time": "2021-04-18T17:01:13.815768Z"
    }
   },
   "outputs": [
    {
     "name": "stdout",
     "output_type": "stream",
     "text": [
      "28.57142857142857  % done\n",
      "28.57142857142857  % done\n",
      "42.857142857142854  % done\n",
      "57.14285714285714  % done\n",
      "57.14285714285714  % done\n",
      "71.42857142857143  % done\n",
      "85.71428571428571  % done\n",
      "85.71428571428571  % done\n",
      "100.0  % done\n",
      "114.28571428571428  % done\n"
     ]
    }
   ],
   "source": [
    "# Change this acordingly, these are used to set the file name\n",
    "feature = 'mfcc'\n",
    "dataset = 'test'\n",
    "###\n",
    "\n",
    "X,y = extract_feature(dev_features_path,feature)\n",
    "train_cqcc = np.append(np.array(X),np.array(y),1)\n",
    "pd.DataFrame(train_cqcc).to_csv(os.path.join(output_path + dataset + '__' + feature + '.csv'))"
   ]
  },
  {
   "cell_type": "code",
   "execution_count": 28,
   "metadata": {
    "ExecuteTime": {
     "end_time": "2021-04-18T14:56:08.515016Z",
     "start_time": "2021-04-18T14:56:08.314592Z"
    }
   },
   "outputs": [],
   "source": [
    "############ \n",
    "#testing if created file is in correct format\n",
    "abc = pd.read_csv(output_path + dataset + '_' + feature + '.csv',index_col=0)\n",
    "########"
   ]
  },
  {
   "cell_type": "code",
   "execution_count": 10,
   "metadata": {
    "ExecuteTime": {
     "end_time": "2021-04-18T17:01:28.826711Z",
     "start_time": "2021-04-18T17:01:28.821915Z"
    }
   },
   "outputs": [],
   "source": [
    "# training GMM "
   ]
  },
  {
   "cell_type": "code",
   "execution_count": 47,
   "metadata": {
    "ExecuteTime": {
     "end_time": "2021-04-19T06:02:23.603560Z",
     "start_time": "2021-04-19T06:02:23.600036Z"
    }
   },
   "outputs": [],
   "source": [
    "train_data_cqcc_path = '/Users/asimadnan/Desktop/Mres/ASVSPOOF_DATA/LA/output_data/train_cqcc.csv'\n",
    "train_data_mfcc_path = '/Users/asimadnan/Desktop/Mres/ASVSPOOF_DATA/LA/output_data/train_mfcc.csv'\n",
    "train_label_path = '/Users/asimadnan/Desktop/Mres/ASVSPOOF_DATA/LA/ASVspoof2019_LA_cm_protocols/ASVspoof2019.LA.cm.train.trn.txt'\n",
    "\n",
    "dev_data_cqcc_path = '/Users/asimadnan/Desktop/Mres/ASVSPOOF_DATA/LA/output_data/dev_cqcc.csv'\n",
    "dev_data_mfcc_path = '/Users/asimadnan/Desktop/Mres/ASVSPOOF_DATA/LA/output_data/dev_mfcc.csv'\n",
    "dev_label_path = '/Users/asimadnan/Desktop/Mres/ASVSPOOF_DATA/LA/ASVspoof2019_LA_cm_protocols/ASVspoof2019.LA.cm.dev.trl.txt'\n",
    "\n",
    "\n",
    "\n",
    "# train_data_mfcc_path = '/Users/asimadnan/Desktop/Mres/ASVSPOOF_DATA/LA/output_data/test__mfcc.csv'\n",
    "# train_data_cqcc_path= '/Users/asimadnan/Desktop/Mres/ASVSPOOF_DATA/LA/output_data/test__cqcc.csv'\n",
    "\n",
    "\n"
   ]
  },
  {
   "cell_type": "code",
   "execution_count": 48,
   "metadata": {
    "ExecuteTime": {
     "end_time": "2021-04-19T06:02:24.670457Z",
     "start_time": "2021-04-19T06:02:24.666615Z"
    }
   },
   "outputs": [],
   "source": [
    "train = [train_data_cqcc_path,train_data_mfcc_path,train_label_path,'train']\n",
    "dev = [dev_data_cqcc_path,dev_data_mfcc_path,dev_label_path,'dev']"
   ]
  },
  {
   "cell_type": "code",
   "execution_count": 50,
   "metadata": {
    "ExecuteTime": {
     "end_time": "2021-04-19T08:52:14.421705Z",
     "start_time": "2021-04-19T08:52:14.256859Z"
    }
   },
   "outputs": [
    {
     "data": {
      "text/html": [
       "<div>\n",
       "<style scoped>\n",
       "    .dataframe tbody tr th:only-of-type {\n",
       "        vertical-align: middle;\n",
       "    }\n",
       "\n",
       "    .dataframe tbody tr th {\n",
       "        vertical-align: top;\n",
       "    }\n",
       "\n",
       "    .dataframe thead th {\n",
       "        text-align: right;\n",
       "    }\n",
       "</style>\n",
       "<table border=\"1\" class=\"dataframe\">\n",
       "  <thead>\n",
       "    <tr style=\"text-align: right;\">\n",
       "      <th></th>\n",
       "      <th>SPEAKER_ID</th>\n",
       "      <th>AUDIO_FILE_NAME</th>\n",
       "      <th>ENVIRONMENT_ID</th>\n",
       "      <th>ATTACK_ID</th>\n",
       "      <th>KEY</th>\n",
       "    </tr>\n",
       "  </thead>\n",
       "  <tbody>\n",
       "    <tr>\n",
       "      <th>0</th>\n",
       "      <td>LA_0069</td>\n",
       "      <td>LA_D_1047731</td>\n",
       "      <td>-</td>\n",
       "      <td>-</td>\n",
       "      <td>bonafide</td>\n",
       "    </tr>\n",
       "    <tr>\n",
       "      <th>1</th>\n",
       "      <td>LA_0069</td>\n",
       "      <td>LA_D_1105538</td>\n",
       "      <td>-</td>\n",
       "      <td>-</td>\n",
       "      <td>bonafide</td>\n",
       "    </tr>\n",
       "    <tr>\n",
       "      <th>2</th>\n",
       "      <td>LA_0069</td>\n",
       "      <td>LA_D_1125976</td>\n",
       "      <td>-</td>\n",
       "      <td>-</td>\n",
       "      <td>bonafide</td>\n",
       "    </tr>\n",
       "    <tr>\n",
       "      <th>3</th>\n",
       "      <td>LA_0069</td>\n",
       "      <td>LA_D_1293230</td>\n",
       "      <td>-</td>\n",
       "      <td>-</td>\n",
       "      <td>bonafide</td>\n",
       "    </tr>\n",
       "    <tr>\n",
       "      <th>4</th>\n",
       "      <td>LA_0069</td>\n",
       "      <td>LA_D_1340209</td>\n",
       "      <td>-</td>\n",
       "      <td>-</td>\n",
       "      <td>bonafide</td>\n",
       "    </tr>\n",
       "    <tr>\n",
       "      <th>...</th>\n",
       "      <td>...</td>\n",
       "      <td>...</td>\n",
       "      <td>...</td>\n",
       "      <td>...</td>\n",
       "      <td>...</td>\n",
       "    </tr>\n",
       "    <tr>\n",
       "      <th>24839</th>\n",
       "      <td>LA_0078</td>\n",
       "      <td>LA_D_9924204</td>\n",
       "      <td>-</td>\n",
       "      <td>A06</td>\n",
       "      <td>spoof</td>\n",
       "    </tr>\n",
       "    <tr>\n",
       "      <th>24840</th>\n",
       "      <td>LA_0078</td>\n",
       "      <td>LA_D_9931163</td>\n",
       "      <td>-</td>\n",
       "      <td>A06</td>\n",
       "      <td>spoof</td>\n",
       "    </tr>\n",
       "    <tr>\n",
       "      <th>24841</th>\n",
       "      <td>LA_0078</td>\n",
       "      <td>LA_D_9935163</td>\n",
       "      <td>-</td>\n",
       "      <td>A06</td>\n",
       "      <td>spoof</td>\n",
       "    </tr>\n",
       "    <tr>\n",
       "      <th>24842</th>\n",
       "      <td>LA_0078</td>\n",
       "      <td>LA_D_9944718</td>\n",
       "      <td>-</td>\n",
       "      <td>A06</td>\n",
       "      <td>spoof</td>\n",
       "    </tr>\n",
       "    <tr>\n",
       "      <th>24843</th>\n",
       "      <td>LA_0078</td>\n",
       "      <td>LA_D_9967770</td>\n",
       "      <td>-</td>\n",
       "      <td>A06</td>\n",
       "      <td>spoof</td>\n",
       "    </tr>\n",
       "  </tbody>\n",
       "</table>\n",
       "<p>24844 rows × 5 columns</p>\n",
       "</div>"
      ],
      "text/plain": [
       "      SPEAKER_ID AUDIO_FILE_NAME ENVIRONMENT_ID ATTACK_ID       KEY\n",
       "0        LA_0069    LA_D_1047731              -         -  bonafide\n",
       "1        LA_0069    LA_D_1105538              -         -  bonafide\n",
       "2        LA_0069    LA_D_1125976              -         -  bonafide\n",
       "3        LA_0069    LA_D_1293230              -         -  bonafide\n",
       "4        LA_0069    LA_D_1340209              -         -  bonafide\n",
       "...          ...             ...            ...       ...       ...\n",
       "24839    LA_0078    LA_D_9924204              -       A06     spoof\n",
       "24840    LA_0078    LA_D_9931163              -       A06     spoof\n",
       "24841    LA_0078    LA_D_9935163              -       A06     spoof\n",
       "24842    LA_0078    LA_D_9944718              -       A06     spoof\n",
       "24843    LA_0078    LA_D_9967770              -       A06     spoof\n",
       "\n",
       "[24844 rows x 5 columns]"
      ]
     },
     "execution_count": 50,
     "metadata": {},
     "output_type": "execute_result"
    }
   ],
   "source": [
    "dataset = 'dev'\n",
    "feature = 'cqcc'\n",
    "labels = pd.read_csv(dev_label_path, delimiter = \" \", header=None)\n",
    "labels.columns = ['SPEAKER_ID','AUDIO_FILE_NAME','ENVIRONMENT_ID','ATTACK_ID','KEY']\n",
    "labels\n"
   ]
  },
  {
   "cell_type": "code",
   "execution_count": 52,
   "metadata": {
    "ExecuteTime": {
     "end_time": "2021-04-19T15:39:17.587815Z",
     "start_time": "2021-04-19T15:38:35.754328Z"
    }
   },
   "outputs": [
    {
     "data": {
      "text/html": [
       "<div>\n",
       "<style scoped>\n",
       "    .dataframe tbody tr th:only-of-type {\n",
       "        vertical-align: middle;\n",
       "    }\n",
       "\n",
       "    .dataframe tbody tr th {\n",
       "        vertical-align: top;\n",
       "    }\n",
       "\n",
       "    .dataframe thead th {\n",
       "        text-align: right;\n",
       "    }\n",
       "</style>\n",
       "<table border=\"1\" class=\"dataframe\">\n",
       "  <thead>\n",
       "    <tr style=\"text-align: right;\">\n",
       "      <th></th>\n",
       "      <th>0</th>\n",
       "      <th>1</th>\n",
       "      <th>2</th>\n",
       "      <th>3</th>\n",
       "      <th>4</th>\n",
       "      <th>5</th>\n",
       "      <th>6</th>\n",
       "      <th>7</th>\n",
       "      <th>8</th>\n",
       "      <th>9</th>\n",
       "      <th>...</th>\n",
       "      <th>2992</th>\n",
       "      <th>2993</th>\n",
       "      <th>2994</th>\n",
       "      <th>2995</th>\n",
       "      <th>2996</th>\n",
       "      <th>2997</th>\n",
       "      <th>2998</th>\n",
       "      <th>2999</th>\n",
       "      <th>3000</th>\n",
       "      <th>AUDIO_FILE_NAME</th>\n",
       "    </tr>\n",
       "  </thead>\n",
       "  <tbody>\n",
       "    <tr>\n",
       "      <th>0</th>\n",
       "      <td>-660.349393</td>\n",
       "      <td>-704.826919</td>\n",
       "      <td>-737.667327</td>\n",
       "      <td>-758.736888</td>\n",
       "      <td>-768.571412</td>\n",
       "      <td>-768.312145</td>\n",
       "      <td>-759.600974</td>\n",
       "      <td>-744.443859</td>\n",
       "      <td>-725.054528</td>\n",
       "      <td>-703.688437</td>\n",
       "      <td>...</td>\n",
       "      <td>0.001909</td>\n",
       "      <td>0.002105</td>\n",
       "      <td>0.002208</td>\n",
       "      <td>0.002210</td>\n",
       "      <td>0.002106</td>\n",
       "      <td>0.001896</td>\n",
       "      <td>0.001586</td>\n",
       "      <td>0.001187</td>\n",
       "      <td>spoof</td>\n",
       "      <td>LA_D_2776056</td>\n",
       "    </tr>\n",
       "    <tr>\n",
       "      <th>1</th>\n",
       "      <td>-607.224471</td>\n",
       "      <td>-648.401295</td>\n",
       "      <td>-678.918875</td>\n",
       "      <td>-698.643791</td>\n",
       "      <td>-708.056697</td>\n",
       "      <td>-708.194137</td>\n",
       "      <td>-700.552968</td>\n",
       "      <td>-686.965561</td>\n",
       "      <td>-669.456783</td>\n",
       "      <td>-650.091891</td>\n",
       "      <td>...</td>\n",
       "      <td>-0.046892</td>\n",
       "      <td>-0.048066</td>\n",
       "      <td>-0.048432</td>\n",
       "      <td>-0.047955</td>\n",
       "      <td>-0.046637</td>\n",
       "      <td>-0.044525</td>\n",
       "      <td>-0.041700</td>\n",
       "      <td>-0.038282</td>\n",
       "      <td>spoof</td>\n",
       "      <td>LA_D_8676372</td>\n",
       "    </tr>\n",
       "    <tr>\n",
       "      <th>2</th>\n",
       "      <td>-496.906341</td>\n",
       "      <td>-530.001525</td>\n",
       "      <td>-554.334842</td>\n",
       "      <td>-569.845949</td>\n",
       "      <td>-576.980515</td>\n",
       "      <td>-576.638737</td>\n",
       "      <td>-570.093151</td>\n",
       "      <td>-558.882739</td>\n",
       "      <td>-544.692616</td>\n",
       "      <td>-529.227138</td>\n",
       "      <td>...</td>\n",
       "      <td>0.000619</td>\n",
       "      <td>0.000747</td>\n",
       "      <td>0.000885</td>\n",
       "      <td>0.001027</td>\n",
       "      <td>0.001169</td>\n",
       "      <td>0.001303</td>\n",
       "      <td>0.001425</td>\n",
       "      <td>0.001530</td>\n",
       "      <td>spoof</td>\n",
       "      <td>LA_D_4086358</td>\n",
       "    </tr>\n",
       "    <tr>\n",
       "      <th>3</th>\n",
       "      <td>-738.769741</td>\n",
       "      <td>-788.531735</td>\n",
       "      <td>-825.242460</td>\n",
       "      <td>-848.749818</td>\n",
       "      <td>-859.653368</td>\n",
       "      <td>-859.232618</td>\n",
       "      <td>-849.329530</td>\n",
       "      <td>-832.195300</td>\n",
       "      <td>-810.314892</td>\n",
       "      <td>-786.220561</td>\n",
       "      <td>...</td>\n",
       "      <td>-0.017403</td>\n",
       "      <td>-0.015597</td>\n",
       "      <td>-0.013639</td>\n",
       "      <td>-0.011627</td>\n",
       "      <td>-0.009660</td>\n",
       "      <td>-0.007826</td>\n",
       "      <td>-0.006202</td>\n",
       "      <td>-0.004846</td>\n",
       "      <td>spoof</td>\n",
       "      <td>LA_D_4407621</td>\n",
       "    </tr>\n",
       "    <tr>\n",
       "      <th>4</th>\n",
       "      <td>-550.008090</td>\n",
       "      <td>-586.954116</td>\n",
       "      <td>-614.166072</td>\n",
       "      <td>-631.542827</td>\n",
       "      <td>-639.545115</td>\n",
       "      <td>-639.140930</td>\n",
       "      <td>-631.716649</td>\n",
       "      <td>-618.961487</td>\n",
       "      <td>-602.735463</td>\n",
       "      <td>-584.929406</td>\n",
       "      <td>...</td>\n",
       "      <td>-0.000037</td>\n",
       "      <td>-0.000165</td>\n",
       "      <td>-0.000309</td>\n",
       "      <td>-0.000469</td>\n",
       "      <td>-0.000639</td>\n",
       "      <td>-0.000816</td>\n",
       "      <td>-0.000994</td>\n",
       "      <td>-0.001165</td>\n",
       "      <td>spoof</td>\n",
       "      <td>LA_D_6154817</td>\n",
       "    </tr>\n",
       "    <tr>\n",
       "      <th>...</th>\n",
       "      <td>...</td>\n",
       "      <td>...</td>\n",
       "      <td>...</td>\n",
       "      <td>...</td>\n",
       "      <td>...</td>\n",
       "      <td>...</td>\n",
       "      <td>...</td>\n",
       "      <td>...</td>\n",
       "      <td>...</td>\n",
       "      <td>...</td>\n",
       "      <td>...</td>\n",
       "      <td>...</td>\n",
       "      <td>...</td>\n",
       "      <td>...</td>\n",
       "      <td>...</td>\n",
       "      <td>...</td>\n",
       "      <td>...</td>\n",
       "      <td>...</td>\n",
       "      <td>...</td>\n",
       "      <td>...</td>\n",
       "      <td>...</td>\n",
       "    </tr>\n",
       "    <tr>\n",
       "      <th>24839</th>\n",
       "      <td>-455.021064</td>\n",
       "      <td>-485.527792</td>\n",
       "      <td>-507.963987</td>\n",
       "      <td>-522.242437</td>\n",
       "      <td>-528.741305</td>\n",
       "      <td>-528.259467</td>\n",
       "      <td>-521.943456</td>\n",
       "      <td>-511.192271</td>\n",
       "      <td>-497.548388</td>\n",
       "      <td>-482.582000</td>\n",
       "      <td>...</td>\n",
       "      <td>0.002785</td>\n",
       "      <td>0.003084</td>\n",
       "      <td>0.003184</td>\n",
       "      <td>0.003107</td>\n",
       "      <td>0.002882</td>\n",
       "      <td>0.002549</td>\n",
       "      <td>0.002149</td>\n",
       "      <td>0.001727</td>\n",
       "      <td>spoof</td>\n",
       "      <td>LA_D_8379770</td>\n",
       "    </tr>\n",
       "    <tr>\n",
       "      <th>24840</th>\n",
       "      <td>-847.107768</td>\n",
       "      <td>-904.187984</td>\n",
       "      <td>-946.307529</td>\n",
       "      <td>-973.295805</td>\n",
       "      <td>-985.845225</td>\n",
       "      <td>-985.428713</td>\n",
       "      <td>-974.164608</td>\n",
       "      <td>-954.640489</td>\n",
       "      <td>-929.711429</td>\n",
       "      <td>-902.285631</td>\n",
       "      <td>...</td>\n",
       "      <td>-0.001272</td>\n",
       "      <td>-0.001592</td>\n",
       "      <td>-0.001791</td>\n",
       "      <td>-0.001863</td>\n",
       "      <td>-0.001809</td>\n",
       "      <td>-0.001640</td>\n",
       "      <td>-0.001373</td>\n",
       "      <td>-0.001030</td>\n",
       "      <td>spoof</td>\n",
       "      <td>LA_D_7522206</td>\n",
       "    </tr>\n",
       "    <tr>\n",
       "      <th>24841</th>\n",
       "      <td>-717.871323</td>\n",
       "      <td>-766.108676</td>\n",
       "      <td>-801.643551</td>\n",
       "      <td>-824.333999</td>\n",
       "      <td>-834.770043</td>\n",
       "      <td>-834.203605</td>\n",
       "      <td>-824.433850</td>\n",
       "      <td>-807.657728</td>\n",
       "      <td>-786.298859</td>\n",
       "      <td>-762.825739</td>\n",
       "      <td>...</td>\n",
       "      <td>-0.000848</td>\n",
       "      <td>-0.000711</td>\n",
       "      <td>-0.000506</td>\n",
       "      <td>-0.000252</td>\n",
       "      <td>0.000026</td>\n",
       "      <td>0.000299</td>\n",
       "      <td>0.000539</td>\n",
       "      <td>0.000717</td>\n",
       "      <td>spoof</td>\n",
       "      <td>LA_D_7830688</td>\n",
       "    </tr>\n",
       "    <tr>\n",
       "      <th>24842</th>\n",
       "      <td>-779.999560</td>\n",
       "      <td>-832.796768</td>\n",
       "      <td>-871.888866</td>\n",
       "      <td>-897.116233</td>\n",
       "      <td>-909.110096</td>\n",
       "      <td>-909.216713</td>\n",
       "      <td>-899.373360</td>\n",
       "      <td>-881.946732</td>\n",
       "      <td>-859.547974</td>\n",
       "      <td>-834.836242</td>\n",
       "      <td>...</td>\n",
       "      <td>0.010334</td>\n",
       "      <td>0.010611</td>\n",
       "      <td>0.011116</td>\n",
       "      <td>0.011781</td>\n",
       "      <td>0.012525</td>\n",
       "      <td>0.013263</td>\n",
       "      <td>0.013912</td>\n",
       "      <td>0.014398</td>\n",
       "      <td>spoof</td>\n",
       "      <td>LA_D_3449140</td>\n",
       "    </tr>\n",
       "    <tr>\n",
       "      <th>24843</th>\n",
       "      <td>-507.617324</td>\n",
       "      <td>-541.816950</td>\n",
       "      <td>-567.053180</td>\n",
       "      <td>-583.221658</td>\n",
       "      <td>-590.734349</td>\n",
       "      <td>-590.470342</td>\n",
       "      <td>-583.695213</td>\n",
       "      <td>-571.955867</td>\n",
       "      <td>-556.960091</td>\n",
       "      <td>-540.448545</td>\n",
       "      <td>...</td>\n",
       "      <td>0.001236</td>\n",
       "      <td>0.001305</td>\n",
       "      <td>0.001370</td>\n",
       "      <td>0.001422</td>\n",
       "      <td>0.001450</td>\n",
       "      <td>0.001447</td>\n",
       "      <td>0.001406</td>\n",
       "      <td>0.001325</td>\n",
       "      <td>spoof</td>\n",
       "      <td>LA_D_7447967</td>\n",
       "    </tr>\n",
       "  </tbody>\n",
       "</table>\n",
       "<p>24844 rows × 3002 columns</p>\n",
       "</div>"
      ],
      "text/plain": [
       "                0           1           2           3           4           5  \\\n",
       "0     -660.349393 -704.826919 -737.667327 -758.736888 -768.571412 -768.312145   \n",
       "1     -607.224471 -648.401295 -678.918875 -698.643791 -708.056697 -708.194137   \n",
       "2     -496.906341 -530.001525 -554.334842 -569.845949 -576.980515 -576.638737   \n",
       "3     -738.769741 -788.531735 -825.242460 -848.749818 -859.653368 -859.232618   \n",
       "4     -550.008090 -586.954116 -614.166072 -631.542827 -639.545115 -639.140930   \n",
       "...           ...         ...         ...         ...         ...         ...   \n",
       "24839 -455.021064 -485.527792 -507.963987 -522.242437 -528.741305 -528.259467   \n",
       "24840 -847.107768 -904.187984 -946.307529 -973.295805 -985.845225 -985.428713   \n",
       "24841 -717.871323 -766.108676 -801.643551 -824.333999 -834.770043 -834.203605   \n",
       "24842 -779.999560 -832.796768 -871.888866 -897.116233 -909.110096 -909.216713   \n",
       "24843 -507.617324 -541.816950 -567.053180 -583.221658 -590.734349 -590.470342   \n",
       "\n",
       "                6           7           8           9  ...      2992  \\\n",
       "0     -759.600974 -744.443859 -725.054528 -703.688437  ...  0.001909   \n",
       "1     -700.552968 -686.965561 -669.456783 -650.091891  ... -0.046892   \n",
       "2     -570.093151 -558.882739 -544.692616 -529.227138  ...  0.000619   \n",
       "3     -849.329530 -832.195300 -810.314892 -786.220561  ... -0.017403   \n",
       "4     -631.716649 -618.961487 -602.735463 -584.929406  ... -0.000037   \n",
       "...           ...         ...         ...         ...  ...       ...   \n",
       "24839 -521.943456 -511.192271 -497.548388 -482.582000  ...  0.002785   \n",
       "24840 -974.164608 -954.640489 -929.711429 -902.285631  ... -0.001272   \n",
       "24841 -824.433850 -807.657728 -786.298859 -762.825739  ... -0.000848   \n",
       "24842 -899.373360 -881.946732 -859.547974 -834.836242  ...  0.010334   \n",
       "24843 -583.695213 -571.955867 -556.960091 -540.448545  ...  0.001236   \n",
       "\n",
       "           2993      2994      2995      2996      2997      2998      2999  \\\n",
       "0      0.002105  0.002208  0.002210  0.002106  0.001896  0.001586  0.001187   \n",
       "1     -0.048066 -0.048432 -0.047955 -0.046637 -0.044525 -0.041700 -0.038282   \n",
       "2      0.000747  0.000885  0.001027  0.001169  0.001303  0.001425  0.001530   \n",
       "3     -0.015597 -0.013639 -0.011627 -0.009660 -0.007826 -0.006202 -0.004846   \n",
       "4     -0.000165 -0.000309 -0.000469 -0.000639 -0.000816 -0.000994 -0.001165   \n",
       "...         ...       ...       ...       ...       ...       ...       ...   \n",
       "24839  0.003084  0.003184  0.003107  0.002882  0.002549  0.002149  0.001727   \n",
       "24840 -0.001592 -0.001791 -0.001863 -0.001809 -0.001640 -0.001373 -0.001030   \n",
       "24841 -0.000711 -0.000506 -0.000252  0.000026  0.000299  0.000539  0.000717   \n",
       "24842  0.010611  0.011116  0.011781  0.012525  0.013263  0.013912  0.014398   \n",
       "24843  0.001305  0.001370  0.001422  0.001450  0.001447  0.001406  0.001325   \n",
       "\n",
       "        3000  AUDIO_FILE_NAME  \n",
       "0      spoof     LA_D_2776056  \n",
       "1      spoof     LA_D_8676372  \n",
       "2      spoof     LA_D_4086358  \n",
       "3      spoof     LA_D_4407621  \n",
       "4      spoof     LA_D_6154817  \n",
       "...      ...              ...  \n",
       "24839  spoof     LA_D_8379770  \n",
       "24840  spoof     LA_D_7522206  \n",
       "24841  spoof     LA_D_7830688  \n",
       "24842  spoof     LA_D_3449140  \n",
       "24843  spoof     LA_D_7447967  \n",
       "\n",
       "[24844 rows x 3002 columns]"
      ]
     },
     "execution_count": 52,
     "metadata": {},
     "output_type": "execute_result"
    }
   ],
   "source": [
    "feature_len = 3000\n",
    "\n",
    "data = pd.read_csv(dev_data_cqcc_path,index_col=0)\n",
    "data = data.rename({str(feature_len + 1): 'AUDIO_FILE_NAME'}, axis=1)\n",
    "# data = pd.merge(data, labels, on='AUDIO_FILE_NAME')\n",
    "data"
   ]
  },
  {
   "cell_type": "code",
   "execution_count": 53,
   "metadata": {
    "ExecuteTime": {
     "end_time": "2021-04-19T15:41:54.621797Z",
     "start_time": "2021-04-19T15:41:54.602629Z"
    }
   },
   "outputs": [],
   "source": [
    "data = None"
   ]
  },
  {
   "cell_type": "code",
   "execution_count": 39,
   "metadata": {
    "ExecuteTime": {
     "end_time": "2021-04-19T01:00:02.323628Z",
     "start_time": "2021-04-19T01:00:01.778379Z"
    }
   },
   "outputs": [
    {
     "data": {
      "text/html": [
       "<div>\n",
       "<style scoped>\n",
       "    .dataframe tbody tr th:only-of-type {\n",
       "        vertical-align: middle;\n",
       "    }\n",
       "\n",
       "    .dataframe tbody tr th {\n",
       "        vertical-align: top;\n",
       "    }\n",
       "\n",
       "    .dataframe thead th {\n",
       "        text-align: right;\n",
       "    }\n",
       "</style>\n",
       "<table border=\"1\" class=\"dataframe\">\n",
       "  <thead>\n",
       "    <tr style=\"text-align: right;\">\n",
       "      <th></th>\n",
       "      <th>0</th>\n",
       "      <th>1</th>\n",
       "      <th>2</th>\n",
       "      <th>3</th>\n",
       "      <th>4</th>\n",
       "      <th>5</th>\n",
       "      <th>6</th>\n",
       "      <th>7</th>\n",
       "      <th>8</th>\n",
       "      <th>9</th>\n",
       "      <th>...</th>\n",
       "      <th>641</th>\n",
       "      <th>642</th>\n",
       "      <th>643</th>\n",
       "      <th>644</th>\n",
       "      <th>645</th>\n",
       "      <th>646</th>\n",
       "      <th>647</th>\n",
       "      <th>648</th>\n",
       "      <th>649</th>\n",
       "      <th>650</th>\n",
       "    </tr>\n",
       "  </thead>\n",
       "  <tbody>\n",
       "    <tr>\n",
       "      <th>0</th>\n",
       "      <td>-8.573016</td>\n",
       "      <td>-11.678742</td>\n",
       "      <td>3.349419</td>\n",
       "      <td>6.297206</td>\n",
       "      <td>6.607597</td>\n",
       "      <td>6.585302</td>\n",
       "      <td>1.953112</td>\n",
       "      <td>3.147527</td>\n",
       "      <td>-2.786101</td>\n",
       "      <td>4.067646</td>\n",
       "      <td>...</td>\n",
       "      <td>8.802019</td>\n",
       "      <td>4.184361</td>\n",
       "      <td>10.452165</td>\n",
       "      <td>6.674898</td>\n",
       "      <td>6.890626</td>\n",
       "      <td>0.663099</td>\n",
       "      <td>-2.561426</td>\n",
       "      <td>-8.769751</td>\n",
       "      <td>-9.683469</td>\n",
       "      <td>spoof</td>\n",
       "    </tr>\n",
       "    <tr>\n",
       "      <th>1</th>\n",
       "      <td>-14.455932</td>\n",
       "      <td>-31.868080</td>\n",
       "      <td>-4.644265</td>\n",
       "      <td>-2.268237</td>\n",
       "      <td>7.669049</td>\n",
       "      <td>7.925644</td>\n",
       "      <td>17.380247</td>\n",
       "      <td>17.756672</td>\n",
       "      <td>15.522497</td>\n",
       "      <td>17.359138</td>\n",
       "      <td>...</td>\n",
       "      <td>19.509102</td>\n",
       "      <td>12.791993</td>\n",
       "      <td>14.121706</td>\n",
       "      <td>15.612497</td>\n",
       "      <td>16.527843</td>\n",
       "      <td>16.433516</td>\n",
       "      <td>9.285261</td>\n",
       "      <td>4.986468</td>\n",
       "      <td>4.088097</td>\n",
       "      <td>spoof</td>\n",
       "    </tr>\n",
       "    <tr>\n",
       "      <th>2</th>\n",
       "      <td>-12.320907</td>\n",
       "      <td>-11.391042</td>\n",
       "      <td>6.357327</td>\n",
       "      <td>2.426181</td>\n",
       "      <td>6.995060</td>\n",
       "      <td>4.154011</td>\n",
       "      <td>7.580681</td>\n",
       "      <td>12.936386</td>\n",
       "      <td>8.104214</td>\n",
       "      <td>-4.446559</td>\n",
       "      <td>...</td>\n",
       "      <td>-18.018298</td>\n",
       "      <td>-8.785583</td>\n",
       "      <td>10.563321</td>\n",
       "      <td>-23.634459</td>\n",
       "      <td>1.680121</td>\n",
       "      <td>5.230506</td>\n",
       "      <td>0.680723</td>\n",
       "      <td>-23.921085</td>\n",
       "      <td>-29.724428</td>\n",
       "      <td>spoof</td>\n",
       "    </tr>\n",
       "    <tr>\n",
       "      <th>3</th>\n",
       "      <td>-9.393365</td>\n",
       "      <td>-5.249382</td>\n",
       "      <td>-3.219313</td>\n",
       "      <td>2.639915</td>\n",
       "      <td>-11.203670</td>\n",
       "      <td>-16.226921</td>\n",
       "      <td>-35.164506</td>\n",
       "      <td>-24.291069</td>\n",
       "      <td>3.423613</td>\n",
       "      <td>13.295148</td>\n",
       "      <td>...</td>\n",
       "      <td>-14.981033</td>\n",
       "      <td>-32.174932</td>\n",
       "      <td>-29.298206</td>\n",
       "      <td>-24.861730</td>\n",
       "      <td>-13.446369</td>\n",
       "      <td>2.874312</td>\n",
       "      <td>0.286864</td>\n",
       "      <td>10.052436</td>\n",
       "      <td>4.298754</td>\n",
       "      <td>spoof</td>\n",
       "    </tr>\n",
       "    <tr>\n",
       "      <th>4</th>\n",
       "      <td>-11.876866</td>\n",
       "      <td>-4.572194</td>\n",
       "      <td>14.096091</td>\n",
       "      <td>-6.980273</td>\n",
       "      <td>-4.931390</td>\n",
       "      <td>-17.709929</td>\n",
       "      <td>-15.360505</td>\n",
       "      <td>-11.763362</td>\n",
       "      <td>-4.758243</td>\n",
       "      <td>2.240678</td>\n",
       "      <td>...</td>\n",
       "      <td>-8.474299</td>\n",
       "      <td>-19.370402</td>\n",
       "      <td>-23.833592</td>\n",
       "      <td>-15.762516</td>\n",
       "      <td>-9.099456</td>\n",
       "      <td>1.400025</td>\n",
       "      <td>-3.759530</td>\n",
       "      <td>-2.098907</td>\n",
       "      <td>-5.222501</td>\n",
       "      <td>spoof</td>\n",
       "    </tr>\n",
       "    <tr>\n",
       "      <th>...</th>\n",
       "      <td>...</td>\n",
       "      <td>...</td>\n",
       "      <td>...</td>\n",
       "      <td>...</td>\n",
       "      <td>...</td>\n",
       "      <td>...</td>\n",
       "      <td>...</td>\n",
       "      <td>...</td>\n",
       "      <td>...</td>\n",
       "      <td>...</td>\n",
       "      <td>...</td>\n",
       "      <td>...</td>\n",
       "      <td>...</td>\n",
       "      <td>...</td>\n",
       "      <td>...</td>\n",
       "      <td>...</td>\n",
       "      <td>...</td>\n",
       "      <td>...</td>\n",
       "      <td>...</td>\n",
       "      <td>...</td>\n",
       "      <td>...</td>\n",
       "    </tr>\n",
       "    <tr>\n",
       "      <th>25375</th>\n",
       "      <td>-11.085313</td>\n",
       "      <td>-7.561798</td>\n",
       "      <td>-1.381273</td>\n",
       "      <td>1.188675</td>\n",
       "      <td>1.447115</td>\n",
       "      <td>-2.059506</td>\n",
       "      <td>-3.037639</td>\n",
       "      <td>-2.829265</td>\n",
       "      <td>-4.664765</td>\n",
       "      <td>-6.016820</td>\n",
       "      <td>...</td>\n",
       "      <td>-39.860679</td>\n",
       "      <td>-18.460338</td>\n",
       "      <td>-30.597868</td>\n",
       "      <td>-7.262566</td>\n",
       "      <td>-0.994769</td>\n",
       "      <td>-7.309093</td>\n",
       "      <td>6.028889</td>\n",
       "      <td>-11.205987</td>\n",
       "      <td>9.621982</td>\n",
       "      <td>spoof</td>\n",
       "    </tr>\n",
       "    <tr>\n",
       "      <th>25376</th>\n",
       "      <td>-15.204085</td>\n",
       "      <td>-28.744689</td>\n",
       "      <td>-2.998543</td>\n",
       "      <td>-3.009965</td>\n",
       "      <td>6.409241</td>\n",
       "      <td>4.878647</td>\n",
       "      <td>13.757629</td>\n",
       "      <td>12.325082</td>\n",
       "      <td>10.477858</td>\n",
       "      <td>14.083744</td>\n",
       "      <td>...</td>\n",
       "      <td>23.428317</td>\n",
       "      <td>16.784133</td>\n",
       "      <td>15.449017</td>\n",
       "      <td>19.464919</td>\n",
       "      <td>12.815936</td>\n",
       "      <td>5.722556</td>\n",
       "      <td>2.030922</td>\n",
       "      <td>2.933079</td>\n",
       "      <td>7.115255</td>\n",
       "      <td>spoof</td>\n",
       "    </tr>\n",
       "    <tr>\n",
       "      <th>25377</th>\n",
       "      <td>-11.153386</td>\n",
       "      <td>-9.941480</td>\n",
       "      <td>7.826534</td>\n",
       "      <td>0.958543</td>\n",
       "      <td>4.991591</td>\n",
       "      <td>13.767345</td>\n",
       "      <td>13.991147</td>\n",
       "      <td>10.950425</td>\n",
       "      <td>3.941666</td>\n",
       "      <td>-2.001952</td>\n",
       "      <td>...</td>\n",
       "      <td>-0.640232</td>\n",
       "      <td>8.237400</td>\n",
       "      <td>16.081417</td>\n",
       "      <td>15.103763</td>\n",
       "      <td>0.715768</td>\n",
       "      <td>4.415959</td>\n",
       "      <td>10.667828</td>\n",
       "      <td>-7.880399</td>\n",
       "      <td>-3.173169</td>\n",
       "      <td>bonafide</td>\n",
       "    </tr>\n",
       "    <tr>\n",
       "      <th>25378</th>\n",
       "      <td>-9.084023</td>\n",
       "      <td>-10.608522</td>\n",
       "      <td>5.265818</td>\n",
       "      <td>1.810717</td>\n",
       "      <td>7.086166</td>\n",
       "      <td>10.198746</td>\n",
       "      <td>11.721395</td>\n",
       "      <td>10.058237</td>\n",
       "      <td>4.518279</td>\n",
       "      <td>18.689861</td>\n",
       "      <td>...</td>\n",
       "      <td>7.700274</td>\n",
       "      <td>0.467699</td>\n",
       "      <td>0.093255</td>\n",
       "      <td>2.616595</td>\n",
       "      <td>1.005538</td>\n",
       "      <td>3.728195</td>\n",
       "      <td>4.203430</td>\n",
       "      <td>-2.405135</td>\n",
       "      <td>0.471586</td>\n",
       "      <td>spoof</td>\n",
       "    </tr>\n",
       "    <tr>\n",
       "      <th>25379</th>\n",
       "      <td>-14.535436</td>\n",
       "      <td>-25.972116</td>\n",
       "      <td>0.964674</td>\n",
       "      <td>0.242406</td>\n",
       "      <td>6.912238</td>\n",
       "      <td>4.022507</td>\n",
       "      <td>8.181990</td>\n",
       "      <td>7.093665</td>\n",
       "      <td>6.288559</td>\n",
       "      <td>3.314458</td>\n",
       "      <td>...</td>\n",
       "      <td>19.419068</td>\n",
       "      <td>12.063157</td>\n",
       "      <td>9.822318</td>\n",
       "      <td>7.476243</td>\n",
       "      <td>3.591389</td>\n",
       "      <td>9.261156</td>\n",
       "      <td>7.752518</td>\n",
       "      <td>1.998626</td>\n",
       "      <td>3.848802</td>\n",
       "      <td>spoof</td>\n",
       "    </tr>\n",
       "  </tbody>\n",
       "</table>\n",
       "<p>25380 rows × 651 columns</p>\n",
       "</div>"
      ],
      "text/plain": [
       "               0          1          2         3          4          5  \\\n",
       "0      -8.573016 -11.678742   3.349419  6.297206   6.607597   6.585302   \n",
       "1     -14.455932 -31.868080  -4.644265 -2.268237   7.669049   7.925644   \n",
       "2     -12.320907 -11.391042   6.357327  2.426181   6.995060   4.154011   \n",
       "3      -9.393365  -5.249382  -3.219313  2.639915 -11.203670 -16.226921   \n",
       "4     -11.876866  -4.572194  14.096091 -6.980273  -4.931390 -17.709929   \n",
       "...          ...        ...        ...       ...        ...        ...   \n",
       "25375 -11.085313  -7.561798  -1.381273  1.188675   1.447115  -2.059506   \n",
       "25376 -15.204085 -28.744689  -2.998543 -3.009965   6.409241   4.878647   \n",
       "25377 -11.153386  -9.941480   7.826534  0.958543   4.991591  13.767345   \n",
       "25378  -9.084023 -10.608522   5.265818  1.810717   7.086166  10.198746   \n",
       "25379 -14.535436 -25.972116   0.964674  0.242406   6.912238   4.022507   \n",
       "\n",
       "               6          7          8          9  ...        641        642  \\\n",
       "0       1.953112   3.147527  -2.786101   4.067646  ...   8.802019   4.184361   \n",
       "1      17.380247  17.756672  15.522497  17.359138  ...  19.509102  12.791993   \n",
       "2       7.580681  12.936386   8.104214  -4.446559  ... -18.018298  -8.785583   \n",
       "3     -35.164506 -24.291069   3.423613  13.295148  ... -14.981033 -32.174932   \n",
       "4     -15.360505 -11.763362  -4.758243   2.240678  ...  -8.474299 -19.370402   \n",
       "...          ...        ...        ...        ...  ...        ...        ...   \n",
       "25375  -3.037639  -2.829265  -4.664765  -6.016820  ... -39.860679 -18.460338   \n",
       "25376  13.757629  12.325082  10.477858  14.083744  ...  23.428317  16.784133   \n",
       "25377  13.991147  10.950425   3.941666  -2.001952  ...  -0.640232   8.237400   \n",
       "25378  11.721395  10.058237   4.518279  18.689861  ...   7.700274   0.467699   \n",
       "25379   8.181990   7.093665   6.288559   3.314458  ...  19.419068  12.063157   \n",
       "\n",
       "             643        644        645        646        647        648  \\\n",
       "0      10.452165   6.674898   6.890626   0.663099  -2.561426  -8.769751   \n",
       "1      14.121706  15.612497  16.527843  16.433516   9.285261   4.986468   \n",
       "2      10.563321 -23.634459   1.680121   5.230506   0.680723 -23.921085   \n",
       "3     -29.298206 -24.861730 -13.446369   2.874312   0.286864  10.052436   \n",
       "4     -23.833592 -15.762516  -9.099456   1.400025  -3.759530  -2.098907   \n",
       "...          ...        ...        ...        ...        ...        ...   \n",
       "25375 -30.597868  -7.262566  -0.994769  -7.309093   6.028889 -11.205987   \n",
       "25376  15.449017  19.464919  12.815936   5.722556   2.030922   2.933079   \n",
       "25377  16.081417  15.103763   0.715768   4.415959  10.667828  -7.880399   \n",
       "25378   0.093255   2.616595   1.005538   3.728195   4.203430  -2.405135   \n",
       "25379   9.822318   7.476243   3.591389   9.261156   7.752518   1.998626   \n",
       "\n",
       "             649       650  \n",
       "0      -9.683469     spoof  \n",
       "1       4.088097     spoof  \n",
       "2     -29.724428     spoof  \n",
       "3       4.298754     spoof  \n",
       "4      -5.222501     spoof  \n",
       "...          ...       ...  \n",
       "25375   9.621982     spoof  \n",
       "25376   7.115255     spoof  \n",
       "25377  -3.173169  bonafide  \n",
       "25378   0.471586     spoof  \n",
       "25379   3.848802     spoof  \n",
       "\n",
       "[25380 rows x 651 columns]"
      ]
     },
     "execution_count": 39,
     "metadata": {},
     "output_type": "execute_result"
    }
   ],
   "source": [
    "X = data.iloc[:, 0:feature_len+1]\n",
    "X"
   ]
  },
  {
   "cell_type": "code",
   "execution_count": 40,
   "metadata": {
    "ExecuteTime": {
     "end_time": "2021-04-19T01:00:42.249867Z",
     "start_time": "2021-04-19T01:00:41.459058Z"
    }
   },
   "outputs": [],
   "source": [
    "bondata = X.loc[X[str(feature_len)] == 'bonafide'].iloc[:, 0:feature_len]\n",
    "spoofdata = X.loc[X[str(feature_len)] == 'spoof'].iloc[:, 0:feature_len]\n",
    "\n",
    "gmm_bon = GMM(n_components = 1, covariance_type='diag',n_init = 50,verbose=1) # min shape[0] = 135 # max = 1112\n",
    "gmm_sp  = GMM(n_components = 1, covariance_type='diag',n_init = 50,verbose=1)  # min shape[0] = 64  # max = 1318"
   ]
  },
  {
   "cell_type": "code",
   "execution_count": 41,
   "metadata": {
    "ExecuteTime": {
     "end_time": "2021-04-19T01:00:46.274650Z",
     "start_time": "2021-04-19T01:00:46.224610Z"
    }
   },
   "outputs": [
    {
     "data": {
      "text/html": [
       "<div>\n",
       "<style scoped>\n",
       "    .dataframe tbody tr th:only-of-type {\n",
       "        vertical-align: middle;\n",
       "    }\n",
       "\n",
       "    .dataframe tbody tr th {\n",
       "        vertical-align: top;\n",
       "    }\n",
       "\n",
       "    .dataframe thead th {\n",
       "        text-align: right;\n",
       "    }\n",
       "</style>\n",
       "<table border=\"1\" class=\"dataframe\">\n",
       "  <thead>\n",
       "    <tr style=\"text-align: right;\">\n",
       "      <th></th>\n",
       "      <th>0</th>\n",
       "      <th>1</th>\n",
       "      <th>2</th>\n",
       "      <th>3</th>\n",
       "      <th>4</th>\n",
       "      <th>5</th>\n",
       "      <th>6</th>\n",
       "      <th>7</th>\n",
       "      <th>8</th>\n",
       "      <th>9</th>\n",
       "      <th>...</th>\n",
       "      <th>640</th>\n",
       "      <th>641</th>\n",
       "      <th>642</th>\n",
       "      <th>643</th>\n",
       "      <th>644</th>\n",
       "      <th>645</th>\n",
       "      <th>646</th>\n",
       "      <th>647</th>\n",
       "      <th>648</th>\n",
       "      <th>649</th>\n",
       "    </tr>\n",
       "  </thead>\n",
       "  <tbody>\n",
       "    <tr>\n",
       "      <th>6</th>\n",
       "      <td>-10.755181</td>\n",
       "      <td>-6.555706</td>\n",
       "      <td>8.419038</td>\n",
       "      <td>-3.742073</td>\n",
       "      <td>-0.287701</td>\n",
       "      <td>-0.453065</td>\n",
       "      <td>2.295795</td>\n",
       "      <td>3.699362</td>\n",
       "      <td>4.668490</td>\n",
       "      <td>5.384911</td>\n",
       "      <td>...</td>\n",
       "      <td>-2.481737</td>\n",
       "      <td>-2.757649</td>\n",
       "      <td>-5.678154</td>\n",
       "      <td>2.275743</td>\n",
       "      <td>-1.486575</td>\n",
       "      <td>-1.312862</td>\n",
       "      <td>-4.243270</td>\n",
       "      <td>-12.243520</td>\n",
       "      <td>-2.557074</td>\n",
       "      <td>-2.787862</td>\n",
       "    </tr>\n",
       "    <tr>\n",
       "      <th>17</th>\n",
       "      <td>-11.723814</td>\n",
       "      <td>-9.750538</td>\n",
       "      <td>10.354313</td>\n",
       "      <td>0.791462</td>\n",
       "      <td>1.879989</td>\n",
       "      <td>11.423931</td>\n",
       "      <td>13.637714</td>\n",
       "      <td>18.582008</td>\n",
       "      <td>18.859869</td>\n",
       "      <td>6.030119</td>\n",
       "      <td>...</td>\n",
       "      <td>-0.585245</td>\n",
       "      <td>8.078474</td>\n",
       "      <td>10.853899</td>\n",
       "      <td>17.137064</td>\n",
       "      <td>23.867663</td>\n",
       "      <td>16.145534</td>\n",
       "      <td>8.275949</td>\n",
       "      <td>3.760915</td>\n",
       "      <td>4.905719</td>\n",
       "      <td>11.029994</td>\n",
       "    </tr>\n",
       "    <tr>\n",
       "      <th>19</th>\n",
       "      <td>-12.145011</td>\n",
       "      <td>-11.711807</td>\n",
       "      <td>13.580812</td>\n",
       "      <td>6.908806</td>\n",
       "      <td>8.691896</td>\n",
       "      <td>8.261685</td>\n",
       "      <td>7.357390</td>\n",
       "      <td>10.946545</td>\n",
       "      <td>4.654772</td>\n",
       "      <td>7.016511</td>\n",
       "      <td>...</td>\n",
       "      <td>8.299290</td>\n",
       "      <td>9.725975</td>\n",
       "      <td>12.247905</td>\n",
       "      <td>15.429032</td>\n",
       "      <td>15.522858</td>\n",
       "      <td>13.873048</td>\n",
       "      <td>14.220463</td>\n",
       "      <td>8.509489</td>\n",
       "      <td>-1.277293</td>\n",
       "      <td>4.128119</td>\n",
       "    </tr>\n",
       "    <tr>\n",
       "      <th>54</th>\n",
       "      <td>-12.322505</td>\n",
       "      <td>-8.670858</td>\n",
       "      <td>11.619966</td>\n",
       "      <td>4.731583</td>\n",
       "      <td>7.153312</td>\n",
       "      <td>6.476455</td>\n",
       "      <td>3.802160</td>\n",
       "      <td>10.528387</td>\n",
       "      <td>0.205263</td>\n",
       "      <td>-8.374908</td>\n",
       "      <td>...</td>\n",
       "      <td>10.396177</td>\n",
       "      <td>7.475150</td>\n",
       "      <td>9.065025</td>\n",
       "      <td>5.005353</td>\n",
       "      <td>13.590110</td>\n",
       "      <td>9.017063</td>\n",
       "      <td>7.123059</td>\n",
       "      <td>4.110650</td>\n",
       "      <td>-2.214155</td>\n",
       "      <td>7.571899</td>\n",
       "    </tr>\n",
       "    <tr>\n",
       "      <th>67</th>\n",
       "      <td>-11.771877</td>\n",
       "      <td>-6.049785</td>\n",
       "      <td>5.078198</td>\n",
       "      <td>9.735997</td>\n",
       "      <td>12.197072</td>\n",
       "      <td>2.994727</td>\n",
       "      <td>10.592675</td>\n",
       "      <td>12.217650</td>\n",
       "      <td>8.667267</td>\n",
       "      <td>5.794768</td>\n",
       "      <td>...</td>\n",
       "      <td>0.560323</td>\n",
       "      <td>4.087174</td>\n",
       "      <td>7.923929</td>\n",
       "      <td>12.558359</td>\n",
       "      <td>14.957126</td>\n",
       "      <td>5.585334</td>\n",
       "      <td>11.335784</td>\n",
       "      <td>11.383738</td>\n",
       "      <td>8.454517</td>\n",
       "      <td>-3.668787</td>\n",
       "    </tr>\n",
       "    <tr>\n",
       "      <th>...</th>\n",
       "      <td>...</td>\n",
       "      <td>...</td>\n",
       "      <td>...</td>\n",
       "      <td>...</td>\n",
       "      <td>...</td>\n",
       "      <td>...</td>\n",
       "      <td>...</td>\n",
       "      <td>...</td>\n",
       "      <td>...</td>\n",
       "      <td>...</td>\n",
       "      <td>...</td>\n",
       "      <td>...</td>\n",
       "      <td>...</td>\n",
       "      <td>...</td>\n",
       "      <td>...</td>\n",
       "      <td>...</td>\n",
       "      <td>...</td>\n",
       "      <td>...</td>\n",
       "      <td>...</td>\n",
       "      <td>...</td>\n",
       "      <td>...</td>\n",
       "    </tr>\n",
       "    <tr>\n",
       "      <th>25359</th>\n",
       "      <td>-10.062475</td>\n",
       "      <td>-7.352747</td>\n",
       "      <td>5.347971</td>\n",
       "      <td>1.178981</td>\n",
       "      <td>2.068914</td>\n",
       "      <td>2.484618</td>\n",
       "      <td>4.784619</td>\n",
       "      <td>2.790660</td>\n",
       "      <td>4.046308</td>\n",
       "      <td>1.600950</td>\n",
       "      <td>...</td>\n",
       "      <td>8.865943</td>\n",
       "      <td>5.850477</td>\n",
       "      <td>10.412114</td>\n",
       "      <td>14.327317</td>\n",
       "      <td>11.453071</td>\n",
       "      <td>3.903163</td>\n",
       "      <td>1.596728</td>\n",
       "      <td>-0.978471</td>\n",
       "      <td>4.961662</td>\n",
       "      <td>3.431231</td>\n",
       "    </tr>\n",
       "    <tr>\n",
       "      <th>25367</th>\n",
       "      <td>-12.084336</td>\n",
       "      <td>-8.529256</td>\n",
       "      <td>13.751033</td>\n",
       "      <td>6.729279</td>\n",
       "      <td>13.259378</td>\n",
       "      <td>12.264877</td>\n",
       "      <td>13.000313</td>\n",
       "      <td>13.020607</td>\n",
       "      <td>18.250294</td>\n",
       "      <td>12.477184</td>\n",
       "      <td>...</td>\n",
       "      <td>6.132513</td>\n",
       "      <td>14.820159</td>\n",
       "      <td>19.181104</td>\n",
       "      <td>18.864175</td>\n",
       "      <td>11.314332</td>\n",
       "      <td>10.069025</td>\n",
       "      <td>5.086636</td>\n",
       "      <td>0.071582</td>\n",
       "      <td>-2.084654</td>\n",
       "      <td>0.404231</td>\n",
       "    </tr>\n",
       "    <tr>\n",
       "      <th>25370</th>\n",
       "      <td>-12.493473</td>\n",
       "      <td>-11.548445</td>\n",
       "      <td>11.359798</td>\n",
       "      <td>2.413646</td>\n",
       "      <td>1.158224</td>\n",
       "      <td>1.849956</td>\n",
       "      <td>2.446304</td>\n",
       "      <td>4.636609</td>\n",
       "      <td>6.265790</td>\n",
       "      <td>-4.825328</td>\n",
       "      <td>...</td>\n",
       "      <td>0.719816</td>\n",
       "      <td>8.600658</td>\n",
       "      <td>13.550634</td>\n",
       "      <td>10.081595</td>\n",
       "      <td>2.410478</td>\n",
       "      <td>-4.244541</td>\n",
       "      <td>-4.866430</td>\n",
       "      <td>4.341663</td>\n",
       "      <td>7.344098</td>\n",
       "      <td>5.437800</td>\n",
       "    </tr>\n",
       "    <tr>\n",
       "      <th>25373</th>\n",
       "      <td>-10.446565</td>\n",
       "      <td>-6.208696</td>\n",
       "      <td>1.932516</td>\n",
       "      <td>-4.192936</td>\n",
       "      <td>7.615052</td>\n",
       "      <td>2.243147</td>\n",
       "      <td>-0.621025</td>\n",
       "      <td>1.908519</td>\n",
       "      <td>10.144596</td>\n",
       "      <td>10.692419</td>\n",
       "      <td>...</td>\n",
       "      <td>-8.551895</td>\n",
       "      <td>0.232270</td>\n",
       "      <td>1.861281</td>\n",
       "      <td>3.251841</td>\n",
       "      <td>4.229142</td>\n",
       "      <td>19.689048</td>\n",
       "      <td>16.977596</td>\n",
       "      <td>-3.517560</td>\n",
       "      <td>-2.776402</td>\n",
       "      <td>3.675637</td>\n",
       "    </tr>\n",
       "    <tr>\n",
       "      <th>25377</th>\n",
       "      <td>-11.153386</td>\n",
       "      <td>-9.941480</td>\n",
       "      <td>7.826534</td>\n",
       "      <td>0.958543</td>\n",
       "      <td>4.991591</td>\n",
       "      <td>13.767345</td>\n",
       "      <td>13.991147</td>\n",
       "      <td>10.950425</td>\n",
       "      <td>3.941666</td>\n",
       "      <td>-2.001952</td>\n",
       "      <td>...</td>\n",
       "      <td>15.702192</td>\n",
       "      <td>-0.640232</td>\n",
       "      <td>8.237400</td>\n",
       "      <td>16.081417</td>\n",
       "      <td>15.103763</td>\n",
       "      <td>0.715768</td>\n",
       "      <td>4.415959</td>\n",
       "      <td>10.667828</td>\n",
       "      <td>-7.880399</td>\n",
       "      <td>-3.173169</td>\n",
       "    </tr>\n",
       "  </tbody>\n",
       "</table>\n",
       "<p>2580 rows × 650 columns</p>\n",
       "</div>"
      ],
      "text/plain": [
       "               0          1          2         3          4          5  \\\n",
       "6     -10.755181  -6.555706   8.419038 -3.742073  -0.287701  -0.453065   \n",
       "17    -11.723814  -9.750538  10.354313  0.791462   1.879989  11.423931   \n",
       "19    -12.145011 -11.711807  13.580812  6.908806   8.691896   8.261685   \n",
       "54    -12.322505  -8.670858  11.619966  4.731583   7.153312   6.476455   \n",
       "67    -11.771877  -6.049785   5.078198  9.735997  12.197072   2.994727   \n",
       "...          ...        ...        ...       ...        ...        ...   \n",
       "25359 -10.062475  -7.352747   5.347971  1.178981   2.068914   2.484618   \n",
       "25367 -12.084336  -8.529256  13.751033  6.729279  13.259378  12.264877   \n",
       "25370 -12.493473 -11.548445  11.359798  2.413646   1.158224   1.849956   \n",
       "25373 -10.446565  -6.208696   1.932516 -4.192936   7.615052   2.243147   \n",
       "25377 -11.153386  -9.941480   7.826534  0.958543   4.991591  13.767345   \n",
       "\n",
       "               6          7          8          9  ...        640        641  \\\n",
       "6       2.295795   3.699362   4.668490   5.384911  ...  -2.481737  -2.757649   \n",
       "17     13.637714  18.582008  18.859869   6.030119  ...  -0.585245   8.078474   \n",
       "19      7.357390  10.946545   4.654772   7.016511  ...   8.299290   9.725975   \n",
       "54      3.802160  10.528387   0.205263  -8.374908  ...  10.396177   7.475150   \n",
       "67     10.592675  12.217650   8.667267   5.794768  ...   0.560323   4.087174   \n",
       "...          ...        ...        ...        ...  ...        ...        ...   \n",
       "25359   4.784619   2.790660   4.046308   1.600950  ...   8.865943   5.850477   \n",
       "25367  13.000313  13.020607  18.250294  12.477184  ...   6.132513  14.820159   \n",
       "25370   2.446304   4.636609   6.265790  -4.825328  ...   0.719816   8.600658   \n",
       "25373  -0.621025   1.908519  10.144596  10.692419  ...  -8.551895   0.232270   \n",
       "25377  13.991147  10.950425   3.941666  -2.001952  ...  15.702192  -0.640232   \n",
       "\n",
       "             642        643        644        645        646        647  \\\n",
       "6      -5.678154   2.275743  -1.486575  -1.312862  -4.243270 -12.243520   \n",
       "17     10.853899  17.137064  23.867663  16.145534   8.275949   3.760915   \n",
       "19     12.247905  15.429032  15.522858  13.873048  14.220463   8.509489   \n",
       "54      9.065025   5.005353  13.590110   9.017063   7.123059   4.110650   \n",
       "67      7.923929  12.558359  14.957126   5.585334  11.335784  11.383738   \n",
       "...          ...        ...        ...        ...        ...        ...   \n",
       "25359  10.412114  14.327317  11.453071   3.903163   1.596728  -0.978471   \n",
       "25367  19.181104  18.864175  11.314332  10.069025   5.086636   0.071582   \n",
       "25370  13.550634  10.081595   2.410478  -4.244541  -4.866430   4.341663   \n",
       "25373   1.861281   3.251841   4.229142  19.689048  16.977596  -3.517560   \n",
       "25377   8.237400  16.081417  15.103763   0.715768   4.415959  10.667828   \n",
       "\n",
       "            648        649  \n",
       "6     -2.557074  -2.787862  \n",
       "17     4.905719  11.029994  \n",
       "19    -1.277293   4.128119  \n",
       "54    -2.214155   7.571899  \n",
       "67     8.454517  -3.668787  \n",
       "...         ...        ...  \n",
       "25359  4.961662   3.431231  \n",
       "25367 -2.084654   0.404231  \n",
       "25370  7.344098   5.437800  \n",
       "25373 -2.776402   3.675637  \n",
       "25377 -7.880399  -3.173169  \n",
       "\n",
       "[2580 rows x 650 columns]"
      ]
     },
     "execution_count": 41,
     "metadata": {},
     "output_type": "execute_result"
    }
   ],
   "source": [
    "bondata"
   ]
  },
  {
   "cell_type": "code",
   "execution_count": 42,
   "metadata": {
    "ExecuteTime": {
     "end_time": "2021-04-19T01:01:06.795498Z",
     "start_time": "2021-04-19T01:01:01.481982Z"
    }
   },
   "outputs": [
    {
     "name": "stdout",
     "output_type": "stream",
     "text": [
      "Training Bonafine Gmm on mfcc train\n",
      "Initialization 0\n",
      "Initialization converged: True\n",
      "Initialization 1\n",
      "Initialization converged: True\n",
      "Initialization 2\n",
      "Initialization converged: True\n",
      "Initialization 3\n",
      "Initialization converged: True\n",
      "Initialization 4\n",
      "Initialization converged: True\n",
      "Initialization 5\n",
      "Initialization converged: True\n",
      "Initialization 6\n",
      "Initialization converged: True\n",
      "Initialization 7\n",
      "Initialization converged: True\n",
      "Initialization 8\n",
      "Initialization converged: True\n",
      "Initialization 9\n",
      "Initialization converged: True\n",
      "Initialization 10\n",
      "Initialization converged: True\n",
      "Initialization 11\n",
      "Initialization converged: True\n",
      "Initialization 12\n",
      "Initialization converged: True\n",
      "Initialization 13\n",
      "Initialization converged: True\n",
      "Initialization 14\n",
      "Initialization converged: True\n",
      "Initialization 15\n",
      "Initialization converged: True\n",
      "Initialization 16\n",
      "Initialization converged: True\n",
      "Initialization 17\n",
      "Initialization converged: True\n",
      "Initialization 18\n",
      "Initialization converged: True\n",
      "Initialization 19\n",
      "Initialization converged: True\n",
      "Initialization 20\n",
      "Initialization converged: True\n",
      "Initialization 21\n",
      "Initialization converged: True\n",
      "Initialization 22\n",
      "Initialization converged: True\n",
      "Initialization 23\n",
      "Initialization converged: True\n",
      "Initialization 24\n",
      "Initialization converged: True\n",
      "Initialization 25\n",
      "Initialization converged: True\n",
      "Initialization 26\n",
      "Initialization converged: True\n",
      "Initialization 27\n",
      "Initialization converged: True\n",
      "Initialization 28\n",
      "Initialization converged: True\n",
      "Initialization 29\n",
      "Initialization converged: True\n",
      "Initialization 30\n",
      "Initialization converged: True\n",
      "Initialization 31\n",
      "Initialization converged: True\n",
      "Initialization 32\n",
      "Initialization converged: True\n",
      "Initialization 33\n",
      "Initialization converged: True\n",
      "Initialization 34\n",
      "Initialization converged: True\n",
      "Initialization 35\n",
      "Initialization converged: True\n",
      "Initialization 36\n",
      "Initialization converged: True\n",
      "Initialization 37\n",
      "Initialization converged: True\n",
      "Initialization 38\n",
      "Initialization converged: True\n",
      "Initialization 39\n",
      "Initialization converged: True\n",
      "Initialization 40\n",
      "Initialization converged: True\n",
      "Initialization 41\n",
      "Initialization converged: True\n",
      "Initialization 42\n",
      "Initialization converged: True\n",
      "Initialization 43\n",
      "Initialization converged: True\n",
      "Initialization 44\n",
      "Initialization converged: True\n",
      "Initialization 45\n",
      "Initialization converged: True\n",
      "Initialization 46\n",
      "Initialization converged: True\n",
      "Initialization 47\n",
      "Initialization converged: True\n",
      "Initialization 48\n",
      "Initialization converged: True\n",
      "Initialization 49\n",
      "Initialization converged: True\n",
      "Bonafide gmm trained, time spend: 5.309686183929443\n"
     ]
    }
   ],
   "source": [
    "t0 = time.time()\n",
    "print('Training Bonafine Gmm on',feature, dataset)\n",
    "\n",
    "gmm_bon.fit(bondata)\n",
    "print('Bonafide gmm trained, time spend:', time.time() - t0)\n",
    "#pickle.dump(gmm_bon, open(output_path + dataset + '__' + feature + '_bon.gmm', 'wb'))\n",
    "\n",
    "\n",
    "# t0 = time.time()\n",
    "# print('Training Spoof Gmm on',feature, dataset)\n",
    "# gmm_sp.fit(spoofdata)\n",
    "# print('Spoof gmm trained, time spend:', time.time() - t0)\n",
    "# pickle.dump(gmm_sp, open(output_path + dataset + '__' + feature + '_spoof.gmm', 'wb'))"
   ]
  },
  {
   "cell_type": "code",
   "execution_count": null,
   "metadata": {},
   "outputs": [],
   "source": [
    "#SVM\n"
   ]
  },
  {
   "cell_type": "code",
   "execution_count": 57,
   "metadata": {
    "ExecuteTime": {
     "end_time": "2021-04-20T04:26:12.413852Z",
     "start_time": "2021-04-20T04:26:12.408979Z"
    }
   },
   "outputs": [],
   "source": [
    "output_path = '/Users/asimadnan/Desktop/Mres/ASVSPOOF_DATA/LA/output_data/'\n",
    "\n",
    "\n",
    "train_data_cqcc_path = '/Users/asimadnan/Desktop/Mres/ASVSPOOF_DATA/LA/output_data/train_cqcc.csv'\n",
    "train_data_mfcc_path = '/Users/asimadnan/Desktop/Mres/ASVSPOOF_DATA/LA/output_data/train_mfcc.csv'\n",
    "train_label_path = '/Users/asimadnan/Desktop/Mres/ASVSPOOF_DATA/LA/ASVspoof2019_LA_cm_protocols/ASVspoof2019.LA.cm.train.trn.txt'\n",
    "\n",
    "\n",
    "train_data_mfcc_path = '/Users/asimadnan/Desktop/Mres/ASVSPOOF_DATA/LA/output_data/test__mfcc.csv'\n",
    "train_data_cqcc_path= '/Users/asimadnan/Desktop/Mres/ASVSPOOF_DATA/LA/output_data/test__cqcc.csv'"
   ]
  },
  {
   "cell_type": "code",
   "execution_count": 58,
   "metadata": {
    "ExecuteTime": {
     "end_time": "2021-04-20T04:26:13.978920Z",
     "start_time": "2021-04-20T04:26:13.973693Z"
    }
   },
   "outputs": [],
   "source": [
    "train = [train_data_cqcc_path,train_data_mfcc_path,train_label_path,'train']\n",
    "features = ['cqcc','mfcc']"
   ]
  },
  {
   "cell_type": "code",
   "execution_count": 59,
   "metadata": {
    "ExecuteTime": {
     "end_time": "2021-04-20T04:26:15.071368Z",
     "start_time": "2021-04-20T04:26:14.982850Z"
    }
   },
   "outputs": [],
   "source": [
    "data = pd.read_csv(train[1],index_col=0)"
   ]
  },
  {
   "cell_type": "code",
   "execution_count": 60,
   "metadata": {
    "ExecuteTime": {
     "end_time": "2021-04-20T04:26:17.901867Z",
     "start_time": "2021-04-20T04:26:17.858489Z"
    }
   },
   "outputs": [
    {
     "data": {
      "text/html": [
       "<div>\n",
       "<style scoped>\n",
       "    .dataframe tbody tr th:only-of-type {\n",
       "        vertical-align: middle;\n",
       "    }\n",
       "\n",
       "    .dataframe tbody tr th {\n",
       "        vertical-align: top;\n",
       "    }\n",
       "\n",
       "    .dataframe thead th {\n",
       "        text-align: right;\n",
       "    }\n",
       "</style>\n",
       "<table border=\"1\" class=\"dataframe\">\n",
       "  <thead>\n",
       "    <tr style=\"text-align: right;\">\n",
       "      <th></th>\n",
       "      <th>0</th>\n",
       "      <th>1</th>\n",
       "      <th>2</th>\n",
       "      <th>3</th>\n",
       "      <th>4</th>\n",
       "      <th>5</th>\n",
       "      <th>6</th>\n",
       "      <th>7</th>\n",
       "      <th>8</th>\n",
       "      <th>9</th>\n",
       "      <th>...</th>\n",
       "      <th>642</th>\n",
       "      <th>643</th>\n",
       "      <th>644</th>\n",
       "      <th>645</th>\n",
       "      <th>646</th>\n",
       "      <th>647</th>\n",
       "      <th>648</th>\n",
       "      <th>649</th>\n",
       "      <th>650</th>\n",
       "      <th>651</th>\n",
       "    </tr>\n",
       "  </thead>\n",
       "  <tbody>\n",
       "    <tr>\n",
       "      <th>0</th>\n",
       "      <td>-12.540241</td>\n",
       "      <td>-3.133893</td>\n",
       "      <td>18.544395</td>\n",
       "      <td>-3.986809</td>\n",
       "      <td>-7.377833</td>\n",
       "      <td>-25.542547</td>\n",
       "      <td>-25.324949</td>\n",
       "      <td>-11.175202</td>\n",
       "      <td>-4.969218</td>\n",
       "      <td>-0.132238</td>\n",
       "      <td>...</td>\n",
       "      <td>-26.830448</td>\n",
       "      <td>-27.055918</td>\n",
       "      <td>-12.060779</td>\n",
       "      <td>-8.749569</td>\n",
       "      <td>-4.577082</td>\n",
       "      <td>-0.492432</td>\n",
       "      <td>-2.774876</td>\n",
       "      <td>-6.726992</td>\n",
       "      <td>spoof</td>\n",
       "      <td>LA_D_1099405</td>\n",
       "    </tr>\n",
       "    <tr>\n",
       "      <th>1</th>\n",
       "      <td>-10.922028</td>\n",
       "      <td>-8.007983</td>\n",
       "      <td>4.348195</td>\n",
       "      <td>-0.213975</td>\n",
       "      <td>2.816931</td>\n",
       "      <td>1.710826</td>\n",
       "      <td>2.416150</td>\n",
       "      <td>4.800140</td>\n",
       "      <td>5.433692</td>\n",
       "      <td>-0.691564</td>\n",
       "      <td>...</td>\n",
       "      <td>2.829533</td>\n",
       "      <td>6.430730</td>\n",
       "      <td>9.741274</td>\n",
       "      <td>9.693492</td>\n",
       "      <td>4.246516</td>\n",
       "      <td>1.414347</td>\n",
       "      <td>7.400756</td>\n",
       "      <td>4.200158</td>\n",
       "      <td>bonafide</td>\n",
       "      <td>LA_D_9330492</td>\n",
       "    </tr>\n",
       "    <tr>\n",
       "      <th>2</th>\n",
       "      <td>-12.298278</td>\n",
       "      <td>-9.924849</td>\n",
       "      <td>13.882997</td>\n",
       "      <td>7.079037</td>\n",
       "      <td>5.279849</td>\n",
       "      <td>4.095138</td>\n",
       "      <td>8.002585</td>\n",
       "      <td>11.920810</td>\n",
       "      <td>7.627260</td>\n",
       "      <td>2.259768</td>\n",
       "      <td>...</td>\n",
       "      <td>12.752793</td>\n",
       "      <td>12.872806</td>\n",
       "      <td>17.628176</td>\n",
       "      <td>11.319846</td>\n",
       "      <td>3.908065</td>\n",
       "      <td>2.103454</td>\n",
       "      <td>4.762190</td>\n",
       "      <td>-1.091029</td>\n",
       "      <td>bonafide</td>\n",
       "      <td>LA_D_1364611</td>\n",
       "    </tr>\n",
       "    <tr>\n",
       "      <th>3</th>\n",
       "      <td>-11.137697</td>\n",
       "      <td>-3.057932</td>\n",
       "      <td>-5.911511</td>\n",
       "      <td>-7.392115</td>\n",
       "      <td>3.996975</td>\n",
       "      <td>13.637284</td>\n",
       "      <td>-0.424157</td>\n",
       "      <td>-16.094330</td>\n",
       "      <td>0.244491</td>\n",
       "      <td>22.745517</td>\n",
       "      <td>...</td>\n",
       "      <td>10.576336</td>\n",
       "      <td>-2.574009</td>\n",
       "      <td>-7.821240</td>\n",
       "      <td>0.479549</td>\n",
       "      <td>8.566047</td>\n",
       "      <td>9.951756</td>\n",
       "      <td>3.530564</td>\n",
       "      <td>-2.890661</td>\n",
       "      <td>bonafide</td>\n",
       "      <td>LA_D_3986002</td>\n",
       "    </tr>\n",
       "    <tr>\n",
       "      <th>4</th>\n",
       "      <td>-14.439103</td>\n",
       "      <td>-28.854320</td>\n",
       "      <td>0.629952</td>\n",
       "      <td>4.307006</td>\n",
       "      <td>10.547094</td>\n",
       "      <td>5.241080</td>\n",
       "      <td>7.606417</td>\n",
       "      <td>7.646509</td>\n",
       "      <td>7.594661</td>\n",
       "      <td>7.438350</td>\n",
       "      <td>...</td>\n",
       "      <td>9.231278</td>\n",
       "      <td>11.949671</td>\n",
       "      <td>10.503574</td>\n",
       "      <td>7.860767</td>\n",
       "      <td>6.397136</td>\n",
       "      <td>1.222892</td>\n",
       "      <td>1.805485</td>\n",
       "      <td>8.955902</td>\n",
       "      <td>spoof</td>\n",
       "      <td>LA_D_3411825</td>\n",
       "    </tr>\n",
       "    <tr>\n",
       "      <th>5</th>\n",
       "      <td>-11.984894</td>\n",
       "      <td>-2.999891</td>\n",
       "      <td>18.083846</td>\n",
       "      <td>-5.197033</td>\n",
       "      <td>-8.321549</td>\n",
       "      <td>-24.664801</td>\n",
       "      <td>-24.898103</td>\n",
       "      <td>-12.564918</td>\n",
       "      <td>-4.009618</td>\n",
       "      <td>-0.710744</td>\n",
       "      <td>...</td>\n",
       "      <td>-26.809098</td>\n",
       "      <td>-30.535644</td>\n",
       "      <td>-13.446531</td>\n",
       "      <td>-5.868994</td>\n",
       "      <td>-0.810060</td>\n",
       "      <td>-5.107424</td>\n",
       "      <td>-6.477157</td>\n",
       "      <td>-5.269687</td>\n",
       "      <td>spoof</td>\n",
       "      <td>LA_D_8173305</td>\n",
       "    </tr>\n",
       "    <tr>\n",
       "      <th>6</th>\n",
       "      <td>-11.745431</td>\n",
       "      <td>-5.605191</td>\n",
       "      <td>2.593292</td>\n",
       "      <td>-5.325038</td>\n",
       "      <td>5.581158</td>\n",
       "      <td>5.016391</td>\n",
       "      <td>2.122084</td>\n",
       "      <td>-3.730798</td>\n",
       "      <td>0.550565</td>\n",
       "      <td>9.172164</td>\n",
       "      <td>...</td>\n",
       "      <td>10.340688</td>\n",
       "      <td>4.697443</td>\n",
       "      <td>4.404067</td>\n",
       "      <td>8.119862</td>\n",
       "      <td>3.701606</td>\n",
       "      <td>1.727328</td>\n",
       "      <td>2.000289</td>\n",
       "      <td>2.063593</td>\n",
       "      <td>bonafide</td>\n",
       "      <td>LA_D_6027798</td>\n",
       "    </tr>\n",
       "  </tbody>\n",
       "</table>\n",
       "<p>7 rows × 652 columns</p>\n",
       "</div>"
      ],
      "text/plain": [
       "           0          1          2         3          4          5          6  \\\n",
       "0 -12.540241  -3.133893  18.544395 -3.986809  -7.377833 -25.542547 -25.324949   \n",
       "1 -10.922028  -8.007983   4.348195 -0.213975   2.816931   1.710826   2.416150   \n",
       "2 -12.298278  -9.924849  13.882997  7.079037   5.279849   4.095138   8.002585   \n",
       "3 -11.137697  -3.057932  -5.911511 -7.392115   3.996975  13.637284  -0.424157   \n",
       "4 -14.439103 -28.854320   0.629952  4.307006  10.547094   5.241080   7.606417   \n",
       "5 -11.984894  -2.999891  18.083846 -5.197033  -8.321549 -24.664801 -24.898103   \n",
       "6 -11.745431  -5.605191   2.593292 -5.325038   5.581158   5.016391   2.122084   \n",
       "\n",
       "           7         8          9  ...        642        643        644  \\\n",
       "0 -11.175202 -4.969218  -0.132238  ... -26.830448 -27.055918 -12.060779   \n",
       "1   4.800140  5.433692  -0.691564  ...   2.829533   6.430730   9.741274   \n",
       "2  11.920810  7.627260   2.259768  ...  12.752793  12.872806  17.628176   \n",
       "3 -16.094330  0.244491  22.745517  ...  10.576336  -2.574009  -7.821240   \n",
       "4   7.646509  7.594661   7.438350  ...   9.231278  11.949671  10.503574   \n",
       "5 -12.564918 -4.009618  -0.710744  ... -26.809098 -30.535644 -13.446531   \n",
       "6  -3.730798  0.550565   9.172164  ...  10.340688   4.697443   4.404067   \n",
       "\n",
       "         645       646       647       648       649       650           651  \n",
       "0  -8.749569 -4.577082 -0.492432 -2.774876 -6.726992     spoof  LA_D_1099405  \n",
       "1   9.693492  4.246516  1.414347  7.400756  4.200158  bonafide  LA_D_9330492  \n",
       "2  11.319846  3.908065  2.103454  4.762190 -1.091029  bonafide  LA_D_1364611  \n",
       "3   0.479549  8.566047  9.951756  3.530564 -2.890661  bonafide  LA_D_3986002  \n",
       "4   7.860767  6.397136  1.222892  1.805485  8.955902     spoof  LA_D_3411825  \n",
       "5  -5.868994 -0.810060 -5.107424 -6.477157 -5.269687     spoof  LA_D_8173305  \n",
       "6   8.119862  3.701606  1.727328  2.000289  2.063593  bonafide  LA_D_6027798  \n",
       "\n",
       "[7 rows x 652 columns]"
      ]
     },
     "execution_count": 60,
     "metadata": {},
     "output_type": "execute_result"
    }
   ],
   "source": [
    "data"
   ]
  },
  {
   "cell_type": "code",
   "execution_count": 82,
   "metadata": {
    "ExecuteTime": {
     "end_time": "2021-04-20T04:32:40.339375Z",
     "start_time": "2021-04-20T04:32:40.335534Z"
    }
   },
   "outputs": [],
   "source": [
    "feature_len = 650"
   ]
  },
  {
   "cell_type": "code",
   "execution_count": 86,
   "metadata": {
    "ExecuteTime": {
     "end_time": "2021-04-20T04:32:57.498476Z",
     "start_time": "2021-04-20T04:32:57.490485Z"
    }
   },
   "outputs": [],
   "source": [
    "X = data.iloc[:, 0:feature_len].values\n",
    "y = data[['650']].values"
   ]
  },
  {
   "cell_type": "code",
   "execution_count": 87,
   "metadata": {
    "ExecuteTime": {
     "end_time": "2021-04-20T04:32:58.341657Z",
     "start_time": "2021-04-20T04:32:58.333549Z"
    }
   },
   "outputs": [
    {
     "data": {
      "text/plain": [
       "array([['spoof'],\n",
       "       ['bonafide'],\n",
       "       ['bonafide'],\n",
       "       ['bonafide'],\n",
       "       ['spoof'],\n",
       "       ['spoof'],\n",
       "       ['bonafide']], dtype=object)"
      ]
     },
     "execution_count": 87,
     "metadata": {},
     "output_type": "execute_result"
    }
   ],
   "source": [
    "y"
   ]
  },
  {
   "cell_type": "code",
   "execution_count": 88,
   "metadata": {
    "ExecuteTime": {
     "end_time": "2021-04-20T04:32:59.123709Z",
     "start_time": "2021-04-20T04:32:59.116686Z"
    }
   },
   "outputs": [],
   "source": [
    "svm = SVC(probability=True)\t"
   ]
  },
  {
   "cell_type": "code",
   "execution_count": 89,
   "metadata": {
    "ExecuteTime": {
     "end_time": "2021-04-20T04:32:59.731347Z",
     "start_time": "2021-04-20T04:32:59.711359Z"
    }
   },
   "outputs": [
    {
     "name": "stderr",
     "output_type": "stream",
     "text": [
      "/Users/asimadnan/opt/anaconda3/lib/python3.8/site-packages/sklearn/utils/validation.py:72: DataConversionWarning: A column-vector y was passed when a 1d array was expected. Please change the shape of y to (n_samples, ), for example using ravel().\n",
      "  return f(**kwargs)\n"
     ]
    },
    {
     "data": {
      "text/plain": [
       "SVC(probability=True)"
      ]
     },
     "execution_count": 89,
     "metadata": {},
     "output_type": "execute_result"
    }
   ],
   "source": [
    "svm.fit(X, y)"
   ]
  },
  {
   "cell_type": "code",
   "execution_count": 90,
   "metadata": {
    "ExecuteTime": {
     "end_time": "2021-04-20T11:18:48.487082Z",
     "start_time": "2021-04-20T11:18:48.335072Z"
    }
   },
   "outputs": [],
   "source": [
    "# SVM Test"
   ]
  },
  {
   "cell_type": "code",
   "execution_count": null,
   "metadata": {},
   "outputs": [],
   "source": [
    "# CNN"
   ]
  },
  {
   "cell_type": "code",
   "execution_count": 136,
   "metadata": {
    "ExecuteTime": {
     "end_time": "2021-04-20T13:30:51.061014Z",
     "start_time": "2021-04-20T13:30:51.043736Z"
    }
   },
   "outputs": [],
   "source": [
    "import keras\n",
    "from keras.models import Sequential\n",
    "from keras.layers import Dense, Conv2D, Dropout, Flatten, MaxPooling2D,Conv1D\n",
    "from keras.models import model_from_json"
   ]
  },
  {
   "cell_type": "code",
   "execution_count": 92,
   "metadata": {
    "ExecuteTime": {
     "end_time": "2021-04-20T12:51:51.693563Z",
     "start_time": "2021-04-20T12:51:51.579634Z"
    }
   },
   "outputs": [],
   "source": [
    "def extract_data(data_path,label_path,feature_type):\n",
    "    data_set = pd.read_csv(data_path, delimiter = \",\",index_col=0)\n",
    "    labels = pd.read_csv(label_path, delimiter = \" \", header=None)\n",
    "    labels.columns = ['SPEAKER_ID','AUDIO_FILE_NAME','ENVIRONMENT_ID','ATTACK_ID','KEY']\n",
    "\n",
    "    feature_len = 650\n",
    "\n",
    "    if (feature_type == 'cqcc'):\n",
    "    \tfeature_len = 3000\n",
    "\n",
    "    \n",
    "    data_set = data_set.rename({str(feature_len + 1): 'AUDIO_FILE_NAME'}, axis=1)\n",
    "    data_set = pd.merge(data_set, labels, on='AUDIO_FILE_NAME')\n",
    "    \n",
    "    return data_set.iloc[:, 0:feature_len].values,data_set.iloc[:, feature_len+1:data_set.shape[1]]\n"
   ]
  },
  {
   "cell_type": "code",
   "execution_count": 94,
   "metadata": {
    "ExecuteTime": {
     "end_time": "2021-04-20T12:52:59.381446Z",
     "start_time": "2021-04-20T12:52:58.869521Z"
    }
   },
   "outputs": [],
   "source": [
    "feature = 'mfcc'\n",
    "dataset = 'test'\n",
    "###\n",
    "train_data_mfcc_path = '/Users/asimadnan/Desktop/Mres/ASVSPOOF_DATA/LA/output_data/test__mfcc.csv'\n",
    "train_data_cqcc_path= '/Users/asimadnan/Desktop/Mres/ASVSPOOF_DATA/LA/output_data/test__cqcc.csv'\n",
    "dev_label_path = '/Users/asimadnan/Desktop/Mres/ASVSPOOF_DATA/LA/ASVspoof2019_LA_cm_protocols/ASVspoof2019.LA.cm.dev.trl.txt'\n",
    "\n",
    "\n",
    "raw_data,labels = extract_data(train_data_mfcc_path,dev_label_path,feature)"
   ]
  },
  {
   "cell_type": "code",
   "execution_count": 120,
   "metadata": {
    "ExecuteTime": {
     "end_time": "2021-04-20T13:22:39.339857Z",
     "start_time": "2021-04-20T13:22:39.305461Z"
    }
   },
   "outputs": [],
   "source": [
    "x_train, y_train = raw_data,labels[['KEY']].values\n",
    "x_test, y_test = raw_data,labels[['KEY']].values"
   ]
  },
  {
   "cell_type": "code",
   "execution_count": 128,
   "metadata": {
    "ExecuteTime": {
     "end_time": "2021-04-20T13:24:40.871844Z",
     "start_time": "2021-04-20T13:24:40.856992Z"
    }
   },
   "outputs": [],
   "source": [
    "a = (y_train == 'bonafide')\n",
    "\n",
    "flat_list = [item for sublist in a for item in sublist]\n",
    "\n",
    "y_train = flat_list\n",
    "\n",
    "a = (y_test == 'bonafide')\n",
    "\n",
    "flat_list = [item for sublist in a for item in sublist]\n",
    "\n",
    "y_test = flat_list"
   ]
  },
  {
   "cell_type": "code",
   "execution_count": 132,
   "metadata": {
    "ExecuteTime": {
     "end_time": "2021-04-20T13:27:03.556534Z",
     "start_time": "2021-04-20T13:27:03.550246Z"
    }
   },
   "outputs": [],
   "source": [
    "y_train = 1*np.array(y_train)\n",
    "y_test = 1*np.array(y_test)"
   ]
  },
  {
   "cell_type": "code",
   "execution_count": 133,
   "metadata": {
    "ExecuteTime": {
     "end_time": "2021-04-20T13:27:05.001427Z",
     "start_time": "2021-04-20T13:27:04.985832Z"
    }
   },
   "outputs": [
    {
     "name": "stdout",
     "output_type": "stream",
     "text": [
      "Size of Training Data: (7, 650)\n",
      "Size of Training Labels: (7,)\n",
      "Size of Test Data: (7, 650)\n",
      "Size of Test Labels: (7,)\n"
     ]
    }
   ],
   "source": [
    "#x_train, y_train, x_test, y_test = create_train_test(path)\n",
    "\n",
    "print(\"Size of Training Data:\", np.shape(x_train))\n",
    "print(\"Size of Training Labels:\", np.shape(y_train))\n",
    "print(\"Size of Test Data:\", np.shape(x_test))\n",
    "print(\"Size of Test Labels:\", np.shape(y_test))\n",
    "\n",
    "# y_train = keras.utils.to_categorical(y_train, num_classes)\n",
    "# y_test = keras.utils.to_categorical(y_test, num_classes)\n",
    "\n",
    "# x_train = x_train.reshape(x_train.shape[0], imheight, imwidth, 1)\n",
    "# x_test = x_test.reshape(x_test.shape[0], imheight, imwidth, 1)\n",
    "input_shape = (1, 1, 650)\n",
    "batch_size = 4\n",
    "epochs = 1\n",
    "num_classes = 2"
   ]
  },
  {
   "cell_type": "code",
   "execution_count": 177,
   "metadata": {
    "ExecuteTime": {
     "end_time": "2021-04-20T15:37:28.123792Z",
     "start_time": "2021-04-20T15:37:25.547747Z"
    }
   },
   "outputs": [
    {
     "name": "stdout",
     "output_type": "stream",
     "text": [
      "Model: \"sequential_16\"\n",
      "_________________________________________________________________\n",
      "Layer (type)                 Output Shape              Param #   \n",
      "=================================================================\n",
      "dense_55 (Dense)             (None, 128)               83328     \n",
      "_________________________________________________________________\n",
      "dense_56 (Dense)             (None, 128)               16512     \n",
      "_________________________________________________________________\n",
      "dense_57 (Dense)             (None, 64)                8256      \n",
      "_________________________________________________________________\n",
      "dense_58 (Dense)             (None, 1)                 65        \n",
      "=================================================================\n",
      "Total params: 108,161\n",
      "Trainable params: 108,161\n",
      "Non-trainable params: 0\n",
      "_________________________________________________________________\n",
      "None\n",
      "Epoch 1/10\n",
      "2/2 [==============================] - 1s 330ms/step - loss: 6.5281e-08 - accuracy: 0.5476 - val_loss: 6.8120e-08 - val_accuracy: 0.5714\n",
      "Epoch 2/10\n",
      "2/2 [==============================] - 0s 112ms/step - loss: 6.5281e-08 - accuracy: 0.5476 - val_loss: 6.8120e-08 - val_accuracy: 0.5714\n",
      "Epoch 3/10\n",
      "2/2 [==============================] - 0s 93ms/step - loss: 7.5215e-08 - accuracy: 0.6310 - val_loss: 6.8120e-08 - val_accuracy: 0.5714\n",
      "Epoch 4/10\n",
      "2/2 [==============================] - 0s 91ms/step - loss: 6.5281e-08 - accuracy: 0.5476 - val_loss: 6.8120e-08 - val_accuracy: 0.5714\n",
      "Epoch 5/10\n",
      "2/2 [==============================] - 0s 94ms/step - loss: 7.5215e-08 - accuracy: 0.6310 - val_loss: 6.8120e-08 - val_accuracy: 0.5714\n",
      "Epoch 6/10\n",
      "2/2 [==============================] - 0s 76ms/step - loss: 6.5281e-08 - accuracy: 0.5476 - val_loss: 6.8120e-08 - val_accuracy: 0.5714\n",
      "Epoch 7/10\n",
      "2/2 [==============================] - 0s 142ms/step - loss: 6.5281e-08 - accuracy: 0.5476 - val_loss: 6.8120e-08 - val_accuracy: 0.5714\n",
      "Epoch 8/10\n",
      "2/2 [==============================] - 0s 128ms/step - loss: 6.5281e-08 - accuracy: 0.5476 - val_loss: 6.8120e-08 - val_accuracy: 0.5714\n",
      "Epoch 9/10\n",
      "2/2 [==============================] - 0s 176ms/step - loss: 6.5281e-08 - accuracy: 0.5476 - val_loss: 6.8120e-08 - val_accuracy: 0.5714\n",
      "Epoch 10/10\n",
      "2/2 [==============================] - 0s 112ms/step - loss: 5.5347e-08 - accuracy: 0.4643 - val_loss: 6.8120e-08 - val_accuracy: 0.5714\n"
     ]
    },
    {
     "data": {
      "text/plain": [
       "<tensorflow.python.keras.callbacks.History at 0x7feb8b67feb0>"
      ]
     },
     "execution_count": 177,
     "metadata": {},
     "output_type": "execute_result"
    }
   ],
   "source": [
    "model = Sequential()\n",
    "model.add(Dense(128, input_dim=650, activation='relu'))\n",
    "model.add(Dense(128, activation='relu'))\n",
    "model.add(Dense(64, activation='relu'))\n",
    "# model.add(Dense(8, activation='relu'))\n",
    "# model.add(Dense(4, activation='relu'))\n",
    "model.add(Dense(1, activation='softplus'))\n",
    "\n",
    "\n",
    "model.compile(loss=keras.losses.categorical_crossentropy,  metrics=['accuracy'])\n",
    "print(model.summary())\n",
    "\n",
    "model.fit(x_train, y_train, batch_size=4, epochs=10, verbose=1, validation_data=(x_test, y_test))"
   ]
  },
  {
   "cell_type": "code",
   "execution_count": 160,
   "metadata": {
    "ExecuteTime": {
     "end_time": "2021-04-20T15:04:33.478973Z",
     "start_time": "2021-04-20T15:04:33.117274Z"
    }
   },
   "outputs": [],
   "source": [
    "model.save('nnn',save_format='h5')\n",
    "\n"
   ]
  },
  {
   "cell_type": "code",
   "execution_count": 142,
   "metadata": {
    "ExecuteTime": {
     "end_time": "2021-04-20T14:08:10.221906Z",
     "start_time": "2021-04-20T14:08:08.404429Z"
    }
   },
   "outputs": [],
   "source": [
    "reconstructed_model = keras.models.load_model(\"/Users/asimadnan/Desktop/Mres/ASVSPOOF_DATA/LA/output_data/mfcccnn_model\")\n"
   ]
  },
  {
   "cell_type": "code",
   "execution_count": 146,
   "metadata": {
    "ExecuteTime": {
     "end_time": "2021-04-20T14:12:03.352649Z",
     "start_time": "2021-04-20T14:12:03.193027Z"
    }
   },
   "outputs": [],
   "source": [
    "raw_data,labels = extract_data(train_data_mfcc_path,dev_label_path,'mfcc')\n",
    "x_test, y_test = raw_data,labels[['KEY']].values\n",
    "a = (y_test == 'bonafide')\n",
    "flat_list = [item for sublist in a for item in sublist]\n",
    "y_test = flat_list\n",
    "y_test = 1*np.array(y_test)"
   ]
  },
  {
   "cell_type": "code",
   "execution_count": 147,
   "metadata": {
    "ExecuteTime": {
     "end_time": "2021-04-20T14:12:10.243167Z",
     "start_time": "2021-04-20T14:12:09.678619Z"
    }
   },
   "outputs": [
    {
     "name": "stdout",
     "output_type": "stream",
     "text": [
      "2/2 [==============================] - 0s 4ms/step - loss: 0.0000e+00 - accuracy: 0.4286\n"
     ]
    }
   ],
   "source": [
    "results = reconstructed_model.evaluate(x_test, y_test, batch_size=128)"
   ]
  },
  {
   "cell_type": "code",
   "execution_count": 155,
   "metadata": {
    "ExecuteTime": {
     "end_time": "2021-04-20T14:15:51.288023Z",
     "start_time": "2021-04-20T14:15:51.170421Z"
    }
   },
   "outputs": [
    {
     "data": {
      "text/plain": [
       "array([[0.],\n",
       "       [0.],\n",
       "       [0.],\n",
       "       [0.],\n",
       "       [0.],\n",
       "       [0.],\n",
       "       [0.]], dtype=float32)"
      ]
     },
     "execution_count": 155,
     "metadata": {},
     "output_type": "execute_result"
    }
   ],
   "source": [
    "predictions = reconstructed_model.predict(x_test)\n",
    "predictions"
   ]
  },
  {
   "cell_type": "code",
   "execution_count": 178,
   "metadata": {
    "ExecuteTime": {
     "end_time": "2021-04-20T15:37:33.091976Z",
     "start_time": "2021-04-20T15:37:32.943550Z"
    }
   },
   "outputs": [
    {
     "name": "stdout",
     "output_type": "stream",
     "text": [
      "WARNING:tensorflow:7 out of the last 11 calls to <function Model.make_predict_function.<locals>.predict_function at 0x7feb8b675700> triggered tf.function retracing. Tracing is expensive and the excessive number of tracings could be due to (1) creating @tf.function repeatedly in a loop, (2) passing tensors with different shapes, (3) passing Python objects instead of tensors. For (1), please define your @tf.function outside of the loop. For (2), @tf.function has experimental_relax_shapes=True option that relaxes argument shapes that can avoid unnecessary retracing. For (3), please refer to https://www.tensorflow.org/guide/function#controlling_retracing and https://www.tensorflow.org/api_docs/python/tf/function for  more details.\n"
     ]
    }
   ],
   "source": [
    "test_prob = model.predict(x_test)"
   ]
  },
  {
   "cell_type": "code",
   "execution_count": 179,
   "metadata": {
    "ExecuteTime": {
     "end_time": "2021-04-20T15:37:34.154339Z",
     "start_time": "2021-04-20T15:37:34.147552Z"
    }
   },
   "outputs": [
    {
     "data": {
      "text/plain": [
       "array([[14.217662 ],\n",
       "       [10.117344 ],\n",
       "       [ 6.7160873],\n",
       "       [13.3848915],\n",
       "       [13.181759 ],\n",
       "       [13.335044 ],\n",
       "       [ 8.605457 ]], dtype=float32)"
      ]
     },
     "execution_count": 179,
     "metadata": {},
     "output_type": "execute_result"
    }
   ],
   "source": [
    "test_prob"
   ]
  },
  {
   "cell_type": "code",
   "execution_count": 2,
   "metadata": {
    "ExecuteTime": {
     "end_time": "2021-04-22T03:37:13.445121Z",
     "start_time": "2021-04-22T03:37:13.441193Z"
    }
   },
   "outputs": [],
   "source": [
    "# reading in lfcc"
   ]
  },
  {
   "cell_type": "code",
   "execution_count": 3,
   "metadata": {
    "ExecuteTime": {
     "end_time": "2021-04-22T13:21:59.139133Z",
     "start_time": "2021-04-22T13:21:59.136367Z"
    }
   },
   "outputs": [],
   "source": [
    "lfcc = '/Users/asimadnan/Desktop/Mres/ASVspoof_2019_baseline_CM_v1/cqcc_mat.txt'\n"
   ]
  },
  {
   "cell_type": "code",
   "execution_count": 5,
   "metadata": {
    "ExecuteTime": {
     "end_time": "2021-04-22T03:39:56.998379Z",
     "start_time": "2021-04-22T03:39:56.992416Z"
    }
   },
   "outputs": [],
   "source": [
    "def file_len(fname):\n",
    "    with open(fname) as f:\n",
    "        for i, l in enumerate(f):\n",
    "            pass\n",
    "    return i + 1"
   ]
  },
  {
   "cell_type": "code",
   "execution_count": 6,
   "metadata": {
    "ExecuteTime": {
     "end_time": "2021-04-22T03:40:13.967491Z",
     "start_time": "2021-04-22T03:40:11.248759Z"
    }
   },
   "outputs": [],
   "source": [
    "len  = file_len(lfcc)\n",
    "\n"
   ]
  },
  {
   "cell_type": "code",
   "execution_count": 7,
   "metadata": {
    "ExecuteTime": {
     "end_time": "2021-04-22T03:40:31.390046Z",
     "start_time": "2021-04-22T03:40:31.383528Z"
    }
   },
   "outputs": [
    {
     "data": {
      "text/plain": [
       "2580"
      ]
     },
     "execution_count": 7,
     "metadata": {},
     "output_type": "execute_result"
    }
   ],
   "source": [
    "len"
   ]
  },
  {
   "cell_type": "code",
   "execution_count": 11,
   "metadata": {
    "ExecuteTime": {
     "end_time": "2021-04-22T03:42:59.061484Z",
     "start_time": "2021-04-22T03:42:53.446236Z"
    }
   },
   "outputs": [],
   "source": [
    "data = []\n",
    "path = lfcc\n",
    "files = [lfcc]\n",
    "for f in files:\n",
    "  with open (f, \"r\") as myfile:\n",
    "    data.append(myfile.read())\n",
    "\n",
    "df = pd.DataFrame(data)"
   ]
  },
  {
   "cell_type": "code",
   "execution_count": 5,
   "metadata": {
    "ExecuteTime": {
     "end_time": "2021-04-22T13:22:28.764195Z",
     "start_time": "2021-04-22T13:22:28.761177Z"
    }
   },
   "outputs": [],
   "source": [
    "lfcc = '/Users/asimadnan/Desktop/Mres/ASVspoof_2019_baseline_CM_v1/lfcc_bon_train.txt'"
   ]
  },
  {
   "cell_type": "code",
   "execution_count": 19,
   "metadata": {
    "ExecuteTime": {
     "end_time": "2021-04-22T13:35:30.353649Z",
     "start_time": "2021-04-22T13:35:02.545663Z"
    }
   },
   "outputs": [],
   "source": [
    "data = []\n",
    "with open(lfcc) as input_file:\n",
    "  for row in input_file:\n",
    "    data.append(row.split(','))\n",
    "   "
   ]
  },
  {
   "cell_type": "code",
   "execution_count": 20,
   "metadata": {
    "ExecuteTime": {
     "end_time": "2021-04-22T13:37:38.951826Z",
     "start_time": "2021-04-22T13:37:38.413622Z"
    }
   },
   "outputs": [
    {
     "ename": "AttributeError",
     "evalue": "'list' object has no attribute 'shape'",
     "output_type": "error",
     "traceback": [
      "\u001b[0;31m---------------------------------------------------------------------------\u001b[0m",
      "\u001b[0;31mAttributeError\u001b[0m                            Traceback (most recent call last)",
      "\u001b[0;32m<ipython-input-20-047ed65ff157>\u001b[0m in \u001b[0;36m<module>\u001b[0;34m\u001b[0m\n\u001b[0;32m----> 1\u001b[0;31m \u001b[0mdata\u001b[0m\u001b[0;34m.\u001b[0m\u001b[0mshape\u001b[0m\u001b[0;34m\u001b[0m\u001b[0;34m\u001b[0m\u001b[0m\n\u001b[0m",
      "\u001b[0;31mAttributeError\u001b[0m: 'list' object has no attribute 'shape'"
     ]
    }
   ],
   "source": [
    "data.shape"
   ]
  },
  {
   "cell_type": "code",
   "execution_count": null,
   "metadata": {},
   "outputs": [],
   "source": []
  }
 ],
 "metadata": {
  "kernelspec": {
   "display_name": "Python [conda env:root] *",
   "language": "python",
   "name": "conda-root-py"
  },
  "language_info": {
   "codemirror_mode": {
    "name": "ipython",
    "version": 3
   },
   "file_extension": ".py",
   "mimetype": "text/x-python",
   "name": "python",
   "nbconvert_exporter": "python",
   "pygments_lexer": "ipython3",
   "version": "3.8.5"
  },
  "varInspector": {
   "cols": {
    "lenName": 16,
    "lenType": 16,
    "lenVar": 40
   },
   "kernels_config": {
    "python": {
     "delete_cmd_postfix": "",
     "delete_cmd_prefix": "del ",
     "library": "var_list.py",
     "varRefreshCmd": "print(var_dic_list())"
    },
    "r": {
     "delete_cmd_postfix": ") ",
     "delete_cmd_prefix": "rm(",
     "library": "var_list.r",
     "varRefreshCmd": "cat(var_dic_list()) "
    }
   },
   "types_to_exclude": [
    "module",
    "function",
    "builtin_function_or_method",
    "instance",
    "_Feature"
   ],
   "window_display": false
  }
 },
 "nbformat": 4,
 "nbformat_minor": 4
}
