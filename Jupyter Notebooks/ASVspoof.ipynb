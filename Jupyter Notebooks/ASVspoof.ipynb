{
 "cells": [
  {
   "cell_type": "code",
   "execution_count": 1,
   "metadata": {
    "ExecuteTime": {
     "end_time": "2021-02-18T01:57:33.594681Z",
     "start_time": "2021-02-18T01:57:30.652211Z"
    }
   },
   "outputs": [],
   "source": [
    "import os\n",
    "import numpy as np\n",
    "import pickle\n",
    "import argparse\n",
    "from sklearn.svm import SVC\n",
    "import matplotlib.pyplot as plt"
   ]
  },
  {
   "cell_type": "code",
   "execution_count": 11,
   "metadata": {
    "ExecuteTime": {
     "end_time": "2021-02-18T02:00:43.517192Z",
     "start_time": "2021-02-18T02:00:43.491695Z"
    }
   },
   "outputs": [],
   "source": [
    "X = []\n",
    "y = []\n",
    "\n",
    "max_len = 50  # 1.25 seconds  # check the timesteps of cqcc and mfcc \n",
    "lens = []\n",
    "with open('/Users/asimadnan/Desktop/Mres/ASVSPOOF_DATA/train_sample.pkl', 'rb') as infile:\n",
    "    data = pickle.load(infile)\n",
    "    for feat_cqcc, feat_mfcc, label in data:\n",
    "        #mfcc = mfccs.mean(0) # sum over all timesteps for now    # timesteps X 13\n",
    "        #lens.append(mfccs.shape[0])\n",
    "        #if args.feature_type == \"cqcc\":\n",
    "         #   feats = feat_cqcc\n",
    "        #elif args.feature_type == \"mfcc\":\n",
    "        feats = feat_mfcc\n",
    "        num_dim = feats.shape[1]\n",
    "        if len(feats) > max_len:\n",
    "            feats = feats[:max_len]\n",
    "        elif len(feats) < max_len:\n",
    "            feats = np.concatenate((feats, np.array([[0.]*num_dim]*(max_len-len(feats)))), axis=0)\n",
    "        X.append(feats.reshape(-1))\n",
    "        y.append(label)\n",
    "X = np.array(X)"
   ]
  },
  {
   "cell_type": "code",
   "execution_count": 12,
   "metadata": {
    "ExecuteTime": {
     "end_time": "2021-02-18T02:00:44.375961Z",
     "start_time": "2021-02-18T02:00:44.369914Z"
    }
   },
   "outputs": [
    {
     "data": {
      "text/plain": [
       "(395, 13)"
      ]
     },
     "execution_count": 12,
     "metadata": {},
     "output_type": "execute_result"
    }
   ],
   "source": [
    "data[1][1].shape"
   ]
  },
  {
   "cell_type": "code",
   "execution_count": 13,
   "metadata": {
    "ExecuteTime": {
     "end_time": "2021-02-18T02:00:45.066839Z",
     "start_time": "2021-02-18T02:00:45.056147Z"
    }
   },
   "outputs": [
    {
     "data": {
      "text/plain": [
       "{'bonafide', 'spoof'}"
      ]
     },
     "execution_count": 13,
     "metadata": {},
     "output_type": "execute_result"
    }
   ],
   "source": [
    "set(y)"
   ]
  },
  {
   "cell_type": "code",
   "execution_count": 14,
   "metadata": {
    "ExecuteTime": {
     "end_time": "2021-02-18T02:00:46.386143Z",
     "start_time": "2021-02-18T02:00:46.380423Z"
    }
   },
   "outputs": [
    {
     "name": "stdout",
     "output_type": "stream",
     "text": [
      "[3 3]\n"
     ]
    }
   ],
   "source": [
    "yy = np.array(y)\n",
    "unique, counts = np.unique(yy, return_counts=True)\n",
    "\n",
    "print (counts)\n"
   ]
  },
  {
   "cell_type": "code",
   "execution_count": 15,
   "metadata": {
    "ExecuteTime": {
     "end_time": "2021-02-18T02:00:48.863310Z",
     "start_time": "2021-02-18T02:00:48.854500Z"
    }
   },
   "outputs": [
    {
     "data": {
      "text/plain": [
       "650"
      ]
     },
     "execution_count": 15,
     "metadata": {},
     "output_type": "execute_result"
    }
   ],
   "source": [
    "len(X[0])"
   ]
  },
  {
   "cell_type": "code",
   "execution_count": 16,
   "metadata": {
    "ExecuteTime": {
     "end_time": "2021-02-18T02:00:49.361470Z",
     "start_time": "2021-02-18T02:00:49.348030Z"
    }
   },
   "outputs": [
    {
     "data": {
      "text/plain": [
       "(6, 650)"
      ]
     },
     "execution_count": 16,
     "metadata": {},
     "output_type": "execute_result"
    }
   ],
   "source": [
    "X.shape"
   ]
  },
  {
   "cell_type": "markdown",
   "metadata": {},
   "source": [
    "# SVM Classifier Train"
   ]
  },
  {
   "cell_type": "code",
   "execution_count": 17,
   "metadata": {
    "ExecuteTime": {
     "end_time": "2021-02-18T02:00:50.609477Z",
     "start_time": "2021-02-18T02:00:50.593212Z"
    }
   },
   "outputs": [
    {
     "data": {
      "text/plain": [
       "SVC()"
      ]
     },
     "execution_count": 17,
     "metadata": {},
     "output_type": "execute_result"
    }
   ],
   "source": [
    "clf = SVC()\n",
    "clf.fit(X, y)"
   ]
  },
  {
   "cell_type": "code",
   "execution_count": 18,
   "metadata": {
    "ExecuteTime": {
     "end_time": "2021-02-18T02:00:52.612560Z",
     "start_time": "2021-02-18T02:00:52.606304Z"
    }
   },
   "outputs": [
    {
     "name": "stdout",
     "output_type": "stream",
     "text": [
      "train accuracy: 1.0\n"
     ]
    }
   ],
   "source": [
    "# train acc\n",
    "print ('train accuracy:', clf.score(X, y))"
   ]
  },
  {
   "cell_type": "code",
   "execution_count": 19,
   "metadata": {
    "ExecuteTime": {
     "end_time": "2021-02-18T02:00:58.100355Z",
     "start_time": "2021-02-18T02:00:58.073729Z"
    }
   },
   "outputs": [],
   "source": [
    "X_test = []\n",
    "y_test = []\n",
    "\n",
    "max_len = 50  # 1.25 seconds  # check the timesteps of cqcc and mfcc \n",
    "lens = []\n",
    "with open('/Users/asimadnan/Desktop/Mres/ASVSPOOF_DATA/dev_sample.pkl', 'rb') as infile:\n",
    "    data = pickle.load(infile)\n",
    "    for feat_cqcc, feat_mfcc, label in data:\n",
    "        #mfcc = mfccs.mean(0) # sum over all timesteps for now    # timesteps X 13\n",
    "        #lens.append(mfccs.shape[0])\n",
    "        #if args.feature_type == \"cqcc\":\n",
    "         #   feats = feat_cqcc\n",
    "        #elif args.feature_type == \"mfcc\":\n",
    "        feats = feat_mfcc\n",
    "        num_dim = feats.shape[1]\n",
    "        if len(feats) > max_len:\n",
    "            feats = feats[:max_len]\n",
    "        elif len(feats) < max_len:\n",
    "            feats = np.concatenate((feats, np.array([[0.]*num_dim]*(max_len-len(feats)))), axis=0)\n",
    "        X_test.append(feats.reshape(-1))\n",
    "        y_test.append(label)\n",
    "X_test = np.array(X_test)"
   ]
  },
  {
   "cell_type": "code",
   "execution_count": 20,
   "metadata": {
    "ExecuteTime": {
     "end_time": "2021-02-18T02:01:06.266071Z",
     "start_time": "2021-02-18T02:01:06.257947Z"
    }
   },
   "outputs": [
    {
     "name": "stdout",
     "output_type": "stream",
     "text": [
      "train accuracy: 0.7142857142857143\n"
     ]
    }
   ],
   "source": [
    "print ('Test accuracy:', clf.score(X, y))"
   ]
  },
  {
   "cell_type": "code",
   "execution_count": null,
   "metadata": {},
   "outputs": [],
   "source": []
  }
 ],
 "metadata": {
  "kernelspec": {
   "display_name": "Python [conda env:root] *",
   "language": "python",
   "name": "conda-root-py"
  },
  "language_info": {
   "codemirror_mode": {
    "name": "ipython",
    "version": 3
   },
   "file_extension": ".py",
   "mimetype": "text/x-python",
   "name": "python",
   "nbconvert_exporter": "python",
   "pygments_lexer": "ipython3",
   "version": "3.8.5"
  },
  "varInspector": {
   "cols": {
    "lenName": 16,
    "lenType": 16,
    "lenVar": 40
   },
   "kernels_config": {
    "python": {
     "delete_cmd_postfix": "",
     "delete_cmd_prefix": "del ",
     "library": "var_list.py",
     "varRefreshCmd": "print(var_dic_list())"
    },
    "r": {
     "delete_cmd_postfix": ") ",
     "delete_cmd_prefix": "rm(",
     "library": "var_list.r",
     "varRefreshCmd": "cat(var_dic_list()) "
    }
   },
   "types_to_exclude": [
    "module",
    "function",
    "builtin_function_or_method",
    "instance",
    "_Feature"
   ],
   "window_display": false
  }
 },
 "nbformat": 4,
 "nbformat_minor": 4
}
