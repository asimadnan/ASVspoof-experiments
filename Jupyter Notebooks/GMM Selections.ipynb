{
 "cells": [
  {
   "cell_type": "code",
   "execution_count": 1,
   "metadata": {
    "ExecuteTime": {
     "end_time": "2021-05-06T13:40:25.357338Z",
     "start_time": "2021-05-06T13:40:24.790327Z"
    }
   },
   "outputs": [],
   "source": [
    "import scipy.io\n",
    "import numpy as np\n",
    "from sklearn.mixture import GaussianMixture as GMM\n",
    "import h5py\n",
    "import mat73\n",
    "import pickle\n",
    "from sklearn import mixture"
   ]
  },
  {
   "cell_type": "code",
   "execution_count": 2,
   "metadata": {
    "ExecuteTime": {
     "end_time": "2021-05-06T13:40:25.859798Z",
     "start_time": "2021-05-06T13:40:25.855412Z"
    }
   },
   "outputs": [],
   "source": [
    "bon_path = '/Users/asimadnan/Desktop/Mres/ASVspoof_2019_baseline_CM_v1/AllTrainData/CQCC_genuineFeatureCell_train.mat'\n",
    "spoof_path = '/Users/asimadnan/Desktop/Mres/ASVspoof_2019_baseline_CM_v1/AllTrainData/CQCC_spoofFeatureCell_train.mat'"
   ]
  },
  {
   "cell_type": "code",
   "execution_count": 3,
   "metadata": {
    "ExecuteTime": {
     "end_time": "2021-05-06T13:43:09.987323Z",
     "start_time": "2021-05-06T13:40:37.160950Z"
    }
   },
   "outputs": [],
   "source": [
    "\n",
    "\n",
    "bonafide_data = scipy.io.loadmat(bon_path)\n",
    "spoof_data = mat73.loadmat(spoof_path)\n",
    "\n",
    "bon_data = []\n",
    "spo_data = []\n",
    "target_num_rows = 50 #minimum duration of each file in this dataset\n",
    "\n",
    "\n",
    "for item in bonafide_data['genuineFeatureCell'][1:500]:\n",
    "    feature = np.array([np.array(xi) for xi in item[0]])   \n",
    "    if(target_num_rows - feature.shape[1]) > 0:\n",
    "        feature = np.concatenate((feature, feature[:,:target_num_rows - feature.shape[1]]), axis=1)\n",
    "        if(target_num_rows - feature.shape[1]) > 0:\n",
    "            feature = np.concatenate((feature, np.array([[0.]*(target_num_rows - feature.shape[1])]*(90))),axis=1)\n",
    "    else:\n",
    "        feature = feature[:,:target_num_rows]  \n",
    "    bon_data.append(feature.reshape(-1))\n",
    "\n",
    "bon_data = np.vstack(bon_data)\n",
    "\n",
    "for item in spoof_data['spoofFeatureCell'][1:1000]:\n",
    "    feature = np.array([np.array(xi) for xi in item[0]])   \n",
    "    if(target_num_rows - feature.shape[1]) > 0:\n",
    "        feature = np.concatenate((feature, feature[:,:target_num_rows - feature.shape[1]]), axis=1)\n",
    "        if(target_num_rows - feature.shape[1]) > 0:\n",
    "            feature = np.concatenate((feature, np.array([[0.]*(target_num_rows - feature.shape[1])]*(90))),axis=1)\n",
    "    else:\n",
    "        feature = feature[:,:target_num_rows]  \n",
    "    spo_data.append(feature.reshape(-1))\n",
    "\n",
    "spo_data = np.vstack(spo_data)"
   ]
  },
  {
   "cell_type": "code",
   "execution_count": 5,
   "metadata": {
    "ExecuteTime": {
     "end_time": "2021-05-06T13:45:05.552186Z",
     "start_time": "2021-05-06T13:45:05.545089Z"
    }
   },
   "outputs": [],
   "source": [
    "X = bon_data"
   ]
  },
  {
   "cell_type": "code",
   "execution_count": null,
   "metadata": {
    "ExecuteTime": {
     "start_time": "2021-05-06T13:46:37.436Z"
    }
   },
   "outputs": [
    {
     "name": "stdout",
     "output_type": "stream",
     "text": [
      "Model  0\n",
      "spherical   140\n",
      "[11305004.254884183]\n",
      "Model  1\n",
      "spherical   150\n",
      "[11305004.254884183, 10312456.845363915]\n",
      "Model  2\n",
      "spherical   160\n",
      "[11305004.254884183, 10312456.845363915, 10033197.40424167]\n",
      "Model  3\n",
      "spherical   170\n",
      "[11305004.254884183, 10312456.845363915, 10033197.40424167, 9294068.24808709]\n",
      "Model  4\n",
      "spherical   180\n",
      "[11305004.254884183, 10312456.845363915, 10033197.40424167, 9294068.24808709, 9177646.762813883]\n",
      "Model  5\n",
      "spherical   190\n",
      "[11305004.254884183, 10312456.845363915, 10033197.40424167, 9294068.24808709, 9177646.762813883, 8679652.76986076]\n",
      "Model  0\n",
      "tied   140\n",
      "[11305004.254884183, 10312456.845363915, 10033197.40424167, 9294068.24808709, 9177646.762813883, 8679652.76986076, 43511472.95275452]\n",
      "Model  1\n",
      "tied   150\n",
      "[11305004.254884183, 10312456.845363915, 10033197.40424167, 9294068.24808709, 9177646.762813883, 8679652.76986076, 43511472.95275452, 43690862.754750796]\n",
      "Model  2\n",
      "tied   160\n",
      "[11305004.254884183, 10312456.845363915, 10033197.40424167, 9294068.24808709, 9177646.762813883, 8679652.76986076, 43511472.95275452, 43690862.754750796, 43873809.16299054]\n",
      "Model  3\n",
      "tied   170\n",
      "[11305004.254884183, 10312456.845363915, 10033197.40424167, 9294068.24808709, 9177646.762813883, 8679652.76986076, 43511472.95275452, 43690862.754750796, 43873809.16299054, 44052673.9986628]\n",
      "Model  4\n",
      "tied   180\n",
      "[11305004.254884183, 10312456.845363915, 10033197.40424167, 9294068.24808709, 9177646.762813883, 8679652.76986076, 43511472.95275452, 43690862.754750796, 43873809.16299054, 44052673.9986628, 44233318.95651709]\n",
      "Model  5\n",
      "tied   190\n",
      "[11305004.254884183, 10312456.845363915, 10033197.40424167, 9294068.24808709, 9177646.762813883, 8679652.76986076, 43511472.95275452, 43690862.754750796, 43873809.16299054, 44052673.9986628, 44233318.95651709, 44414830.71870835]\n",
      "Model  0\n",
      "diag   140\n",
      "[11305004.254884183, 10312456.845363915, 10033197.40424167, 9294068.24808709, 9177646.762813883, 8679652.76986076, 43511472.95275452, 43690862.754750796, 43873809.16299054, 44052673.9986628, 44233318.95651709, 44414830.71870835, 11390269.661685348]\n",
      "Model  1\n",
      "diag   150\n",
      "[11305004.254884183, 10312456.845363915, 10033197.40424167, 9294068.24808709, 9177646.762813883, 8679652.76986076, 43511472.95275452, 43690862.754750796, 43873809.16299054, 44052673.9986628, 44233318.95651709, 44414830.71870835, 11390269.661685348, 10907632.878142256]\n",
      "Model  2\n",
      "diag   160\n",
      "[11305004.254884183, 10312456.845363915, 10033197.40424167, 9294068.24808709, 9177646.762813883, 8679652.76986076, 43511472.95275452, 43690862.754750796, 43873809.16299054, 44052673.9986628, 44233318.95651709, 44414830.71870835, 11390269.661685348, 10907632.878142256, 10436642.302117687]\n",
      "Model  3\n",
      "diag   170\n",
      "[11305004.254884183, 10312456.845363915, 10033197.40424167, 9294068.24808709, 9177646.762813883, 8679652.76986076, 43511472.95275452, 43690862.754750796, 43873809.16299054, 44052673.9986628, 44233318.95651709, 44414830.71870835, 11390269.661685348, 10907632.878142256, 10436642.302117687, 10093562.884012967]\n",
      "Model  4\n",
      "diag   180\n",
      "[11305004.254884183, 10312456.845363915, 10033197.40424167, 9294068.24808709, 9177646.762813883, 8679652.76986076, 43511472.95275452, 43690862.754750796, 43873809.16299054, 44052673.9986628, 44233318.95651709, 44414830.71870835, 11390269.661685348, 10907632.878142256, 10436642.302117687, 10093562.884012967, 9936665.593559686]\n",
      "Model  5\n",
      "diag   190\n",
      "[11305004.254884183, 10312456.845363915, 10033197.40424167, 9294068.24808709, 9177646.762813883, 8679652.76986076, 43511472.95275452, 43690862.754750796, 43873809.16299054, 44052673.9986628, 44233318.95651709, 44414830.71870835, 11390269.661685348, 10907632.878142256, 10436642.302117687, 10093562.884012967, 9936665.593559686, 10242962.633517219]\n",
      "Model  0\n",
      "full   140\n"
     ]
    }
   ],
   "source": [
    "lowest_bic = np.infty\n",
    "bic_bon = []\n",
    "n_components_range = range(140,200,10)\n",
    "cv_types = ['spherical', 'tied', 'diag', 'full']\n",
    "\n",
    "for cv_type in cv_types:\n",
    "    for idx,n_components in enumerate(n_components_range):\n",
    "        # Fit a Gaussian mixture with EM\n",
    "        print('Model ',idx)\n",
    "        print(cv_type,' ',n_components)\n",
    "        gmm_bon = mixture.GaussianMixture(n_components=n_components,\n",
    "                                      covariance_type=cv_type)\n",
    "        gmm_bon.fit(X)\n",
    "        bic_bon.append(gmm_bon.bic(X))\n",
    "        print(bic_bon)\n",
    "        if bic_bon[-1] < lowest_bic:\n",
    "            lowest_bic = bic_bon[-1]\n",
    "            best_gmm = gmm_bon"
   ]
  },
  {
   "cell_type": "code",
   "execution_count": null,
   "metadata": {},
   "outputs": [],
   "source": []
  }
 ],
 "metadata": {
  "kernelspec": {
   "display_name": "Python [conda env:root] *",
   "language": "python",
   "name": "conda-root-py"
  },
  "language_info": {
   "codemirror_mode": {
    "name": "ipython",
    "version": 3
   },
   "file_extension": ".py",
   "mimetype": "text/x-python",
   "name": "python",
   "nbconvert_exporter": "python",
   "pygments_lexer": "ipython3",
   "version": "3.8.5"
  },
  "varInspector": {
   "cols": {
    "lenName": 16,
    "lenType": 16,
    "lenVar": 40
   },
   "kernels_config": {
    "python": {
     "delete_cmd_postfix": "",
     "delete_cmd_prefix": "del ",
     "library": "var_list.py",
     "varRefreshCmd": "print(var_dic_list())"
    },
    "r": {
     "delete_cmd_postfix": ") ",
     "delete_cmd_prefix": "rm(",
     "library": "var_list.r",
     "varRefreshCmd": "cat(var_dic_list()) "
    }
   },
   "types_to_exclude": [
    "module",
    "function",
    "builtin_function_or_method",
    "instance",
    "_Feature"
   ],
   "window_display": false
  }
 },
 "nbformat": 4,
 "nbformat_minor": 4
}
