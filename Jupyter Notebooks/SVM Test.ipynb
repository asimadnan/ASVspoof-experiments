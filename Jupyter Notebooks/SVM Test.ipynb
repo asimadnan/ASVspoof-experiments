{
 "cells": [
  {
   "cell_type": "code",
   "execution_count": null,
   "metadata": {
    "ExecuteTime": {
     "end_time": "2021-05-05T01:00:15.767230Z",
     "start_time": "2021-05-05T00:58:26.461Z"
    }
   },
   "outputs": [],
   "source": [
    "import numpy as np\n",
    "import pandas as pd\n",
    "import time\n",
    "import pickle\n",
    "from sklearn.svm import SVC\n",
    "import scipy.io\n",
    "import h5py\n",
    "import mat73\n",
    "import os\n"
   ]
  },
  {
   "cell_type": "code",
   "execution_count": 3,
   "metadata": {
    "ExecuteTime": {
     "end_time": "2021-05-05T01:00:15.638778Z",
     "start_time": "2021-05-05T00:58:23.765688Z"
    }
   },
   "outputs": [],
   "source": [
    "\n",
    "\n",
    "dev_feature = '/Users/asimadnan/Desktop/Mres/ASVspoof_2019_baseline_CM_v1/AllTrainData/CQCC_devFeatureCell_train.mat'\n",
    "dev_filename = '/Users/asimadnan/Desktop/Mres/ASVspoof_2019_baseline_CM_v1/AllTrainData/CQCC_filelist_dev.mat'\n",
    "dev_protocol = '/Users/asimadnan/Desktop/Mres/ASVSPOOF_DATA/LA/ASVspoof2019_LA_cm_protocols/ASVspoof2019.LA.cm.dev.trl.txt'\n",
    "model_path = '/Users/asimadnan/Desktop/Mres/Experiments/04-05-2021_04-51svm_model.svm'\n",
    "output_path = '/Users/asimadnan/Desktop/Mres/Experiments/'\n",
    "\n",
    "# dev_feature = '/scratch/fk99/ae1028/devFeatureCell_train.mat'\n",
    "# dev_filename = '/scratch/fk99/ae1028/AllTrainData/CQCC_filelist_dev.mat'\n",
    "# dev_protocol = '/scratch/fk99/ae1028/ASVspoof2019.LA.cm.dev.trl.txt'\n",
    "# model_path = '/scratch/fk99/ae1028/models/04-05-2021_04-51svm_model.svm'\n",
    "#output_path = '/scratch/fk99/ae1028/'\n",
    "\n",
    "\n",
    "\n",
    "dev_feature_data = mat73.loadmat(dev_feature)\n",
    "dev_file_names = scipy.io.loadmat(dev_filename)\n",
    "labels = pd.read_csv(dev_protocol, delimiter = \" \", header=None)\n",
    "\n",
    "labels.columns = ['SPEAKER_ID','AUDIO_FILE_NAME','ENVIRONMENT_ID','ATTACK_ID','KEY']\n",
    "\n",
    "def extract_feature_dev(data,target_num_rows,filenames):\n",
    "    all_features = []\n",
    "    for idx,item in enumerate(data):\n",
    "        feature = np.array([np.array(xi) for xi in item])   \n",
    "        if(target_num_rows - feature.shape[1]) > 0:\n",
    "            feature = np.concatenate((feature, feature[:,:target_num_rows - feature.shape[1]]), axis=1)\n",
    "        else:\n",
    "            feature = feature[:,:target_num_rows]\n",
    "        \n",
    "        \n",
    "        feature = feature.reshape(-1)\n",
    "        feature = np.append(feature,filenames[idx][0][0])\n",
    "        #print(filenames[idx][0][0])\n",
    "        all_features.append(feature)\n",
    "    return all_features\n",
    "\n",
    "\n",
    "\n"
   ]
  },
  {
   "cell_type": "code",
   "execution_count": 7,
   "metadata": {
    "ExecuteTime": {
     "end_time": "2021-05-05T01:07:17.081747Z",
     "start_time": "2021-05-05T01:02:50.775463Z"
    }
   },
   "outputs": [
    {
     "name": "stderr",
     "output_type": "stream",
     "text": [
      "\n",
      "KeyboardInterrupt\n",
      "\n"
     ]
    }
   ],
   "source": [
    "dev_data = extract_feature_dev(dev_feature_data['devFeatureCell'],160,dev_file_names['filelist'])\n",
    "\n",
    "feature_len = len(dev_data[0]) -1\n",
    "\n",
    "dev_data = pd.DataFrame(dev_data)\n",
    "dev_data = dev_data.rename({(feature_len): 'AUDIO_FILE_NAME'}, axis=1)\n",
    "dev_data = pd.merge(dev_data, labels, on='AUDIO_FILE_NAME')\n",
    "\n",
    "X = dev_data.iloc[:,:feature_len].values\n",
    "y = dev_data['KEY']\n"
   ]
  },
  {
   "cell_type": "code",
   "execution_count": 5,
   "metadata": {
    "ExecuteTime": {
     "end_time": "2021-05-05T01:02:23.720815Z",
     "start_time": "2021-05-05T01:02:23.674308Z"
    }
   },
   "outputs": [
    {
     "name": "stderr",
     "output_type": "stream",
     "text": [
      "/Users/asimadnan/opt/anaconda3/lib/python3.8/site-packages/sklearn/base.py:329: UserWarning: Trying to unpickle estimator SVC from version 0.24.2 when using version 0.23.2. This might lead to breaking code or invalid results. Use at your own risk.\n",
      "  warnings.warn(\n"
     ]
    }
   ],
   "source": [
    "\n",
    "\n",
    "svm_model = pickle.load(open(model_path,'rb')) \n"
   ]
  },
  {
   "cell_type": "code",
   "execution_count": 6,
   "metadata": {
    "ExecuteTime": {
     "end_time": "2021-05-05T01:02:34.913120Z",
     "start_time": "2021-05-05T01:02:31.159562Z"
    }
   },
   "outputs": [
    {
     "data": {
      "text/plain": [
       "array([-1.07115735, -1.06775951, -1.18230247, -1.1548114 , -1.0520046 ,\n",
       "       -0.87608851, -0.91775007, -1.08676794, -0.55227186, -0.91887556,\n",
       "       -0.95399768, -1.1780256 , -1.15854029, -1.08317172, -1.11673028,\n",
       "       -1.09425354, -0.99480724, -1.11189733, -1.15894957, -1.06632199,\n",
       "       -1.01850427, -1.0008867 , -1.05290824, -1.0361872 , -1.1807167 ,\n",
       "       -0.96798267, -0.80330872, -1.15225605, -0.73908401, -1.08332769,\n",
       "       -1.23907896, -0.89741444, -0.65983199, -1.33474626, -0.93347772,\n",
       "       -0.90109464, -0.94861765, -1.27346634, -1.1920126 , -0.96879658,\n",
       "       -1.00043522, -1.22862348, -1.22378481, -1.14210386, -1.04016778,\n",
       "       -1.01001066, -1.04588657, -1.05480593, -1.00115648, -0.89574143,\n",
       "       -1.17918003, -1.24891741, -0.97417833, -0.90963967, -1.09882167,\n",
       "       -0.98407153, -0.85496817, -1.15316852, -0.98481015, -1.0074647 ,\n",
       "       -0.8562096 , -0.93123457, -1.13261862, -1.13435486, -0.86195161,\n",
       "       -1.1091921 , -1.13390789, -0.84003058, -0.92864946, -1.25403247,\n",
       "       -0.68068113, -1.04269132, -1.21127043, -1.03955251, -0.84565545,\n",
       "       -1.23419185, -0.95330574, -0.93836069, -0.99053351, -1.00856048,\n",
       "       -1.1206142 , -1.1410266 , -1.17130338, -1.21677531, -1.10554131,\n",
       "       -0.90640274, -1.08899871, -1.04105528, -0.68329263, -0.96324458,\n",
       "       -1.28957683, -0.8255237 , -0.97811292, -0.95548821, -1.16390189,\n",
       "       -1.0636107 , -1.0840154 , -0.88803382, -1.00930894, -1.01405804,\n",
       "       -1.09751512, -1.00074281, -1.08875386, -0.99116871, -1.06491335,\n",
       "       -1.08383175, -1.06052359, -0.97334155, -1.02860476, -0.94838253,\n",
       "       -0.80233832, -0.98398086, -1.03140894, -0.87785525, -1.18538115,\n",
       "       -0.97484084, -1.06758252, -1.17400879, -1.01392106, -0.76084252,\n",
       "       -1.32533518, -1.26824018, -1.11896021, -0.99474512, -0.93264068,\n",
       "       -1.13844637, -1.14864642, -0.95705862, -1.24086121, -1.16140337,\n",
       "       -0.99083117, -1.10450998, -0.87884908, -0.77671041, -0.9113126 ,\n",
       "       -0.97151892, -1.18306689, -0.89121425, -0.95313106, -0.97119668,\n",
       "       -1.03941004, -1.11417691, -1.06072482, -1.02825813, -1.09925733,\n",
       "       -0.90071847, -1.06280371, -0.95556105, -0.50890803, -1.02688058,\n",
       "       -0.96089304, -0.45677562, -1.15806338, -1.22074588, -1.43973915,\n",
       "       -0.94583758, -1.14902821, -0.80620348, -1.54580715, -1.40707428,\n",
       "       -1.42300644, -1.36967582, -0.78299482, -1.1937001 , -1.09646541,\n",
       "       -1.05170338, -1.22166006, -1.17482869, -1.07411885, -1.27110691,\n",
       "       -1.11013346, -1.17335079, -1.18203448, -1.1357438 , -1.26492527,\n",
       "       -1.11247797, -1.24852576, -1.35280758, -1.18590317, -1.36335834,\n",
       "       -1.37078438, -1.08852191, -1.08828759, -1.14249015, -1.23093105,\n",
       "       -1.10734456, -1.20552889, -1.13394869, -1.30332758, -1.43054382,\n",
       "       -1.06797981, -1.29310497, -1.09853538, -0.13099202, -1.09159932,\n",
       "       -1.29958116, -1.15433225, -1.24062644, -1.22174877])"
      ]
     },
     "execution_count": 6,
     "metadata": {},
     "output_type": "execute_result"
    }
   ],
   "source": [
    "svm_model.decision_function(X)\n"
   ]
  },
  {
   "cell_type": "code",
   "execution_count": 11,
   "metadata": {
    "ExecuteTime": {
     "end_time": "2021-05-05T00:23:25.171405Z",
     "start_time": "2021-05-05T00:23:23.238693Z"
    }
   },
   "outputs": [
    {
     "ename": "ValueError",
     "evalue": "cannot set using a multi-index selection indexer with a different length than the value",
     "output_type": "error",
     "traceback": [
      "\u001b[0;31m---------------------------------------------------------------------------\u001b[0m",
      "\u001b[0;31mValueError\u001b[0m                                Traceback (most recent call last)",
      "\u001b[0;32m<ipython-input-11-0ba4e9a72a16>\u001b[0m in \u001b[0;36m<module>\u001b[0;34m\u001b[0m\n\u001b[1;32m      1\u001b[0m \u001b[0my_score\u001b[0m \u001b[0;34m=\u001b[0m \u001b[0msvm_model\u001b[0m\u001b[0;34m.\u001b[0m\u001b[0mdecision_function\u001b[0m\u001b[0;34m(\u001b[0m\u001b[0mX\u001b[0m\u001b[0;34m)\u001b[0m\u001b[0;34m\u001b[0m\u001b[0;34m\u001b[0m\u001b[0m\n\u001b[1;32m      2\u001b[0m \u001b[0;34m\u001b[0m\u001b[0m\n\u001b[0;32m----> 3\u001b[0;31m \u001b[0mlabels\u001b[0m\u001b[0;34m[\u001b[0m\u001b[0;34m[\u001b[0m\u001b[0;34m'SCORE'\u001b[0m\u001b[0;34m]\u001b[0m\u001b[0;34m]\u001b[0m \u001b[0;34m=\u001b[0m \u001b[0my_score\u001b[0m\u001b[0;34m\u001b[0m\u001b[0;34m\u001b[0m\u001b[0m\n\u001b[0m\u001b[1;32m      4\u001b[0m \u001b[0;34m\u001b[0m\u001b[0m\n\u001b[1;32m      5\u001b[0m \u001b[0;34m\u001b[0m\u001b[0m\n",
      "\u001b[0;32m~/opt/anaconda3/lib/python3.8/site-packages/pandas/core/frame.py\u001b[0m in \u001b[0;36m__setitem__\u001b[0;34m(self, key, value)\u001b[0m\n\u001b[1;32m   3035\u001b[0m             \u001b[0mself\u001b[0m\u001b[0;34m.\u001b[0m\u001b[0m_setitem_frame\u001b[0m\u001b[0;34m(\u001b[0m\u001b[0mkey\u001b[0m\u001b[0;34m,\u001b[0m \u001b[0mvalue\u001b[0m\u001b[0;34m)\u001b[0m\u001b[0;34m\u001b[0m\u001b[0;34m\u001b[0m\u001b[0m\n\u001b[1;32m   3036\u001b[0m         \u001b[0;32melif\u001b[0m \u001b[0misinstance\u001b[0m\u001b[0;34m(\u001b[0m\u001b[0mkey\u001b[0m\u001b[0;34m,\u001b[0m \u001b[0;34m(\u001b[0m\u001b[0mSeries\u001b[0m\u001b[0;34m,\u001b[0m \u001b[0mnp\u001b[0m\u001b[0;34m.\u001b[0m\u001b[0mndarray\u001b[0m\u001b[0;34m,\u001b[0m \u001b[0mlist\u001b[0m\u001b[0;34m,\u001b[0m \u001b[0mIndex\u001b[0m\u001b[0;34m)\u001b[0m\u001b[0;34m)\u001b[0m\u001b[0;34m:\u001b[0m\u001b[0;34m\u001b[0m\u001b[0;34m\u001b[0m\u001b[0m\n\u001b[0;32m-> 3037\u001b[0;31m             \u001b[0mself\u001b[0m\u001b[0;34m.\u001b[0m\u001b[0m_setitem_array\u001b[0m\u001b[0;34m(\u001b[0m\u001b[0mkey\u001b[0m\u001b[0;34m,\u001b[0m \u001b[0mvalue\u001b[0m\u001b[0;34m)\u001b[0m\u001b[0;34m\u001b[0m\u001b[0;34m\u001b[0m\u001b[0m\n\u001b[0m\u001b[1;32m   3038\u001b[0m         \u001b[0;32melse\u001b[0m\u001b[0;34m:\u001b[0m\u001b[0;34m\u001b[0m\u001b[0;34m\u001b[0m\u001b[0m\n\u001b[1;32m   3039\u001b[0m             \u001b[0;31m# set column\u001b[0m\u001b[0;34m\u001b[0m\u001b[0;34m\u001b[0m\u001b[0;34m\u001b[0m\u001b[0m\n",
      "\u001b[0;32m~/opt/anaconda3/lib/python3.8/site-packages/pandas/core/frame.py\u001b[0m in \u001b[0;36m_setitem_array\u001b[0;34m(self, key, value)\u001b[0m\n\u001b[1;32m   3070\u001b[0m                 )[1]\n\u001b[1;32m   3071\u001b[0m                 \u001b[0mself\u001b[0m\u001b[0;34m.\u001b[0m\u001b[0m_check_setitem_copy\u001b[0m\u001b[0;34m(\u001b[0m\u001b[0;34m)\u001b[0m\u001b[0;34m\u001b[0m\u001b[0;34m\u001b[0m\u001b[0m\n\u001b[0;32m-> 3072\u001b[0;31m                 \u001b[0mself\u001b[0m\u001b[0;34m.\u001b[0m\u001b[0miloc\u001b[0m\u001b[0;34m.\u001b[0m\u001b[0m_setitem_with_indexer\u001b[0m\u001b[0;34m(\u001b[0m\u001b[0;34m(\u001b[0m\u001b[0mslice\u001b[0m\u001b[0;34m(\u001b[0m\u001b[0;32mNone\u001b[0m\u001b[0;34m)\u001b[0m\u001b[0;34m,\u001b[0m \u001b[0mindexer\u001b[0m\u001b[0;34m)\u001b[0m\u001b[0;34m,\u001b[0m \u001b[0mvalue\u001b[0m\u001b[0;34m)\u001b[0m\u001b[0;34m\u001b[0m\u001b[0;34m\u001b[0m\u001b[0m\n\u001b[0m\u001b[1;32m   3073\u001b[0m \u001b[0;34m\u001b[0m\u001b[0m\n\u001b[1;32m   3074\u001b[0m     \u001b[0;32mdef\u001b[0m \u001b[0m_setitem_frame\u001b[0m\u001b[0;34m(\u001b[0m\u001b[0mself\u001b[0m\u001b[0;34m,\u001b[0m \u001b[0mkey\u001b[0m\u001b[0;34m,\u001b[0m \u001b[0mvalue\u001b[0m\u001b[0;34m)\u001b[0m\u001b[0;34m:\u001b[0m\u001b[0;34m\u001b[0m\u001b[0;34m\u001b[0m\u001b[0m\n",
      "\u001b[0;32m~/opt/anaconda3/lib/python3.8/site-packages/pandas/core/indexing.py\u001b[0m in \u001b[0;36m_setitem_with_indexer\u001b[0;34m(self, indexer, value)\u001b[0m\n\u001b[1;32m   1664\u001b[0m                 \u001b[0;32mif\u001b[0m \u001b[0mis_list_like_indexer\u001b[0m\u001b[0;34m(\u001b[0m\u001b[0mvalue\u001b[0m\u001b[0;34m)\u001b[0m \u001b[0;32mand\u001b[0m \u001b[0;36m0\u001b[0m \u001b[0;34m!=\u001b[0m \u001b[0mlplane_indexer\u001b[0m \u001b[0;34m!=\u001b[0m \u001b[0mlen\u001b[0m\u001b[0;34m(\u001b[0m\u001b[0mvalue\u001b[0m\u001b[0;34m)\u001b[0m\u001b[0;34m:\u001b[0m\u001b[0;34m\u001b[0m\u001b[0;34m\u001b[0m\u001b[0m\n\u001b[1;32m   1665\u001b[0m                     \u001b[0;31m# Exclude zero-len for e.g. boolean masking that is all-false\u001b[0m\u001b[0;34m\u001b[0m\u001b[0;34m\u001b[0m\u001b[0;34m\u001b[0m\u001b[0m\n\u001b[0;32m-> 1666\u001b[0;31m                     raise ValueError(\n\u001b[0m\u001b[1;32m   1667\u001b[0m                         \u001b[0;34m\"cannot set using a multi-index \"\u001b[0m\u001b[0;34m\u001b[0m\u001b[0;34m\u001b[0m\u001b[0m\n\u001b[1;32m   1668\u001b[0m                         \u001b[0;34m\"selection indexer with a different \"\u001b[0m\u001b[0;34m\u001b[0m\u001b[0;34m\u001b[0m\u001b[0m\n",
      "\u001b[0;31mValueError\u001b[0m: cannot set using a multi-index selection indexer with a different length than the value"
     ]
    }
   ],
   "source": [
    "y_score = svm_model.decision_function(X)\n",
    "\n",
    "labels[['SCORE']] = y_score\n",
    "\n",
    "\n",
    "labels[['AUDIO_FILE_NAME','ATTACK_ID','KEY','SCORE']].to_csv(os.path.join(output_path + 'cqcc_svm_dev_scores.csv'),index=False,sep=\" \",header=False)\n"
   ]
  },
  {
   "cell_type": "code",
   "execution_count": null,
   "metadata": {},
   "outputs": [],
   "source": []
  }
 ],
 "metadata": {
  "kernelspec": {
   "display_name": "Python [conda env:root] *",
   "language": "python",
   "name": "conda-root-py"
  },
  "language_info": {
   "codemirror_mode": {
    "name": "ipython",
    "version": 3
   },
   "file_extension": ".py",
   "mimetype": "text/x-python",
   "name": "python",
   "nbconvert_exporter": "python",
   "pygments_lexer": "ipython3",
   "version": "3.8.5"
  },
  "varInspector": {
   "cols": {
    "lenName": 16,
    "lenType": 16,
    "lenVar": 40
   },
   "kernels_config": {
    "python": {
     "delete_cmd_postfix": "",
     "delete_cmd_prefix": "del ",
     "library": "var_list.py",
     "varRefreshCmd": "print(var_dic_list())"
    },
    "r": {
     "delete_cmd_postfix": ") ",
     "delete_cmd_prefix": "rm(",
     "library": "var_list.r",
     "varRefreshCmd": "cat(var_dic_list()) "
    }
   },
   "types_to_exclude": [
    "module",
    "function",
    "builtin_function_or_method",
    "instance",
    "_Feature"
   ],
   "window_display": false
  }
 },
 "nbformat": 4,
 "nbformat_minor": 4
}
