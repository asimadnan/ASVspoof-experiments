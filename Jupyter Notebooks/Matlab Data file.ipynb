{
 "cells": [
  {
   "cell_type": "code",
   "execution_count": 1,
   "metadata": {
    "ExecuteTime": {
     "end_time": "2021-05-06T00:38:26.340155Z",
     "start_time": "2021-05-06T00:38:21.682880Z"
    }
   },
   "outputs": [],
   "source": [
    "import scipy.io\n",
    "import pandas as pd\n",
    "import matplotlib.pyplot as plt\n",
    "import seaborn as sns\n",
    "import numpy as np\n",
    "from sklearn.mixture import GaussianMixture as GMM\n",
    "import h5py\n",
    "import mat73\n",
    "import pickle\n",
    "\n",
    "\n"
   ]
  },
  {
   "cell_type": "code",
   "execution_count": 17,
   "metadata": {
    "ExecuteTime": {
     "end_time": "2021-05-06T02:47:23.475664Z",
     "start_time": "2021-05-06T02:47:17.199194Z"
    }
   },
   "outputs": [],
   "source": [
    "mat = scipy.io.loadmat('/Users/asimadnan/Desktop/Mres/ASVspoof_2019_baseline_CM_v1/AllTrainData/CQCC_genuineFeatureCell_train.mat')\n"
   ]
  },
  {
   "cell_type": "code",
   "execution_count": 18,
   "metadata": {
    "ExecuteTime": {
     "end_time": "2021-05-06T02:47:28.516211Z",
     "start_time": "2021-05-06T02:47:28.511845Z"
    }
   },
   "outputs": [],
   "source": [
    "spoof_path = '/Users/asimadnan/Desktop/Mres/ASVspoof_2019_baseline_CM_v1/AllTrainData/CQCC_spoofFeatureCell_train.mat'"
   ]
  },
  {
   "cell_type": "code",
   "execution_count": 22,
   "metadata": {
    "ExecuteTime": {
     "end_time": "2021-05-06T02:48:40.263333Z",
     "start_time": "2021-05-06T02:48:40.254261Z"
    }
   },
   "outputs": [],
   "source": [
    "spoof_lens = []\n",
    "for item in mat['genuineFeatureCell']:\n",
    "    spoof_lens.append(item[0].shape[1])"
   ]
  },
  {
   "cell_type": "code",
   "execution_count": 23,
   "metadata": {
    "ExecuteTime": {
     "end_time": "2021-05-06T02:48:41.703720Z",
     "start_time": "2021-05-06T02:48:41.698192Z"
    }
   },
   "outputs": [
    {
     "name": "stdout",
     "output_type": "stream",
     "text": [
      "1304\n",
      "160\n"
     ]
    }
   ],
   "source": [
    "print(max(spoof_lens))\n",
    "print(min(spoof_lens))"
   ]
  },
  {
   "cell_type": "code",
   "execution_count": 25,
   "metadata": {
    "ExecuteTime": {
     "end_time": "2021-05-06T02:48:56.341123Z",
     "start_time": "2021-05-06T02:48:56.338434Z"
    }
   },
   "outputs": [],
   "source": [
    "single = mat['genuineFeatureCell'][0]"
   ]
  },
  {
   "cell_type": "code",
   "execution_count": 26,
   "metadata": {
    "ExecuteTime": {
     "end_time": "2021-05-06T02:49:00.224639Z",
     "start_time": "2021-05-06T02:49:00.214841Z"
    }
   },
   "outputs": [],
   "source": [
    "single = np.array([np.array(xi) for xi in single[0]])"
   ]
  },
  {
   "cell_type": "code",
   "execution_count": 27,
   "metadata": {
    "ExecuteTime": {
     "end_time": "2021-05-06T02:49:02.243031Z",
     "start_time": "2021-05-06T02:49:02.239038Z"
    }
   },
   "outputs": [],
   "source": [
    "target_col = 230"
   ]
  },
  {
   "cell_type": "code",
   "execution_count": 28,
   "metadata": {
    "ExecuteTime": {
     "end_time": "2021-05-06T02:49:03.450046Z",
     "start_time": "2021-05-06T02:49:03.442053Z"
    }
   },
   "outputs": [
    {
     "data": {
      "text/plain": [
       "(90, 405)"
      ]
     },
     "execution_count": 28,
     "metadata": {},
     "output_type": "execute_result"
    }
   ],
   "source": [
    "single.shape"
   ]
  },
  {
   "cell_type": "code",
   "execution_count": 29,
   "metadata": {
    "ExecuteTime": {
     "end_time": "2021-05-06T02:49:04.602209Z",
     "start_time": "2021-05-06T02:49:04.586663Z"
    }
   },
   "outputs": [
    {
     "data": {
      "text/plain": [
       "(90, 230)"
      ]
     },
     "execution_count": 29,
     "metadata": {},
     "output_type": "execute_result"
    }
   ],
   "source": [
    "single[:,:230].shape"
   ]
  },
  {
   "cell_type": "code",
   "execution_count": 89,
   "metadata": {
    "ExecuteTime": {
     "end_time": "2021-05-01T13:48:51.835555Z",
     "start_time": "2021-05-01T13:48:51.828243Z"
    }
   },
   "outputs": [],
   "source": [
    "num_dim = single.shape[1]\n",
    "max_len = 230\n",
    "conv = np.concatenate((single, np.array([[0.]*num_dim]*(max_len-len(single)))), axis=0)"
   ]
  },
  {
   "cell_type": "code",
   "execution_count": 120,
   "metadata": {
    "ExecuteTime": {
     "end_time": "2021-05-01T13:56:08.775073Z",
     "start_time": "2021-05-01T13:56:08.771726Z"
    }
   },
   "outputs": [],
   "source": [
    "zeross = np.array([[0.]*(230-225)]*(90))"
   ]
  },
  {
   "cell_type": "code",
   "execution_count": 108,
   "metadata": {
    "ExecuteTime": {
     "end_time": "2021-05-01T13:54:07.653908Z",
     "start_time": "2021-05-01T13:54:07.644324Z"
    }
   },
   "outputs": [
    {
     "data": {
      "text/plain": [
       "(90, 5)"
      ]
     },
     "execution_count": 108,
     "metadata": {},
     "output_type": "execute_result"
    }
   ],
   "source": [
    "zeross.shape"
   ]
  },
  {
   "cell_type": "code",
   "execution_count": 122,
   "metadata": {
    "ExecuteTime": {
     "end_time": "2021-05-01T13:56:52.063953Z",
     "start_time": "2021-05-01T13:56:52.057662Z"
    }
   },
   "outputs": [
    {
     "data": {
      "text/plain": [
       "5"
      ]
     },
     "execution_count": 122,
     "metadata": {},
     "output_type": "execute_result"
    }
   ],
   "source": [
    "target_col - single.shape[1]"
   ]
  },
  {
   "cell_type": "code",
   "execution_count": 124,
   "metadata": {
    "ExecuteTime": {
     "end_time": "2021-05-01T13:57:14.140913Z",
     "start_time": "2021-05-01T13:57:14.134935Z"
    }
   },
   "outputs": [
    {
     "data": {
      "text/plain": [
       "(90, 5)"
      ]
     },
     "execution_count": 124,
     "metadata": {},
     "output_type": "execute_result"
    }
   ],
   "source": [
    "single[:,:5].shape"
   ]
  },
  {
   "cell_type": "code",
   "execution_count": 126,
   "metadata": {
    "ExecuteTime": {
     "end_time": "2021-05-01T13:57:42.603898Z",
     "start_time": "2021-05-01T13:57:42.597321Z"
    }
   },
   "outputs": [
    {
     "data": {
      "text/plain": [
       "(90, 230)"
      ]
     },
     "execution_count": 126,
     "metadata": {},
     "output_type": "execute_result"
    }
   ],
   "source": [
    "conv_2 = np.concatenate((single, single[:,:5]), axis=1)\n",
    "conv_2.shape"
   ]
  },
  {
   "cell_type": "code",
   "execution_count": 115,
   "metadata": {
    "ExecuteTime": {
     "end_time": "2021-05-01T13:54:58.655592Z",
     "start_time": "2021-05-01T13:54:58.651742Z"
    }
   },
   "outputs": [],
   "source": [
    "conv = np.concatenate((single, zeross), axis=1)"
   ]
  },
  {
   "cell_type": "code",
   "execution_count": 116,
   "metadata": {
    "ExecuteTime": {
     "end_time": "2021-05-01T13:54:59.204425Z",
     "start_time": "2021-05-01T13:54:59.168794Z"
    }
   },
   "outputs": [
    {
     "data": {
      "text/html": [
       "<div>\n",
       "<style scoped>\n",
       "    .dataframe tbody tr th:only-of-type {\n",
       "        vertical-align: middle;\n",
       "    }\n",
       "\n",
       "    .dataframe tbody tr th {\n",
       "        vertical-align: top;\n",
       "    }\n",
       "\n",
       "    .dataframe thead th {\n",
       "        text-align: right;\n",
       "    }\n",
       "</style>\n",
       "<table border=\"1\" class=\"dataframe\">\n",
       "  <thead>\n",
       "    <tr style=\"text-align: right;\">\n",
       "      <th></th>\n",
       "      <th>0</th>\n",
       "      <th>1</th>\n",
       "      <th>2</th>\n",
       "      <th>3</th>\n",
       "      <th>4</th>\n",
       "      <th>5</th>\n",
       "      <th>6</th>\n",
       "      <th>7</th>\n",
       "      <th>8</th>\n",
       "      <th>9</th>\n",
       "      <th>...</th>\n",
       "      <th>220</th>\n",
       "      <th>221</th>\n",
       "      <th>222</th>\n",
       "      <th>223</th>\n",
       "      <th>224</th>\n",
       "      <th>225</th>\n",
       "      <th>226</th>\n",
       "      <th>227</th>\n",
       "      <th>228</th>\n",
       "      <th>229</th>\n",
       "    </tr>\n",
       "  </thead>\n",
       "  <tbody>\n",
       "    <tr>\n",
       "      <th>0</th>\n",
       "      <td>-2040.225860</td>\n",
       "      <td>-2043.201837</td>\n",
       "      <td>-2048.291655</td>\n",
       "      <td>-2035.633235</td>\n",
       "      <td>-2019.110470</td>\n",
       "      <td>-1968.566036</td>\n",
       "      <td>-1904.666343</td>\n",
       "      <td>-1846.660562</td>\n",
       "      <td>-1784.083576</td>\n",
       "      <td>-1713.416191</td>\n",
       "      <td>...</td>\n",
       "      <td>-1954.198073</td>\n",
       "      <td>-2025.585427</td>\n",
       "      <td>-2063.049698</td>\n",
       "      <td>-2073.747482</td>\n",
       "      <td>-2068.335412</td>\n",
       "      <td>0.0</td>\n",
       "      <td>0.0</td>\n",
       "      <td>0.0</td>\n",
       "      <td>0.0</td>\n",
       "      <td>0.0</td>\n",
       "    </tr>\n",
       "    <tr>\n",
       "      <th>1</th>\n",
       "      <td>195.947247</td>\n",
       "      <td>227.787506</td>\n",
       "      <td>265.853548</td>\n",
       "      <td>300.844465</td>\n",
       "      <td>326.533892</td>\n",
       "      <td>337.009901</td>\n",
       "      <td>345.405343</td>\n",
       "      <td>350.688056</td>\n",
       "      <td>368.887105</td>\n",
       "      <td>401.008786</td>\n",
       "      <td>...</td>\n",
       "      <td>180.743232</td>\n",
       "      <td>218.059387</td>\n",
       "      <td>216.545377</td>\n",
       "      <td>206.659501</td>\n",
       "      <td>209.461595</td>\n",
       "      <td>0.0</td>\n",
       "      <td>0.0</td>\n",
       "      <td>0.0</td>\n",
       "      <td>0.0</td>\n",
       "      <td>0.0</td>\n",
       "    </tr>\n",
       "    <tr>\n",
       "      <th>2</th>\n",
       "      <td>112.342251</td>\n",
       "      <td>101.136858</td>\n",
       "      <td>106.585748</td>\n",
       "      <td>105.634932</td>\n",
       "      <td>94.141791</td>\n",
       "      <td>87.501876</td>\n",
       "      <td>76.790311</td>\n",
       "      <td>63.403467</td>\n",
       "      <td>37.587592</td>\n",
       "      <td>-21.406565</td>\n",
       "      <td>...</td>\n",
       "      <td>5.600598</td>\n",
       "      <td>21.647396</td>\n",
       "      <td>59.341790</td>\n",
       "      <td>82.115041</td>\n",
       "      <td>87.938718</td>\n",
       "      <td>0.0</td>\n",
       "      <td>0.0</td>\n",
       "      <td>0.0</td>\n",
       "      <td>0.0</td>\n",
       "      <td>0.0</td>\n",
       "    </tr>\n",
       "    <tr>\n",
       "      <th>3</th>\n",
       "      <td>31.501098</td>\n",
       "      <td>36.457669</td>\n",
       "      <td>34.134066</td>\n",
       "      <td>13.519678</td>\n",
       "      <td>28.599789</td>\n",
       "      <td>10.303045</td>\n",
       "      <td>-2.105665</td>\n",
       "      <td>-15.476011</td>\n",
       "      <td>-39.579225</td>\n",
       "      <td>-79.521479</td>\n",
       "      <td>...</td>\n",
       "      <td>27.556592</td>\n",
       "      <td>30.297672</td>\n",
       "      <td>43.271650</td>\n",
       "      <td>35.490266</td>\n",
       "      <td>38.084552</td>\n",
       "      <td>0.0</td>\n",
       "      <td>0.0</td>\n",
       "      <td>0.0</td>\n",
       "      <td>0.0</td>\n",
       "      <td>0.0</td>\n",
       "    </tr>\n",
       "    <tr>\n",
       "      <th>4</th>\n",
       "      <td>23.005238</td>\n",
       "      <td>5.120485</td>\n",
       "      <td>-6.100595</td>\n",
       "      <td>-3.218435</td>\n",
       "      <td>-15.554146</td>\n",
       "      <td>-11.025642</td>\n",
       "      <td>-28.609821</td>\n",
       "      <td>-32.398327</td>\n",
       "      <td>-48.737379</td>\n",
       "      <td>-38.527064</td>\n",
       "      <td>...</td>\n",
       "      <td>26.327247</td>\n",
       "      <td>23.170588</td>\n",
       "      <td>0.079843</td>\n",
       "      <td>6.240940</td>\n",
       "      <td>16.453777</td>\n",
       "      <td>0.0</td>\n",
       "      <td>0.0</td>\n",
       "      <td>0.0</td>\n",
       "      <td>0.0</td>\n",
       "      <td>0.0</td>\n",
       "    </tr>\n",
       "    <tr>\n",
       "      <th>...</th>\n",
       "      <td>...</td>\n",
       "      <td>...</td>\n",
       "      <td>...</td>\n",
       "      <td>...</td>\n",
       "      <td>...</td>\n",
       "      <td>...</td>\n",
       "      <td>...</td>\n",
       "      <td>...</td>\n",
       "      <td>...</td>\n",
       "      <td>...</td>\n",
       "      <td>...</td>\n",
       "      <td>...</td>\n",
       "      <td>...</td>\n",
       "      <td>...</td>\n",
       "      <td>...</td>\n",
       "      <td>...</td>\n",
       "      <td>...</td>\n",
       "      <td>...</td>\n",
       "      <td>...</td>\n",
       "      <td>...</td>\n",
       "      <td>...</td>\n",
       "    </tr>\n",
       "    <tr>\n",
       "      <th>85</th>\n",
       "      <td>0.654430</td>\n",
       "      <td>1.079278</td>\n",
       "      <td>1.303831</td>\n",
       "      <td>1.211191</td>\n",
       "      <td>0.679539</td>\n",
       "      <td>0.144537</td>\n",
       "      <td>-0.522067</td>\n",
       "      <td>-0.878436</td>\n",
       "      <td>-0.813954</td>\n",
       "      <td>-0.514912</td>\n",
       "      <td>...</td>\n",
       "      <td>0.253783</td>\n",
       "      <td>0.451364</td>\n",
       "      <td>0.606468</td>\n",
       "      <td>0.647456</td>\n",
       "      <td>0.439308</td>\n",
       "      <td>0.0</td>\n",
       "      <td>0.0</td>\n",
       "      <td>0.0</td>\n",
       "      <td>0.0</td>\n",
       "      <td>0.0</td>\n",
       "    </tr>\n",
       "    <tr>\n",
       "      <th>86</th>\n",
       "      <td>-0.186407</td>\n",
       "      <td>-0.167825</td>\n",
       "      <td>-0.118377</td>\n",
       "      <td>-0.150124</td>\n",
       "      <td>-0.078066</td>\n",
       "      <td>0.002914</td>\n",
       "      <td>-0.242681</td>\n",
       "      <td>-0.460993</td>\n",
       "      <td>-0.541174</td>\n",
       "      <td>-0.484170</td>\n",
       "      <td>...</td>\n",
       "      <td>-0.060588</td>\n",
       "      <td>0.304000</td>\n",
       "      <td>0.400048</td>\n",
       "      <td>0.259766</td>\n",
       "      <td>0.052477</td>\n",
       "      <td>0.0</td>\n",
       "      <td>0.0</td>\n",
       "      <td>0.0</td>\n",
       "      <td>0.0</td>\n",
       "      <td>0.0</td>\n",
       "    </tr>\n",
       "    <tr>\n",
       "      <th>87</th>\n",
       "      <td>-0.135613</td>\n",
       "      <td>-0.320102</td>\n",
       "      <td>-0.564173</td>\n",
       "      <td>-0.629907</td>\n",
       "      <td>-0.516375</td>\n",
       "      <td>-0.229922</td>\n",
       "      <td>0.170495</td>\n",
       "      <td>0.440726</td>\n",
       "      <td>0.622368</td>\n",
       "      <td>0.562342</td>\n",
       "      <td>...</td>\n",
       "      <td>-0.329237</td>\n",
       "      <td>-0.223196</td>\n",
       "      <td>-0.103491</td>\n",
       "      <td>0.053382</td>\n",
       "      <td>0.153689</td>\n",
       "      <td>0.0</td>\n",
       "      <td>0.0</td>\n",
       "      <td>0.0</td>\n",
       "      <td>0.0</td>\n",
       "      <td>0.0</td>\n",
       "    </tr>\n",
       "    <tr>\n",
       "      <th>88</th>\n",
       "      <td>-0.007726</td>\n",
       "      <td>-0.015346</td>\n",
       "      <td>-0.032275</td>\n",
       "      <td>0.108786</td>\n",
       "      <td>0.140412</td>\n",
       "      <td>-0.312085</td>\n",
       "      <td>-0.330588</td>\n",
       "      <td>-0.356562</td>\n",
       "      <td>-0.440025</td>\n",
       "      <td>-0.570197</td>\n",
       "      <td>...</td>\n",
       "      <td>-0.361903</td>\n",
       "      <td>-0.547327</td>\n",
       "      <td>-0.440503</td>\n",
       "      <td>-0.337382</td>\n",
       "      <td>-0.127985</td>\n",
       "      <td>0.0</td>\n",
       "      <td>0.0</td>\n",
       "      <td>0.0</td>\n",
       "      <td>0.0</td>\n",
       "      <td>0.0</td>\n",
       "    </tr>\n",
       "    <tr>\n",
       "      <th>89</th>\n",
       "      <td>0.344231</td>\n",
       "      <td>0.457995</td>\n",
       "      <td>0.575768</td>\n",
       "      <td>0.406978</td>\n",
       "      <td>0.216332</td>\n",
       "      <td>0.312008</td>\n",
       "      <td>0.289205</td>\n",
       "      <td>0.230065</td>\n",
       "      <td>0.148779</td>\n",
       "      <td>0.269815</td>\n",
       "      <td>...</td>\n",
       "      <td>1.832012</td>\n",
       "      <td>1.461378</td>\n",
       "      <td>0.838277</td>\n",
       "      <td>0.297152</td>\n",
       "      <td>-0.083189</td>\n",
       "      <td>0.0</td>\n",
       "      <td>0.0</td>\n",
       "      <td>0.0</td>\n",
       "      <td>0.0</td>\n",
       "      <td>0.0</td>\n",
       "    </tr>\n",
       "  </tbody>\n",
       "</table>\n",
       "<p>90 rows × 230 columns</p>\n",
       "</div>"
      ],
      "text/plain": [
       "            0            1            2            3            4    \\\n",
       "0  -2040.225860 -2043.201837 -2048.291655 -2035.633235 -2019.110470   \n",
       "1    195.947247   227.787506   265.853548   300.844465   326.533892   \n",
       "2    112.342251   101.136858   106.585748   105.634932    94.141791   \n",
       "3     31.501098    36.457669    34.134066    13.519678    28.599789   \n",
       "4     23.005238     5.120485    -6.100595    -3.218435   -15.554146   \n",
       "..          ...          ...          ...          ...          ...   \n",
       "85     0.654430     1.079278     1.303831     1.211191     0.679539   \n",
       "86    -0.186407    -0.167825    -0.118377    -0.150124    -0.078066   \n",
       "87    -0.135613    -0.320102    -0.564173    -0.629907    -0.516375   \n",
       "88    -0.007726    -0.015346    -0.032275     0.108786     0.140412   \n",
       "89     0.344231     0.457995     0.575768     0.406978     0.216332   \n",
       "\n",
       "            5            6            7            8            9    ...  \\\n",
       "0  -1968.566036 -1904.666343 -1846.660562 -1784.083576 -1713.416191  ...   \n",
       "1    337.009901   345.405343   350.688056   368.887105   401.008786  ...   \n",
       "2     87.501876    76.790311    63.403467    37.587592   -21.406565  ...   \n",
       "3     10.303045    -2.105665   -15.476011   -39.579225   -79.521479  ...   \n",
       "4    -11.025642   -28.609821   -32.398327   -48.737379   -38.527064  ...   \n",
       "..          ...          ...          ...          ...          ...  ...   \n",
       "85     0.144537    -0.522067    -0.878436    -0.813954    -0.514912  ...   \n",
       "86     0.002914    -0.242681    -0.460993    -0.541174    -0.484170  ...   \n",
       "87    -0.229922     0.170495     0.440726     0.622368     0.562342  ...   \n",
       "88    -0.312085    -0.330588    -0.356562    -0.440025    -0.570197  ...   \n",
       "89     0.312008     0.289205     0.230065     0.148779     0.269815  ...   \n",
       "\n",
       "            220          221          222          223          224  225  226  \\\n",
       "0  -1954.198073 -2025.585427 -2063.049698 -2073.747482 -2068.335412  0.0  0.0   \n",
       "1    180.743232   218.059387   216.545377   206.659501   209.461595  0.0  0.0   \n",
       "2      5.600598    21.647396    59.341790    82.115041    87.938718  0.0  0.0   \n",
       "3     27.556592    30.297672    43.271650    35.490266    38.084552  0.0  0.0   \n",
       "4     26.327247    23.170588     0.079843     6.240940    16.453777  0.0  0.0   \n",
       "..          ...          ...          ...          ...          ...  ...  ...   \n",
       "85     0.253783     0.451364     0.606468     0.647456     0.439308  0.0  0.0   \n",
       "86    -0.060588     0.304000     0.400048     0.259766     0.052477  0.0  0.0   \n",
       "87    -0.329237    -0.223196    -0.103491     0.053382     0.153689  0.0  0.0   \n",
       "88    -0.361903    -0.547327    -0.440503    -0.337382    -0.127985  0.0  0.0   \n",
       "89     1.832012     1.461378     0.838277     0.297152    -0.083189  0.0  0.0   \n",
       "\n",
       "    227  228  229  \n",
       "0   0.0  0.0  0.0  \n",
       "1   0.0  0.0  0.0  \n",
       "2   0.0  0.0  0.0  \n",
       "3   0.0  0.0  0.0  \n",
       "4   0.0  0.0  0.0  \n",
       "..  ...  ...  ...  \n",
       "85  0.0  0.0  0.0  \n",
       "86  0.0  0.0  0.0  \n",
       "87  0.0  0.0  0.0  \n",
       "88  0.0  0.0  0.0  \n",
       "89  0.0  0.0  0.0  \n",
       "\n",
       "[90 rows x 230 columns]"
      ]
     },
     "execution_count": 116,
     "metadata": {},
     "output_type": "execute_result"
    }
   ],
   "source": [
    "pd.DataFrame(conv)"
   ]
  },
  {
   "cell_type": "code",
   "execution_count": 117,
   "metadata": {
    "ExecuteTime": {
     "end_time": "2021-05-01T13:55:00.171125Z",
     "start_time": "2021-05-01T13:55:00.131097Z"
    }
   },
   "outputs": [
    {
     "data": {
      "text/html": [
       "<div>\n",
       "<style scoped>\n",
       "    .dataframe tbody tr th:only-of-type {\n",
       "        vertical-align: middle;\n",
       "    }\n",
       "\n",
       "    .dataframe tbody tr th {\n",
       "        vertical-align: top;\n",
       "    }\n",
       "\n",
       "    .dataframe thead th {\n",
       "        text-align: right;\n",
       "    }\n",
       "</style>\n",
       "<table border=\"1\" class=\"dataframe\">\n",
       "  <thead>\n",
       "    <tr style=\"text-align: right;\">\n",
       "      <th></th>\n",
       "      <th>0</th>\n",
       "      <th>1</th>\n",
       "      <th>2</th>\n",
       "      <th>3</th>\n",
       "      <th>4</th>\n",
       "      <th>5</th>\n",
       "      <th>6</th>\n",
       "      <th>7</th>\n",
       "      <th>8</th>\n",
       "      <th>9</th>\n",
       "      <th>...</th>\n",
       "      <th>215</th>\n",
       "      <th>216</th>\n",
       "      <th>217</th>\n",
       "      <th>218</th>\n",
       "      <th>219</th>\n",
       "      <th>220</th>\n",
       "      <th>221</th>\n",
       "      <th>222</th>\n",
       "      <th>223</th>\n",
       "      <th>224</th>\n",
       "    </tr>\n",
       "  </thead>\n",
       "  <tbody>\n",
       "    <tr>\n",
       "      <th>0</th>\n",
       "      <td>-2040.225860</td>\n",
       "      <td>-2043.201837</td>\n",
       "      <td>-2048.291655</td>\n",
       "      <td>-2035.633235</td>\n",
       "      <td>-2019.110470</td>\n",
       "      <td>-1968.566036</td>\n",
       "      <td>-1904.666343</td>\n",
       "      <td>-1846.660562</td>\n",
       "      <td>-1784.083576</td>\n",
       "      <td>-1713.416191</td>\n",
       "      <td>...</td>\n",
       "      <td>-1906.225955</td>\n",
       "      <td>-1874.979833</td>\n",
       "      <td>-1832.652374</td>\n",
       "      <td>-1828.611640</td>\n",
       "      <td>-1878.043743</td>\n",
       "      <td>-1954.198073</td>\n",
       "      <td>-2025.585427</td>\n",
       "      <td>-2063.049698</td>\n",
       "      <td>-2073.747482</td>\n",
       "      <td>-2068.335412</td>\n",
       "    </tr>\n",
       "    <tr>\n",
       "      <th>1</th>\n",
       "      <td>195.947247</td>\n",
       "      <td>227.787506</td>\n",
       "      <td>265.853548</td>\n",
       "      <td>300.844465</td>\n",
       "      <td>326.533892</td>\n",
       "      <td>337.009901</td>\n",
       "      <td>345.405343</td>\n",
       "      <td>350.688056</td>\n",
       "      <td>368.887105</td>\n",
       "      <td>401.008786</td>\n",
       "      <td>...</td>\n",
       "      <td>128.599403</td>\n",
       "      <td>114.718302</td>\n",
       "      <td>77.506977</td>\n",
       "      <td>79.774657</td>\n",
       "      <td>123.950940</td>\n",
       "      <td>180.743232</td>\n",
       "      <td>218.059387</td>\n",
       "      <td>216.545377</td>\n",
       "      <td>206.659501</td>\n",
       "      <td>209.461595</td>\n",
       "    </tr>\n",
       "    <tr>\n",
       "      <th>2</th>\n",
       "      <td>112.342251</td>\n",
       "      <td>101.136858</td>\n",
       "      <td>106.585748</td>\n",
       "      <td>105.634932</td>\n",
       "      <td>94.141791</td>\n",
       "      <td>87.501876</td>\n",
       "      <td>76.790311</td>\n",
       "      <td>63.403467</td>\n",
       "      <td>37.587592</td>\n",
       "      <td>-21.406565</td>\n",
       "      <td>...</td>\n",
       "      <td>24.087563</td>\n",
       "      <td>6.985661</td>\n",
       "      <td>8.556438</td>\n",
       "      <td>11.672663</td>\n",
       "      <td>5.028797</td>\n",
       "      <td>5.600598</td>\n",
       "      <td>21.647396</td>\n",
       "      <td>59.341790</td>\n",
       "      <td>82.115041</td>\n",
       "      <td>87.938718</td>\n",
       "    </tr>\n",
       "    <tr>\n",
       "      <th>3</th>\n",
       "      <td>31.501098</td>\n",
       "      <td>36.457669</td>\n",
       "      <td>34.134066</td>\n",
       "      <td>13.519678</td>\n",
       "      <td>28.599789</td>\n",
       "      <td>10.303045</td>\n",
       "      <td>-2.105665</td>\n",
       "      <td>-15.476011</td>\n",
       "      <td>-39.579225</td>\n",
       "      <td>-79.521479</td>\n",
       "      <td>...</td>\n",
       "      <td>32.941845</td>\n",
       "      <td>32.315324</td>\n",
       "      <td>28.198955</td>\n",
       "      <td>30.953640</td>\n",
       "      <td>34.094495</td>\n",
       "      <td>27.556592</td>\n",
       "      <td>30.297672</td>\n",
       "      <td>43.271650</td>\n",
       "      <td>35.490266</td>\n",
       "      <td>38.084552</td>\n",
       "    </tr>\n",
       "    <tr>\n",
       "      <th>4</th>\n",
       "      <td>23.005238</td>\n",
       "      <td>5.120485</td>\n",
       "      <td>-6.100595</td>\n",
       "      <td>-3.218435</td>\n",
       "      <td>-15.554146</td>\n",
       "      <td>-11.025642</td>\n",
       "      <td>-28.609821</td>\n",
       "      <td>-32.398327</td>\n",
       "      <td>-48.737379</td>\n",
       "      <td>-38.527064</td>\n",
       "      <td>...</td>\n",
       "      <td>11.287442</td>\n",
       "      <td>11.393682</td>\n",
       "      <td>20.217693</td>\n",
       "      <td>19.613087</td>\n",
       "      <td>18.765251</td>\n",
       "      <td>26.327247</td>\n",
       "      <td>23.170588</td>\n",
       "      <td>0.079843</td>\n",
       "      <td>6.240940</td>\n",
       "      <td>16.453777</td>\n",
       "    </tr>\n",
       "    <tr>\n",
       "      <th>...</th>\n",
       "      <td>...</td>\n",
       "      <td>...</td>\n",
       "      <td>...</td>\n",
       "      <td>...</td>\n",
       "      <td>...</td>\n",
       "      <td>...</td>\n",
       "      <td>...</td>\n",
       "      <td>...</td>\n",
       "      <td>...</td>\n",
       "      <td>...</td>\n",
       "      <td>...</td>\n",
       "      <td>...</td>\n",
       "      <td>...</td>\n",
       "      <td>...</td>\n",
       "      <td>...</td>\n",
       "      <td>...</td>\n",
       "      <td>...</td>\n",
       "      <td>...</td>\n",
       "      <td>...</td>\n",
       "      <td>...</td>\n",
       "      <td>...</td>\n",
       "    </tr>\n",
       "    <tr>\n",
       "      <th>85</th>\n",
       "      <td>0.654430</td>\n",
       "      <td>1.079278</td>\n",
       "      <td>1.303831</td>\n",
       "      <td>1.211191</td>\n",
       "      <td>0.679539</td>\n",
       "      <td>0.144537</td>\n",
       "      <td>-0.522067</td>\n",
       "      <td>-0.878436</td>\n",
       "      <td>-0.813954</td>\n",
       "      <td>-0.514912</td>\n",
       "      <td>...</td>\n",
       "      <td>-0.955971</td>\n",
       "      <td>-0.805077</td>\n",
       "      <td>-0.758855</td>\n",
       "      <td>-0.518915</td>\n",
       "      <td>-0.190081</td>\n",
       "      <td>0.253783</td>\n",
       "      <td>0.451364</td>\n",
       "      <td>0.606468</td>\n",
       "      <td>0.647456</td>\n",
       "      <td>0.439308</td>\n",
       "    </tr>\n",
       "    <tr>\n",
       "      <th>86</th>\n",
       "      <td>-0.186407</td>\n",
       "      <td>-0.167825</td>\n",
       "      <td>-0.118377</td>\n",
       "      <td>-0.150124</td>\n",
       "      <td>-0.078066</td>\n",
       "      <td>0.002914</td>\n",
       "      <td>-0.242681</td>\n",
       "      <td>-0.460993</td>\n",
       "      <td>-0.541174</td>\n",
       "      <td>-0.484170</td>\n",
       "      <td>...</td>\n",
       "      <td>0.594815</td>\n",
       "      <td>-0.115034</td>\n",
       "      <td>-0.649083</td>\n",
       "      <td>-0.854409</td>\n",
       "      <td>-0.552715</td>\n",
       "      <td>-0.060588</td>\n",
       "      <td>0.304000</td>\n",
       "      <td>0.400048</td>\n",
       "      <td>0.259766</td>\n",
       "      <td>0.052477</td>\n",
       "    </tr>\n",
       "    <tr>\n",
       "      <th>87</th>\n",
       "      <td>-0.135613</td>\n",
       "      <td>-0.320102</td>\n",
       "      <td>-0.564173</td>\n",
       "      <td>-0.629907</td>\n",
       "      <td>-0.516375</td>\n",
       "      <td>-0.229922</td>\n",
       "      <td>0.170495</td>\n",
       "      <td>0.440726</td>\n",
       "      <td>0.622368</td>\n",
       "      <td>0.562342</td>\n",
       "      <td>...</td>\n",
       "      <td>0.192245</td>\n",
       "      <td>0.093381</td>\n",
       "      <td>-0.125225</td>\n",
       "      <td>-0.177027</td>\n",
       "      <td>-0.275463</td>\n",
       "      <td>-0.329237</td>\n",
       "      <td>-0.223196</td>\n",
       "      <td>-0.103491</td>\n",
       "      <td>0.053382</td>\n",
       "      <td>0.153689</td>\n",
       "    </tr>\n",
       "    <tr>\n",
       "      <th>88</th>\n",
       "      <td>-0.007726</td>\n",
       "      <td>-0.015346</td>\n",
       "      <td>-0.032275</td>\n",
       "      <td>0.108786</td>\n",
       "      <td>0.140412</td>\n",
       "      <td>-0.312085</td>\n",
       "      <td>-0.330588</td>\n",
       "      <td>-0.356562</td>\n",
       "      <td>-0.440025</td>\n",
       "      <td>-0.570197</td>\n",
       "      <td>...</td>\n",
       "      <td>0.850611</td>\n",
       "      <td>1.199224</td>\n",
       "      <td>1.224728</td>\n",
       "      <td>0.738485</td>\n",
       "      <td>0.092029</td>\n",
       "      <td>-0.361903</td>\n",
       "      <td>-0.547327</td>\n",
       "      <td>-0.440503</td>\n",
       "      <td>-0.337382</td>\n",
       "      <td>-0.127985</td>\n",
       "    </tr>\n",
       "    <tr>\n",
       "      <th>89</th>\n",
       "      <td>0.344231</td>\n",
       "      <td>0.457995</td>\n",
       "      <td>0.575768</td>\n",
       "      <td>0.406978</td>\n",
       "      <td>0.216332</td>\n",
       "      <td>0.312008</td>\n",
       "      <td>0.289205</td>\n",
       "      <td>0.230065</td>\n",
       "      <td>0.148779</td>\n",
       "      <td>0.269815</td>\n",
       "      <td>...</td>\n",
       "      <td>-1.282146</td>\n",
       "      <td>-0.710183</td>\n",
       "      <td>0.018480</td>\n",
       "      <td>0.915939</td>\n",
       "      <td>1.619098</td>\n",
       "      <td>1.832012</td>\n",
       "      <td>1.461378</td>\n",
       "      <td>0.838277</td>\n",
       "      <td>0.297152</td>\n",
       "      <td>-0.083189</td>\n",
       "    </tr>\n",
       "  </tbody>\n",
       "</table>\n",
       "<p>90 rows × 225 columns</p>\n",
       "</div>"
      ],
      "text/plain": [
       "            0            1            2            3            4    \\\n",
       "0  -2040.225860 -2043.201837 -2048.291655 -2035.633235 -2019.110470   \n",
       "1    195.947247   227.787506   265.853548   300.844465   326.533892   \n",
       "2    112.342251   101.136858   106.585748   105.634932    94.141791   \n",
       "3     31.501098    36.457669    34.134066    13.519678    28.599789   \n",
       "4     23.005238     5.120485    -6.100595    -3.218435   -15.554146   \n",
       "..          ...          ...          ...          ...          ...   \n",
       "85     0.654430     1.079278     1.303831     1.211191     0.679539   \n",
       "86    -0.186407    -0.167825    -0.118377    -0.150124    -0.078066   \n",
       "87    -0.135613    -0.320102    -0.564173    -0.629907    -0.516375   \n",
       "88    -0.007726    -0.015346    -0.032275     0.108786     0.140412   \n",
       "89     0.344231     0.457995     0.575768     0.406978     0.216332   \n",
       "\n",
       "            5            6            7            8            9    ...  \\\n",
       "0  -1968.566036 -1904.666343 -1846.660562 -1784.083576 -1713.416191  ...   \n",
       "1    337.009901   345.405343   350.688056   368.887105   401.008786  ...   \n",
       "2     87.501876    76.790311    63.403467    37.587592   -21.406565  ...   \n",
       "3     10.303045    -2.105665   -15.476011   -39.579225   -79.521479  ...   \n",
       "4    -11.025642   -28.609821   -32.398327   -48.737379   -38.527064  ...   \n",
       "..          ...          ...          ...          ...          ...  ...   \n",
       "85     0.144537    -0.522067    -0.878436    -0.813954    -0.514912  ...   \n",
       "86     0.002914    -0.242681    -0.460993    -0.541174    -0.484170  ...   \n",
       "87    -0.229922     0.170495     0.440726     0.622368     0.562342  ...   \n",
       "88    -0.312085    -0.330588    -0.356562    -0.440025    -0.570197  ...   \n",
       "89     0.312008     0.289205     0.230065     0.148779     0.269815  ...   \n",
       "\n",
       "            215          216          217          218          219  \\\n",
       "0  -1906.225955 -1874.979833 -1832.652374 -1828.611640 -1878.043743   \n",
       "1    128.599403   114.718302    77.506977    79.774657   123.950940   \n",
       "2     24.087563     6.985661     8.556438    11.672663     5.028797   \n",
       "3     32.941845    32.315324    28.198955    30.953640    34.094495   \n",
       "4     11.287442    11.393682    20.217693    19.613087    18.765251   \n",
       "..          ...          ...          ...          ...          ...   \n",
       "85    -0.955971    -0.805077    -0.758855    -0.518915    -0.190081   \n",
       "86     0.594815    -0.115034    -0.649083    -0.854409    -0.552715   \n",
       "87     0.192245     0.093381    -0.125225    -0.177027    -0.275463   \n",
       "88     0.850611     1.199224     1.224728     0.738485     0.092029   \n",
       "89    -1.282146    -0.710183     0.018480     0.915939     1.619098   \n",
       "\n",
       "            220          221          222          223          224  \n",
       "0  -1954.198073 -2025.585427 -2063.049698 -2073.747482 -2068.335412  \n",
       "1    180.743232   218.059387   216.545377   206.659501   209.461595  \n",
       "2      5.600598    21.647396    59.341790    82.115041    87.938718  \n",
       "3     27.556592    30.297672    43.271650    35.490266    38.084552  \n",
       "4     26.327247    23.170588     0.079843     6.240940    16.453777  \n",
       "..          ...          ...          ...          ...          ...  \n",
       "85     0.253783     0.451364     0.606468     0.647456     0.439308  \n",
       "86    -0.060588     0.304000     0.400048     0.259766     0.052477  \n",
       "87    -0.329237    -0.223196    -0.103491     0.053382     0.153689  \n",
       "88    -0.361903    -0.547327    -0.440503    -0.337382    -0.127985  \n",
       "89     1.832012     1.461378     0.838277     0.297152    -0.083189  \n",
       "\n",
       "[90 rows x 225 columns]"
      ]
     },
     "execution_count": 117,
     "metadata": {},
     "output_type": "execute_result"
    }
   ],
   "source": [
    "pd.DataFrame(single)"
   ]
  },
  {
   "cell_type": "code",
   "execution_count": 118,
   "metadata": {
    "ExecuteTime": {
     "end_time": "2021-05-01T13:55:32.457803Z",
     "start_time": "2021-05-01T13:55:31.646020Z"
    }
   },
   "outputs": [
    {
     "data": {
      "image/png": "[encoded data removed]",
      "text/plain": [
       "<Figure size 432x288 with 2 Axes>"
      ]
     },
     "metadata": {
      "needs_background": "light"
     },
     "output_type": "display_data"
    }
   ],
   "source": [
    "plt_heatmap(single,'orig')"
   ]
  },
  {
   "cell_type": "code",
   "execution_count": 119,
   "metadata": {
    "ExecuteTime": {
     "end_time": "2021-05-01T13:55:38.579489Z",
     "start_time": "2021-05-01T13:55:37.797593Z"
    }
   },
   "outputs": [
    {
     "data": {
      "image/png": "[encoded data removed]",
      "text/plain": [
       "<Figure size 432x288 with 2 Axes>"
      ]
     },
     "metadata": {
      "needs_background": "light"
     },
     "output_type": "display_data"
    }
   ],
   "source": [
    "plt_heatmap(conv,'conv')"
   ]
  },
  {
   "cell_type": "code",
   "execution_count": 127,
   "metadata": {
    "ExecuteTime": {
     "end_time": "2021-05-01T13:57:55.384780Z",
     "start_time": "2021-05-01T13:57:54.798638Z"
    }
   },
   "outputs": [
    {
     "data": {
      "image/png": "[encoded data removed]",
      "text/plain": [
       "<Figure size 432x288 with 2 Axes>"
      ]
     },
     "metadata": {
      "needs_background": "light"
     },
     "output_type": "display_data"
    }
   ],
   "source": [
    "\n",
    "plt_heatmap(conv_2,'conv_2')"
   ]
  },
  {
   "cell_type": "code",
   "execution_count": null,
   "metadata": {},
   "outputs": [],
   "source": []
  },
  {
   "cell_type": "code",
   "execution_count": 69,
   "metadata": {
    "ExecuteTime": {
     "end_time": "2021-05-01T13:41:53.523930Z",
     "start_time": "2021-05-01T13:41:53.511132Z"
    }
   },
   "outputs": [
    {
     "data": {
      "text/plain": [
       "2580"
      ]
     },
     "execution_count": 69,
     "metadata": {},
     "output_type": "execute_result"
    }
   ],
   "source": [
    "len(mat['genuineFeatureCell'])"
   ]
  },
  {
   "cell_type": "code",
   "execution_count": 9,
   "metadata": {
    "ExecuteTime": {
     "end_time": "2021-04-30T11:15:16.011803Z",
     "start_time": "2021-04-30T11:15:15.993762Z"
    }
   },
   "outputs": [
    {
     "data": {
      "text/plain": [
       "2580"
      ]
     },
     "execution_count": 9,
     "metadata": {},
     "output_type": "execute_result"
    }
   ],
   "source": [
    "len(mat['genuineFeatureCell'])"
   ]
  },
  {
   "cell_type": "code",
   "execution_count": 86,
   "metadata": {
    "ExecuteTime": {
     "end_time": "2021-04-30T17:17:59.306149Z",
     "start_time": "2021-04-30T17:17:59.294511Z"
    }
   },
   "outputs": [
    {
     "name": "stdout",
     "output_type": "stream",
     "text": [
      "90\n",
      "515\n"
     ]
    }
   ],
   "source": [
    "index = 1\n",
    "\n",
    "print(len(mat['genuineFeatureCell'][index][0]))\n",
    "print(len(mat['genuineFeatureCell'][index][0][0]))"
   ]
  },
  {
   "cell_type": "code",
   "execution_count": 15,
   "metadata": {
    "ExecuteTime": {
     "end_time": "2021-05-01T13:11:08.361967Z",
     "start_time": "2021-05-01T13:11:08.348068Z"
    }
   },
   "outputs": [],
   "source": [
    "lens = []\n",
    "for item in mat['genuineFeatureCell']:\n",
    "    lens.append(item[0].shape[1])"
   ]
  },
  {
   "cell_type": "code",
   "execution_count": 17,
   "metadata": {
    "ExecuteTime": {
     "end_time": "2021-05-01T13:11:29.576220Z",
     "start_time": "2021-05-01T13:11:29.569561Z"
    }
   },
   "outputs": [
    {
     "name": "stdout",
     "output_type": "stream",
     "text": [
      "1304\n",
      "160\n"
     ]
    }
   ],
   "source": [
    "print(max(lens))\n",
    "print(min(lens))"
   ]
  },
  {
   "cell_type": "code",
   "execution_count": 5,
   "metadata": {
    "ExecuteTime": {
     "end_time": "2021-05-01T13:04:47.167392Z",
     "start_time": "2021-05-01T13:04:47.162028Z"
    },
    "scrolled": true
   },
   "outputs": [],
   "source": [
    "subset = mat['genuineFeatureCell'][0:10]"
   ]
  },
  {
   "cell_type": "code",
   "execution_count": 34,
   "metadata": {
    "ExecuteTime": {
     "end_time": "2021-05-01T13:19:30.842535Z",
     "start_time": "2021-05-01T13:19:30.829999Z"
    }
   },
   "outputs": [],
   "source": [
    "data = []\n",
    "for item in subset:\n",
    "    #print(len(item[0]))\n",
    "    #plt_heatmap(item[0],'asa')\n",
    "    ndd = np.array([np.array(xi) for xi in item[0]])\n",
    "    \n",
    "    data.append(ndd[:,:160])"
   ]
  },
  {
   "cell_type": "code",
   "execution_count": 35,
   "metadata": {
    "ExecuteTime": {
     "end_time": "2021-05-01T13:19:31.349547Z",
     "start_time": "2021-05-01T13:19:31.340480Z"
    }
   },
   "outputs": [
    {
     "name": "stdout",
     "output_type": "stream",
     "text": [
      "(90, 160)\n",
      "(90, 160)\n",
      "(90, 160)\n",
      "(90, 160)\n",
      "(90, 160)\n",
      "(90, 160)\n",
      "(90, 160)\n",
      "(90, 160)\n",
      "(90, 160)\n",
      "(90, 160)\n"
     ]
    }
   ],
   "source": [
    "for item in data:\n",
    "    print(item.shape)"
   ]
  },
  {
   "cell_type": "code",
   "execution_count": 36,
   "metadata": {
    "ExecuteTime": {
     "end_time": "2021-05-01T13:19:42.160748Z",
     "start_time": "2021-05-01T13:19:42.119935Z"
    }
   },
   "outputs": [
    {
     "data": {
      "text/html": [
       "<div>\n",
       "<style scoped>\n",
       "    .dataframe tbody tr th:only-of-type {\n",
       "        vertical-align: middle;\n",
       "    }\n",
       "\n",
       "    .dataframe tbody tr th {\n",
       "        vertical-align: top;\n",
       "    }\n",
       "\n",
       "    .dataframe thead th {\n",
       "        text-align: right;\n",
       "    }\n",
       "</style>\n",
       "<table border=\"1\" class=\"dataframe\">\n",
       "  <thead>\n",
       "    <tr style=\"text-align: right;\">\n",
       "      <th></th>\n",
       "      <th>0</th>\n",
       "      <th>1</th>\n",
       "      <th>2</th>\n",
       "      <th>3</th>\n",
       "      <th>4</th>\n",
       "      <th>5</th>\n",
       "      <th>6</th>\n",
       "      <th>7</th>\n",
       "      <th>8</th>\n",
       "      <th>9</th>\n",
       "      <th>...</th>\n",
       "      <th>150</th>\n",
       "      <th>151</th>\n",
       "      <th>152</th>\n",
       "      <th>153</th>\n",
       "      <th>154</th>\n",
       "      <th>155</th>\n",
       "      <th>156</th>\n",
       "      <th>157</th>\n",
       "      <th>158</th>\n",
       "      <th>159</th>\n",
       "    </tr>\n",
       "  </thead>\n",
       "  <tbody>\n",
       "    <tr>\n",
       "      <th>0</th>\n",
       "      <td>-2181.205462</td>\n",
       "      <td>-2199.795225</td>\n",
       "      <td>-2218.078901</td>\n",
       "      <td>-2235.547540</td>\n",
       "      <td>-2255.604643</td>\n",
       "      <td>-2264.169787</td>\n",
       "      <td>-2259.136464</td>\n",
       "      <td>-2268.293177</td>\n",
       "      <td>-2275.814428</td>\n",
       "      <td>-2273.102040</td>\n",
       "      <td>...</td>\n",
       "      <td>-1296.360948</td>\n",
       "      <td>-1299.401124</td>\n",
       "      <td>-1314.194396</td>\n",
       "      <td>-1330.792137</td>\n",
       "      <td>-1344.785197</td>\n",
       "      <td>-1366.927578</td>\n",
       "      <td>-1373.341597</td>\n",
       "      <td>-1396.493748</td>\n",
       "      <td>-1409.441600</td>\n",
       "      <td>-1386.246754</td>\n",
       "    </tr>\n",
       "    <tr>\n",
       "      <th>1</th>\n",
       "      <td>53.438581</td>\n",
       "      <td>64.652722</td>\n",
       "      <td>62.418420</td>\n",
       "      <td>57.906765</td>\n",
       "      <td>59.733864</td>\n",
       "      <td>55.552708</td>\n",
       "      <td>41.660702</td>\n",
       "      <td>40.686573</td>\n",
       "      <td>41.331121</td>\n",
       "      <td>38.034400</td>\n",
       "      <td>...</td>\n",
       "      <td>316.052318</td>\n",
       "      <td>313.069655</td>\n",
       "      <td>308.598599</td>\n",
       "      <td>298.649323</td>\n",
       "      <td>284.118876</td>\n",
       "      <td>276.795781</td>\n",
       "      <td>261.726767</td>\n",
       "      <td>277.846084</td>\n",
       "      <td>293.466606</td>\n",
       "      <td>282.441391</td>\n",
       "    </tr>\n",
       "    <tr>\n",
       "      <th>2</th>\n",
       "      <td>46.664091</td>\n",
       "      <td>43.225705</td>\n",
       "      <td>61.325095</td>\n",
       "      <td>66.355893</td>\n",
       "      <td>66.999806</td>\n",
       "      <td>70.474673</td>\n",
       "      <td>68.136512</td>\n",
       "      <td>69.058280</td>\n",
       "      <td>61.152977</td>\n",
       "      <td>62.765540</td>\n",
       "      <td>...</td>\n",
       "      <td>-232.019651</td>\n",
       "      <td>-215.282047</td>\n",
       "      <td>-189.022963</td>\n",
       "      <td>-154.157304</td>\n",
       "      <td>-122.764832</td>\n",
       "      <td>-102.389617</td>\n",
       "      <td>-77.965434</td>\n",
       "      <td>-73.051021</td>\n",
       "      <td>-71.136260</td>\n",
       "      <td>-75.812372</td>\n",
       "    </tr>\n",
       "    <tr>\n",
       "      <th>3</th>\n",
       "      <td>56.043068</td>\n",
       "      <td>50.997312</td>\n",
       "      <td>40.548948</td>\n",
       "      <td>58.590031</td>\n",
       "      <td>67.156929</td>\n",
       "      <td>57.911886</td>\n",
       "      <td>66.063979</td>\n",
       "      <td>62.933076</td>\n",
       "      <td>66.192339</td>\n",
       "      <td>53.519969</td>\n",
       "      <td>...</td>\n",
       "      <td>-58.622580</td>\n",
       "      <td>-67.345847</td>\n",
       "      <td>-71.354530</td>\n",
       "      <td>-78.961438</td>\n",
       "      <td>-75.271555</td>\n",
       "      <td>-61.914141</td>\n",
       "      <td>-66.789093</td>\n",
       "      <td>-75.722517</td>\n",
       "      <td>-92.371230</td>\n",
       "      <td>-93.309450</td>\n",
       "    </tr>\n",
       "    <tr>\n",
       "      <th>4</th>\n",
       "      <td>35.231376</td>\n",
       "      <td>35.727620</td>\n",
       "      <td>36.543256</td>\n",
       "      <td>23.199204</td>\n",
       "      <td>17.518024</td>\n",
       "      <td>31.872114</td>\n",
       "      <td>28.936512</td>\n",
       "      <td>36.079422</td>\n",
       "      <td>35.376410</td>\n",
       "      <td>37.747146</td>\n",
       "      <td>...</td>\n",
       "      <td>-14.971280</td>\n",
       "      <td>-9.888853</td>\n",
       "      <td>-12.896304</td>\n",
       "      <td>-13.438658</td>\n",
       "      <td>-24.948231</td>\n",
       "      <td>-27.846243</td>\n",
       "      <td>-30.312668</td>\n",
       "      <td>-23.503734</td>\n",
       "      <td>-21.354849</td>\n",
       "      <td>-39.204305</td>\n",
       "    </tr>\n",
       "    <tr>\n",
       "      <th>...</th>\n",
       "      <td>...</td>\n",
       "      <td>...</td>\n",
       "      <td>...</td>\n",
       "      <td>...</td>\n",
       "      <td>...</td>\n",
       "      <td>...</td>\n",
       "      <td>...</td>\n",
       "      <td>...</td>\n",
       "      <td>...</td>\n",
       "      <td>...</td>\n",
       "      <td>...</td>\n",
       "      <td>...</td>\n",
       "      <td>...</td>\n",
       "      <td>...</td>\n",
       "      <td>...</td>\n",
       "      <td>...</td>\n",
       "      <td>...</td>\n",
       "      <td>...</td>\n",
       "      <td>...</td>\n",
       "      <td>...</td>\n",
       "      <td>...</td>\n",
       "    </tr>\n",
       "    <tr>\n",
       "      <th>85</th>\n",
       "      <td>0.083168</td>\n",
       "      <td>0.089782</td>\n",
       "      <td>0.068429</td>\n",
       "      <td>-0.053554</td>\n",
       "      <td>-0.192184</td>\n",
       "      <td>-0.288362</td>\n",
       "      <td>-0.240670</td>\n",
       "      <td>0.026791</td>\n",
       "      <td>0.410122</td>\n",
       "      <td>0.770818</td>\n",
       "      <td>...</td>\n",
       "      <td>-0.287468</td>\n",
       "      <td>-0.088856</td>\n",
       "      <td>-0.064092</td>\n",
       "      <td>0.132228</td>\n",
       "      <td>0.434050</td>\n",
       "      <td>0.590133</td>\n",
       "      <td>0.538602</td>\n",
       "      <td>0.457878</td>\n",
       "      <td>0.301644</td>\n",
       "      <td>0.035860</td>\n",
       "    </tr>\n",
       "    <tr>\n",
       "      <th>86</th>\n",
       "      <td>-0.094066</td>\n",
       "      <td>-0.218469</td>\n",
       "      <td>-0.308964</td>\n",
       "      <td>-0.193215</td>\n",
       "      <td>0.022927</td>\n",
       "      <td>0.365628</td>\n",
       "      <td>0.799307</td>\n",
       "      <td>0.992630</td>\n",
       "      <td>0.830076</td>\n",
       "      <td>0.381472</td>\n",
       "      <td>...</td>\n",
       "      <td>0.226339</td>\n",
       "      <td>0.213448</td>\n",
       "      <td>0.211937</td>\n",
       "      <td>0.118675</td>\n",
       "      <td>-0.197913</td>\n",
       "      <td>-0.557527</td>\n",
       "      <td>-0.707494</td>\n",
       "      <td>-0.641912</td>\n",
       "      <td>-0.234601</td>\n",
       "      <td>0.313509</td>\n",
       "    </tr>\n",
       "    <tr>\n",
       "      <th>87</th>\n",
       "      <td>-0.627173</td>\n",
       "      <td>-0.702569</td>\n",
       "      <td>-0.483569</td>\n",
       "      <td>-0.125588</td>\n",
       "      <td>0.411845</td>\n",
       "      <td>0.704713</td>\n",
       "      <td>0.400400</td>\n",
       "      <td>-0.140034</td>\n",
       "      <td>-0.622778</td>\n",
       "      <td>-0.680713</td>\n",
       "      <td>...</td>\n",
       "      <td>-0.538809</td>\n",
       "      <td>-0.361288</td>\n",
       "      <td>-0.263863</td>\n",
       "      <td>-0.293193</td>\n",
       "      <td>-0.235530</td>\n",
       "      <td>-0.133855</td>\n",
       "      <td>-0.112526</td>\n",
       "      <td>0.022674</td>\n",
       "      <td>0.099164</td>\n",
       "      <td>-0.012343</td>\n",
       "    </tr>\n",
       "    <tr>\n",
       "      <th>88</th>\n",
       "      <td>0.654781</td>\n",
       "      <td>0.972621</td>\n",
       "      <td>0.958380</td>\n",
       "      <td>0.722200</td>\n",
       "      <td>0.151810</td>\n",
       "      <td>-0.447719</td>\n",
       "      <td>-0.631630</td>\n",
       "      <td>-0.293582</td>\n",
       "      <td>0.151919</td>\n",
       "      <td>0.297475</td>\n",
       "      <td>...</td>\n",
       "      <td>0.655578</td>\n",
       "      <td>0.115538</td>\n",
       "      <td>-0.318073</td>\n",
       "      <td>-0.602802</td>\n",
       "      <td>-0.485419</td>\n",
       "      <td>-0.208979</td>\n",
       "      <td>0.266147</td>\n",
       "      <td>0.488384</td>\n",
       "      <td>0.254763</td>\n",
       "      <td>0.031388</td>\n",
       "    </tr>\n",
       "    <tr>\n",
       "      <th>89</th>\n",
       "      <td>-0.336320</td>\n",
       "      <td>-0.606855</td>\n",
       "      <td>-0.637220</td>\n",
       "      <td>-0.544843</td>\n",
       "      <td>-0.148578</td>\n",
       "      <td>0.307381</td>\n",
       "      <td>0.598559</td>\n",
       "      <td>0.490923</td>\n",
       "      <td>0.098259</td>\n",
       "      <td>-0.254097</td>\n",
       "      <td>...</td>\n",
       "      <td>0.669366</td>\n",
       "      <td>0.554229</td>\n",
       "      <td>0.397719</td>\n",
       "      <td>0.254529</td>\n",
       "      <td>-0.234197</td>\n",
       "      <td>-0.484671</td>\n",
       "      <td>-0.433894</td>\n",
       "      <td>-0.325175</td>\n",
       "      <td>-0.046477</td>\n",
       "      <td>0.109441</td>\n",
       "    </tr>\n",
       "  </tbody>\n",
       "</table>\n",
       "<p>90 rows × 160 columns</p>\n",
       "</div>"
      ],
      "text/plain": [
       "            0            1            2            3            4    \\\n",
       "0  -2181.205462 -2199.795225 -2218.078901 -2235.547540 -2255.604643   \n",
       "1     53.438581    64.652722    62.418420    57.906765    59.733864   \n",
       "2     46.664091    43.225705    61.325095    66.355893    66.999806   \n",
       "3     56.043068    50.997312    40.548948    58.590031    67.156929   \n",
       "4     35.231376    35.727620    36.543256    23.199204    17.518024   \n",
       "..          ...          ...          ...          ...          ...   \n",
       "85     0.083168     0.089782     0.068429    -0.053554    -0.192184   \n",
       "86    -0.094066    -0.218469    -0.308964    -0.193215     0.022927   \n",
       "87    -0.627173    -0.702569    -0.483569    -0.125588     0.411845   \n",
       "88     0.654781     0.972621     0.958380     0.722200     0.151810   \n",
       "89    -0.336320    -0.606855    -0.637220    -0.544843    -0.148578   \n",
       "\n",
       "            5            6            7            8            9    ...  \\\n",
       "0  -2264.169787 -2259.136464 -2268.293177 -2275.814428 -2273.102040  ...   \n",
       "1     55.552708    41.660702    40.686573    41.331121    38.034400  ...   \n",
       "2     70.474673    68.136512    69.058280    61.152977    62.765540  ...   \n",
       "3     57.911886    66.063979    62.933076    66.192339    53.519969  ...   \n",
       "4     31.872114    28.936512    36.079422    35.376410    37.747146  ...   \n",
       "..          ...          ...          ...          ...          ...  ...   \n",
       "85    -0.288362    -0.240670     0.026791     0.410122     0.770818  ...   \n",
       "86     0.365628     0.799307     0.992630     0.830076     0.381472  ...   \n",
       "87     0.704713     0.400400    -0.140034    -0.622778    -0.680713  ...   \n",
       "88    -0.447719    -0.631630    -0.293582     0.151919     0.297475  ...   \n",
       "89     0.307381     0.598559     0.490923     0.098259    -0.254097  ...   \n",
       "\n",
       "            150          151          152          153          154  \\\n",
       "0  -1296.360948 -1299.401124 -1314.194396 -1330.792137 -1344.785197   \n",
       "1    316.052318   313.069655   308.598599   298.649323   284.118876   \n",
       "2   -232.019651  -215.282047  -189.022963  -154.157304  -122.764832   \n",
       "3    -58.622580   -67.345847   -71.354530   -78.961438   -75.271555   \n",
       "4    -14.971280    -9.888853   -12.896304   -13.438658   -24.948231   \n",
       "..          ...          ...          ...          ...          ...   \n",
       "85    -0.287468    -0.088856    -0.064092     0.132228     0.434050   \n",
       "86     0.226339     0.213448     0.211937     0.118675    -0.197913   \n",
       "87    -0.538809    -0.361288    -0.263863    -0.293193    -0.235530   \n",
       "88     0.655578     0.115538    -0.318073    -0.602802    -0.485419   \n",
       "89     0.669366     0.554229     0.397719     0.254529    -0.234197   \n",
       "\n",
       "            155          156          157          158          159  \n",
       "0  -1366.927578 -1373.341597 -1396.493748 -1409.441600 -1386.246754  \n",
       "1    276.795781   261.726767   277.846084   293.466606   282.441391  \n",
       "2   -102.389617   -77.965434   -73.051021   -71.136260   -75.812372  \n",
       "3    -61.914141   -66.789093   -75.722517   -92.371230   -93.309450  \n",
       "4    -27.846243   -30.312668   -23.503734   -21.354849   -39.204305  \n",
       "..          ...          ...          ...          ...          ...  \n",
       "85     0.590133     0.538602     0.457878     0.301644     0.035860  \n",
       "86    -0.557527    -0.707494    -0.641912    -0.234601     0.313509  \n",
       "87    -0.133855    -0.112526     0.022674     0.099164    -0.012343  \n",
       "88    -0.208979     0.266147     0.488384     0.254763     0.031388  \n",
       "89    -0.484671    -0.433894    -0.325175    -0.046477     0.109441  \n",
       "\n",
       "[90 rows x 160 columns]"
      ]
     },
     "execution_count": 36,
     "metadata": {},
     "output_type": "execute_result"
    }
   ],
   "source": [
    "pd.DataFrame(data[0])\n"
   ]
  },
  {
   "cell_type": "code",
   "execution_count": 26,
   "metadata": {
    "ExecuteTime": {
     "end_time": "2021-05-01T13:13:20.759850Z",
     "start_time": "2021-05-01T13:13:20.116614Z"
    }
   },
   "outputs": [
    {
     "data": {
      "image/png": "[encoded data removed]",
      "text/plain": [
       "<Figure size 432x288 with 2 Axes>"
      ]
     },
     "metadata": {
      "needs_background": "light"
     },
     "output_type": "display_data"
    }
   ],
   "source": [
    "plt_heatmap(data[0],'name')"
   ]
  },
  {
   "cell_type": "code",
   "execution_count": 37,
   "metadata": {
    "ExecuteTime": {
     "end_time": "2021-05-01T13:19:53.774628Z",
     "start_time": "2021-05-01T13:19:53.164222Z"
    }
   },
   "outputs": [
    {
     "data": {
      "image/png": "[encoded data removed]",
      "text/plain": [
       "<Figure size 432x288 with 2 Axes>"
      ]
     },
     "metadata": {
      "needs_background": "light"
     },
     "output_type": "display_data"
    }
   ],
   "source": [
    "plt_heatmap(data[0],'name')"
   ]
  },
  {
   "cell_type": "code",
   "execution_count": 21,
   "metadata": {
    "ExecuteTime": {
     "end_time": "2021-05-01T13:12:49.050748Z",
     "start_time": "2021-05-01T13:12:49.046159Z"
    }
   },
   "outputs": [],
   "source": [
    "def plt_heatmap(data,name):\n",
    "    ax = sns.heatmap(data)\n",
    "    plt.title('HeatMap of ' + name)\n",
    "    plt.show()"
   ]
  },
  {
   "cell_type": "code",
   "execution_count": 26,
   "metadata": {
    "ExecuteTime": {
     "end_time": "2021-04-30T16:21:16.792351Z",
     "start_time": "2021-04-30T16:21:15.556524Z"
    }
   },
   "outputs": [
    {
     "data": {
      "image/png": "[encoded data removed]",
      "text/plain": [
       "<Figure size 432x288 with 2 Axes>"
      ]
     },
     "metadata": {
      "needs_background": "light"
     },
     "output_type": "display_data"
    }
   ],
   "source": [
    "plt_heatmap(mat['genuineFeatureCell'][0][0],'obj')"
   ]
  },
  {
   "cell_type": "code",
   "execution_count": 38,
   "metadata": {
    "ExecuteTime": {
     "end_time": "2021-05-01T13:20:11.111341Z",
     "start_time": "2021-05-01T13:20:11.107090Z"
    }
   },
   "outputs": [],
   "source": [
    "gmm_bon = GMM(n_components = 5, covariance_type='diag',n_init = 50)"
   ]
  },
  {
   "cell_type": "code",
   "execution_count": 40,
   "metadata": {
    "ExecuteTime": {
     "end_time": "2021-05-01T13:20:39.424658Z",
     "start_time": "2021-05-01T13:20:39.417977Z"
    }
   },
   "outputs": [],
   "source": [
    "Xbon = np.vstack(data)"
   ]
  },
  {
   "cell_type": "code",
   "execution_count": 43,
   "metadata": {
    "ExecuteTime": {
     "end_time": "2021-05-01T13:20:50.349712Z",
     "start_time": "2021-05-01T13:20:50.343563Z"
    }
   },
   "outputs": [
    {
     "data": {
      "text/plain": [
       "array([[-2.18120546e+03, -2.19979522e+03, -2.21807890e+03, ...,\n",
       "        -1.39649375e+03, -1.40944160e+03, -1.38624675e+03],\n",
       "       [ 5.34385814e+01,  6.46527216e+01,  6.24184198e+01, ...,\n",
       "         2.77846084e+02,  2.93466606e+02,  2.82441391e+02],\n",
       "       [ 4.66640914e+01,  4.32257052e+01,  6.13250951e+01, ...,\n",
       "        -7.30510210e+01, -7.11362599e+01, -7.58123725e+01],\n",
       "       ...,\n",
       "       [ 1.12529940e-01,  1.30306790e-01, -1.07826264e-03, ...,\n",
       "        -1.19082754e+00, -1.04642847e+00, -9.76132968e-01],\n",
       "       [-2.77185775e-01, -2.21335036e-01,  8.62830363e-02, ...,\n",
       "         3.28367708e-01,  4.90390653e-01,  6.36045178e-01],\n",
       "       [ 2.43506008e-01,  1.53524506e-01, -4.29393072e-02, ...,\n",
       "        -2.00106525e-01, -3.72898276e-01, -2.79889443e-01]])"
      ]
     },
     "execution_count": 43,
     "metadata": {},
     "output_type": "execute_result"
    }
   ],
   "source": [
    "Xbon"
   ]
  },
  {
   "cell_type": "code",
   "execution_count": 44,
   "metadata": {
    "ExecuteTime": {
     "end_time": "2021-05-01T13:20:57.315736Z",
     "start_time": "2021-05-01T13:20:55.516720Z"
    }
   },
   "outputs": [
    {
     "data": {
      "text/plain": [
       "GaussianMixture(covariance_type='diag', n_components=5, n_init=50)"
      ]
     },
     "execution_count": 44,
     "metadata": {},
     "output_type": "execute_result"
    }
   ],
   "source": [
    "gmm_bon.fit(Xbon)"
   ]
  },
  {
   "cell_type": "markdown",
   "metadata": {},
   "source": [
    "# From Reading Data to Fitting GMM"
   ]
  },
  {
   "cell_type": "code",
   "execution_count": 22,
   "metadata": {
    "ExecuteTime": {
     "end_time": "2021-05-04T12:29:16.946144Z",
     "start_time": "2021-05-04T12:29:16.935203Z"
    }
   },
   "outputs": [],
   "source": [
    "bon_path = '/Users/asimadnan/Desktop/Mres/ASVspoof_2019_baseline_CM_v1/AllTrainData/genuineFeatureCell_train.mat'\n",
    "spoof_path = '/Users/asimadnan/Desktop/Mres/ASVspoof_2019_baseline_CM_v1/AllTrainData/spoofFeatureCell_train.mat'"
   ]
  },
  {
   "cell_type": "code",
   "execution_count": 23,
   "metadata": {
    "ExecuteTime": {
     "end_time": "2021-05-04T12:29:31.490174Z",
     "start_time": "2021-05-04T12:29:17.746453Z"
    }
   },
   "outputs": [],
   "source": [
    "bonafide_data = scipy.io.loadmat(bon_path)"
   ]
  },
  {
   "cell_type": "code",
   "execution_count": null,
   "metadata": {
    "ExecuteTime": {
     "end_time": "2021-05-03T17:38:35.372376Z",
     "start_time": "2021-05-03T17:38:29.711Z"
    }
   },
   "outputs": [],
   "source": [
    "spoof_data = mat73.loadmat(spoof_path)\n"
   ]
  },
  {
   "cell_type": "code",
   "execution_count": 21,
   "metadata": {
    "ExecuteTime": {
     "end_time": "2021-05-04T12:29:13.098627Z",
     "start_time": "2021-05-04T12:29:13.029140Z"
    }
   },
   "outputs": [],
   "source": [
    "bon_data = []\n",
    "spo_data = []\n",
    "target_num_rows = 160 #minimum duration of each file in this dataset"
   ]
  },
  {
   "cell_type": "code",
   "execution_count": 84,
   "metadata": {
    "ExecuteTime": {
     "end_time": "2021-05-03T17:39:09.097388Z",
     "start_time": "2021-05-03T17:39:08.843932Z"
    }
   },
   "outputs": [],
   "source": [
    "for item in bonafide_data['genuineFeatureCell'][0:200]:\n",
    "    feature = np.array([np.array(xi) for xi in item[0]])   \n",
    "    if(target_num_rows - feature.shape[1]) > 0:\n",
    "        feature = np.concatenate((feature, feature[:,:target_num_rows - feature.shape[1]]), axis=1)\n",
    "    else:\n",
    "        feature = feature[:,:target_num_rows]  \n",
    "    bon_data.append(feature.reshape(-1))"
   ]
  },
  {
   "cell_type": "code",
   "execution_count": 86,
   "metadata": {
    "ExecuteTime": {
     "end_time": "2021-05-03T17:39:21.510608Z",
     "start_time": "2021-05-03T17:39:21.502092Z"
    }
   },
   "outputs": [
    {
     "data": {
      "text/plain": [
       "200"
      ]
     },
     "execution_count": 86,
     "metadata": {},
     "output_type": "execute_result"
    }
   ],
   "source": []
  },
  {
   "cell_type": "code",
   "execution_count": 85,
   "metadata": {
    "ExecuteTime": {
     "end_time": "2021-05-03T17:39:15.169872Z",
     "start_time": "2021-05-03T17:39:15.156385Z"
    }
   },
   "outputs": [
    {
     "ename": "AttributeError",
     "evalue": "'list' object has no attribute 'shape'",
     "output_type": "error",
     "traceback": [
      "\u001b[0;31m---------------------------------------------------------------------------\u001b[0m",
      "\u001b[0;31mAttributeError\u001b[0m                            Traceback (most recent call last)",
      "\u001b[0;32m<ipython-input-85-1e042219e88c>\u001b[0m in \u001b[0;36m<module>\u001b[0;34m\u001b[0m\n\u001b[0;32m----> 1\u001b[0;31m \u001b[0mbon_data\u001b[0m \u001b[0;34m=\u001b[0m \u001b[0mnp\u001b[0m\u001b[0;34m.\u001b[0m\u001b[0mc_\u001b[0m\u001b[0;34m[\u001b[0m \u001b[0mbon_data\u001b[0m\u001b[0;34m,\u001b[0m \u001b[0mnp\u001b[0m\u001b[0;34m.\u001b[0m\u001b[0marray\u001b[0m\u001b[0;34m(\u001b[0m\u001b[0;34m[\u001b[0m\u001b[0;34m'bonafide'\u001b[0m\u001b[0;34m]\u001b[0m\u001b[0;34m*\u001b[0m\u001b[0mbon_data\u001b[0m\u001b[0;34m.\u001b[0m\u001b[0mshape\u001b[0m\u001b[0;34m[\u001b[0m\u001b[0;36m1\u001b[0m\u001b[0;34m]\u001b[0m\u001b[0;34m)\u001b[0m \u001b[0;34m]\u001b[0m\u001b[0;34m\u001b[0m\u001b[0;34m\u001b[0m\u001b[0m\n\u001b[0m",
      "\u001b[0;31mAttributeError\u001b[0m: 'list' object has no attribute 'shape'"
     ]
    }
   ],
   "source": [
    "bon_data = np.c_[ bon_data, np.array(['bonafide']*len(bon_data)) ]"
   ]
  },
  {
   "cell_type": "code",
   "execution_count": 63,
   "metadata": {
    "ExecuteTime": {
     "end_time": "2021-05-03T17:09:41.737437Z",
     "start_time": "2021-05-03T17:09:41.732298Z"
    }
   },
   "outputs": [],
   "source": [
    "#bon_data = np.vstack(bon_data)"
   ]
  },
  {
   "cell_type": "code",
   "execution_count": 69,
   "metadata": {
    "ExecuteTime": {
     "end_time": "2021-05-03T17:10:34.388497Z",
     "start_time": "2021-05-03T17:10:34.376495Z"
    }
   },
   "outputs": [
    {
     "data": {
      "text/plain": [
       "(200, 14401)"
      ]
     },
     "execution_count": 69,
     "metadata": {},
     "output_type": "execute_result"
    }
   ],
   "source": [
    "bon_data.shape"
   ]
  },
  {
   "cell_type": "code",
   "execution_count": 64,
   "metadata": {
    "ExecuteTime": {
     "end_time": "2021-05-03T17:09:43.189694Z",
     "start_time": "2021-05-03T17:09:42.597807Z"
    }
   },
   "outputs": [],
   "source": [
    "spo_data = []\n",
    "for item in spoof_data['spoofFeatureCell'][0:200]:\n",
    "    feature = np.array([np.array(xi) for xi in item[0]])   \n",
    "    if(target_num_rows - feature.shape[1]) > 0:\n",
    "        feature = np.concatenate((feature, feature[:,:target_num_rows - feature.shape[1]]), axis=1)\n",
    "        if(target_num_rows - feature.shape[1]) > 0:\n",
    "            feature = np.concatenate((feature, np.array([[0.]*(target_num_rows - feature.shape[1])]*(90))),axis=1)\n",
    "    else:\n",
    "        feature = feature[:,:target_num_rows]  \n",
    "    spo_data.append(feature.reshape(-1))"
   ]
  },
  {
   "cell_type": "code",
   "execution_count": 65,
   "metadata": {
    "ExecuteTime": {
     "end_time": "2021-05-03T17:09:54.097241Z",
     "start_time": "2021-05-03T17:09:44.055624Z"
    }
   },
   "outputs": [],
   "source": [
    "spo_data = np.c_[ spo_data, np.array(['spoof']*200) ]"
   ]
  },
  {
   "cell_type": "code",
   "execution_count": null,
   "metadata": {
    "ExecuteTime": {
     "end_time": "2021-05-03T17:09:54.633529Z",
     "start_time": "2021-05-03T17:09:44.623Z"
    }
   },
   "outputs": [],
   "source": [
    "#spo_data = np.vstack(spo_data)"
   ]
  },
  {
   "cell_type": "code",
   "execution_count": 66,
   "metadata": {
    "ExecuteTime": {
     "end_time": "2021-05-03T17:09:59.396733Z",
     "start_time": "2021-05-03T17:09:59.384824Z"
    }
   },
   "outputs": [
    {
     "data": {
      "text/plain": [
       "(200, 14401)"
      ]
     },
     "execution_count": 66,
     "metadata": {},
     "output_type": "execute_result"
    }
   ],
   "source": [
    "spo_data.shape"
   ]
  },
  {
   "cell_type": "code",
   "execution_count": 71,
   "metadata": {
    "ExecuteTime": {
     "end_time": "2021-05-03T17:11:08.264118Z",
     "start_time": "2021-05-03T17:11:05.742660Z"
    }
   },
   "outputs": [],
   "source": [
    "joined_data = np.r_[ bon_data, spo_data ]\n"
   ]
  },
  {
   "cell_type": "code",
   "execution_count": 75,
   "metadata": {
    "ExecuteTime": {
     "end_time": "2021-05-03T17:13:49.811562Z",
     "start_time": "2021-05-03T17:13:49.806120Z"
    }
   },
   "outputs": [],
   "source": [
    "class_label = joined_data[:, -1] # for last column\n",
    "dataset = joined_data[:, :-1] # for all but last column"
   ]
  },
  {
   "cell_type": "code",
   "execution_count": 73,
   "metadata": {
    "ExecuteTime": {
     "end_time": "2021-05-03T17:11:55.285029Z",
     "start_time": "2021-05-03T17:11:55.263634Z"
    }
   },
   "outputs": [],
   "source": [
    "from sklearn.svm import SVC\n",
    "svm = SVC(probability=True)"
   ]
  },
  {
   "cell_type": "code",
   "execution_count": 78,
   "metadata": {
    "ExecuteTime": {
     "end_time": "2021-05-03T17:14:53.754786Z",
     "start_time": "2021-05-03T17:14:11.073310Z"
    }
   },
   "outputs": [
    {
     "data": {
      "text/plain": [
       "SVC(probability=True)"
      ]
     },
     "execution_count": 78,
     "metadata": {},
     "output_type": "execute_result"
    }
   ],
   "source": [
    "svm.fit(dataset, class_label)"
   ]
  },
  {
   "cell_type": "code",
   "execution_count": 7,
   "metadata": {
    "ExecuteTime": {
     "end_time": "2021-05-02T13:04:34.482599Z",
     "start_time": "2021-05-02T13:04:34.424260Z"
    }
   },
   "outputs": [],
   "source": [
    "gmm_bon = GMM(n_components = 5, covariance_type='diag',n_init = 50,verbose=1)\n"
   ]
  },
  {
   "cell_type": "code",
   "execution_count": 8,
   "metadata": {
    "ExecuteTime": {
     "end_time": "2021-05-02T13:04:48.599362Z",
     "start_time": "2021-05-02T13:04:44.813388Z"
    }
   },
   "outputs": [
    {
     "name": "stdout",
     "output_type": "stream",
     "text": [
      "Initialization 0\n",
      "  Iteration 10\n",
      "Initialization converged: True\n",
      "Initialization 1\n",
      "  Iteration 10\n",
      "Initialization converged: True\n",
      "Initialization 2\n",
      "  Iteration 10\n",
      "Initialization converged: True\n",
      "Initialization 3\n",
      "  Iteration 10\n",
      "Initialization converged: True\n",
      "Initialization 4\n",
      "  Iteration 10\n",
      "Initialization converged: True\n",
      "Initialization 5\n",
      "  Iteration 10\n",
      "Initialization converged: True\n",
      "Initialization 6\n",
      "Initialization converged: True\n",
      "Initialization 7\n",
      "  Iteration 10\n",
      "Initialization converged: True\n",
      "Initialization 8\n",
      "  Iteration 10\n",
      "Initialization converged: True\n",
      "Initialization 9\n",
      "  Iteration 10\n",
      "Initialization converged: True\n",
      "Initialization 10\n",
      "  Iteration 10\n",
      "Initialization converged: True\n",
      "Initialization 11\n",
      "  Iteration 10\n",
      "Initialization converged: True\n",
      "Initialization 12\n",
      "  Iteration 10\n",
      "Initialization converged: True\n",
      "Initialization 13\n",
      "  Iteration 10\n",
      "Initialization converged: True\n",
      "Initialization 14\n",
      "  Iteration 10\n",
      "Initialization converged: True\n",
      "Initialization 15\n",
      "  Iteration 10\n",
      "Initialization converged: True\n",
      "Initialization 16\n",
      "  Iteration 10\n",
      "Initialization converged: True\n",
      "Initialization 17\n",
      "  Iteration 10\n",
      "Initialization converged: True\n",
      "Initialization 18\n",
      "Initialization converged: True\n",
      "Initialization 19\n",
      "  Iteration 10\n",
      "Initialization converged: True\n",
      "Initialization 20\n",
      "  Iteration 10\n",
      "Initialization converged: True\n",
      "Initialization 21\n",
      "  Iteration 10\n",
      "Initialization converged: True\n",
      "Initialization 22\n",
      "  Iteration 10\n",
      "Initialization converged: True\n",
      "Initialization 23\n",
      "  Iteration 10\n",
      "Initialization converged: True\n",
      "Initialization 24\n",
      "  Iteration 10\n",
      "Initialization converged: True\n",
      "Initialization 25\n",
      "Initialization converged: True\n",
      "Initialization 26\n",
      "  Iteration 10\n",
      "Initialization converged: True\n",
      "Initialization 27\n",
      "  Iteration 10\n",
      "Initialization converged: True\n",
      "Initialization 28\n",
      "  Iteration 10\n",
      "Initialization converged: True\n",
      "Initialization 29\n",
      "  Iteration 10\n",
      "Initialization converged: True\n",
      "Initialization 30\n",
      "  Iteration 10\n",
      "Initialization converged: True\n",
      "Initialization 31\n",
      "Initialization converged: True\n",
      "Initialization 32\n",
      "  Iteration 10\n",
      "Initialization converged: True\n",
      "Initialization 33\n",
      "Initialization converged: True\n",
      "Initialization 34\n",
      "  Iteration 10\n",
      "Initialization converged: True\n",
      "Initialization 35\n",
      "Initialization converged: True\n",
      "Initialization 36\n",
      "  Iteration 10\n",
      "Initialization converged: True\n",
      "Initialization 37\n",
      "  Iteration 10\n",
      "Initialization converged: True\n",
      "Initialization 38\n",
      "  Iteration 10\n",
      "Initialization converged: True\n",
      "Initialization 39\n",
      "  Iteration 10\n",
      "Initialization converged: True\n",
      "Initialization 40\n",
      "  Iteration 10\n",
      "Initialization converged: True\n",
      "Initialization 41\n",
      "Initialization converged: True\n",
      "Initialization 42\n",
      "  Iteration 10\n",
      "Initialization converged: True\n",
      "Initialization 43\n",
      "  Iteration 10\n",
      "Initialization converged: True\n",
      "Initialization 44\n",
      "  Iteration 10\n",
      "Initialization converged: True\n",
      "Initialization 45\n",
      "  Iteration 10\n",
      "Initialization converged: True\n",
      "Initialization 46\n",
      "  Iteration 10\n",
      "Initialization converged: True\n",
      "Initialization 47\n",
      "  Iteration 10\n",
      "Initialization converged: True\n",
      "Initialization 48\n",
      "  Iteration 10\n",
      "Initialization converged: True\n",
      "Initialization 49\n",
      "  Iteration 10\n",
      "Initialization converged: True\n"
     ]
    },
    {
     "data": {
      "text/plain": [
       "GaussianMixture(covariance_type='diag', n_components=5, n_init=50, verbose=1)"
      ]
     },
     "execution_count": 8,
     "metadata": {},
     "output_type": "execute_result"
    }
   ],
   "source": [
    "gmm_bon.fit(bon_data)"
   ]
  },
  {
   "cell_type": "code",
   "execution_count": 1,
   "metadata": {
    "ExecuteTime": {
     "end_time": "2021-05-01T17:15:27.343362Z",
     "start_time": "2021-05-01T17:15:27.335799Z"
    }
   },
   "outputs": [],
   "source": [
    "import pickle"
   ]
  },
  {
   "cell_type": "code",
   "execution_count": 8,
   "metadata": {
    "ExecuteTime": {
     "end_time": "2021-05-01T17:16:12.315756Z",
     "start_time": "2021-05-01T17:16:12.311205Z"
    }
   },
   "outputs": [],
   "source": [
    "a = list(range(1,1000))"
   ]
  },
  {
   "cell_type": "code",
   "execution_count": 10,
   "metadata": {
    "ExecuteTime": {
     "end_time": "2021-05-01T17:17:08.334157Z",
     "start_time": "2021-05-01T17:17:08.326881Z"
    }
   },
   "outputs": [],
   "source": [
    "pickle.dump(a, open('/Users/asimadnan/Desktop/Mres/Experiments/a' + '__test.gmm', 'wb'))\n"
   ]
  },
  {
   "cell_type": "markdown",
   "metadata": {},
   "source": [
    "# dev feature"
   ]
  },
  {
   "cell_type": "code",
   "execution_count": 60,
   "metadata": {
    "ExecuteTime": {
     "end_time": "2021-05-04T12:57:49.899430Z",
     "start_time": "2021-05-04T12:57:49.895041Z"
    }
   },
   "outputs": [],
   "source": [
    "dev_feature = '/Users/asimadnan/Desktop/Mres/ASVspoof_2019_baseline_CM_v1/AllTrainData/devFeatureCell_train.mat'\n",
    "dev_filename = '/Users/asimadnan/Desktop/Mres/ASVspoof_2019_baseline_CM_v1/AllTrainData/filelist_dev.mat'\n",
    "dev_protocol = '/Users/asimadnan/Desktop/Mres/ASVSPOOF_DATA/LA/ASVspoof2019_LA_cm_protocols/ASVspoof2019.LA.cm.dev.trl.txt'"
   ]
  },
  {
   "cell_type": "code",
   "execution_count": 6,
   "metadata": {
    "ExecuteTime": {
     "end_time": "2021-05-04T12:22:52.705694Z",
     "start_time": "2021-05-04T12:22:52.685801Z"
    }
   },
   "outputs": [],
   "source": [
    "dev_feature_data = mat73.loadmat(dev_feature)"
   ]
  },
  {
   "cell_type": "code",
   "execution_count": 7,
   "metadata": {
    "ExecuteTime": {
     "end_time": "2021-05-04T12:23:43.809161Z",
     "start_time": "2021-05-04T12:23:42.890329Z"
    }
   },
   "outputs": [],
   "source": [
    "dev_file_names = scipy.io.loadmat(dev_filename)"
   ]
  },
  {
   "cell_type": "code",
   "execution_count": 61,
   "metadata": {
    "ExecuteTime": {
     "end_time": "2021-05-04T12:57:54.527985Z",
     "start_time": "2021-05-04T12:57:52.540048Z"
    }
   },
   "outputs": [],
   "source": [
    "labels = pd.read_csv(dev_protocol, delimiter = \" \", header=None)\n",
    "labels.columns = ['SPEAKER_ID','AUDIO_FILE_NAME','ENVIRONMENT_ID','ATTACK_ID','KEY']"
   ]
  },
  {
   "cell_type": "code",
   "execution_count": 8,
   "metadata": {
    "ExecuteTime": {
     "end_time": "2021-05-04T12:23:44.513742Z",
     "start_time": "2021-05-04T12:23:44.482030Z"
    }
   },
   "outputs": [
    {
     "data": {
      "text/plain": [
       "24844"
      ]
     },
     "execution_count": 8,
     "metadata": {},
     "output_type": "execute_result"
    }
   ],
   "source": [
    "len(dev_feature_data['devFeatureCell'])"
   ]
  },
  {
   "cell_type": "code",
   "execution_count": 11,
   "metadata": {
    "ExecuteTime": {
     "end_time": "2021-05-04T12:24:08.380351Z",
     "start_time": "2021-05-04T12:24:08.371855Z"
    }
   },
   "outputs": [
    {
     "data": {
      "text/plain": [
       "24844"
      ]
     },
     "execution_count": 11,
     "metadata": {},
     "output_type": "execute_result"
    }
   ],
   "source": [
    "len(dev_file_names['filelist'])"
   ]
  },
  {
   "cell_type": "code",
   "execution_count": 56,
   "metadata": {
    "ExecuteTime": {
     "end_time": "2021-05-04T12:37:18.972150Z",
     "start_time": "2021-05-04T12:37:18.956056Z"
    }
   },
   "outputs": [],
   "source": [
    "def extract_feature_dev(data,target_num_rows,filenames):\n",
    "    all_features = []\n",
    "    for idx,item in enumerate(data):\n",
    "        feature = np.array([np.array(xi) for xi in item])   \n",
    "        if(target_num_rows - feature.shape[1]) > 0:\n",
    "            feature = np.concatenate((feature, feature[:,:target_num_rows - feature.shape[1]]), axis=1)\n",
    "        else:\n",
    "            feature = feature[:,:target_num_rows]\n",
    "        \n",
    "        \n",
    "        feature = feature.reshape(-1)\n",
    "        feature = np.append(feature,filenames[idx][0][0])\n",
    "        #print(filenames[idx][0][0])\n",
    "        all_features.append(feature)\n",
    "    return all_features"
   ]
  },
  {
   "cell_type": "code",
   "execution_count": 84,
   "metadata": {
    "ExecuteTime": {
     "end_time": "2021-05-04T13:06:25.840523Z",
     "start_time": "2021-05-04T13:06:21.378367Z"
    }
   },
   "outputs": [],
   "source": [
    "dev_data = extract_feature_dev(dev_feature_data['devFeatureCell'][1:200],160,dev_file_names['filelist'][1:200])\n"
   ]
  },
  {
   "cell_type": "code",
   "execution_count": 87,
   "metadata": {
    "ExecuteTime": {
     "end_time": "2021-05-04T13:07:03.048832Z",
     "start_time": "2021-05-04T13:07:03.044236Z"
    }
   },
   "outputs": [],
   "source": [
    "feature_len = len(dev_data[0]) -1"
   ]
  },
  {
   "cell_type": "code",
   "execution_count": 88,
   "metadata": {
    "ExecuteTime": {
     "end_time": "2021-05-04T13:07:18.780139Z",
     "start_time": "2021-05-04T13:07:12.055034Z"
    }
   },
   "outputs": [],
   "source": [
    "dev_data = pd.DataFrame(dev_data)"
   ]
  },
  {
   "cell_type": "code",
   "execution_count": 89,
   "metadata": {
    "ExecuteTime": {
     "end_time": "2021-05-04T13:07:24.504466Z",
     "start_time": "2021-05-04T13:07:24.441319Z"
    }
   },
   "outputs": [
    {
     "data": {
      "text/plain": [
       "14400"
      ]
     },
     "execution_count": 89,
     "metadata": {},
     "output_type": "execute_result"
    }
   ],
   "source": [
    "dev_data.shape[1] -1"
   ]
  },
  {
   "cell_type": "code",
   "execution_count": 90,
   "metadata": {
    "ExecuteTime": {
     "end_time": "2021-05-04T13:07:31.369257Z",
     "start_time": "2021-05-04T13:07:31.354894Z"
    }
   },
   "outputs": [
    {
     "data": {
      "text/plain": [
       "14400"
      ]
     },
     "execution_count": 90,
     "metadata": {},
     "output_type": "execute_result"
    }
   ],
   "source": [
    "feature_len"
   ]
  },
  {
   "cell_type": "code",
   "execution_count": 74,
   "metadata": {
    "ExecuteTime": {
     "end_time": "2021-05-04T13:02:03.652798Z",
     "start_time": "2021-05-04T13:02:01.128109Z"
    }
   },
   "outputs": [],
   "source": [
    "dev_data = dev_data.rename({(dev_data.shape[1] -1): 'AUDIO_FILE_NAME'}, axis=1)"
   ]
  },
  {
   "cell_type": "code",
   "execution_count": 75,
   "metadata": {
    "ExecuteTime": {
     "end_time": "2021-05-04T13:02:22.691129Z",
     "start_time": "2021-05-04T13:02:19.992736Z"
    }
   },
   "outputs": [],
   "source": [
    "dev_data = pd.merge(dev_data, labels, on='AUDIO_FILE_NAME')"
   ]
  },
  {
   "cell_type": "code",
   "execution_count": 81,
   "metadata": {
    "ExecuteTime": {
     "end_time": "2021-05-04T13:04:35.801026Z",
     "start_time": "2021-05-04T13:04:35.648911Z"
    }
   },
   "outputs": [],
   "source": [
    "X = dev_data.iloc[:, 0:feature_len].values\n",
    "y = dev_data['KEY']"
   ]
  },
  {
   "cell_type": "code",
   "execution_count": 83,
   "metadata": {
    "ExecuteTime": {
     "end_time": "2021-05-04T13:04:48.447586Z",
     "start_time": "2021-05-04T13:04:48.439497Z"
    }
   },
   "outputs": [
    {
     "data": {
      "text/plain": [
       "0      bonafide\n",
       "1      bonafide\n",
       "2      bonafide\n",
       "3      bonafide\n",
       "4      bonafide\n",
       "         ...   \n",
       "194    bonafide\n",
       "195    bonafide\n",
       "196    bonafide\n",
       "197    bonafide\n",
       "198    bonafide\n",
       "Name: KEY, Length: 199, dtype: object"
      ]
     },
     "execution_count": 83,
     "metadata": {},
     "output_type": "execute_result"
    }
   ],
   "source": [
    "y"
   ]
  },
  {
   "cell_type": "code",
   "execution_count": 2,
   "metadata": {
    "ExecuteTime": {
     "end_time": "2021-05-06T00:38:30.552935Z",
     "start_time": "2021-05-06T00:38:30.549868Z"
    }
   },
   "outputs": [],
   "source": [
    "# Test GMM\n"
   ]
  },
  {
   "cell_type": "code",
   "execution_count": 5,
   "metadata": {
    "ExecuteTime": {
     "end_time": "2021-05-06T00:40:17.673506Z",
     "start_time": "2021-05-06T00:40:17.669395Z"
    }
   },
   "outputs": [],
   "source": [
    "feature = 'cqcc'\n",
    "\n",
    "if feature == 'mfcc':\n",
    "\t bon_model_path = '/Users/asimadnan/Desktop/Mres/ASVSPOOF_DATA/LA/output_data/train_mfcc_bon.gmm'\n",
    "\t# spf_model_path = '/Users/asimadnan/Desktop/Mres/ASVSPOOF_DATA/LA/output_data/train_mfcc_spoof.gmm'\n",
    "\t# data_path = '/Users/asimadnan/Desktop/Mres/ASVSPOOF_DATA/LA/output_data/dev_mfcc.csv'\n",
    "else:\n",
    "\tbon_model_path = '/scratch/fk99/ae1028/models/cqcc__bon.gmm'\n",
    "\tspf_model_path = '/scratch/fk99/ae1028/models/cqcc__spoof.gmm'\n",
    "\tdev_filename = '/Users/asimadnan/Desktop/Mres/ASVspoof_2019_baseline_CM_v1/AllTrainData/CQCC_filelist_dev.mat'\n",
    "\tdata_path = '/Users/asimadnan/Desktop/Mres/ASVspoof_2019_baseline_CM_v1/AllTrainData/CQCC_devFeatureCell_train.mat'\n",
    "\n",
    "#dev labels because testing models on dev data\n",
    "\n",
    "dev_protocol = '/Users/asimadnan/Desktop/Mres/ASVSPOOF_DATA/LA/ASVspoof2019_LA_cm_protocols/ASVspoof2019.LA.cm.dev.trl.txt'\n",
    "output_path = '/scratch/fk99/ae1028/'\n"
   ]
  },
  {
   "cell_type": "code",
   "execution_count": 6,
   "metadata": {
    "ExecuteTime": {
     "end_time": "2021-05-06T00:42:55.343684Z",
     "start_time": "2021-05-06T00:40:42.301292Z"
    }
   },
   "outputs": [],
   "source": [
    "\n",
    "dev_feature_data = mat73.loadmat(data_path)\n",
    "dev_file_names = scipy.io.loadmat(dev_filename)\n",
    "labels = pd.read_csv(dev_protocol, delimiter = \" \", header=None)\n",
    "\n",
    "labels.columns = ['SPEAKER_ID','AUDIO_FILE_NAME','ENVIRONMENT_ID','ATTACK_ID','KEY']\n",
    "target_num_rows = 160\n",
    "\n",
    "\n",
    "dev_data = []\n",
    "for idx,item in enumerate(dev_feature_data['devFeatureCell'][0:100]):\n",
    "    feature = np.array([np.array(xi) for xi in item])   \n",
    "    if(target_num_rows - feature.shape[1]) > 0:\n",
    "        feature = np.concatenate((feature, feature[:,:target_num_rows - feature.shape[1]]), axis=1)\n",
    "    else:\n",
    "        feature = feature[:,:target_num_rows]\n",
    "    \n",
    "    \n",
    "    feature = feature.reshape(-1)\n",
    "    feature = np.append(feature,dev_file_names['filelist'][idx][0][0])\n",
    "    dev_data.append(feature)\n",
    "\n",
    "\n",
    "feature_len = len(dev_data[0]) -1\n",
    "\n",
    "del dev_feature_data\n",
    "\n",
    "dev_data = pd.DataFrame(dev_data)\n",
    "dev_data = dev_data.rename({(feature_len): 'AUDIO_FILE_NAME'}, axis=1)\n",
    "dev_data = pd.merge(dev_data, labels, on='AUDIO_FILE_NAME')\n",
    "\n",
    "\n",
    " \n",
    "\n"
   ]
  },
  {
   "cell_type": "code",
   "execution_count": 12,
   "metadata": {
    "ExecuteTime": {
     "end_time": "2021-05-06T00:59:01.833699Z",
     "start_time": "2021-05-06T00:59:01.770251Z"
    }
   },
   "outputs": [],
   "source": [
    "X = dev_data.iloc[:, 0:feature_len].values\n",
    "y = dev_data['KEY']\n",
    "\n",
    "\n",
    "predic_scores = []\n",
    "counter = len(X)"
   ]
  },
  {
   "cell_type": "code",
   "execution_count": 13,
   "metadata": {
    "ExecuteTime": {
     "end_time": "2021-05-06T00:59:03.575417Z",
     "start_time": "2021-05-06T00:59:03.568801Z"
    }
   },
   "outputs": [
    {
     "name": "stdout",
     "output_type": "stream",
     "text": [
      "Evaluating Bon sample at 0.0 %\n",
      "Evaluating Bon sample at 50.0 %\n"
     ]
    }
   ],
   "source": [
    "for i in range(counter):\n",
    "    if (i % 50 == 0):\n",
    "        print('Evaluating Bon sample at',i/counter * 100, '%')\n",
    "    x_obs = [X[i]]"
   ]
  },
  {
   "cell_type": "code",
   "execution_count": 14,
   "metadata": {
    "ExecuteTime": {
     "end_time": "2021-05-06T01:33:05.475987Z",
     "start_time": "2021-05-06T01:33:05.437805Z"
    }
   },
   "outputs": [
    {
     "data": {
      "text/html": [
       "<div>\n",
       "<style scoped>\n",
       "    .dataframe tbody tr th:only-of-type {\n",
       "        vertical-align: middle;\n",
       "    }\n",
       "\n",
       "    .dataframe tbody tr th {\n",
       "        vertical-align: top;\n",
       "    }\n",
       "\n",
       "    .dataframe thead th {\n",
       "        text-align: right;\n",
       "    }\n",
       "</style>\n",
       "<table border=\"1\" class=\"dataframe\">\n",
       "  <thead>\n",
       "    <tr style=\"text-align: right;\">\n",
       "      <th></th>\n",
       "      <th>0</th>\n",
       "      <th>1</th>\n",
       "      <th>2</th>\n",
       "      <th>3</th>\n",
       "      <th>4</th>\n",
       "      <th>5</th>\n",
       "      <th>6</th>\n",
       "      <th>7</th>\n",
       "      <th>8</th>\n",
       "      <th>9</th>\n",
       "      <th>...</th>\n",
       "      <th>14395</th>\n",
       "      <th>14396</th>\n",
       "      <th>14397</th>\n",
       "      <th>14398</th>\n",
       "      <th>14399</th>\n",
       "      <th>AUDIO_FILE_NAME</th>\n",
       "      <th>SPEAKER_ID</th>\n",
       "      <th>ENVIRONMENT_ID</th>\n",
       "      <th>ATTACK_ID</th>\n",
       "      <th>KEY</th>\n",
       "    </tr>\n",
       "  </thead>\n",
       "  <tbody>\n",
       "    <tr>\n",
       "      <th>0</th>\n",
       "      <td>-2122.3887113500673</td>\n",
       "      <td>-2112.2690857174225</td>\n",
       "      <td>-2125.777307832332</td>\n",
       "      <td>-2128.4406718767245</td>\n",
       "      <td>-2120.7159783393145</td>\n",
       "      <td>-2123.5386223818937</td>\n",
       "      <td>-2119.328675820092</td>\n",
       "      <td>-2122.556876097502</td>\n",
       "      <td>-2116.925012178601</td>\n",
       "      <td>-2129.3584315650605</td>\n",
       "      <td>...</td>\n",
       "      <td>-0.7856827641820611</td>\n",
       "      <td>-0.40036753857835705</td>\n",
       "      <td>-0.006610936249975552</td>\n",
       "      <td>0.37381693273072186</td>\n",
       "      <td>0.42305311274859514</td>\n",
       "      <td>LA_D_1047731</td>\n",
       "      <td>LA_0069</td>\n",
       "      <td>-</td>\n",
       "      <td>-</td>\n",
       "      <td>bonafide</td>\n",
       "    </tr>\n",
       "    <tr>\n",
       "      <th>1</th>\n",
       "      <td>-2109.9832241980585</td>\n",
       "      <td>-2112.088048801877</td>\n",
       "      <td>-2109.3334440756066</td>\n",
       "      <td>-2103.222135894493</td>\n",
       "      <td>-2097.979214559977</td>\n",
       "      <td>-2100.9295901664</td>\n",
       "      <td>-2108.27167841315</td>\n",
       "      <td>-2111.3057380682</td>\n",
       "      <td>-2114.32919458669</td>\n",
       "      <td>-2120.1077434589633</td>\n",
       "      <td>...</td>\n",
       "      <td>0.07643318260922385</td>\n",
       "      <td>-0.23078332389010422</td>\n",
       "      <td>-0.2987432692434176</td>\n",
       "      <td>-0.019715351442905118</td>\n",
       "      <td>0.22355379368481174</td>\n",
       "      <td>LA_D_1105538</td>\n",
       "      <td>LA_0069</td>\n",
       "      <td>-</td>\n",
       "      <td>-</td>\n",
       "      <td>bonafide</td>\n",
       "    </tr>\n",
       "    <tr>\n",
       "      <th>2</th>\n",
       "      <td>-2118.133079082722</td>\n",
       "      <td>-2110.386334280283</td>\n",
       "      <td>-2114.7436102088254</td>\n",
       "      <td>-2113.7316944326853</td>\n",
       "      <td>-2112.139367747645</td>\n",
       "      <td>-2114.2395771745196</td>\n",
       "      <td>-2107.0402670318763</td>\n",
       "      <td>-2118.634115160394</td>\n",
       "      <td>-2120.8576652760426</td>\n",
       "      <td>-2118.6690653295864</td>\n",
       "      <td>...</td>\n",
       "      <td>0.1278755511656841</td>\n",
       "      <td>0.050201170279949574</td>\n",
       "      <td>-0.08386896377933868</td>\n",
       "      <td>-0.04994133411672273</td>\n",
       "      <td>-0.0192782320406723</td>\n",
       "      <td>LA_D_1125976</td>\n",
       "      <td>LA_0069</td>\n",
       "      <td>-</td>\n",
       "      <td>-</td>\n",
       "      <td>bonafide</td>\n",
       "    </tr>\n",
       "    <tr>\n",
       "      <th>3</th>\n",
       "      <td>-2106.242473986394</td>\n",
       "      <td>-2128.578018778281</td>\n",
       "      <td>-2151.9107611489394</td>\n",
       "      <td>-2159.5712124646675</td>\n",
       "      <td>-2167.095982893443</td>\n",
       "      <td>-2163.1131569509926</td>\n",
       "      <td>-2168.2259713420226</td>\n",
       "      <td>-2165.260237549119</td>\n",
       "      <td>-2164.9028101433023</td>\n",
       "      <td>-2163.0119071093727</td>\n",
       "      <td>...</td>\n",
       "      <td>-0.4296520744272594</td>\n",
       "      <td>-0.7109192001159765</td>\n",
       "      <td>-0.5856843948637448</td>\n",
       "      <td>-0.21816415457502525</td>\n",
       "      <td>0.1476675536245576</td>\n",
       "      <td>LA_D_1293230</td>\n",
       "      <td>LA_0069</td>\n",
       "      <td>-</td>\n",
       "      <td>-</td>\n",
       "      <td>bonafide</td>\n",
       "    </tr>\n",
       "    <tr>\n",
       "      <th>4</th>\n",
       "      <td>-2080.3167144538024</td>\n",
       "      <td>-2100.127883338719</td>\n",
       "      <td>-2125.7916433993605</td>\n",
       "      <td>-2147.772227104753</td>\n",
       "      <td>-2156.9706239172756</td>\n",
       "      <td>-2176.2348128218605</td>\n",
       "      <td>-2166.966934182441</td>\n",
       "      <td>-2153.3172115528578</td>\n",
       "      <td>-2152.7335147414256</td>\n",
       "      <td>-2158.461075853032</td>\n",
       "      <td>...</td>\n",
       "      <td>0.2778078770654126</td>\n",
       "      <td>0.3723084895986249</td>\n",
       "      <td>0.21279849777742005</td>\n",
       "      <td>0.0322322775723396</td>\n",
       "      <td>0.11800020760235738</td>\n",
       "      <td>LA_D_1340209</td>\n",
       "      <td>LA_0069</td>\n",
       "      <td>-</td>\n",
       "      <td>-</td>\n",
       "      <td>bonafide</td>\n",
       "    </tr>\n",
       "  </tbody>\n",
       "</table>\n",
       "<p>5 rows × 14405 columns</p>\n",
       "</div>"
      ],
      "text/plain": [
       "                     0                    1                    2  \\\n",
       "0  -2122.3887113500673  -2112.2690857174225   -2125.777307832332   \n",
       "1  -2109.9832241980585   -2112.088048801877  -2109.3334440756066   \n",
       "2   -2118.133079082722   -2110.386334280283  -2114.7436102088254   \n",
       "3   -2106.242473986394   -2128.578018778281  -2151.9107611489394   \n",
       "4  -2080.3167144538024   -2100.127883338719  -2125.7916433993605   \n",
       "\n",
       "                     3                    4                    5  \\\n",
       "0  -2128.4406718767245  -2120.7159783393145  -2123.5386223818937   \n",
       "1   -2103.222135894493   -2097.979214559977     -2100.9295901664   \n",
       "2  -2113.7316944326853   -2112.139367747645  -2114.2395771745196   \n",
       "3  -2159.5712124646675   -2167.095982893443  -2163.1131569509926   \n",
       "4   -2147.772227104753  -2156.9706239172756  -2176.2348128218605   \n",
       "\n",
       "                     6                    7                    8  \\\n",
       "0   -2119.328675820092   -2122.556876097502   -2116.925012178601   \n",
       "1    -2108.27167841315     -2111.3057380682    -2114.32919458669   \n",
       "2  -2107.0402670318763   -2118.634115160394  -2120.8576652760426   \n",
       "3  -2168.2259713420226   -2165.260237549119  -2164.9028101433023   \n",
       "4   -2166.966934182441  -2153.3172115528578  -2152.7335147414256   \n",
       "\n",
       "                     9  ...                14395                 14396  \\\n",
       "0  -2129.3584315650605  ...  -0.7856827641820611  -0.40036753857835705   \n",
       "1  -2120.1077434589633  ...  0.07643318260922385  -0.23078332389010422   \n",
       "2  -2118.6690653295864  ...   0.1278755511656841  0.050201170279949574   \n",
       "3  -2163.0119071093727  ...  -0.4296520744272594   -0.7109192001159765   \n",
       "4   -2158.461075853032  ...   0.2778078770654126    0.3723084895986249   \n",
       "\n",
       "                   14397                  14398                14399  \\\n",
       "0  -0.006610936249975552    0.37381693273072186  0.42305311274859514   \n",
       "1    -0.2987432692434176  -0.019715351442905118  0.22355379368481174   \n",
       "2   -0.08386896377933868   -0.04994133411672273  -0.0192782320406723   \n",
       "3    -0.5856843948637448   -0.21816415457502525   0.1476675536245576   \n",
       "4    0.21279849777742005     0.0322322775723396  0.11800020760235738   \n",
       "\n",
       "  AUDIO_FILE_NAME SPEAKER_ID ENVIRONMENT_ID ATTACK_ID       KEY  \n",
       "0    LA_D_1047731    LA_0069              -         -  bonafide  \n",
       "1    LA_D_1105538    LA_0069              -         -  bonafide  \n",
       "2    LA_D_1125976    LA_0069              -         -  bonafide  \n",
       "3    LA_D_1293230    LA_0069              -         -  bonafide  \n",
       "4    LA_D_1340209    LA_0069              -         -  bonafide  \n",
       "\n",
       "[5 rows x 14405 columns]"
      ]
     },
     "execution_count": 14,
     "metadata": {},
     "output_type": "execute_result"
    }
   ],
   "source": [
    "dev_data.head().to_csv()"
   ]
  },
  {
   "cell_type": "code",
   "execution_count": null,
   "metadata": {},
   "outputs": [],
   "source": []
  }
 ],
 "metadata": {
  "kernelspec": {
   "display_name": "Python [conda env:root] *",
   "language": "python",
   "name": "conda-root-py"
  },
  "language_info": {
   "codemirror_mode": {
    "name": "ipython",
    "version": 3
   },
   "file_extension": ".py",
   "mimetype": "text/x-python",
   "name": "python",
   "nbconvert_exporter": "python",
   "pygments_lexer": "ipython3",
   "version": "3.8.5"
  },
  "varInspector": {
   "cols": {
    "lenName": 16,
    "lenType": 16,
    "lenVar": 40
   },
   "kernels_config": {
    "python": {
     "delete_cmd_postfix": "",
     "delete_cmd_prefix": "del ",
     "library": "var_list.py",
     "varRefreshCmd": "print(var_dic_list())"
    },
    "r": {
     "delete_cmd_postfix": ") ",
     "delete_cmd_prefix": "rm(",
     "library": "var_list.r",
     "varRefreshCmd": "cat(var_dic_list()) "
    }
   },
   "types_to_exclude": [
    "module",
    "function",
    "builtin_function_or_method",
    "instance",
    "_Feature"
   ],
   "window_display": false
  }
 },
 "nbformat": 4,
 "nbformat_minor": 4
}
