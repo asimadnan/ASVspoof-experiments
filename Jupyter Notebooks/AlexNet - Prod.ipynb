{
 "cells": [
  {
   "cell_type": "code",
   "execution_count": 1,
   "metadata": {
    "ExecuteTime": {
     "end_time": "2021-06-10T03:32:06.759982Z",
     "start_time": "2021-06-10T03:31:52.889421Z"
    }
   },
   "outputs": [],
   "source": [
    "import pandas as pd\n",
    "import os\n",
    "import librosa\n",
    "import librosa.display\n",
    "from tensorflow import keras\n",
    "import seaborn as sns\n",
    "import matplotlib.pyplot as plt\n",
    "import time\n",
    "import tensorflow as tf\n",
    "import numpy as np\n",
    "from keras.models import Sequential\n",
    "from keras.layers import Dense, Dropout, Activation, Flatten\n",
    "from keras.layers import Convolution2D, Conv2D, MaxPooling2D, GlobalAveragePooling2D\n",
    "from keras.optimizers import Adam\n",
    "from keras.utils import np_utils\n",
    "from sklearn import metrics \n",
    "from sklearn.preprocessing import LabelEncoder\n",
    "from keras.utils import to_categorical\n",
    "from sklearn.model_selection import train_test_split \n"
   ]
  },
  {
   "cell_type": "code",
   "execution_count": 2,
   "metadata": {
    "ExecuteTime": {
     "end_time": "2021-06-10T03:32:06.826048Z",
     "start_time": "2021-06-10T03:32:06.800722Z"
    }
   },
   "outputs": [],
   "source": [
    "data_path = '/Users/asimadnan/Desktop/Mres/ASVSPOOF_DATA/LA/ASVspoof2019_LA_train/sample'\n",
    "labels_path = '/Users/asimadnan/Desktop/Mres/ASVSPOOF_DATA/LA/ASVspoof2019_LA_cm_protocols/ASVspoof2019.LA.cm.train.trn.txt'\n",
    "\n"
   ]
  },
  {
   "cell_type": "code",
   "execution_count": 3,
   "metadata": {
    "ExecuteTime": {
     "end_time": "2021-06-10T03:32:06.940356Z",
     "start_time": "2021-06-10T03:32:06.921483Z"
    }
   },
   "outputs": [],
   "source": [
    "def extract_cqt(filename):\n",
    "    try:\n",
    "        y, sr = librosa.load(data_path + '/' + filename)\n",
    "        #cqt = np.abs(librosa.cqt(y, sr=sr))\n",
    "        cqt = np.abs(librosa.cqt(y, sr=sr, fmin=librosa.note_to_hz('C2'),\n",
    "                n_bins=60 * 2, bins_per_octave=12 * 2))\n",
    "    except Exception as e:\n",
    "        print(\"Error encountered while parsing file: \", filename)\n",
    "        return None \n",
    "     \n",
    "    return cqt,sr\n",
    "    \n",
    "    "
   ]
  },
  {
   "cell_type": "code",
   "execution_count": 4,
   "metadata": {
    "ExecuteTime": {
     "end_time": "2021-06-10T03:32:07.008263Z",
     "start_time": "2021-06-10T03:32:06.955897Z"
    }
   },
   "outputs": [],
   "source": [
    "filename2label = {}\n",
    "for line in open(labels_path):\n",
    "    line = line.split()\n",
    "    filename, label = line[1], line[-1]\n",
    "    filename2label[filename] = label"
   ]
  },
  {
   "cell_type": "code",
   "execution_count": 7,
   "metadata": {
    "ExecuteTime": {
     "end_time": "2021-06-10T03:32:32.934970Z",
     "start_time": "2021-06-10T03:32:32.930573Z"
    }
   },
   "outputs": [],
   "source": [
    "def get_mel_spectrogram(filename):\n",
    "    #do processing on a single file based on it name\n",
    "    try:\n",
    "        y, sr = librosa.load(data_path + '/' + filename)\n",
    "        S = librosa.feature.melspectrogram(y=y, sr=sr)\n",
    "    except Exception as e:\n",
    "        print(\"Error encountered while parsing file: \", filename)\n",
    "        return None \n",
    "     \n",
    "    return S,sr"
   ]
  },
  {
   "cell_type": "code",
   "execution_count": 8,
   "metadata": {
    "ExecuteTime": {
     "end_time": "2021-06-10T03:32:33.335087Z",
     "start_time": "2021-06-10T03:32:33.327123Z"
    }
   },
   "outputs": [],
   "source": [
    "def get_fft_spectrogram(filename):\n",
    "    #do processing on a single file based on it name\n",
    "    try:\n",
    "        y, sr = librosa.load(data_path + '/' + filename)\n",
    "        fft = np.abs(librosa.stft(y=y, sr=sr))\n",
    "    except Exception as e:\n",
    "        print(\"Error encountered while parsing file: \", filename)\n",
    "        return None \n",
    "     \n",
    "    return fft,sr"
   ]
  },
  {
   "cell_type": "code",
   "execution_count": 9,
   "metadata": {
    "ExecuteTime": {
     "end_time": "2021-06-10T03:32:33.726489Z",
     "start_time": "2021-06-10T03:32:33.712537Z"
    }
   },
   "outputs": [],
   "source": [
    "def extract_n_features(x):\n",
    "    #t_start = time.time() \n",
    "   \n",
    "    feats = []\n",
    "    for filename in x:\n",
    "        if filename.split('.')[0] in filename2label:\n",
    "            class_label = filename2label[filename.split('.')[0]]\n",
    "            \n",
    "            data_list = []\n",
    "            spec,sr = get_mel_spectrogram(filename)\n",
    "            cqt,sr = extract_cqt(filename)\n",
    "\n",
    "            data_list.append(spec)\n",
    "            data_list.append(cqt)\n",
    "\n",
    "            data_clean = []\n",
    "            for data in data_list:\n",
    "                if(target_num_rows > data.shape[1]):\n",
    "                    # repeat sample\n",
    "                    while(target_num_rows != data.shape[1]):\n",
    "                        data = np.concatenate((data, data[:,:target_num_rows - data.shape[1]]), axis=1)\n",
    "                else:\n",
    "                    #cut  sample\n",
    "                    data = data[:,:target_num_rows] \n",
    "                data_clean.append(data)\n",
    "            \n",
    "            col_size = min(data_list[0].shape[0],data_list[1].shape[0])\n",
    "            feats.append([data_clean[0][:col_size,:],data_clean[1][:col_size,:], class_label,filename])\n",
    "        \n",
    "    return feats"
   ]
  },
  {
   "cell_type": "code",
   "execution_count": 10,
   "metadata": {
    "ExecuteTime": {
     "end_time": "2021-06-10T03:32:38.706263Z",
     "start_time": "2021-06-10T03:32:36.186088Z"
    }
   },
   "outputs": [
    {
     "name": "stdout",
     "output_type": "stream",
     "text": [
      "16.666666666666664 % done\n",
      "2 out of  6 done\n",
      "33.33333333333333 % done\n",
      "3 out of  6 done\n",
      "4 out of  6 done\n",
      "66.66666666666666 % done\n",
      "5 out of  6 done\n",
      "83.33333333333334 % done\n",
      "6 out of  6 done\n",
      "7 out of  6 done\n",
      "Finished feature extraction from  6  files\n"
     ]
    }
   ],
   "source": [
    "features = []\n",
    "target_num_rows = 150\n",
    "total_file = len(os.listdir(data_path))\n",
    "counter = 1\n",
    "# Iterate through each sound file and extract the features \n",
    "for filename in os.listdir(data_path):\n",
    "    class_label = filename2label[filename.split('.')[0]]\n",
    "    data_list = []\n",
    "    spec,sr = get_mel_spectrogram(filename)\n",
    "    cqt,sr = extract_cqt(filename)\n",
    "    \n",
    "    data_list.append(spec)\n",
    "    data_list.append(cqt)\n",
    "    \n",
    "    data_clean = []\n",
    "    \n",
    "    for data in data_list:\n",
    "        if(target_num_rows > data.shape[1]):\n",
    "        # repeat sample untill size reached\n",
    "            while(target_num_rows != data.shape[1]):\n",
    "                data = np.concatenate((data, data[:,:target_num_rows - data.shape[1]]), axis=1)\n",
    "        else:\n",
    "        #cut  sample\n",
    "            data = data[:,:target_num_rows] \n",
    "        \n",
    "        data_clean.append(data)\n",
    "        \n",
    "    \n",
    "    col_size = min(data_list[0].shape[0],data_list[1].shape[0])\n",
    "    \n",
    "        \n",
    "    \n",
    "    # cut data to specified targetnum of rows\n",
    "#     if(target_num_rows > data.shape[1]):\n",
    "#         # repeat sample\n",
    "#         while(target_num_rows != data.shape[1]):\n",
    "#             data = np.concatenate((data, data[:,:target_num_rows - data.shape[1]]), axis=1)\n",
    "#     else:\n",
    "#         #cut  sample\n",
    "#         data = data[:,:target_num_rows] \n",
    "\n",
    "    \n",
    "    features.append([data_clean[0][:col_size,:],data_clean[1][:col_size,:], class_label,filename])\n",
    "    if 100%counter == 0:\n",
    "        print( ((counter/total_file)*100), '% done' )\n",
    "    \n",
    "    counter=counter+1\n",
    "    print(counter, 'out of ', total_file, 'done')\n",
    "\n",
    "# Convert into a Panda dataframe \n",
    "featuresdf = pd.DataFrame(features, columns=['feature1','feature2','class_label','filename'])\n",
    "\n",
    "print('Finished feature extraction from ', len(featuresdf), ' files')"
   ]
  },
  {
   "cell_type": "code",
   "execution_count": 10,
   "metadata": {
    "ExecuteTime": {
     "end_time": "2021-05-25T13:42:57.309715Z",
     "start_time": "2021-05-25T13:42:57.302340Z"
    }
   },
   "outputs": [],
   "source": [
    "# filename2label['LA_D_A6141181']\n",
    "\n",
    "if 'LA_D_A6141181' in filename2label:\n",
    "    print('LA_D_A6141181')"
   ]
  },
  {
   "cell_type": "code",
   "execution_count": 16,
   "metadata": {
    "ExecuteTime": {
     "end_time": "2021-06-10T03:42:53.607760Z",
     "start_time": "2021-06-10T03:42:53.599844Z"
    }
   },
   "outputs": [
    {
     "data": {
      "text/plain": [
       "(120, 150)"
      ]
     },
     "execution_count": 16,
     "metadata": {},
     "output_type": "execute_result"
    }
   ],
   "source": [
    "featuresdf.sample(1)['feature1'].values[0].shape"
   ]
  },
  {
   "cell_type": "code",
   "execution_count": 11,
   "metadata": {
    "ExecuteTime": {
     "end_time": "2021-06-10T03:32:42.421905Z",
     "start_time": "2021-06-10T03:32:41.498180Z"
    }
   },
   "outputs": [
    {
     "name": "stderr",
     "output_type": "stream",
     "text": [
      "/Users/asimadnan/opt/anaconda3/lib/python3.8/site-packages/librosa/display.py:974: MatplotlibDeprecationWarning: The 'basey' parameter of __init__() has been renamed 'base' since Matplotlib 3.3; support for the old name will be dropped two minor releases later.\n",
      "  scaler(mode, **kwargs)\n",
      "/Users/asimadnan/opt/anaconda3/lib/python3.8/site-packages/librosa/display.py:974: MatplotlibDeprecationWarning: The 'linthreshy' parameter of __init__() has been renamed 'linthresh' since Matplotlib 3.3; support for the old name will be dropped two minor releases later.\n",
      "  scaler(mode, **kwargs)\n"
     ]
    },
    {
     "data": {
      "text/plain": [
       "<matplotlib.colorbar.Colorbar at 0x7fde562e3100>"
      ]
     },
     "execution_count": 11,
     "metadata": {},
     "output_type": "execute_result"
    },
    {
     "data": {
      "image/png": "[encoded data removed]",
      "text/plain": [
       "<Figure size 432x288 with 2 Axes>"
      ]
     },
     "metadata": {
      "needs_background": "light"
     },
     "output_type": "display_data"
    },
    {
     "data": {
      "image/png": "[encoded data removed]",
      "text/plain": [
       "<Figure size 432x288 with 2 Axes>"
      ]
     },
     "metadata": {
      "needs_background": "light"
     },
     "output_type": "display_data"
    }
   ],
   "source": [
    "################################\n",
    "#ploting a random sample\n",
    "#########################\n",
    "\n",
    "fig, ax = plt.subplots()\n",
    "# img = librosa.display.specshow(librosa.amplitude_to_db(featuresdf.sample(1)['feature'].values[0], ref=np.max),\n",
    "#                                sr=22050, x_axis='time', y_axis='cqt_note', ax=ax)\n",
    "img = librosa.display.specshow(librosa.amplitude_to_db(featuresdf.sample(1)['feature1'].values[0], ref=np.max), x_axis='time',\n",
    "                         y_axis='mel', sr=sr,\n",
    "                         fmax=8000, ax=ax)\n",
    "ax.set_title('Constant-Q power spectrum')\n",
    "fig.colorbar(img, ax=ax, format=\"%+2.0f dB\")\n",
    "\n",
    "fig, ax = plt.subplots()\n",
    "# img = librosa.display.specshow(librosa.amplitude_to_db(featuresdf.sample(1)['feature'].values[0], ref=np.max),\n",
    "#                                sr=22050, x_axis='time', y_axis='cqt_note', ax=ax)\n",
    "img = librosa.display.specshow(librosa.amplitude_to_db(featuresdf.sample(1)['feature2'].values[0], ref=np.max), x_axis='time',\n",
    "                         y_axis='mel', sr=sr,\n",
    "                         fmax=8000, ax=ax)\n",
    "ax.set_title('Constant-Q power spectrum')\n",
    "fig.colorbar(img, ax=ax, format=\"%+2.0f dB\")"
   ]
  },
  {
   "cell_type": "markdown",
   "metadata": {},
   "source": [
    "# Make 2 chanel data"
   ]
  },
  {
   "cell_type": "code",
   "execution_count": 79,
   "metadata": {
    "ExecuteTime": {
     "end_time": "2021-06-02T11:18:59.499989Z",
     "start_time": "2021-06-02T11:18:59.491395Z"
    }
   },
   "outputs": [],
   "source": [
    "X_1 = np.array(featuresdf.feature1.tolist())\n",
    "X_2 = np.array(featuresdf.feature2.tolist())\n",
    "y = np.array(featuresdf.class_label.tolist())\n",
    "filenames = np.array(featuresdf.filename.tolist())"
   ]
  },
  {
   "cell_type": "code",
   "execution_count": 80,
   "metadata": {
    "ExecuteTime": {
     "end_time": "2021-06-02T11:19:01.536126Z",
     "start_time": "2021-06-02T11:19:01.526182Z"
    }
   },
   "outputs": [],
   "source": [
    "# Encode the classification labels\n",
    "le = LabelEncoder()\n",
    "yy = to_categorical(le.fit_transform(y)) \n",
    "yy = yy[:,0]\n"
   ]
  },
  {
   "cell_type": "code",
   "execution_count": 81,
   "metadata": {
    "ExecuteTime": {
     "end_time": "2021-06-02T11:19:03.468706Z",
     "start_time": "2021-06-02T11:19:03.461744Z"
    }
   },
   "outputs": [
    {
     "name": "stdout",
     "output_type": "stream",
     "text": [
      "(120, 150)\n",
      "(120, 150)\n"
     ]
    }
   ],
   "source": [
    "print( X_1[0].shape)\n",
    "print( X_2[0].shape)"
   ]
  },
  {
   "cell_type": "code",
   "execution_count": 85,
   "metadata": {
    "ExecuteTime": {
     "end_time": "2021-06-02T11:22:58.683160Z",
     "start_time": "2021-06-02T11:22:58.675274Z"
    }
   },
   "outputs": [
    {
     "name": "stdout",
     "output_type": "stream",
     "text": [
      "(6, 120, 150, 2)\n"
     ]
    }
   ],
   "source": [
    "x_train = []\n",
    "for i,u in enumerate(X_1):\n",
    "    x_train.append(np.dstack((X_1[i], X_2[i])))\n",
    "\n",
    "x_train = np.asarray(x_train)\n",
    "print(x_train.shape)"
   ]
  },
  {
   "cell_type": "code",
   "execution_count": 86,
   "metadata": {
    "ExecuteTime": {
     "end_time": "2021-06-02T11:23:48.440286Z",
     "start_time": "2021-06-02T11:23:48.431406Z"
    }
   },
   "outputs": [],
   "source": [
    "num_rows = x_train.shape[1]\n",
    "num_columns = x_train.shape[2]\n",
    "num_channels =  x_train.shape[3]\n",
    "filter_size = 2"
   ]
  },
  {
   "cell_type": "markdown",
   "metadata": {},
   "source": [
    "# Normal 1 chanell code"
   ]
  },
  {
   "cell_type": "code",
   "execution_count": 12,
   "metadata": {
    "ExecuteTime": {
     "end_time": "2021-06-02T09:13:12.643395Z",
     "start_time": "2021-06-02T09:13:12.637353Z"
    }
   },
   "outputs": [],
   "source": [
    "# Convert features and corresponding classification labels into numpy arrays\n",
    "X = np.array(featuresdf.feature.tolist())\n",
    "y = np.array(featuresdf.class_label.tolist())\n",
    "filenames = np.array(featuresdf.filename.tolist())\n",
    "\n",
    "# np.save('X-cqt-sample', X)\n",
    "# np.save('y-cqt-sample', y)\n",
    "# np.save('filenames-cqt-sample', filenames)\n",
    "# X = np.load('X-cqt.npy')\n"
   ]
  },
  {
   "cell_type": "code",
   "execution_count": 10,
   "metadata": {
    "ExecuteTime": {
     "end_time": "2021-05-26T13:20:39.158375Z",
     "start_time": "2021-05-26T13:20:39.148394Z"
    }
   },
   "outputs": [],
   "source": [
    "\n",
    "# Encode the classification labels\n",
    "le = LabelEncoder()\n",
    "yy = to_categorical(le.fit_transform(y)) \n",
    "yy = yy[:,0]\n",
    "\n",
    "# split the dataset \n",
    "# x_train, x_test, y_train, y_test = train_test_split(X, yy, test_size=0.2, random_state = 42)"
   ]
  },
  {
   "cell_type": "code",
   "execution_count": 15,
   "metadata": {
    "ExecuteTime": {
     "end_time": "2021-05-26T13:21:33.191615Z",
     "start_time": "2021-05-26T13:21:33.177268Z"
    }
   },
   "outputs": [],
   "source": [
    "num_rows = X[0].shape[0]\n",
    "num_columns = X[0].shape[1]\n",
    "num_channels = 1\n",
    "filter_size = 2"
   ]
  },
  {
   "cell_type": "code",
   "execution_count": 16,
   "metadata": {
    "ExecuteTime": {
     "end_time": "2021-05-26T13:21:34.425977Z",
     "start_time": "2021-05-26T13:21:34.417316Z"
    }
   },
   "outputs": [],
   "source": [
    "x_train = []\n",
    "for u in X:\n",
    "    x_train.append(np.reshape(u, (num_rows, num_columns, num_channels)))\n",
    "x_train = np.asarray(x_train)"
   ]
  },
  {
   "cell_type": "code",
   "execution_count": 16,
   "metadata": {
    "ExecuteTime": {
     "end_time": "2021-05-25T13:43:01.749265Z",
     "start_time": "2021-05-25T13:43:01.744108Z"
    }
   },
   "outputs": [],
   "source": [
    "# x_train_2 = []\n",
    "# x_test_2 = []\n",
    "# for u in x_train:\n",
    "#     x_train_2.append(np.reshape(u, (num_rows, num_columns, num_channels)))\n",
    "\n",
    "    \n",
    "# for u in x_test:\n",
    "#     x_test_2.append(np.reshape(u, (num_rows, num_columns, num_channels)))\n",
    "    \n",
    "# x_train = np.asarray(x_train_2)\n",
    "# x_test = np.asarray(x_test_2)\n"
   ]
  },
  {
   "cell_type": "markdown",
   "metadata": {},
   "source": [
    "# CNN"
   ]
  },
  {
   "cell_type": "code",
   "execution_count": 87,
   "metadata": {
    "ExecuteTime": {
     "end_time": "2021-06-02T11:24:02.142949Z",
     "start_time": "2021-06-02T11:24:00.925581Z"
    }
   },
   "outputs": [],
   "source": [
    "activation_func = 'relu'\n",
    "\n",
    "model = keras.models.Sequential([\n",
    "    keras.layers.Conv2D(filters=96, kernel_size=(11,11), strides=(4,4), activation=activation_func, input_shape=(num_rows, num_columns, num_channels)),\n",
    "    keras.layers.BatchNormalization(),\n",
    "    keras.layers.MaxPool2D(pool_size=(3,3), strides=(2,2)),\n",
    "    keras.layers.Conv2D(filters=256, kernel_size=(5,5), strides=(1,1), activation=activation_func, padding=\"same\"),\n",
    "    keras.layers.BatchNormalization(),\n",
    "    keras.layers.MaxPool2D(pool_size=(3,3), strides=(2,2)),\n",
    "    keras.layers.Conv2D(filters=384, kernel_size=(3,3), strides=(1,1), activation=activation_func, padding=\"same\"),\n",
    "    keras.layers.BatchNormalization(),\n",
    "    keras.layers.Conv2D(filters=384, kernel_size=(3,3), strides=(1,1), activation=activation_func, padding=\"same\"),\n",
    "    keras.layers.BatchNormalization(),\n",
    "    keras.layers.Conv2D(filters=256, kernel_size=(3,3), strides=(1,1), activation=activation_func, padding=\"same\"),\n",
    "    keras.layers.BatchNormalization(),\n",
    "    keras.layers.MaxPool2D(pool_size=(3,3), strides=(2,2)),\n",
    "    keras.layers.Flatten(),\n",
    "    keras.layers.Dense(4096, activation=activation_func),\n",
    "    keras.layers.Dropout(0.5),\n",
    "    keras.layers.Dense(4096, activation=activation_func),\n",
    "    keras.layers.Dropout(0.5),\n",
    "    #keras.layers.Dense(2, activation='softmax')\n",
    "    keras.layers.Dense(1, activation='sigmoid')\n",
    "])"
   ]
  },
  {
   "cell_type": "code",
   "execution_count": 27,
   "metadata": {
    "ExecuteTime": {
     "end_time": "2021-05-25T13:45:23.760644Z",
     "start_time": "2021-05-25T13:45:23.741697Z"
    }
   },
   "outputs": [],
   "source": [
    "# root_logdir = os.path.join(os.curdir, \"logs/fit\")\n",
    "# def get_run_logdir():\n",
    "#     run_id = time.strftime(\"run_%Y_%m_%d-%H_%M_%S\")\n",
    "#     return os.path.join(root_logdir, run_id)\n",
    "# run_logdir = get_run_logdir()\n",
    "# tensorboard_cb = keras.callbacks.TensorBoard(run_logdir)"
   ]
  },
  {
   "cell_type": "code",
   "execution_count": 88,
   "metadata": {
    "ExecuteTime": {
     "end_time": "2021-06-02T11:24:04.926548Z",
     "start_time": "2021-06-02T11:24:04.899831Z"
    }
   },
   "outputs": [
    {
     "name": "stdout",
     "output_type": "stream",
     "text": [
      "Model: \"sequential\"\n",
      "_________________________________________________________________\n",
      "Layer (type)                 Output Shape              Param #   \n",
      "=================================================================\n",
      "conv2d (Conv2D)              (None, 28, 35, 96)        23328     \n",
      "_________________________________________________________________\n",
      "batch_normalization (BatchNo (None, 28, 35, 96)        384       \n",
      "_________________________________________________________________\n",
      "max_pooling2d (MaxPooling2D) (None, 13, 17, 96)        0         \n",
      "_________________________________________________________________\n",
      "conv2d_1 (Conv2D)            (None, 13, 17, 256)       614656    \n",
      "_________________________________________________________________\n",
      "batch_normalization_1 (Batch (None, 13, 17, 256)       1024      \n",
      "_________________________________________________________________\n",
      "max_pooling2d_1 (MaxPooling2 (None, 6, 8, 256)         0         \n",
      "_________________________________________________________________\n",
      "conv2d_2 (Conv2D)            (None, 6, 8, 384)         885120    \n",
      "_________________________________________________________________\n",
      "batch_normalization_2 (Batch (None, 6, 8, 384)         1536      \n",
      "_________________________________________________________________\n",
      "conv2d_3 (Conv2D)            (None, 6, 8, 384)         1327488   \n",
      "_________________________________________________________________\n",
      "batch_normalization_3 (Batch (None, 6, 8, 384)         1536      \n",
      "_________________________________________________________________\n",
      "conv2d_4 (Conv2D)            (None, 6, 8, 256)         884992    \n",
      "_________________________________________________________________\n",
      "batch_normalization_4 (Batch (None, 6, 8, 256)         1024      \n",
      "_________________________________________________________________\n",
      "max_pooling2d_2 (MaxPooling2 (None, 2, 3, 256)         0         \n",
      "_________________________________________________________________\n",
      "flatten (Flatten)            (None, 1536)              0         \n",
      "_________________________________________________________________\n",
      "dense (Dense)                (None, 4096)              6295552   \n",
      "_________________________________________________________________\n",
      "dropout (Dropout)            (None, 4096)              0         \n",
      "_________________________________________________________________\n",
      "dense_1 (Dense)              (None, 4096)              16781312  \n",
      "_________________________________________________________________\n",
      "dropout_1 (Dropout)          (None, 4096)              0         \n",
      "_________________________________________________________________\n",
      "dense_2 (Dense)              (None, 1)                 4097      \n",
      "=================================================================\n",
      "Total params: 26,822,049\n",
      "Trainable params: 26,819,297\n",
      "Non-trainable params: 2,752\n",
      "_________________________________________________________________\n"
     ]
    }
   ],
   "source": [
    "model.compile(loss='binary_crossentropy', optimizer=tf.optimizers.SGD(lr=0.0001), metrics=['accuracy'])\n",
    "model.summary()"
   ]
  },
  {
   "cell_type": "code",
   "execution_count": 89,
   "metadata": {
    "ExecuteTime": {
     "end_time": "2021-06-02T11:24:13.155154Z",
     "start_time": "2021-06-02T11:24:09.610528Z"
    }
   },
   "outputs": [
    {
     "name": "stdout",
     "output_type": "stream",
     "text": [
      "Epoch 1/5\n",
      "1/1 [==============================] - 1s 1s/step - loss: 1.8803 - accuracy: 0.3333\n",
      "Epoch 2/5\n",
      "1/1 [==============================] - 0s 425ms/step - loss: 1.5949 - accuracy: 0.6667\n",
      "Epoch 3/5\n",
      "1/1 [==============================] - 0s 442ms/step - loss: 0.8750 - accuracy: 0.6667\n",
      "Epoch 4/5\n",
      "1/1 [==============================] - 1s 590ms/step - loss: 0.8959 - accuracy: 0.5000\n",
      "Epoch 5/5\n",
      "1/1 [==============================] - 0s 430ms/step - loss: 1.2799 - accuracy: 0.5000\n"
     ]
    },
    {
     "data": {
      "text/plain": [
       "<tensorflow.python.keras.callbacks.History at 0x7f9732af3910>"
      ]
     },
     "execution_count": 89,
     "metadata": {},
     "output_type": "execute_result"
    }
   ],
   "source": [
    "model.fit(x_train,yy,epochs=5)\n",
    "#           validation_data=(x_test, y_test),\n",
    "#           validation_freq=1\n",
    "#          )\n",
    "\n",
    "# ,\n",
    "#           callbacks=[tensorboard_cb]"
   ]
  },
  {
   "cell_type": "code",
   "execution_count": 161,
   "metadata": {
    "ExecuteTime": {
     "end_time": "2021-05-24T14:37:14.400713Z",
     "start_time": "2021-05-24T14:37:06.292656Z"
    }
   },
   "outputs": [
    {
     "name": "stdout",
     "output_type": "stream",
     "text": [
      "INFO:tensorflow:Assets written to: cqt-sample/assets\n"
     ]
    }
   ],
   "source": [
    "model.save('cqt-sample')"
   ]
  },
  {
   "cell_type": "code",
   "execution_count": null,
   "metadata": {},
   "outputs": [],
   "source": [
    "# loading mode etc"
   ]
  },
  {
   "cell_type": "code",
   "execution_count": 3,
   "metadata": {
    "ExecuteTime": {
     "end_time": "2021-05-25T13:42:26.800318Z",
     "start_time": "2021-05-25T13:42:24.649618Z"
    }
   },
   "outputs": [],
   "source": [
    "model = tf.keras.models.load_model('cqt-alexnet-50-22-epoch')\n",
    "X = np.load('X-cqt-sample.npy')\n",
    "y = np.load('y-cqt-sample.npy')\n",
    "filenames = np.load('filenames-cqt-sample.npy')\n",
    "dev_protocol = '/Users/asimadnan/Desktop/Mres/ASVSPOOF_DATA/LA/ASVspoof2019_LA_cm_protocols/ASVspoof2019.LA.cm.train.trn.txt'\n"
   ]
  },
  {
   "cell_type": "code",
   "execution_count": 4,
   "metadata": {
    "ExecuteTime": {
     "end_time": "2021-05-25T13:42:27.717325Z",
     "start_time": "2021-05-25T13:42:27.360331Z"
    }
   },
   "outputs": [
    {
     "ename": "NameError",
     "evalue": "name 'num_rows' is not defined",
     "output_type": "error",
     "traceback": [
      "\u001b[0;31m---------------------------------------------------------------------------\u001b[0m",
      "\u001b[0;31mNameError\u001b[0m                                 Traceback (most recent call last)",
      "\u001b[0;32m<ipython-input-4-28f91bac3d4f>\u001b[0m in \u001b[0;36m<module>\u001b[0;34m\u001b[0m\n\u001b[1;32m      1\u001b[0m \u001b[0mx_dev\u001b[0m \u001b[0;34m=\u001b[0m \u001b[0;34m[\u001b[0m\u001b[0;34m]\u001b[0m\u001b[0;34m\u001b[0m\u001b[0;34m\u001b[0m\u001b[0m\n\u001b[1;32m      2\u001b[0m \u001b[0;32mfor\u001b[0m \u001b[0mu\u001b[0m \u001b[0;32min\u001b[0m \u001b[0mX\u001b[0m\u001b[0;34m:\u001b[0m\u001b[0;34m\u001b[0m\u001b[0;34m\u001b[0m\u001b[0m\n\u001b[0;32m----> 3\u001b[0;31m     \u001b[0mx_dev\u001b[0m\u001b[0;34m.\u001b[0m\u001b[0mappend\u001b[0m\u001b[0;34m(\u001b[0m\u001b[0mnp\u001b[0m\u001b[0;34m.\u001b[0m\u001b[0mreshape\u001b[0m\u001b[0;34m(\u001b[0m\u001b[0mu\u001b[0m\u001b[0;34m,\u001b[0m \u001b[0;34m(\u001b[0m\u001b[0mnum_rows\u001b[0m\u001b[0;34m,\u001b[0m \u001b[0mnum_columns\u001b[0m\u001b[0;34m,\u001b[0m \u001b[0mnum_channels\u001b[0m\u001b[0;34m)\u001b[0m\u001b[0;34m)\u001b[0m\u001b[0;34m)\u001b[0m\u001b[0;34m\u001b[0m\u001b[0;34m\u001b[0m\u001b[0m\n\u001b[0m\u001b[1;32m      4\u001b[0m \u001b[0mx_dev\u001b[0m \u001b[0;34m=\u001b[0m \u001b[0mnp\u001b[0m\u001b[0;34m.\u001b[0m\u001b[0masarray\u001b[0m\u001b[0;34m(\u001b[0m\u001b[0mx_dev\u001b[0m\u001b[0;34m)\u001b[0m\u001b[0;34m\u001b[0m\u001b[0;34m\u001b[0m\u001b[0m\n\u001b[1;32m      5\u001b[0m \u001b[0;34m\u001b[0m\u001b[0m\n",
      "\u001b[0;31mNameError\u001b[0m: name 'num_rows' is not defined"
     ]
    }
   ],
   "source": [
    "x_dev = []\n",
    "for u in X:\n",
    "    x_dev.append(np.reshape(u, (num_rows, num_columns, num_channels)))\n",
    "x_dev = np.asarray(x_dev)\n",
    "\n",
    "le = LabelEncoder()\n",
    "yy = to_categorical(le.fit_transform(y)) \n"
   ]
  },
  {
   "cell_type": "code",
   "execution_count": 192,
   "metadata": {
    "ExecuteTime": {
     "end_time": "2021-05-24T15:08:24.162405Z",
     "start_time": "2021-05-24T15:08:24.135305Z"
    }
   },
   "outputs": [
    {
     "name": "stdout",
     "output_type": "stream",
     "text": [
      "Model: \"sequential\"\n",
      "_________________________________________________________________\n",
      "Layer (type)                 Output Shape              Param #   \n",
      "=================================================================\n",
      "conv2d (Conv2D)              (None, 28, 35, 96)        11712     \n",
      "_________________________________________________________________\n",
      "batch_normalization (BatchNo (None, 28, 35, 96)        384       \n",
      "_________________________________________________________________\n",
      "max_pooling2d (MaxPooling2D) (None, 13, 17, 96)        0         \n",
      "_________________________________________________________________\n",
      "conv2d_1 (Conv2D)            (None, 13, 17, 256)       614656    \n",
      "_________________________________________________________________\n",
      "batch_normalization_1 (Batch (None, 13, 17, 256)       1024      \n",
      "_________________________________________________________________\n",
      "max_pooling2d_1 (MaxPooling2 (None, 6, 8, 256)         0         \n",
      "_________________________________________________________________\n",
      "conv2d_2 (Conv2D)            (None, 6, 8, 384)         885120    \n",
      "_________________________________________________________________\n",
      "batch_normalization_2 (Batch (None, 6, 8, 384)         1536      \n",
      "_________________________________________________________________\n",
      "conv2d_3 (Conv2D)            (None, 6, 8, 384)         1327488   \n",
      "_________________________________________________________________\n",
      "batch_normalization_3 (Batch (None, 6, 8, 384)         1536      \n",
      "_________________________________________________________________\n",
      "conv2d_4 (Conv2D)            (None, 6, 8, 256)         884992    \n",
      "_________________________________________________________________\n",
      "batch_normalization_4 (Batch (None, 6, 8, 256)         1024      \n",
      "_________________________________________________________________\n",
      "max_pooling2d_2 (MaxPooling2 (None, 2, 3, 256)         0         \n",
      "_________________________________________________________________\n",
      "flatten (Flatten)            (None, 1536)              0         \n",
      "_________________________________________________________________\n",
      "dense (Dense)                (None, 4096)              6295552   \n",
      "_________________________________________________________________\n",
      "dropout (Dropout)            (None, 4096)              0         \n",
      "_________________________________________________________________\n",
      "dense_1 (Dense)              (None, 4096)              16781312  \n",
      "_________________________________________________________________\n",
      "dropout_1 (Dropout)          (None, 4096)              0         \n",
      "_________________________________________________________________\n",
      "dense_2 (Dense)              (None, 1)                 4097      \n",
      "=================================================================\n",
      "Total params: 26,810,433\n",
      "Trainable params: 26,807,681\n",
      "Non-trainable params: 2,752\n",
      "_________________________________________________________________\n"
     ]
    }
   ],
   "source": [
    "model.summary()"
   ]
  },
  {
   "cell_type": "code",
   "execution_count": 193,
   "metadata": {
    "ExecuteTime": {
     "end_time": "2021-05-24T15:08:27.113013Z",
     "start_time": "2021-05-24T15:08:26.852662Z"
    }
   },
   "outputs": [
    {
     "name": "stdout",
     "output_type": "stream",
     "text": [
      "WARNING:tensorflow:7 out of the last 11 calls to <function Model.make_predict_function.<locals>.predict_function at 0x7f93f6083a60> triggered tf.function retracing. Tracing is expensive and the excessive number of tracings could be due to (1) creating @tf.function repeatedly in a loop, (2) passing tensors with different shapes, (3) passing Python objects instead of tensors. For (1), please define your @tf.function outside of the loop. For (2), @tf.function has experimental_relax_shapes=True option that relaxes argument shapes that can avoid unnecessary retracing. For (3), please refer to https://www.tensorflow.org/guide/function#controlling_retracing and https://www.tensorflow.org/api_docs/python/tf/function for  more details.\n"
     ]
    }
   ],
   "source": [
    "results = model.predict(x_dev)"
   ]
  },
  {
   "cell_type": "code",
   "execution_count": 194,
   "metadata": {
    "ExecuteTime": {
     "end_time": "2021-05-24T15:08:29.246749Z",
     "start_time": "2021-05-24T15:08:29.239848Z"
    }
   },
   "outputs": [
    {
     "data": {
      "text/plain": [
       "array([[nan],\n",
       "       [nan],\n",
       "       [nan],\n",
       "       [nan],\n",
       "       [nan],\n",
       "       [nan]], dtype=float32)"
      ]
     },
     "execution_count": 194,
     "metadata": {},
     "output_type": "execute_result"
    }
   ],
   "source": [
    "results"
   ]
  },
  {
   "cell_type": "code",
   "execution_count": 166,
   "metadata": {
    "ExecuteTime": {
     "end_time": "2021-05-24T14:37:29.213120Z",
     "start_time": "2021-05-24T14:37:29.203603Z"
    }
   },
   "outputs": [
    {
     "data": {
      "text/plain": [
       "array([0.476032  , 0.4873293 , 0.47213998, 0.42264065, 0.4734487 ,\n",
       "       0.4760521 ], dtype=float32)"
      ]
     },
     "execution_count": 166,
     "metadata": {},
     "output_type": "execute_result"
    }
   ],
   "source": [
    "results[:,0]"
   ]
  },
  {
   "cell_type": "code",
   "execution_count": 123,
   "metadata": {
    "ExecuteTime": {
     "end_time": "2021-05-24T12:37:44.127863Z",
     "start_time": "2021-05-24T12:37:44.123995Z"
    }
   },
   "outputs": [],
   "source": [
    "filenames_temp = []\n",
    "for f in filenames:\n",
    "    filenames_temp.append(f.split('.')[0])\n",
    "filenames = np.asarray(filenames_temp)"
   ]
  },
  {
   "cell_type": "code",
   "execution_count": 124,
   "metadata": {
    "ExecuteTime": {
     "end_time": "2021-05-24T12:37:45.273537Z",
     "start_time": "2021-05-24T12:37:45.267388Z"
    }
   },
   "outputs": [
    {
     "data": {
      "text/plain": [
       "array(['LA_T_2361751', 'LA_T_1703395', 'LA_T_1276960', 'LA_T_9411527',\n",
       "       'LA_T_4795888', 'LA_T_4578643'], dtype='<U12')"
      ]
     },
     "execution_count": 124,
     "metadata": {},
     "output_type": "execute_result"
    }
   ],
   "source": [
    "filenames"
   ]
  },
  {
   "cell_type": "code",
   "execution_count": 125,
   "metadata": {
    "ExecuteTime": {
     "end_time": "2021-05-24T12:37:48.242313Z",
     "start_time": "2021-05-24T12:37:48.120212Z"
    }
   },
   "outputs": [
    {
     "data": {
      "text/html": [
       "<div>\n",
       "<style scoped>\n",
       "    .dataframe tbody tr th:only-of-type {\n",
       "        vertical-align: middle;\n",
       "    }\n",
       "\n",
       "    .dataframe tbody tr th {\n",
       "        vertical-align: top;\n",
       "    }\n",
       "\n",
       "    .dataframe thead th {\n",
       "        text-align: right;\n",
       "    }\n",
       "</style>\n",
       "<table border=\"1\" class=\"dataframe\">\n",
       "  <thead>\n",
       "    <tr style=\"text-align: right;\">\n",
       "      <th></th>\n",
       "      <th>SCORE</th>\n",
       "      <th>AUDIO_FILE_NAME</th>\n",
       "    </tr>\n",
       "  </thead>\n",
       "  <tbody>\n",
       "    <tr>\n",
       "      <th>0</th>\n",
       "      <td>0.506615</td>\n",
       "      <td>LA_T_2361751</td>\n",
       "    </tr>\n",
       "    <tr>\n",
       "      <th>1</th>\n",
       "      <td>0.503141</td>\n",
       "      <td>LA_T_1703395</td>\n",
       "    </tr>\n",
       "    <tr>\n",
       "      <th>2</th>\n",
       "      <td>0.511476</td>\n",
       "      <td>LA_T_1276960</td>\n",
       "    </tr>\n",
       "    <tr>\n",
       "      <th>3</th>\n",
       "      <td>0.503411</td>\n",
       "      <td>LA_T_9411527</td>\n",
       "    </tr>\n",
       "    <tr>\n",
       "      <th>4</th>\n",
       "      <td>0.502129</td>\n",
       "      <td>LA_T_4795888</td>\n",
       "    </tr>\n",
       "    <tr>\n",
       "      <th>5</th>\n",
       "      <td>0.500439</td>\n",
       "      <td>LA_T_4578643</td>\n",
       "    </tr>\n",
       "  </tbody>\n",
       "</table>\n",
       "</div>"
      ],
      "text/plain": [
       "      SCORE AUDIO_FILE_NAME\n",
       "0  0.506615    LA_T_2361751\n",
       "1  0.503141    LA_T_1703395\n",
       "2  0.511476    LA_T_1276960\n",
       "3  0.503411    LA_T_9411527\n",
       "4  0.502129    LA_T_4795888\n",
       "5  0.500439    LA_T_4578643"
      ]
     },
     "execution_count": 125,
     "metadata": {},
     "output_type": "execute_result"
    }
   ],
   "source": [
    "scores = pd.DataFrame({'SCORE': results[:,0], 'AUDIO_FILE_NAME': filenames})\n",
    "scores"
   ]
  },
  {
   "cell_type": "code",
   "execution_count": 127,
   "metadata": {
    "ExecuteTime": {
     "end_time": "2021-05-24T12:38:11.656199Z",
     "start_time": "2021-05-24T12:38:11.615613Z"
    }
   },
   "outputs": [],
   "source": [
    "labels = pd.read_csv(dev_protocol, delimiter = \" \", header=None)\n",
    "labels.columns = ['SPEAKER_ID','AUDIO_FILE_NAME','ENVIRONMENT_ID','ATTACK_ID','KEY']\n"
   ]
  },
  {
   "cell_type": "code",
   "execution_count": 129,
   "metadata": {
    "ExecuteTime": {
     "end_time": "2021-05-24T12:39:18.810769Z",
     "start_time": "2021-05-24T12:39:18.771636Z"
    }
   },
   "outputs": [
    {
     "data": {
      "text/html": [
       "<div>\n",
       "<style scoped>\n",
       "    .dataframe tbody tr th:only-of-type {\n",
       "        vertical-align: middle;\n",
       "    }\n",
       "\n",
       "    .dataframe tbody tr th {\n",
       "        vertical-align: top;\n",
       "    }\n",
       "\n",
       "    .dataframe thead th {\n",
       "        text-align: right;\n",
       "    }\n",
       "</style>\n",
       "<table border=\"1\" class=\"dataframe\">\n",
       "  <thead>\n",
       "    <tr style=\"text-align: right;\">\n",
       "      <th></th>\n",
       "      <th>AUDIO_FILE_NAME</th>\n",
       "      <th>ATTACK_ID</th>\n",
       "      <th>KEY</th>\n",
       "      <th>SCORE</th>\n",
       "    </tr>\n",
       "  </thead>\n",
       "  <tbody>\n",
       "    <tr>\n",
       "      <th>0</th>\n",
       "      <td>LA_T_2361751</td>\n",
       "      <td>-</td>\n",
       "      <td>bonafide</td>\n",
       "      <td>0.506615</td>\n",
       "    </tr>\n",
       "    <tr>\n",
       "      <th>1</th>\n",
       "      <td>LA_T_1703395</td>\n",
       "      <td>-</td>\n",
       "      <td>bonafide</td>\n",
       "      <td>0.503141</td>\n",
       "    </tr>\n",
       "    <tr>\n",
       "      <th>2</th>\n",
       "      <td>LA_T_1276960</td>\n",
       "      <td>-</td>\n",
       "      <td>bonafide</td>\n",
       "      <td>0.511476</td>\n",
       "    </tr>\n",
       "    <tr>\n",
       "      <th>3</th>\n",
       "      <td>LA_T_9411527</td>\n",
       "      <td>A03</td>\n",
       "      <td>spoof</td>\n",
       "      <td>0.503411</td>\n",
       "    </tr>\n",
       "    <tr>\n",
       "      <th>4</th>\n",
       "      <td>LA_T_4795888</td>\n",
       "      <td>A03</td>\n",
       "      <td>spoof</td>\n",
       "      <td>0.502129</td>\n",
       "    </tr>\n",
       "    <tr>\n",
       "      <th>5</th>\n",
       "      <td>LA_T_4578643</td>\n",
       "      <td>A03</td>\n",
       "      <td>spoof</td>\n",
       "      <td>0.500439</td>\n",
       "    </tr>\n",
       "  </tbody>\n",
       "</table>\n",
       "</div>"
      ],
      "text/plain": [
       "  AUDIO_FILE_NAME ATTACK_ID       KEY     SCORE\n",
       "0    LA_T_2361751         -  bonafide  0.506615\n",
       "1    LA_T_1703395         -  bonafide  0.503141\n",
       "2    LA_T_1276960         -  bonafide  0.511476\n",
       "3    LA_T_9411527       A03     spoof  0.503411\n",
       "4    LA_T_4795888       A03     spoof  0.502129\n",
       "5    LA_T_4578643       A03     spoof  0.500439"
      ]
     },
     "execution_count": 129,
     "metadata": {},
     "output_type": "execute_result"
    }
   ],
   "source": [
    "pd.merge(scores, labels, on='AUDIO_FILE_NAME')[['AUDIO_FILE_NAME','ATTACK_ID','KEY','SCORE']].to_csv(os.path.join(output_path + 'gmm_dev_scores.csv'),index=False,sep=\" \",header=False)"
   ]
  },
  {
   "cell_type": "code",
   "execution_count": null,
   "metadata": {},
   "outputs": [],
   "source": [
    "labels[['AUDIO_FILE_NAME','ATTACK_ID','KEY','SCORE']].to_csv(os.path.join(output_path + 'gmm_dev_scores.csv'),index=False,sep=\" \",header=False)\n"
   ]
  }
 ],
 "metadata": {
  "kernelspec": {
   "display_name": "Python [conda env:root] *",
   "language": "python",
   "name": "conda-root-py"
  },
  "language_info": {
   "codemirror_mode": {
    "name": "ipython",
    "version": 3
   },
   "file_extension": ".py",
   "mimetype": "text/x-python",
   "name": "python",
   "nbconvert_exporter": "python",
   "pygments_lexer": "ipython3",
   "version": "3.8.5"
  },
  "varInspector": {
   "cols": {
    "lenName": 16,
    "lenType": 16,
    "lenVar": 40
   },
   "kernels_config": {
    "python": {
     "delete_cmd_postfix": "",
     "delete_cmd_prefix": "del ",
     "library": "var_list.py",
     "varRefreshCmd": "print(var_dic_list())"
    },
    "r": {
     "delete_cmd_postfix": ") ",
     "delete_cmd_prefix": "rm(",
     "library": "var_list.r",
     "varRefreshCmd": "cat(var_dic_list()) "
    }
   },
   "types_to_exclude": [
    "module",
    "function",
    "builtin_function_or_method",
    "instance",
    "_Feature"
   ],
   "window_display": false
  }
 },
 "nbformat": 4,
 "nbformat_minor": 4
}
