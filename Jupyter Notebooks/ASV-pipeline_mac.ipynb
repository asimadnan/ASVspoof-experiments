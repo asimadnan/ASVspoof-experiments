{
 "cells": [
  {
   "cell_type": "code",
   "execution_count": 1,
   "metadata": {
    "ExecuteTime": {
     "end_time": "2021-03-11T00:13:41.077798Z",
     "start_time": "2021-03-11T00:13:31.260932Z"
    }
   },
   "outputs": [],
   "source": [
    "#load libraries\n",
    "import os\n",
    "import numpy as np\n",
    "import pickle\n",
    "import argparse\n",
    "from sklearn.svm import SVC\n",
    "import matplotlib.pyplot as plt\n",
    "from scipy.optimize import brentq\n",
    "from scipy.interpolate import interp1d\n",
    "from sklearn.metrics import roc_curve\n",
    "from sklearn.mixture import GaussianMixture as GMM\n",
    "import pandas as pd\n"
   ]
  },
  {
   "cell_type": "code",
   "execution_count": 2,
   "metadata": {
    "ExecuteTime": {
     "end_time": "2021-03-11T00:13:41.135449Z",
     "start_time": "2021-03-11T00:13:41.131686Z"
    }
   },
   "outputs": [],
   "source": [
    "#Load training data \n",
    "#'/Users/asimadnan/Desktop/Mres/ASVSPOOF_DATA/train_sample.pkl'"
   ]
  },
  {
   "cell_type": "code",
   "execution_count": 3,
   "metadata": {
    "ExecuteTime": {
     "end_time": "2021-03-11T00:13:41.183745Z",
     "start_time": "2021-03-11T00:13:41.168412Z"
    }
   },
   "outputs": [],
   "source": [
    "def extract_pkl(path,feature_type):\n",
    "    X = []\n",
    "    y = []\n",
    "\n",
    "    max_len = 50  # 1.25 seconds  # check the timesteps of cqcc and mfcc \n",
    "    lens = []\n",
    "    with open(path, 'rb') as infile:\n",
    "        data = pickle.load(infile)\n",
    "        for feat_cqcc, feat_mfcc, label in data:\n",
    "            #mfcc = mfccs.mean(0) # sum over all timesteps for now    # timesteps X 13\n",
    "            #lens.append(mfccs.shape[0])\n",
    "            if feature_type == \"cqcc\":\n",
    "                feats = feat_cqcc\n",
    "            elif feature_type == \"mfcc\":\n",
    "                feats = feat_mfcc\n",
    "            num_dim = feats.shape[1]\n",
    "            if len(feats) > max_len:\n",
    "                feats = feats[:max_len]\n",
    "            elif len(feats) < max_len:\n",
    "                feats = np.concatenate((feats, np.array([[0.]*num_dim]*(max_len-len(feats)))), axis=0)\n",
    "            X.append(feats.reshape(-1))\n",
    "            y.append(label)\n",
    "    X = np.array(X)\n",
    "    return X,y"
   ]
  },
  {
   "cell_type": "code",
   "execution_count": 4,
   "metadata": {
    "ExecuteTime": {
     "end_time": "2021-03-11T00:13:41.229927Z",
     "start_time": "2021-03-11T00:13:41.213113Z"
    }
   },
   "outputs": [],
   "source": [
    "X_train_mfcc,y_train_mfcc = extract_pkl('/Users/asimadnan/Desktop/Mres/ASVSPOOF_DATA/train_sample.pkl','mfcc')"
   ]
  },
  {
   "cell_type": "code",
   "execution_count": 5,
   "metadata": {
    "ExecuteTime": {
     "end_time": "2021-03-11T00:13:41.293125Z",
     "start_time": "2021-03-11T00:13:41.268294Z"
    }
   },
   "outputs": [
    {
     "data": {
      "text/plain": [
       "(6, 650)"
      ]
     },
     "execution_count": 5,
     "metadata": {},
     "output_type": "execute_result"
    }
   ],
   "source": [
    "X_train_mfcc.shape"
   ]
  },
  {
   "cell_type": "code",
   "execution_count": 7,
   "metadata": {
    "ExecuteTime": {
     "end_time": "2021-02-25T05:26:46.033679Z",
     "start_time": "2021-02-25T05:26:46.023568Z"
    }
   },
   "outputs": [
    {
     "data": {
      "text/plain": [
       "(650,)"
      ]
     },
     "execution_count": 7,
     "metadata": {},
     "output_type": "execute_result"
    }
   ],
   "source": [
    "X_train_mfcc[0].shape"
   ]
  },
  {
   "cell_type": "code",
   "execution_count": 14,
   "metadata": {
    "ExecuteTime": {
     "end_time": "2021-02-18T02:09:27.477575Z",
     "start_time": "2021-02-18T02:09:27.468797Z"
    }
   },
   "outputs": [],
   "source": [
    "X_train_cqcc,y_train_cqcc = extract_pkl('/Users/asimadnan/Desktop/Mres/ASVSPOOF_DATA/train_sample.pkl','cqcc')"
   ]
  },
  {
   "cell_type": "code",
   "execution_count": 15,
   "metadata": {
    "ExecuteTime": {
     "end_time": "2021-02-18T02:09:33.372637Z",
     "start_time": "2021-02-18T02:09:33.364437Z"
    }
   },
   "outputs": [
    {
     "data": {
      "text/plain": [
       "(6, 3000)"
      ]
     },
     "execution_count": 15,
     "metadata": {},
     "output_type": "execute_result"
    }
   ],
   "source": [
    "X_train_cqcc.shape"
   ]
  },
  {
   "cell_type": "code",
   "execution_count": null,
   "metadata": {},
   "outputs": [],
   "source": []
  },
  {
   "cell_type": "code",
   "execution_count": null,
   "metadata": {},
   "outputs": [],
   "source": [
    "#load test data"
   ]
  },
  {
   "cell_type": "code",
   "execution_count": 6,
   "metadata": {
    "ExecuteTime": {
     "end_time": "2021-03-11T00:13:43.102104Z",
     "start_time": "2021-03-11T00:13:43.083776Z"
    }
   },
   "outputs": [],
   "source": [
    "X_test_mfcc,y_test_mfcc = extract_pkl('/Users/asimadnan/Desktop/Mres/ASVSPOOF_DATA/dev_sample.pkl','mfcc')"
   ]
  },
  {
   "cell_type": "code",
   "execution_count": 7,
   "metadata": {
    "ExecuteTime": {
     "end_time": "2021-03-11T00:13:43.562512Z",
     "start_time": "2021-03-11T00:13:43.552888Z"
    }
   },
   "outputs": [],
   "source": [
    "X_test_cqcc,y_test_cqcc = extract_pkl('/Users/asimadnan/Desktop/Mres/ASVSPOOF_DATA/dev_sample.pkl','cqcc')"
   ]
  },
  {
   "cell_type": "code",
   "execution_count": null,
   "metadata": {},
   "outputs": [],
   "source": [
    "# load evaluation data"
   ]
  },
  {
   "cell_type": "code",
   "execution_count": 4,
   "metadata": {
    "ExecuteTime": {
     "end_time": "2021-02-27T12:17:46.472325Z",
     "start_time": "2021-02-27T12:17:46.444069Z"
    }
   },
   "outputs": [
    {
     "ename": "NameError",
     "evalue": "name 'X_train_mfcc' is not defined",
     "output_type": "error",
     "traceback": [
      "\u001b[0;31m---------------------------------------------------------------------------\u001b[0m",
      "\u001b[0;31mNameError\u001b[0m                                 Traceback (most recent call last)",
      "\u001b[0;32m<ipython-input-4-7c67a93c4589>\u001b[0m in \u001b[0;36m<module>\u001b[0;34m\u001b[0m\n\u001b[1;32m      1\u001b[0m \u001b[0mgmm_mfcc\u001b[0m \u001b[0;34m=\u001b[0m \u001b[0mGMM\u001b[0m\u001b[0;34m(\u001b[0m\u001b[0mn_components\u001b[0m \u001b[0;34m=\u001b[0m \u001b[0;36m144\u001b[0m\u001b[0;34m,\u001b[0m \u001b[0mcovariance_type\u001b[0m\u001b[0;34m=\u001b[0m\u001b[0;34m'diag'\u001b[0m\u001b[0;34m,\u001b[0m\u001b[0mn_init\u001b[0m \u001b[0;34m=\u001b[0m \u001b[0;36m50\u001b[0m\u001b[0;34m)\u001b[0m\u001b[0;34m\u001b[0m\u001b[0;34m\u001b[0m\u001b[0m\n\u001b[0;32m----> 2\u001b[0;31m \u001b[0mgmm_mfcc\u001b[0m\u001b[0;34m.\u001b[0m\u001b[0mfit\u001b[0m\u001b[0;34m(\u001b[0m\u001b[0mX_train_mfcc\u001b[0m\u001b[0;34m,\u001b[0m \u001b[0my_train_mfcc\u001b[0m\u001b[0;34m)\u001b[0m\u001b[0;34m\u001b[0m\u001b[0;34m\u001b[0m\u001b[0m\n\u001b[0m",
      "\u001b[0;31mNameError\u001b[0m: name 'X_train_mfcc' is not defined"
     ]
    }
   ],
   "source": [
    "gmm_mfcc = GMM(n_components = 144, covariance_type='diag',n_init = 50)\n",
    "gmm_mfcc.fit(X_train_mfcc, y_train_mfcc)"
   ]
  },
  {
   "cell_type": "code",
   "execution_count": null,
   "metadata": {},
   "outputs": [],
   "source": [
    "#MFCC features of each dataset"
   ]
  },
  {
   "cell_type": "code",
   "execution_count": null,
   "metadata": {},
   "outputs": [],
   "source": []
  },
  {
   "cell_type": "code",
   "execution_count": null,
   "metadata": {},
   "outputs": [],
   "source": [
    "# CQCC features of each dataset"
   ]
  },
  {
   "cell_type": "code",
   "execution_count": null,
   "metadata": {},
   "outputs": [],
   "source": []
  },
  {
   "cell_type": "code",
   "execution_count": null,
   "metadata": {},
   "outputs": [],
   "source": [
    "#Classifiers training"
   ]
  },
  {
   "cell_type": "code",
   "execution_count": 36,
   "metadata": {
    "ExecuteTime": {
     "end_time": "2021-02-18T02:45:57.770630Z",
     "start_time": "2021-02-18T02:45:57.758111Z"
    }
   },
   "outputs": [
    {
     "data": {
      "text/plain": [
       "SVC(probability=True)"
      ]
     },
     "execution_count": 36,
     "metadata": {},
     "output_type": "execute_result"
    }
   ],
   "source": [
    "clf_mfcc = SVC(probability=True)\n",
    "clf_mfcc.fit(X_train_mfcc, y_train_mfcc)"
   ]
  },
  {
   "cell_type": "code",
   "execution_count": 19,
   "metadata": {
    "ExecuteTime": {
     "end_time": "2021-02-18T02:23:00.868798Z",
     "start_time": "2021-02-18T02:23:00.857113Z"
    }
   },
   "outputs": [
    {
     "data": {
      "text/plain": [
       "SVC()"
      ]
     },
     "execution_count": 19,
     "metadata": {},
     "output_type": "execute_result"
    }
   ],
   "source": [
    "clf_cqcc = SVC()\n",
    "clf_cqcc.fit(X_train_cqcc, y_train_cqcc)"
   ]
  },
  {
   "cell_type": "code",
   "execution_count": null,
   "metadata": {},
   "outputs": [],
   "source": [
    "#Classifer testing"
   ]
  },
  {
   "cell_type": "code",
   "execution_count": 37,
   "metadata": {
    "ExecuteTime": {
     "end_time": "2021-02-18T02:46:08.387842Z",
     "start_time": "2021-02-18T02:46:08.377080Z"
    }
   },
   "outputs": [
    {
     "data": {
      "text/plain": [
       "0.7142857142857143"
      ]
     },
     "execution_count": 37,
     "metadata": {},
     "output_type": "execute_result"
    }
   ],
   "source": [
    "clf_mfcc.score(X_test_mfcc, y_test_mfcc)"
   ]
  },
  {
   "cell_type": "code",
   "execution_count": 21,
   "metadata": {
    "ExecuteTime": {
     "end_time": "2021-02-18T02:23:53.946868Z",
     "start_time": "2021-02-18T02:23:53.933866Z"
    }
   },
   "outputs": [
    {
     "data": {
      "text/plain": [
       "0.8571428571428571"
      ]
     },
     "execution_count": 21,
     "metadata": {},
     "output_type": "execute_result"
    }
   ],
   "source": [
    "clf_cqcc.score(X_test_cqcc, y_test_cqcc)"
   ]
  },
  {
   "cell_type": "code",
   "execution_count": 41,
   "metadata": {
    "ExecuteTime": {
     "end_time": "2021-02-18T02:46:46.341649Z",
     "start_time": "2021-02-18T02:46:46.337060Z"
    }
   },
   "outputs": [],
   "source": [
    "#EER"
   ]
  },
  {
   "cell_type": "code",
   "execution_count": 51,
   "metadata": {
    "ExecuteTime": {
     "end_time": "2021-02-18T02:50:53.237448Z",
     "start_time": "2021-02-18T02:50:53.230190Z"
    }
   },
   "outputs": [],
   "source": [
    "def eer(model,X,y):\n",
    "    y_score = model.decision_function(X)\n",
    "    fpr, tpr, thresholds = roc_curve(y, y_score, pos_label='spoof')\n",
    "    eer = brentq(lambda x : 1. - x - interp1d(fpr, tpr)(x), 0., 1.)\n",
    "    thresh = interp1d(fpr, thresholds)(eer)\n",
    "    print ('EER', eer)\n"
   ]
  },
  {
   "cell_type": "code",
   "execution_count": 52,
   "metadata": {
    "ExecuteTime": {
     "end_time": "2021-02-18T02:51:08.825030Z",
     "start_time": "2021-02-18T02:51:08.814183Z"
    }
   },
   "outputs": [
    {
     "name": "stdout",
     "output_type": "stream",
     "text": [
      "EER 0.25\n"
     ]
    }
   ],
   "source": [
    "eer(clf_mfcc,X_test_mfcc, y_test_mfcc)"
   ]
  },
  {
   "cell_type": "code",
   "execution_count": 53,
   "metadata": {
    "ExecuteTime": {
     "end_time": "2021-02-18T02:51:09.616480Z",
     "start_time": "2021-02-18T02:51:09.605154Z"
    }
   },
   "outputs": [
    {
     "name": "stdout",
     "output_type": "stream",
     "text": [
      "EER 0.0\n"
     ]
    }
   ],
   "source": [
    "eer(clf_cqcc,X_test_cqcc, y_test_cqcc)"
   ]
  },
  {
   "cell_type": "code",
   "execution_count": null,
   "metadata": {},
   "outputs": [],
   "source": [
    "# (t-DCF) calculation"
   ]
  },
  {
   "cell_type": "code",
   "execution_count": null,
   "metadata": {},
   "outputs": [],
   "source": [
    "import sys\n",
    "import numpy as np\n",
    "import eval_metrics as em\n",
    "import matplotlib.pyplot as plt"
   ]
  },
  {
   "cell_type": "code",
   "execution_count": null,
   "metadata": {},
   "outputs": [],
   "source": [
    "# Replace CM scores with your own scores or provide score file as the first argument.\n",
    "cm_score_file = 'scores/cm_dev.txt'\n",
    "# Replace ASV scores with organizers' scores or provide score file as the second argument.\n",
    "asv_score_file = 'scores/asv_dev.txt'"
   ]
  },
  {
   "cell_type": "code",
   "execution_count": null,
   "metadata": {},
   "outputs": [],
   "source": [
    "# Fix tandem detection cost function (t-DCF) parameters\n",
    "Pspoof = 0.05\n",
    "cost_model = {\n",
    "    'Pspoof': Pspoof,  # Prior probability of a spoofing attack\n",
    "    'Ptar': (1 - Pspoof) * 0.99,  # Prior probability of target speaker\n",
    "    'Pnon': (1 - Pspoof) * 0.01,  # Prior probability of nontarget speaker\n",
    "    'Cmiss_asv': 1,  # Cost of ASV system falsely rejecting target speaker\n",
    "    'Cfa_asv': 10,  # Cost of ASV system falsely accepting nontarget speaker\n",
    "    'Cmiss_cm': 1,  # Cost of CM system falsely rejecting target speaker\n",
    "    'Cfa_cm': 10,  # Cost of CM system falsely accepting spoof\n",
    "}\n",
    "\n",
    "# Load organizers' ASV scores\n",
    "asv_data = np.genfromtxt(asv_score_file, dtype=str)\n",
    "asv_sources = asv_data[:, 0]\n",
    "asv_keys = asv_data[:, 1]\n",
    "asv_scores = asv_data[:, 2].astype(np.float)\n",
    "\n",
    "# Load CM scores\n",
    "cm_data = np.genfromtxt(cm_score_file, dtype=str)\n",
    "cm_utt_id = cm_data[:, 0]\n",
    "cm_sources = cm_data[:, 1]\n",
    "cm_keys = cm_data[:, 2]\n",
    "cm_scores = cm_data[:, 3].astype(np.float)\n",
    "\n",
    "# Extract target, nontarget, and spoof scores from the ASV scores\n",
    "tar_asv = asv_scores[asv_keys == 'target']\n",
    "non_asv = asv_scores[asv_keys == 'nontarget']\n",
    "spoof_asv = asv_scores[asv_keys == 'spoof']\n",
    "\n",
    "# Extract bona fide (real human) and spoof scores from the CM scores\n",
    "bona_cm = cm_scores[cm_keys == 'bonafide']\n",
    "spoof_cm = cm_scores[cm_keys == 'spoof']\n",
    "\n",
    "# EERs of the standalone systems and fix ASV operating point to EER threshold\n",
    "eer_asv, asv_threshold = em.compute_eer(tar_asv, non_asv)\n",
    "eer_cm = em.compute_eer(bona_cm, spoof_cm)[0]\n",
    "\n",
    "\n",
    "[Pfa_asv, Pmiss_asv, Pmiss_spoof_asv] = em.obtain_asv_error_rates(tar_asv, non_asv, spoof_asv, asv_threshold)\n",
    "\n",
    "\n",
    "# Compute t-DCF\n",
    "tDCF_curve, CM_thresholds = em.compute_tDCF(bona_cm, spoof_cm, Pfa_asv, Pmiss_asv, Pmiss_spoof_asv, cost_model, True)\n",
    "\n",
    "# Minimum t-DCF\n",
    "min_tDCF_index = np.argmin(tDCF_curve)\n",
    "min_tDCF = tDCF_curve[min_tDCF_index]\n",
    "\n",
    "\n",
    "print('ASV SYSTEM')\n",
    "print('   EER            = {:8.5f} % (Equal error rate (target vs. nontarget discrimination)'.format(eer_asv * 100))\n",
    "print('   Pfa            = {:8.5f} % (False acceptance rate of nontargets)'.format(Pfa_asv * 100))\n",
    "print('   Pmiss          = {:8.5f} % (False rejection rate of targets)'.format(Pmiss_asv * 100))\n",
    "print('   1-Pmiss,spoof  = {:8.5f} % (Spoof false acceptance rate)'.format((1 - Pmiss_spoof_asv) * 100))\n",
    "\n",
    "print('\\nCM SYSTEM')\n",
    "print('   EER            = {:8.5f} % (Equal error rate for countermeasure)'.format(eer_cm * 100))\n",
    "\n",
    "print('\\nTANDEM')\n",
    "print('   min-tDCF       = {:8.5f}'.format(min_tDCF))\n",
    "\n",
    "\n",
    "# Visualize ASV scores and CM scores\n",
    "plt.figure()\n",
    "ax = plt.subplot(121)\n",
    "plt.hist(tar_asv, histtype='step', density=True, bins=50, label='Target')\n",
    "plt.hist(non_asv, histtype='step', density=True, bins=50, label='Nontarget')\n",
    "plt.hist(spoof_asv, histtype='step', density=True, bins=50, label='Spoof')\n",
    "plt.plot(asv_threshold, 0, 'o', markersize=10, mfc='none', mew=2, clip_on=False, label='EER threshold')\n",
    "plt.legend()\n",
    "plt.xlabel('ASV score')\n",
    "plt.ylabel('Density')\n",
    "plt.title('ASV score histogram')\n",
    "\n",
    "ax = plt.subplot(122)\n",
    "plt.hist(bona_cm, histtype='step', density=True, bins=50, label='Bona fide')\n",
    "plt.hist(spoof_cm, histtype='step', density=True, bins=50, label='Spoof')\n",
    "plt.legend()\n",
    "plt.xlabel('CM score')\n",
    "#plt.ylabel('Density')\n",
    "plt.title('CM score histogram')\n",
    "\n",
    "\n",
    "# Plot t-DCF as function of the CM threshold.\n",
    "plt.figure()\n",
    "plt.plot(CM_thresholds, tDCF_curve)\n",
    "plt.plot(CM_thresholds[min_tDCF_index], min_tDCF, 'o', markersize=10, mfc='none', mew=2)\n",
    "plt.xlabel('CM threshold index (operating point)')\n",
    "plt.ylabel('Norm t-DCF');\n",
    "plt.title('Normalized tandem t-DCF')\n",
    "plt.plot([np.min(CM_thresholds), np.max(CM_thresholds)], [1, 1], '--', color='black')\n",
    "plt.legend(('t-DCF', 'min t-DCF ({:.5f})'.format(min_tDCF), 'Arbitrarily bad CM (Norm t-DCF=1)'))\n",
    "plt.xlim([np.min(CM_thresholds), np.max(CM_thresholds)])\n",
    "plt.ylim([0, 1.5])\n",
    "\n",
    "plt.show()"
   ]
  },
  {
   "cell_type": "code",
   "execution_count": null,
   "metadata": {},
   "outputs": [],
   "source": [
    "# Ensemble Cqcc & Mfcc"
   ]
  },
  {
   "cell_type": "code",
   "execution_count": null,
   "metadata": {},
   "outputs": [],
   "source": [
    "cqcc vs mfcc"
   ]
  },
  {
   "cell_type": "code",
   "execution_count": 6,
   "metadata": {
    "ExecuteTime": {
     "end_time": "2021-02-27T13:01:37.519498Z",
     "start_time": "2021-02-27T13:01:37.504648Z"
    }
   },
   "outputs": [],
   "source": [
    "from python_speech_features import mfcc\n",
    "from python_speech_features import logfbank\n",
    "import scipy.io.wavfile as wav\n",
    "import soundfile as sf                                                      \n"
   ]
  },
  {
   "cell_type": "code",
   "execution_count": 41,
   "metadata": {
    "ExecuteTime": {
     "end_time": "2021-02-27T13:10:09.584704Z",
     "start_time": "2021-02-27T13:10:09.567240Z"
    }
   },
   "outputs": [],
   "source": [
    "#(rate,sig) = wav.read()\n",
    "path = '/Users/asimadnan/Desktop/Mres/ASVSPOOF_DATA/LA/ASVspoof2019_LA_eval/flac/LA_E_A8192912.flac'\n",
    "data, samplerate = sf.read(path) \n",
    "mfcc_feat = mfcc(data,samplerate)"
   ]
  },
  {
   "cell_type": "code",
   "execution_count": 40,
   "metadata": {
    "ExecuteTime": {
     "end_time": "2021-02-27T13:10:04.209557Z",
     "start_time": "2021-02-27T13:10:04.183865Z"
    }
   },
   "outputs": [
    {
     "data": {
      "text/html": [
       "<div>\n",
       "<style scoped>\n",
       "    .dataframe tbody tr th:only-of-type {\n",
       "        vertical-align: middle;\n",
       "    }\n",
       "\n",
       "    .dataframe tbody tr th {\n",
       "        vertical-align: top;\n",
       "    }\n",
       "\n",
       "    .dataframe thead th {\n",
       "        text-align: right;\n",
       "    }\n",
       "</style>\n",
       "<table border=\"1\" class=\"dataframe\">\n",
       "  <thead>\n",
       "    <tr style=\"text-align: right;\">\n",
       "      <th></th>\n",
       "      <th>0</th>\n",
       "      <th>1</th>\n",
       "      <th>2</th>\n",
       "      <th>3</th>\n",
       "      <th>4</th>\n",
       "      <th>5</th>\n",
       "      <th>6</th>\n",
       "      <th>7</th>\n",
       "      <th>8</th>\n",
       "      <th>9</th>\n",
       "      <th>10</th>\n",
       "      <th>11</th>\n",
       "      <th>12</th>\n",
       "    </tr>\n",
       "  </thead>\n",
       "  <tbody>\n",
       "    <tr>\n",
       "      <th>0</th>\n",
       "      <td>-13.274142</td>\n",
       "      <td>-9.781909</td>\n",
       "      <td>11.773378</td>\n",
       "      <td>6.488668</td>\n",
       "      <td>14.412670</td>\n",
       "      <td>12.228407</td>\n",
       "      <td>14.443465</td>\n",
       "      <td>5.295808</td>\n",
       "      <td>2.497549</td>\n",
       "      <td>-5.828939</td>\n",
       "      <td>-3.704579</td>\n",
       "      <td>2.192505</td>\n",
       "      <td>-0.489304</td>\n",
       "    </tr>\n",
       "    <tr>\n",
       "      <th>1</th>\n",
       "      <td>-13.386678</td>\n",
       "      <td>-8.632389</td>\n",
       "      <td>12.743090</td>\n",
       "      <td>7.447218</td>\n",
       "      <td>12.156694</td>\n",
       "      <td>11.552882</td>\n",
       "      <td>13.041253</td>\n",
       "      <td>11.414261</td>\n",
       "      <td>6.602971</td>\n",
       "      <td>-2.677074</td>\n",
       "      <td>-2.258512</td>\n",
       "      <td>-2.558524</td>\n",
       "      <td>-5.621858</td>\n",
       "    </tr>\n",
       "    <tr>\n",
       "      <th>2</th>\n",
       "      <td>-13.308330</td>\n",
       "      <td>-11.130632</td>\n",
       "      <td>12.713072</td>\n",
       "      <td>3.550921</td>\n",
       "      <td>6.667538</td>\n",
       "      <td>17.143103</td>\n",
       "      <td>18.444377</td>\n",
       "      <td>11.802344</td>\n",
       "      <td>14.166637</td>\n",
       "      <td>5.169349</td>\n",
       "      <td>0.140413</td>\n",
       "      <td>-3.394843</td>\n",
       "      <td>-5.348122</td>\n",
       "    </tr>\n",
       "    <tr>\n",
       "      <th>3</th>\n",
       "      <td>-13.170443</td>\n",
       "      <td>-10.242958</td>\n",
       "      <td>18.024891</td>\n",
       "      <td>8.308462</td>\n",
       "      <td>7.884839</td>\n",
       "      <td>16.331613</td>\n",
       "      <td>15.491242</td>\n",
       "      <td>7.621745</td>\n",
       "      <td>2.097887</td>\n",
       "      <td>-2.694678</td>\n",
       "      <td>-2.183576</td>\n",
       "      <td>-0.701587</td>\n",
       "      <td>0.727929</td>\n",
       "    </tr>\n",
       "    <tr>\n",
       "      <th>4</th>\n",
       "      <td>-13.036753</td>\n",
       "      <td>-7.855870</td>\n",
       "      <td>18.164287</td>\n",
       "      <td>7.286864</td>\n",
       "      <td>10.357723</td>\n",
       "      <td>13.243471</td>\n",
       "      <td>8.654623</td>\n",
       "      <td>8.281565</td>\n",
       "      <td>8.822903</td>\n",
       "      <td>-3.094381</td>\n",
       "      <td>-7.518918</td>\n",
       "      <td>2.152017</td>\n",
       "      <td>-2.413962</td>\n",
       "    </tr>\n",
       "    <tr>\n",
       "      <th>...</th>\n",
       "      <td>...</td>\n",
       "      <td>...</td>\n",
       "      <td>...</td>\n",
       "      <td>...</td>\n",
       "      <td>...</td>\n",
       "      <td>...</td>\n",
       "      <td>...</td>\n",
       "      <td>...</td>\n",
       "      <td>...</td>\n",
       "      <td>...</td>\n",
       "      <td>...</td>\n",
       "      <td>...</td>\n",
       "      <td>...</td>\n",
       "    </tr>\n",
       "    <tr>\n",
       "      <th>412</th>\n",
       "      <td>-13.238128</td>\n",
       "      <td>-7.352174</td>\n",
       "      <td>15.502873</td>\n",
       "      <td>0.284284</td>\n",
       "      <td>0.235365</td>\n",
       "      <td>2.239008</td>\n",
       "      <td>3.589126</td>\n",
       "      <td>0.160059</td>\n",
       "      <td>-0.724364</td>\n",
       "      <td>-3.870127</td>\n",
       "      <td>5.175457</td>\n",
       "      <td>-4.814993</td>\n",
       "      <td>-9.201507</td>\n",
       "    </tr>\n",
       "    <tr>\n",
       "      <th>413</th>\n",
       "      <td>-13.319352</td>\n",
       "      <td>-8.878909</td>\n",
       "      <td>15.538589</td>\n",
       "      <td>1.611144</td>\n",
       "      <td>-2.287456</td>\n",
       "      <td>-2.881913</td>\n",
       "      <td>-2.102067</td>\n",
       "      <td>-1.247424</td>\n",
       "      <td>4.370124</td>\n",
       "      <td>0.128309</td>\n",
       "      <td>-2.008788</td>\n",
       "      <td>-0.658629</td>\n",
       "      <td>-4.578762</td>\n",
       "    </tr>\n",
       "    <tr>\n",
       "      <th>414</th>\n",
       "      <td>-13.341226</td>\n",
       "      <td>-8.049504</td>\n",
       "      <td>12.699502</td>\n",
       "      <td>2.759916</td>\n",
       "      <td>1.108374</td>\n",
       "      <td>-1.696594</td>\n",
       "      <td>-3.728400</td>\n",
       "      <td>2.255740</td>\n",
       "      <td>3.115443</td>\n",
       "      <td>3.984150</td>\n",
       "      <td>0.540114</td>\n",
       "      <td>-2.969240</td>\n",
       "      <td>-3.159250</td>\n",
       "    </tr>\n",
       "    <tr>\n",
       "      <th>415</th>\n",
       "      <td>-13.512480</td>\n",
       "      <td>-12.592836</td>\n",
       "      <td>8.218552</td>\n",
       "      <td>2.798527</td>\n",
       "      <td>5.540127</td>\n",
       "      <td>-1.323482</td>\n",
       "      <td>-1.876995</td>\n",
       "      <td>4.453344</td>\n",
       "      <td>5.735194</td>\n",
       "      <td>6.918918</td>\n",
       "      <td>5.262617</td>\n",
       "      <td>1.045396</td>\n",
       "      <td>2.732618</td>\n",
       "    </tr>\n",
       "    <tr>\n",
       "      <th>416</th>\n",
       "      <td>-13.527179</td>\n",
       "      <td>-12.938480</td>\n",
       "      <td>9.873679</td>\n",
       "      <td>1.053181</td>\n",
       "      <td>1.377722</td>\n",
       "      <td>-5.607702</td>\n",
       "      <td>-4.290241</td>\n",
       "      <td>7.084845</td>\n",
       "      <td>8.284584</td>\n",
       "      <td>12.034297</td>\n",
       "      <td>10.986238</td>\n",
       "      <td>0.343967</td>\n",
       "      <td>3.305020</td>\n",
       "    </tr>\n",
       "  </tbody>\n",
       "</table>\n",
       "<p>417 rows × 13 columns</p>\n",
       "</div>"
      ],
      "text/plain": [
       "            0          1          2         3          4          5   \\\n",
       "0   -13.274142  -9.781909  11.773378  6.488668  14.412670  12.228407   \n",
       "1   -13.386678  -8.632389  12.743090  7.447218  12.156694  11.552882   \n",
       "2   -13.308330 -11.130632  12.713072  3.550921   6.667538  17.143103   \n",
       "3   -13.170443 -10.242958  18.024891  8.308462   7.884839  16.331613   \n",
       "4   -13.036753  -7.855870  18.164287  7.286864  10.357723  13.243471   \n",
       "..         ...        ...        ...       ...        ...        ...   \n",
       "412 -13.238128  -7.352174  15.502873  0.284284   0.235365   2.239008   \n",
       "413 -13.319352  -8.878909  15.538589  1.611144  -2.287456  -2.881913   \n",
       "414 -13.341226  -8.049504  12.699502  2.759916   1.108374  -1.696594   \n",
       "415 -13.512480 -12.592836   8.218552  2.798527   5.540127  -1.323482   \n",
       "416 -13.527179 -12.938480   9.873679  1.053181   1.377722  -5.607702   \n",
       "\n",
       "            6          7          8          9          10        11        12  \n",
       "0    14.443465   5.295808   2.497549  -5.828939  -3.704579  2.192505 -0.489304  \n",
       "1    13.041253  11.414261   6.602971  -2.677074  -2.258512 -2.558524 -5.621858  \n",
       "2    18.444377  11.802344  14.166637   5.169349   0.140413 -3.394843 -5.348122  \n",
       "3    15.491242   7.621745   2.097887  -2.694678  -2.183576 -0.701587  0.727929  \n",
       "4     8.654623   8.281565   8.822903  -3.094381  -7.518918  2.152017 -2.413962  \n",
       "..         ...        ...        ...        ...        ...       ...       ...  \n",
       "412   3.589126   0.160059  -0.724364  -3.870127   5.175457 -4.814993 -9.201507  \n",
       "413  -2.102067  -1.247424   4.370124   0.128309  -2.008788 -0.658629 -4.578762  \n",
       "414  -3.728400   2.255740   3.115443   3.984150   0.540114 -2.969240 -3.159250  \n",
       "415  -1.876995   4.453344   5.735194   6.918918   5.262617  1.045396  2.732618  \n",
       "416  -4.290241   7.084845   8.284584  12.034297  10.986238  0.343967  3.305020  \n",
       "\n",
       "[417 rows x 13 columns]"
      ]
     },
     "execution_count": 40,
     "metadata": {},
     "output_type": "execute_result"
    }
   ],
   "source": [
    "pd.DataFrame(mfcc_feat)"
   ]
  },
  {
   "cell_type": "code",
   "execution_count": 43,
   "metadata": {
    "ExecuteTime": {
     "end_time": "2021-02-27T13:11:02.375545Z",
     "start_time": "2021-02-27T13:11:02.338139Z"
    }
   },
   "outputs": [
    {
     "data": {
      "text/html": [
       "<div>\n",
       "<style scoped>\n",
       "    .dataframe tbody tr th:only-of-type {\n",
       "        vertical-align: middle;\n",
       "    }\n",
       "\n",
       "    .dataframe tbody tr th {\n",
       "        vertical-align: top;\n",
       "    }\n",
       "\n",
       "    .dataframe thead th {\n",
       "        text-align: right;\n",
       "    }\n",
       "</style>\n",
       "<table border=\"1\" class=\"dataframe\">\n",
       "  <thead>\n",
       "    <tr style=\"text-align: right;\">\n",
       "      <th></th>\n",
       "      <th>0</th>\n",
       "      <th>1</th>\n",
       "      <th>2</th>\n",
       "      <th>3</th>\n",
       "      <th>4</th>\n",
       "      <th>5</th>\n",
       "      <th>6</th>\n",
       "      <th>7</th>\n",
       "      <th>8</th>\n",
       "      <th>9</th>\n",
       "      <th>...</th>\n",
       "      <th>640</th>\n",
       "      <th>641</th>\n",
       "      <th>642</th>\n",
       "      <th>643</th>\n",
       "      <th>644</th>\n",
       "      <th>645</th>\n",
       "      <th>646</th>\n",
       "      <th>647</th>\n",
       "      <th>648</th>\n",
       "      <th>649</th>\n",
       "    </tr>\n",
       "  </thead>\n",
       "  <tbody>\n",
       "    <tr>\n",
       "      <th>0</th>\n",
       "      <td>-12.079208</td>\n",
       "      <td>-10.031430</td>\n",
       "      <td>9.425462</td>\n",
       "      <td>2.853750</td>\n",
       "      <td>6.814613</td>\n",
       "      <td>5.432624</td>\n",
       "      <td>2.968917</td>\n",
       "      <td>5.024234</td>\n",
       "      <td>5.435427</td>\n",
       "      <td>-0.403769</td>\n",
       "      <td>...</td>\n",
       "      <td>0.889986</td>\n",
       "      <td>-3.084318</td>\n",
       "      <td>-1.719646</td>\n",
       "      <td>5.256726</td>\n",
       "      <td>4.218211</td>\n",
       "      <td>-1.406790</td>\n",
       "      <td>2.278960</td>\n",
       "      <td>2.529413</td>\n",
       "      <td>1.126907</td>\n",
       "      <td>-1.235019</td>\n",
       "    </tr>\n",
       "    <tr>\n",
       "      <th>1</th>\n",
       "      <td>-13.242612</td>\n",
       "      <td>-10.545304</td>\n",
       "      <td>5.043834</td>\n",
       "      <td>0.150626</td>\n",
       "      <td>3.147927</td>\n",
       "      <td>2.871703</td>\n",
       "      <td>7.430171</td>\n",
       "      <td>-0.128426</td>\n",
       "      <td>2.008671</td>\n",
       "      <td>8.247766</td>\n",
       "      <td>...</td>\n",
       "      <td>2.564975</td>\n",
       "      <td>2.011975</td>\n",
       "      <td>6.261104</td>\n",
       "      <td>11.665453</td>\n",
       "      <td>5.426103</td>\n",
       "      <td>4.988994</td>\n",
       "      <td>3.184435</td>\n",
       "      <td>-1.244950</td>\n",
       "      <td>-3.156187</td>\n",
       "      <td>0.217522</td>\n",
       "    </tr>\n",
       "    <tr>\n",
       "      <th>2</th>\n",
       "      <td>-12.702974</td>\n",
       "      <td>-10.056060</td>\n",
       "      <td>11.439114</td>\n",
       "      <td>3.113770</td>\n",
       "      <td>2.907922</td>\n",
       "      <td>3.778411</td>\n",
       "      <td>8.533606</td>\n",
       "      <td>11.772646</td>\n",
       "      <td>9.305914</td>\n",
       "      <td>5.113260</td>\n",
       "      <td>...</td>\n",
       "      <td>1.854354</td>\n",
       "      <td>-0.158401</td>\n",
       "      <td>0.938198</td>\n",
       "      <td>6.466008</td>\n",
       "      <td>0.372584</td>\n",
       "      <td>2.895222</td>\n",
       "      <td>-3.439668</td>\n",
       "      <td>-4.094876</td>\n",
       "      <td>-2.883989</td>\n",
       "      <td>-2.521317</td>\n",
       "    </tr>\n",
       "    <tr>\n",
       "      <th>3</th>\n",
       "      <td>-14.214596</td>\n",
       "      <td>-31.567461</td>\n",
       "      <td>-4.517729</td>\n",
       "      <td>-3.030669</td>\n",
       "      <td>4.520188</td>\n",
       "      <td>1.991540</td>\n",
       "      <td>9.000989</td>\n",
       "      <td>12.429638</td>\n",
       "      <td>14.707430</td>\n",
       "      <td>16.775602</td>\n",
       "      <td>...</td>\n",
       "      <td>7.954628</td>\n",
       "      <td>17.206805</td>\n",
       "      <td>13.202963</td>\n",
       "      <td>14.275127</td>\n",
       "      <td>16.214005</td>\n",
       "      <td>20.235629</td>\n",
       "      <td>20.639901</td>\n",
       "      <td>18.535655</td>\n",
       "      <td>12.019987</td>\n",
       "      <td>8.923783</td>\n",
       "    </tr>\n",
       "    <tr>\n",
       "      <th>4</th>\n",
       "      <td>-14.986509</td>\n",
       "      <td>-27.206089</td>\n",
       "      <td>-1.328281</td>\n",
       "      <td>-2.767894</td>\n",
       "      <td>4.493338</td>\n",
       "      <td>4.608320</td>\n",
       "      <td>10.184276</td>\n",
       "      <td>9.410030</td>\n",
       "      <td>9.998180</td>\n",
       "      <td>8.772871</td>\n",
       "      <td>...</td>\n",
       "      <td>11.827195</td>\n",
       "      <td>18.421496</td>\n",
       "      <td>9.661060</td>\n",
       "      <td>8.155932</td>\n",
       "      <td>10.599895</td>\n",
       "      <td>6.507028</td>\n",
       "      <td>9.503384</td>\n",
       "      <td>7.044436</td>\n",
       "      <td>6.968312</td>\n",
       "      <td>11.159347</td>\n",
       "    </tr>\n",
       "    <tr>\n",
       "      <th>5</th>\n",
       "      <td>-15.427970</td>\n",
       "      <td>-28.426288</td>\n",
       "      <td>-0.632804</td>\n",
       "      <td>-1.002060</td>\n",
       "      <td>6.284443</td>\n",
       "      <td>5.711783</td>\n",
       "      <td>7.843549</td>\n",
       "      <td>4.020173</td>\n",
       "      <td>2.956051</td>\n",
       "      <td>8.819512</td>\n",
       "      <td>...</td>\n",
       "      <td>15.106872</td>\n",
       "      <td>19.000094</td>\n",
       "      <td>8.902957</td>\n",
       "      <td>9.757914</td>\n",
       "      <td>11.416898</td>\n",
       "      <td>6.730601</td>\n",
       "      <td>4.083023</td>\n",
       "      <td>2.373649</td>\n",
       "      <td>-1.145819</td>\n",
       "      <td>7.434624</td>\n",
       "    </tr>\n",
       "  </tbody>\n",
       "</table>\n",
       "<p>6 rows × 650 columns</p>\n",
       "</div>"
      ],
      "text/plain": [
       "         0          1          2         3         4         5          6    \\\n",
       "0 -12.079208 -10.031430   9.425462  2.853750  6.814613  5.432624   2.968917   \n",
       "1 -13.242612 -10.545304   5.043834  0.150626  3.147927  2.871703   7.430171   \n",
       "2 -12.702974 -10.056060  11.439114  3.113770  2.907922  3.778411   8.533606   \n",
       "3 -14.214596 -31.567461  -4.517729 -3.030669  4.520188  1.991540   9.000989   \n",
       "4 -14.986509 -27.206089  -1.328281 -2.767894  4.493338  4.608320  10.184276   \n",
       "5 -15.427970 -28.426288  -0.632804 -1.002060  6.284443  5.711783   7.843549   \n",
       "\n",
       "         7          8          9    ...        640        641        642  \\\n",
       "0   5.024234   5.435427  -0.403769  ...   0.889986  -3.084318  -1.719646   \n",
       "1  -0.128426   2.008671   8.247766  ...   2.564975   2.011975   6.261104   \n",
       "2  11.772646   9.305914   5.113260  ...   1.854354  -0.158401   0.938198   \n",
       "3  12.429638  14.707430  16.775602  ...   7.954628  17.206805  13.202963   \n",
       "4   9.410030   9.998180   8.772871  ...  11.827195  18.421496   9.661060   \n",
       "5   4.020173   2.956051   8.819512  ...  15.106872  19.000094   8.902957   \n",
       "\n",
       "         643        644        645        646        647        648        649  \n",
       "0   5.256726   4.218211  -1.406790   2.278960   2.529413   1.126907  -1.235019  \n",
       "1  11.665453   5.426103   4.988994   3.184435  -1.244950  -3.156187   0.217522  \n",
       "2   6.466008   0.372584   2.895222  -3.439668  -4.094876  -2.883989  -2.521317  \n",
       "3  14.275127  16.214005  20.235629  20.639901  18.535655  12.019987   8.923783  \n",
       "4   8.155932  10.599895   6.507028   9.503384   7.044436   6.968312  11.159347  \n",
       "5   9.757914  11.416898   6.730601   4.083023   2.373649  -1.145819   7.434624  \n",
       "\n",
       "[6 rows x 650 columns]"
      ]
     },
     "execution_count": 43,
     "metadata": {},
     "output_type": "execute_result"
    }
   ],
   "source": [
    "pd.DataFrame(X_train_mfcc)"
   ]
  },
  {
   "cell_type": "code",
   "execution_count": null,
   "metadata": {},
   "outputs": [],
   "source": []
  }
 ],
 "metadata": {
  "kernelspec": {
   "display_name": "Python [conda env:root] *",
   "language": "python",
   "name": "conda-root-py"
  },
  "language_info": {
   "codemirror_mode": {
    "name": "ipython",
    "version": 3
   },
   "file_extension": ".py",
   "mimetype": "text/x-python",
   "name": "python",
   "nbconvert_exporter": "python",
   "pygments_lexer": "ipython3",
   "version": "3.8.5"
  },
  "varInspector": {
   "cols": {
    "lenName": 16,
    "lenType": 16,
    "lenVar": 40
   },
   "kernels_config": {
    "python": {
     "delete_cmd_postfix": "",
     "delete_cmd_prefix": "del ",
     "library": "var_list.py",
     "varRefreshCmd": "print(var_dic_list())"
    },
    "r": {
     "delete_cmd_postfix": ") ",
     "delete_cmd_prefix": "rm(",
     "library": "var_list.r",
     "varRefreshCmd": "cat(var_dic_list()) "
    }
   },
   "types_to_exclude": [
    "module",
    "function",
    "builtin_function_or_method",
    "instance",
    "_Feature"
   ],
   "window_display": false
  }
 },
 "nbformat": 4,
 "nbformat_minor": 4
}
